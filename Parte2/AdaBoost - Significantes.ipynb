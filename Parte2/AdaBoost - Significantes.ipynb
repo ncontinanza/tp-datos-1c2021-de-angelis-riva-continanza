{
 "cells": [
  {
   "cell_type": "code",
   "execution_count": 1,
   "metadata": {},
   "outputs": [],
   "source": [
    "from sklearn.preprocessing import MinMaxScaler\n",
    "from sklearn.model_selection import train_test_split, GridSearchCV\n",
    "from sklearn.ensemble import AdaBoostClassifier\n",
    "from sklearn.metrics import roc_curve, plot_roc_curve, auc, roc_auc_score, classification_report, confusion_matrix, plot_confusion_matrix\n",
    "from matplotlib import pyplot as plt\n",
    "import pandas as pd\n",
    "import numpy as np\n",
    "import utils\n",
    "import preprocessing"
   ]
  },
  {
   "cell_type": "code",
   "execution_count": 3,
   "metadata": {},
   "outputs": [
    {
     "data": {
      "text/plain": [
       "0        0\n",
       "1        0\n",
       "2        0\n",
       "3        0\n",
       "4        0\n",
       "        ..\n",
       "32556    0\n",
       "32557    1\n",
       "32558    0\n",
       "32559    0\n",
       "32560    1\n",
       "Name: tiene_alto_valor_adquisitivo, Length: 32561, dtype: int64"
      ]
     },
     "execution_count": 3,
     "metadata": {},
     "output_type": "execute_result"
    }
   ],
   "source": [
    "df,pa = preprocessing.preprocessing_significantes(utils.feature_engineering(utils.get_data()))"
   ]
  },
  {
   "cell_type": "code",
   "execution_count": 4,
   "metadata": {},
   "outputs": [],
   "source": [
    "X_train, X_test, y_train, y_test = train_test_split(df, pa, random_state=112)"
   ]
  },
  {
   "cell_type": "code",
   "execution_count": 5,
   "metadata": {},
   "outputs": [],
   "source": [
    "params = { 'n_estimators':range(100,501,100), 'learning_rate': np.linspace(0.1, 5, 10), 'algorithm': ('SAMME', 'SAMME.R') }\n",
    "model = AdaBoostClassifier()"
   ]
  },
  {
   "cell_type": "code",
   "execution_count": 6,
   "metadata": {},
   "outputs": [],
   "source": [
    "gscv = GridSearchCV(model, params, scoring='roc_auc', cv=4, n_jobs=-1, verbose=10)"
   ]
  },
  {
   "cell_type": "code",
   "execution_count": 7,
   "metadata": {},
   "outputs": [
    {
     "name": "stdout",
     "output_type": "stream",
     "text": [
      "Fitting 4 folds for each of 100 candidates, totalling 400 fits\n"
     ]
    },
    {
     "name": "stderr",
     "output_type": "stream",
     "text": [
      "[Parallel(n_jobs=-1)]: Using backend LokyBackend with 4 concurrent workers.\n",
      "[Parallel(n_jobs=-1)]: Done   5 tasks      | elapsed:   54.3s\n",
      "[Parallel(n_jobs=-1)]: Done  10 tasks      | elapsed:  1.8min\n",
      "[Parallel(n_jobs=-1)]: Done  17 tasks      | elapsed:  4.7min\n",
      "[Parallel(n_jobs=-1)]: Done  24 tasks      | elapsed:  5.0min\n",
      "[Parallel(n_jobs=-1)]: Done  33 tasks      | elapsed:  7.6min\n",
      "[Parallel(n_jobs=-1)]: Done  42 tasks      | elapsed:  9.5min\n",
      "[Parallel(n_jobs=-1)]: Done  53 tasks      | elapsed: 12.0min\n",
      "[Parallel(n_jobs=-1)]: Done  64 tasks      | elapsed: 13.9min\n",
      "[Parallel(n_jobs=-1)]: Done  77 tasks      | elapsed: 18.1min\n",
      "[Parallel(n_jobs=-1)]: Done  90 tasks      | elapsed: 18.4min\n",
      "[Parallel(n_jobs=-1)]: Done 105 tasks      | elapsed: 18.5min\n",
      "[Parallel(n_jobs=-1)]: Done 120 tasks      | elapsed: 18.6min\n",
      "[Parallel(n_jobs=-1)]: Done 137 tasks      | elapsed: 18.7min\n",
      "[Parallel(n_jobs=-1)]: Done 154 tasks      | elapsed: 18.7min\n",
      "[Parallel(n_jobs=-1)]: Done 173 tasks      | elapsed: 18.8min\n",
      "[Parallel(n_jobs=-1)]: Done 192 tasks      | elapsed: 18.9min\n",
      "[Parallel(n_jobs=-1)]: Done 213 tasks      | elapsed: 22.3min\n",
      "[Parallel(n_jobs=-1)]: Done 234 tasks      | elapsed: 28.3min\n",
      "[Parallel(n_jobs=-1)]: Done 257 tasks      | elapsed: 41.1min\n",
      "[Parallel(n_jobs=-1)]: Done 280 tasks      | elapsed: 51.7min\n",
      "[Parallel(n_jobs=-1)]: Done 305 tasks      | elapsed: 53.5min\n",
      "[Parallel(n_jobs=-1)]: Done 330 tasks      | elapsed: 55.5min\n",
      "[Parallel(n_jobs=-1)]: Done 357 tasks      | elapsed: 59.0min\n",
      "[Parallel(n_jobs=-1)]: Done 384 tasks      | elapsed: 60.7min\n",
      "[Parallel(n_jobs=-1)]: Done 400 out of 400 | elapsed: 61.7min finished\n"
     ]
    },
    {
     "name": "stdout",
     "output_type": "stream",
     "text": [
      "CPU times: user 25 s, sys: 634 ms, total: 25.6 s\n",
      "Wall time: 1h 2min 22s\n"
     ]
    }
   ],
   "source": [
    "%%time\n",
    "gscv.fit(X_train, y_train)\n",
    "score = roc_auc_score(y_test, gscv.predict_proba(X_test)[:,1])"
   ]
  },
  {
   "cell_type": "code",
   "execution_count": 8,
   "metadata": {},
   "outputs": [
    {
     "data": {
      "text/plain": [
       "{'algorithm': 'SAMME.R',\n",
       " 'learning_rate': 0.6444444444444445,\n",
       " 'n_estimators': 100}"
      ]
     },
     "execution_count": 8,
     "metadata": {},
     "output_type": "execute_result"
    }
   ],
   "source": [
    "gscv.best_params_"
   ]
  },
  {
   "cell_type": "code",
   "execution_count": 9,
   "metadata": {},
   "outputs": [
    {
     "data": {
      "text/plain": [
       "0.8967111948288342"
      ]
     },
     "execution_count": 9,
     "metadata": {},
     "output_type": "execute_result"
    }
   ],
   "source": [
    "score"
   ]
  },
  {
   "cell_type": "code",
   "execution_count": 10,
   "metadata": {},
   "outputs": [
    {
     "name": "stdout",
     "output_type": "stream",
     "text": [
      "              precision    recall  f1-score   support\n",
      "\n",
      "           0       0.88      0.92      0.90      6182\n",
      "           1       0.71      0.58      0.64      1959\n",
      "\n",
      "    accuracy                           0.84      8141\n",
      "   macro avg       0.79      0.75      0.77      8141\n",
      "weighted avg       0.83      0.84      0.84      8141\n",
      "\n"
     ]
    }
   ],
   "source": [
    "print(classification_report(y_test,gscv.predict(X_test)))"
   ]
  },
  {
   "cell_type": "code",
   "execution_count": 11,
   "metadata": {},
   "outputs": [
    {
     "data": {
      "image/png": "[encoded data removed]",
      "text/plain": [
       "<Figure size 1080x504 with 2 Axes>"
      ]
     },
     "metadata": {
      "needs_background": "light"
     },
     "output_type": "display_data"
    }
   ],
   "source": [
    "fig, ax = plt.subplots(figsize=(15,7))\n",
    "plt.grid(False)\n",
    "plot_confusion_matrix(gscv, X_test, y_test, cmap=plt.cm.Blues, display_labels=['1', '0'], ax=ax)\n",
    "plt.show()"
   ]
  },
  {
   "cell_type": "code",
   "execution_count": 12,
   "metadata": {},
   "outputs": [
    {
     "data": {
      "text/plain": [
       "<sklearn.metrics._plot.roc_curve.RocCurveDisplay at 0x7fefb7353a20>"
      ]
     },
     "execution_count": 12,
     "metadata": {},
     "output_type": "execute_result"
    },
    {
     "data": {
      "image/png": "[encoded data removed]",
      "text/plain": [
       "<Figure size 432x288 with 1 Axes>"
      ]
     },
     "metadata": {
      "needs_background": "light"
     },
     "output_type": "display_data"
    }
   ],
   "source": [
    "plot_roc_curve(gscv, X_test, y_test)"
   ]
  }
 ],
 "metadata": {
  "kernelspec": {
   "display_name": "Python 3",
   "language": "python",
   "name": "python3"
  },
  "language_info": {
   "codemirror_mode": {
    "name": "ipython",
    "version": 3
   },
   "file_extension": ".py",
   "mimetype": "text/x-python",
   "name": "python",
   "nbconvert_exporter": "python",
   "pygments_lexer": "ipython3",
   "version": "3.6.9"
  }
 },
 "nbformat": 4,
 "nbformat_minor": 4
}

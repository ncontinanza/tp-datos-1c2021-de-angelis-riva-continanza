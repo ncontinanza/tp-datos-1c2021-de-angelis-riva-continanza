{
 "cells": [
  {
   "cell_type": "code",
   "execution_count": 1,
   "metadata": {},
   "outputs": [],
   "source": [
    "from sklearn.preprocessing import MinMaxScaler\n",
    "from sklearn.model_selection import train_test_split, GridSearchCV\n",
    "from sklearn.svm import SVC\n",
    "from sklearn.metrics import roc_curve, plot_roc_curve, auc, roc_auc_score, classification_report, confusion_matrix, plot_confusion_matrix\n",
    "from matplotlib import pyplot as plt\n",
    "import pandas as pd\n",
    "import numpy as np\n",
    "import utils\n",
    "import preprocessing"
   ]
  },
  {
   "cell_type": "markdown",
   "metadata": {},
   "source": [
    "// TODO: aplicar lo mismo sobre el preprocessing base"
   ]
  },
  {
   "cell_type": "code",
   "execution_count": 2,
   "metadata": {},
   "outputs": [],
   "source": [
    "df, pa = preprocessing.preprocessing_significantes(utils.feature_engineering(utils.get_data()))"
   ]
  },
  {
   "cell_type": "code",
   "execution_count": 3,
   "metadata": {},
   "outputs": [],
   "source": [
    "params = { 'C': np.linspace(0.1, 3, 100), 'kernel': ['linear', 'poly', 'rbf', 'sigmoid'] }\n",
    "model = SVC(probability=True)"
   ]
  },
  {
   "cell_type": "code",
   "execution_count": 4,
   "metadata": {},
   "outputs": [],
   "source": [
    "gscv = GridSearchCV(model, params, scoring='roc_auc', n_jobs=-1, verbose = 10)"
   ]
  },
  {
   "cell_type": "code",
   "execution_count": 5,
   "metadata": {},
   "outputs": [],
   "source": [
    "X_train, X_test, y_train, y_test = train_test_split(df, pa, random_state=112)"
   ]
  },
  {
   "cell_type": "code",
   "execution_count": null,
   "metadata": {},
   "outputs": [
    {
     "name": "stdout",
     "output_type": "stream",
     "text": [
      "Fitting 5 folds for each of 400 candidates, totalling 2000 fits\n"
     ]
    },
    {
     "name": "stderr",
     "output_type": "stream",
     "text": [
      "[Parallel(n_jobs=-1)]: Using backend LokyBackend with 4 concurrent workers.\n",
      "[Parallel(n_jobs=-1)]: Done   5 tasks      | elapsed:  5.8min\n",
      "[Parallel(n_jobs=-1)]: Done  10 tasks      | elapsed:  9.1min\n",
      "[Parallel(n_jobs=-1)]: Done  17 tasks      | elapsed: 16.2min\n",
      "[Parallel(n_jobs=-1)]: Done  24 tasks      | elapsed: 20.6min\n",
      "[Parallel(n_jobs=-1)]: Done  33 tasks      | elapsed: 29.3min\n",
      "[Parallel(n_jobs=-1)]: Done  42 tasks      | elapsed: 36.8min\n",
      "[Parallel(n_jobs=-1)]: Done  53 tasks      | elapsed: 46.3min\n",
      "[Parallel(n_jobs=-1)]: Done  64 tasks      | elapsed: 55.7min\n",
      "[Parallel(n_jobs=-1)]: Done  77 tasks      | elapsed: 67.1min\n",
      "[Parallel(n_jobs=-1)]: Done  90 tasks      | elapsed: 76.6min\n",
      "[Parallel(n_jobs=-1)]: Done 105 tasks      | elapsed: 92.2min\n",
      "[Parallel(n_jobs=-1)]: Done 120 tasks      | elapsed: 106.4min\n",
      "[Parallel(n_jobs=-1)]: Done 137 tasks      | elapsed: 120.4min\n",
      "[Parallel(n_jobs=-1)]: Done 154 tasks      | elapsed: 134.8min\n",
      "[Parallel(n_jobs=-1)]: Done 173 tasks      | elapsed: 149.6min\n",
      "[Parallel(n_jobs=-1)]: Done 192 tasks      | elapsed: 164.4min\n",
      "[Parallel(n_jobs=-1)]: Done 213 tasks      | elapsed: 180.0min\n",
      "[Parallel(n_jobs=-1)]: Done 234 tasks      | elapsed: 195.8min\n",
      "[Parallel(n_jobs=-1)]: Done 257 tasks      | elapsed: 214.2min\n",
      "[Parallel(n_jobs=-1)]: Done 280 tasks      | elapsed: 232.3min\n",
      "[Parallel(n_jobs=-1)]: Done 305 tasks      | elapsed: 250.1min\n",
      "[Parallel(n_jobs=-1)]: Done 330 tasks      | elapsed: 268.4min\n",
      "[Parallel(n_jobs=-1)]: Done 357 tasks      | elapsed: 289.6min\n",
      "[Parallel(n_jobs=-1)]: Done 384 tasks      | elapsed: 310.0min\n",
      "[Parallel(n_jobs=-1)]: Done 413 tasks      | elapsed: 331.1min\n",
      "[Parallel(n_jobs=-1)]: Done 442 tasks      | elapsed: 352.0min\n",
      "[Parallel(n_jobs=-1)]: Done 473 tasks      | elapsed: 375.8min\n",
      "[Parallel(n_jobs=-1)]: Done 504 tasks      | elapsed: 399.8min\n",
      "[Parallel(n_jobs=-1)]: Done 537 tasks      | elapsed: 423.8min\n",
      "[Parallel(n_jobs=-1)]: Done 570 tasks      | elapsed: 447.9min\n",
      "[Parallel(n_jobs=-1)]: Done 605 tasks      | elapsed: 474.4min\n",
      "[Parallel(n_jobs=-1)]: Done 640 tasks      | elapsed: 500.5min\n",
      "[Parallel(n_jobs=-1)]: Done 677 tasks      | elapsed: 526.9min\n",
      "[Parallel(n_jobs=-1)]: Done 714 tasks      | elapsed: 553.5min\n",
      "[Parallel(n_jobs=-1)]: Done 753 tasks      | elapsed: 583.0min\n",
      "[Parallel(n_jobs=-1)]: Done 792 tasks      | elapsed: 611.9min\n",
      "[Parallel(n_jobs=-1)]: Done 833 tasks      | elapsed: 641.5min\n",
      "[Parallel(n_jobs=-1)]: Done 874 tasks      | elapsed: 670.7min\n",
      "[Parallel(n_jobs=-1)]: Done 917 tasks      | elapsed: 702.6min\n",
      "[Parallel(n_jobs=-1)]: Done 960 tasks      | elapsed: 734.4min\n",
      "[Parallel(n_jobs=-1)]: Done 1005 tasks      | elapsed: 766.8min\n",
      "[Parallel(n_jobs=-1)]: Done 1050 tasks      | elapsed: 799.5min\n",
      "[Parallel(n_jobs=-1)]: Done 1097 tasks      | elapsed: 833.8min\n",
      "[Parallel(n_jobs=-1)]: Done 1144 tasks      | elapsed: 868.5min\n",
      "[Parallel(n_jobs=-1)]: Done 1193 tasks      | elapsed: 903.1min\n",
      "[Parallel(n_jobs=-1)]: Done 1242 tasks      | elapsed: 937.5min\n",
      "[Parallel(n_jobs=-1)]: Done 1293 tasks      | elapsed: 975.4min\n",
      "[Parallel(n_jobs=-1)]: Done 1344 tasks      | elapsed: 1011.5min\n",
      "[Parallel(n_jobs=-1)]: Done 1397 tasks      | elapsed: 1047.5min\n",
      "[Parallel(n_jobs=-1)]: Done 1450 tasks      | elapsed: 1083.3min\n",
      "[Parallel(n_jobs=-1)]: Done 1505 tasks      | elapsed: 1121.9min\n",
      "[Parallel(n_jobs=-1)]: Done 1560 tasks      | elapsed: 1162.0min\n",
      "[Parallel(n_jobs=-1)]: Done 1617 tasks      | elapsed: 1206.0min\n",
      "[Parallel(n_jobs=-1)]: Done 1674 tasks      | elapsed: 1252.1min\n",
      "[Parallel(n_jobs=-1)]: Done 1733 tasks      | elapsed: 1296.8min\n",
      "[Parallel(n_jobs=-1)]: Done 1792 tasks      | elapsed: 1343.8min\n"
     ]
    }
   ],
   "source": [
    "%%time\n",
    "gscv.fit(X_train, y_train)\n",
    "score = roc_auc_score(y_test, gscv.predict_proba(X_test)[:,1])"
   ]
  },
  {
   "cell_type": "code",
   "execution_count": 12,
   "metadata": {},
   "outputs": [
    {
     "data": {
      "text/plain": [
       "{'C': 2.3848484848484848, 'kernel': 'rbf'}"
      ]
     },
     "execution_count": 12,
     "metadata": {},
     "output_type": "execute_result"
    }
   ],
   "source": [
    "gscv.best_params_"
   ]
  },
  {
   "cell_type": "code",
   "execution_count": 13,
   "metadata": {},
   "outputs": [
    {
     "data": {
      "text/plain": [
       "0.8836462921795878"
      ]
     },
     "execution_count": 13,
     "metadata": {},
     "output_type": "execute_result"
    }
   ],
   "source": [
    "score"
   ]
  },
  {
   "cell_type": "code",
   "execution_count": 14,
   "metadata": {},
   "outputs": [
    {
     "name": "stdout",
     "output_type": "stream",
     "text": [
      "              precision    recall  f1-score   support\n",
      "\n",
      "           0       0.87      0.92      0.90      6182\n",
      "           1       0.69      0.58      0.63      1959\n",
      "\n",
      "    accuracy                           0.84      8141\n",
      "   macro avg       0.78      0.75      0.76      8141\n",
      "weighted avg       0.83      0.84      0.83      8141\n",
      "\n"
     ]
    }
   ],
   "source": [
    "print(classification_report(y_test,gscv.predict(X_test)))"
   ]
  },
  {
   "cell_type": "code",
   "execution_count": 15,
   "metadata": {},
   "outputs": [
    {
     "data": {
      "image/png": "[encoded data removed]",
      "text/plain": [
       "<Figure size 1080x504 with 2 Axes>"
      ]
     },
     "metadata": {
      "needs_background": "light"
     },
     "output_type": "display_data"
    }
   ],
   "source": [
    "fig, ax = plt.subplots(figsize=(15,7))\n",
    "plt.grid(False)\n",
    "plot_confusion_matrix(gscv, X_test, y_test, cmap=plt.cm.Blues, display_labels=['1', '0'], ax=ax)\n",
    "plt.show()"
   ]
  },
  {
   "cell_type": "code",
   "execution_count": 16,
   "metadata": {},
   "outputs": [
    {
     "data": {
      "text/plain": [
       "<sklearn.metrics._plot.roc_curve.RocCurveDisplay at 0x7f72da1cfa58>"
      ]
     },
     "execution_count": 16,
     "metadata": {},
     "output_type": "execute_result"
    },
    {
     "data": {
      "image/png": "[encoded data removed]",
      "text/plain": [
       "<Figure size 432x288 with 1 Axes>"
      ]
     },
     "metadata": {
      "needs_background": "light"
     },
     "output_type": "display_data"
    }
   ],
   "source": [
    "plot_roc_curve(gscv, X_test, y_test)"
   ]
  }
 ],
 "metadata": {
  "kernelspec": {
   "display_name": "Python 3",
   "language": "python",
   "name": "python3"
  },
  "language_info": {
   "codemirror_mode": {
    "name": "ipython",
    "version": 3
   },
   "file_extension": ".py",
   "mimetype": "text/x-python",
   "name": "python",
   "nbconvert_exporter": "python",
   "pygments_lexer": "ipython3",
   "version": "3.6.9"
  }
 },
 "nbformat": 4,
 "nbformat_minor": 4
}

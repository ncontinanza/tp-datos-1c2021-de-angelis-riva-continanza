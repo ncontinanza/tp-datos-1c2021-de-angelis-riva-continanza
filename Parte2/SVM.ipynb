{
 "cells": [
  {
   "cell_type": "code",
   "execution_count": 1,
   "metadata": {},
   "outputs": [],
   "source": [
    "from sklearn.preprocessing import MinMaxScaler\n",
    "from sklearn.model_selection import train_test_split, GridSearchCV\n",
    "from sklearn.svm import SVC\n",
    "from sklearn.metrics import roc_curve, plot_roc_curve, auc, roc_auc_score, classification_report, confusion_matrix, plot_confusion_matrix\n",
    "from matplotlib import pyplot as plt\n",
    "import pandas as pd\n",
    "import numpy as np\n",
    "import utils\n",
    "import preprocessing"
   ]
  },
  {
   "cell_type": "code",
   "execution_count": 2,
   "metadata": {},
   "outputs": [],
   "source": [
    "df, pa = preprocessing.preprocessing_significantes(utils.feature_engineering(utils.get_data()))"
   ]
  },
  {
   "cell_type": "code",
   "execution_count": 3,
   "metadata": {},
   "outputs": [],
   "source": [
    "params = { 'C': np.linspace(0.1, 5, 10), 'kernel': ['linear', 'poly', 'rbf', 'sigmoid'] }\n",
    "model = SVC(probability=True)"
   ]
  },
  {
   "cell_type": "code",
   "execution_count": 4,
   "metadata": {},
   "outputs": [],
   "source": [
    "gscv = GridSearchCV(model, params, scoring='roc_auc', n_jobs=-1, verbose = 10)"
   ]
  },
  {
   "cell_type": "code",
   "execution_count": 5,
   "metadata": {},
   "outputs": [],
   "source": [
    "X_train, X_test, y_train, y_test = train_test_split(df, pa, random_state=112)"
   ]
  },
  {
   "cell_type": "code",
   "execution_count": 6,
   "metadata": {},
   "outputs": [
    {
     "name": "stdout",
     "output_type": "stream",
     "text": [
      "Fitting 5 folds for each of 40 candidates, totalling 200 fits\n"
     ]
    },
    {
     "name": "stderr",
     "output_type": "stream",
     "text": [
      "[Parallel(n_jobs=-1)]: Using backend LokyBackend with 4 concurrent workers.\n",
      "[Parallel(n_jobs=-1)]: Done   5 tasks      | elapsed:  5.7min\n",
      "[Parallel(n_jobs=-1)]: Done  10 tasks      | elapsed:  8.8min\n",
      "[Parallel(n_jobs=-1)]: Done  17 tasks      | elapsed: 15.0min\n",
      "[Parallel(n_jobs=-1)]: Done  24 tasks      | elapsed: 19.1min\n",
      "[Parallel(n_jobs=-1)]: Done  33 tasks      | elapsed: 26.0min\n",
      "[Parallel(n_jobs=-1)]: Done  42 tasks      | elapsed: 32.5min\n",
      "[Parallel(n_jobs=-1)]: Done  53 tasks      | elapsed: 41.9min\n",
      "[Parallel(n_jobs=-1)]: Done  64 tasks      | elapsed: 52.8min\n",
      "[Parallel(n_jobs=-1)]: Done  77 tasks      | elapsed: 63.0min\n",
      "[Parallel(n_jobs=-1)]: Done  90 tasks      | elapsed: 74.9min\n",
      "[Parallel(n_jobs=-1)]: Done 105 tasks      | elapsed: 92.1min\n",
      "[Parallel(n_jobs=-1)]: Done 120 tasks      | elapsed: 103.6min\n",
      "[Parallel(n_jobs=-1)]: Done 137 tasks      | elapsed: 117.7min\n",
      "[Parallel(n_jobs=-1)]: Done 154 tasks      | elapsed: 131.1min\n",
      "[Parallel(n_jobs=-1)]: Done 173 tasks      | elapsed: 149.8min\n",
      "[Parallel(n_jobs=-1)]: Done 192 tasks      | elapsed: 166.1min\n",
      "[Parallel(n_jobs=-1)]: Done 200 out of 200 | elapsed: 172.2min finished\n"
     ]
    },
    {
     "name": "stdout",
     "output_type": "stream",
     "text": [
      "CPU times: user 3min 6s, sys: 846 ms, total: 3min 7s\n",
      "Wall time: 2h 55min 25s\n"
     ]
    }
   ],
   "source": [
    "%%time\n",
    "gscv.fit(X_train, y_train)\n",
    "score = roc_auc_score(y_test, gscv.predict_proba(X_test)[:,1])"
   ]
  },
  {
   "cell_type": "code",
   "execution_count": 7,
   "metadata": {},
   "outputs": [
    {
     "data": {
      "text/plain": [
       "{'C': 2.277777777777778, 'kernel': 'rbf'}"
      ]
     },
     "execution_count": 7,
     "metadata": {},
     "output_type": "execute_result"
    }
   ],
   "source": [
    "gscv.best_params_"
   ]
  },
  {
   "cell_type": "code",
   "execution_count": 8,
   "metadata": {},
   "outputs": [
    {
     "data": {
      "text/plain": [
       "0.8837322503756644"
      ]
     },
     "execution_count": 8,
     "metadata": {},
     "output_type": "execute_result"
    }
   ],
   "source": [
    "score"
   ]
  },
  {
   "cell_type": "code",
   "execution_count": 9,
   "metadata": {},
   "outputs": [
    {
     "name": "stdout",
     "output_type": "stream",
     "text": [
      "              precision    recall  f1-score   support\n",
      "\n",
      "           0       0.87      0.92      0.90      6182\n",
      "           1       0.69      0.58      0.63      1959\n",
      "\n",
      "    accuracy                           0.84      8141\n",
      "   macro avg       0.78      0.75      0.77      8141\n",
      "weighted avg       0.83      0.84      0.83      8141\n",
      "\n"
     ]
    }
   ],
   "source": [
    "print(classification_report(y_test,gscv.predict(X_test)))"
   ]
  },
  {
   "cell_type": "code",
   "execution_count": 10,
   "metadata": {},
   "outputs": [
    {
     "data": {
      "image/png": "[encoded data removed]",
      "text/plain": [
       "<Figure size 1080x504 with 2 Axes>"
      ]
     },
     "metadata": {
      "needs_background": "light"
     },
     "output_type": "display_data"
    }
   ],
   "source": [
    "fig, ax = plt.subplots(figsize=(15,7))\n",
    "plt.grid(False)\n",
    "plot_confusion_matrix(gscv, X_test, y_test, cmap=plt.cm.Blues, display_labels=['1', '0'], ax=ax)\n",
    "plt.show()"
   ]
  },
  {
   "cell_type": "code",
   "execution_count": 11,
   "metadata": {},
   "outputs": [
    {
     "data": {
      "text/plain": [
       "<sklearn.metrics._plot.roc_curve.RocCurveDisplay at 0x7f09c59ec940>"
      ]
     },
     "execution_count": 11,
     "metadata": {},
     "output_type": "execute_result"
    },
    {
     "data": {
      "image/png": "[encoded data removed]",
      "text/plain": [
       "<Figure size 432x288 with 1 Axes>"
      ]
     },
     "metadata": {
      "needs_background": "light"
     },
     "output_type": "display_data"
    }
   ],
   "source": [
    "plot_roc_curve(gscv, X_test, y_test)"
   ]
  }
 ],
 "metadata": {
  "kernelspec": {
   "display_name": "Python 3",
   "language": "python",
   "name": "python3"
  },
  "language_info": {
   "codemirror_mode": {
    "name": "ipython",
    "version": 3
   },
   "file_extension": ".py",
   "mimetype": "text/x-python",
   "name": "python",
   "nbconvert_exporter": "python",
   "pygments_lexer": "ipython3",
   "version": "3.6.9"
  }
 },
 "nbformat": 4,
 "nbformat_minor": 4
}

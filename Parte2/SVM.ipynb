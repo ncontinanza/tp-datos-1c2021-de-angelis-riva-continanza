{
 "cells": [
  {
   "cell_type": "markdown",
   "metadata": {},
   "source": [
    "# Support Vector Machine\n",
    "\n",
    "En este notebook clasificaremos si una instancia tiene alto poder adquisitivo mediante support vector machine.\n",
    "\n",
    "Se utilizarán tres preprocessings diferentes:\n",
    "* Las variables utilizadas en la primera parte del trabajo práctico\n",
    "* PCA con 75% de varianza explicada.\n",
    "* Variables que generen una buena separación con tSNE."
   ]
  },
  {
   "cell_type": "code",
   "execution_count": 1,
   "metadata": {},
   "outputs": [],
   "source": [
    "# Modelo\n",
    "from sklearn.svm import SVC, LinearSVC\n",
    "\n",
    "# Entrenamiento\n",
    "from sklearn.model_selection import train_test_split, GridSearchCV\n",
    "\n",
    "# Preprocessing\n",
    "import utils\n",
    "from preprocessing import preprocessing_base_parte_1\n",
    "from preprocessing import preprocessing_significantes\n",
    "from preprocessing import preprocessing_mejores_por_arbol\n",
    "\n",
    "# Metrics\n",
    "from sklearn.metrics import roc_curve, plot_roc_curve, auc, roc_auc_score\n",
    "from sklearn.metrics import classification_report, confusion_matrix, plot_confusion_matrix\n",
    "\n",
    "# Plots\n",
    "from matplotlib import pyplot as plt\n",
    "import seaborn as sns\n",
    "import pandas as pd\n",
    "import numpy as np\n",
    "\n",
    "# No supervisado\n",
    "from sklearn.manifold import TSNE"
   ]
  },
  {
   "cell_type": "markdown",
   "metadata": {},
   "source": [
    "### Preprocessing Base"
   ]
  },
  {
   "cell_type": "code",
   "execution_count": 5,
   "metadata": {},
   "outputs": [],
   "source": [
    "df = utils.get_data()"
   ]
  },
  {
   "cell_type": "markdown",
   "metadata": {},
   "source": [
    "### Modelo 1 - Preprocessing parte 1\n",
    "\n",
    "Este árbol será entrenado con las siguientes variables:\n",
    "\n",
    "* **Ganancia/Pérdida declara en la bolsa argentina**: `ganancia_perdida_declarada_bolsa_argentina`\n",
    "* **Edad**: `edad`\n",
    "* **Rol familiar registrado**: `rol_familiar_registrado`\n",
    "* **Años estudiados**: `anios_estudiados`"
   ]
  },
  {
   "cell_type": "code",
   "execution_count": 6,
   "metadata": {},
   "outputs": [],
   "source": [
    "X = df[df.columns.drop('tiene_alto_valor_adquisitivo')]\n",
    "Y = df['tiene_alto_valor_adquisitivo']\n",
    "\n",
    "X_train_1, X_test_1, y_train_1, y_test_1 = train_test_split(X, Y, random_state=112, stratify=Y)\n",
    "\n",
    "X_train_1, X_test_1 = preprocessing_base_parte_1(X_train_1, X_test_1)"
   ]
  },
  {
   "cell_type": "code",
   "execution_count": 4,
   "metadata": {},
   "outputs": [],
   "source": [
    "model = SVC() # Al entrenar probability = False, al predecir probability = True\n",
    "params = [{'kernel': ['linear'], 'C': np.logspace(-6, -4, 3)},\n",
    "          {'kernel': ['poly'], 'C': np.logspace(-4, 1, 6), 'degree': range(2, 4)},\n",
    "          {'kernel': ['rbf'], 'C': np.logspace(-3, 2, 12) ,'gamma': [0.01, 0.001, 0.0001]}\n",
    "         ]\n",
    "gscv = GridSearchCV(model, params, scoring='roc_auc', n_jobs=-1, cv=4, verbose=4)"
   ]
  },
  {
   "cell_type": "code",
   "execution_count": 5,
   "metadata": {
    "scrolled": true
   },
   "outputs": [
    {
     "name": "stdout",
     "output_type": "stream",
     "text": [
      "Fitting 4 folds for each of 51 candidates, totalling 204 fits\n"
     ]
    },
    {
     "name": "stderr",
     "output_type": "stream",
     "text": [
      "[Parallel(n_jobs=-1)]: Using backend LokyBackend with 8 concurrent workers.\n",
      "[Parallel(n_jobs=-1)]: Done   9 tasks      | elapsed:  1.3min\n",
      "[Parallel(n_jobs=-1)]: Done  82 tasks      | elapsed:  6.4min\n",
      "[Parallel(n_jobs=-1)]: Done 204 out of 204 | elapsed: 13.5min finished\n"
     ]
    },
    {
     "data": {
      "text/plain": [
       "GridSearchCV(cv=4, estimator=SVC(), n_jobs=-1,\n",
       "             param_grid=[{'C': array([1.e-06, 1.e-05, 1.e-04]),\n",
       "                          'kernel': ['linear']},\n",
       "                         {'C': array([1.e-04, 1.e-03, 1.e-02, 1.e-01, 1.e+00, 1.e+01]),\n",
       "                          'degree': range(2, 4), 'kernel': ['poly']},\n",
       "                         {'C': array([1.00000000e-03, 2.84803587e-03, 8.11130831e-03, 2.31012970e-02,\n",
       "       6.57933225e-02, 1.87381742e-01, 5.33669923e-01, 1.51991108e+00,\n",
       "       4.32876128e+00, 1.23284674e+01, 3.51119173e+01, 1.00000000e+02]),\n",
       "                          'gamma': [0.01, 0.001, 0.0001], 'kernel': ['rbf']}],\n",
       "             scoring='roc_auc', verbose=4)"
      ]
     },
     "execution_count": 5,
     "metadata": {},
     "output_type": "execute_result"
    }
   ],
   "source": [
    "gscv.fit(X_train_1, y_train_1)"
   ]
  },
  {
   "cell_type": "code",
   "execution_count": 6,
   "metadata": {},
   "outputs": [
    {
     "data": {
      "text/plain": [
       "SVC(C=100.0, gamma=0.0001, probability=True)"
      ]
     },
     "execution_count": 6,
     "metadata": {},
     "output_type": "execute_result"
    }
   ],
   "source": [
    "svm = gscv.best_estimator_\n",
    "svm.probability = True\n",
    "\n",
    "svm.fit(X_train_1, y_train_1)"
   ]
  },
  {
   "cell_type": "code",
   "execution_count": 36,
   "metadata": {},
   "outputs": [
    {
     "name": "stdout",
     "output_type": "stream",
     "text": [
      "              precision    recall  f1-score   support\n",
      "\n",
      "           0     0.8675    0.9547    0.9090      6181\n",
      "           1     0.7909    0.5403    0.6420      1960\n",
      "\n",
      "    accuracy                         0.8549      8141\n",
      "   macro avg     0.8292    0.7475    0.7755      8141\n",
      "weighted avg     0.8491    0.8549    0.8447      8141\n",
      "\n"
     ]
    }
   ],
   "source": [
    "print(classification_report(y_test_1,svm.predict(X_test_1), digits=4))"
   ]
  },
  {
   "cell_type": "markdown",
   "metadata": {},
   "source": [
    "El resultado es bueno, un modelo con un accuracy de 85.5%, bastante alto. Además métricas interesantes para la precisión:\n",
    "* 79% de precisión para los unos\n",
    "* 86.8% de precisión para los ceros\n",
    "\n",
    "Son buenos números.\n",
    "\n",
    "Veamos cómo se comporta la matriz de confusión"
   ]
  },
  {
   "cell_type": "code",
   "execution_count": 37,
   "metadata": {},
   "outputs": [
    {
     "data": {
      "image/png": "[encoded data removed]",
      "text/plain": [
       "<Figure size 1080x504 with 2 Axes>"
      ]
     },
     "metadata": {
      "needs_background": "light"
     },
     "output_type": "display_data"
    }
   ],
   "source": [
    "fig, ax = plt.subplots(figsize=(15,7))\n",
    "plt.grid(False)\n",
    "plot_confusion_matrix(svm, X_test_1, y_test_1, cmap=plt.cm.Blues, display_labels=['0', '1'], ax=ax)\n",
    "plt.show()"
   ]
  },
  {
   "cell_type": "markdown",
   "metadata": {},
   "source": [
    "Vemos que, si bien el resultado de la clasificación nos da una buena impresión, la matriz de confusión nos muestra que la cantidad de falsos negativos es altísima, dejando en claro que estamos dejando pasar gran cantidad de unos.\n",
    "\n",
    "Veamos el score RocAUC"
   ]
  },
  {
   "cell_type": "code",
   "execution_count": 38,
   "metadata": {},
   "outputs": [
    {
     "data": {
      "text/plain": [
       "<sklearn.metrics._plot.roc_curve.RocCurveDisplay at 0x7f642f571dc0>"
      ]
     },
     "execution_count": 38,
     "metadata": {},
     "output_type": "execute_result"
    },
    {
     "data": {
      "image/png": "[encoded data removed]",
      "text/plain": [
       "<Figure size 432x288 with 1 Axes>"
      ]
     },
     "metadata": {
      "needs_background": "light"
     },
     "output_type": "display_data"
    }
   ],
   "source": [
    "plot_roc_curve(svm, X_test_1, y_test_1)"
   ]
  },
  {
   "cell_type": "code",
   "execution_count": 39,
   "metadata": {},
   "outputs": [
    {
     "data": {
      "text/plain": [
       "0.8984158992831884"
      ]
     },
     "execution_count": 39,
     "metadata": {},
     "output_type": "execute_result"
    }
   ],
   "source": [
    "roc_auc_score(y_test_1, svm.predict_proba(X_test_1)[:, 1])"
   ]
  },
  {
   "cell_type": "markdown",
   "metadata": {},
   "source": [
    "Un valor de RocAUC bueno! Será entonces un modelo para tener en cuenta."
   ]
  },
  {
   "cell_type": "markdown",
   "metadata": {},
   "source": [
    "Veamos qué ocurre si, para este mismo preprocesamiento, usamos un kernel lineal."
   ]
  },
  {
   "cell_type": "code",
   "execution_count": 17,
   "metadata": {},
   "outputs": [],
   "source": [
    "model = LinearSVC() # Al entrenar probability = False, al predecir probability = True\n",
    "params = {'penalty': ['l1', 'l2'], 'loss': ['hinge', 'squared_hinge'], 'C': np.linspace(0.001, 3, 15)}"
   ]
  },
  {
   "cell_type": "code",
   "execution_count": 18,
   "metadata": {},
   "outputs": [],
   "source": [
    "gscv = GridSearchCV(model, params, scoring='roc_auc', n_jobs=-1, cv=4, verbose=4)"
   ]
  },
  {
   "cell_type": "code",
   "execution_count": 19,
   "metadata": {},
   "outputs": [
    {
     "name": "stdout",
     "output_type": "stream",
     "text": [
      "Fitting 4 folds for each of 60 candidates, totalling 240 fits\n"
     ]
    },
    {
     "name": "stderr",
     "output_type": "stream",
     "text": [
      "[Parallel(n_jobs=-1)]: Using backend LokyBackend with 4 concurrent workers.\n",
      "[Parallel(n_jobs=-1)]: Done  17 tasks      | elapsed:    7.4s\n",
      "[Parallel(n_jobs=-1)]: Done  90 tasks      | elapsed:   36.6s\n",
      "[Parallel(n_jobs=-1)]: Done 213 tasks      | elapsed:  1.6min\n",
      "[Parallel(n_jobs=-1)]: Done 240 out of 240 | elapsed:  1.7min finished\n",
      "/home/nicolascontinanza/.local/lib/python3.6/site-packages/sklearn/svm/_base.py:977: ConvergenceWarning: Liblinear failed to converge, increase the number of iterations.\n",
      "  \"the number of iterations.\", ConvergenceWarning)\n"
     ]
    },
    {
     "data": {
      "text/plain": [
       "GridSearchCV(cv=4, estimator=LinearSVC(), n_jobs=-1,\n",
       "             param_grid={'C': array([1.00000000e-03, 2.15214286e-01, 4.29428571e-01, 6.43642857e-01,\n",
       "       8.57857143e-01, 1.07207143e+00, 1.28628571e+00, 1.50050000e+00,\n",
       "       1.71471429e+00, 1.92892857e+00, 2.14314286e+00, 2.35735714e+00,\n",
       "       2.57157143e+00, 2.78578571e+00, 3.00000000e+00]),\n",
       "                         'loss': ['hinge', 'squared_hinge'],\n",
       "                         'penalty': ['l1', 'l2']},\n",
       "             scoring='roc_auc', verbose=4)"
      ]
     },
     "execution_count": 19,
     "metadata": {},
     "output_type": "execute_result"
    }
   ],
   "source": [
    "gscv.fit(X_train_1, y_train_1)"
   ]
  },
  {
   "cell_type": "code",
   "execution_count": 20,
   "metadata": {},
   "outputs": [
    {
     "name": "stderr",
     "output_type": "stream",
     "text": [
      "/home/nicolascontinanza/.local/lib/python3.6/site-packages/sklearn/svm/_base.py:977: ConvergenceWarning: Liblinear failed to converge, increase the number of iterations.\n",
      "  \"the number of iterations.\", ConvergenceWarning)\n"
     ]
    },
    {
     "data": {
      "text/plain": [
       "LinearSVC(C=0.21521428571428572, loss='hinge')"
      ]
     },
     "execution_count": 20,
     "metadata": {},
     "output_type": "execute_result"
    }
   ],
   "source": [
    "svm_linear = gscv.best_estimator_\n",
    "svm_linear.probability = True\n",
    "\n",
    "svm_linear.fit(X_train_1, y_train_1)"
   ]
  },
  {
   "cell_type": "code",
   "execution_count": 23,
   "metadata": {},
   "outputs": [
    {
     "name": "stdout",
     "output_type": "stream",
     "text": [
      "              precision    recall  f1-score   support\n",
      "\n",
      "           0     0.8184    0.9803    0.8920      6182\n",
      "           1     0.8342    0.3134    0.4557      1959\n",
      "\n",
      "    accuracy                         0.8198      8141\n",
      "   macro avg     0.8263    0.6468    0.6738      8141\n",
      "weighted avg     0.8222    0.8198    0.7870      8141\n",
      "\n"
     ]
    }
   ],
   "source": [
    "print(classification_report(y_test_1,svm_linear.predict(X_test_1), digits=4))"
   ]
  },
  {
   "cell_type": "markdown",
   "metadata": {},
   "source": [
    "Si bien se mantuvo la buena precision para ambas clases, vemos que las métricas empeoraron considerablemente, con un aumento notable en los falsos negativos. Veámoslo también en la matriz de confusión:"
   ]
  },
  {
   "cell_type": "code",
   "execution_count": 22,
   "metadata": {},
   "outputs": [
    {
     "data": {
      "image/png": "[encoded data removed]",
      "text/plain": [
       "<Figure size 1080x504 with 2 Axes>"
      ]
     },
     "metadata": {
      "needs_background": "light"
     },
     "output_type": "display_data"
    }
   ],
   "source": [
    "fig, ax = plt.subplots(figsize=(15,7))\n",
    "plt.grid(False)\n",
    "plot_confusion_matrix(svm_linear, X_test_1, y_test_1, cmap=plt.cm.Blues, display_labels=['0', '1'], ax=ax)\n",
    "plt.show()"
   ]
  },
  {
   "cell_type": "markdown",
   "metadata": {},
   "source": [
    "Finalmente, veamos también su ROC-AUC y la forma de la curva"
   ]
  },
  {
   "cell_type": "code",
   "execution_count": 13,
   "metadata": {},
   "outputs": [
    {
     "data": {
      "text/plain": [
       "<sklearn.metrics._plot.roc_curve.RocCurveDisplay at 0x7f8e39b09e48>"
      ]
     },
     "execution_count": 13,
     "metadata": {},
     "output_type": "execute_result"
    },
    {
     "data": {
      "image/png": "[encoded data removed]",
      "text/plain": [
       "<Figure size 432x288 with 1 Axes>"
      ]
     },
     "metadata": {
      "needs_background": "light"
     },
     "output_type": "display_data"
    }
   ],
   "source": [
    "plot_roc_curve(svm_linear, X_test_1, y_test_1)"
   ]
  },
  {
   "cell_type": "markdown",
   "metadata": {},
   "source": [
    "Si bien sigue siendo un clasificador decente, no lo tendremos en cuenta ya que en todas las métricas que estamos analizando su performance fue peor que en el caso de un kernel no lineal"
   ]
  },
  {
   "cell_type": "markdown",
   "metadata": {},
   "source": [
    "### Modelo 2 - Preprocessing Significantes 75%\n",
    "\n",
    "La idea será clasificar con SVM si la instancia tiene alto o bajo poder adquisitvo mediante sus atributos transformados en base a una Standarización y luego una reducción dimensional (PCA) del 75% de la varianza explicada."
   ]
  },
  {
   "cell_type": "code",
   "execution_count": 11,
   "metadata": {},
   "outputs": [
    {
     "name": "stderr",
     "output_type": "stream",
     "text": [
      "/home/lukas/FIUBA/tp-datos-1c2021-de-angelis-riva-continanza/Parte2/preprocessing.py:40: SettingWithCopyWarning: \n",
      "A value is trying to be set on a copy of a slice from a DataFrame.\n",
      "Try using .loc[row_indexer,col_indexer] = value instead\n",
      "\n",
      "See the caveats in the documentation: https://pandas.pydata.org/pandas-docs/stable/user_guide/indexing.html#returning-a-view-versus-a-copy\n",
      "  X_train['ganancia_perdida_declarada_bolsa_argentina'] = X_train['ganancia_perdida_declarada_bolsa_argentina'].apply(_log_scale)\n",
      "/home/lukas/FIUBA/tp-datos-1c2021-de-angelis-riva-continanza/Parte2/preprocessing.py:41: SettingWithCopyWarning: \n",
      "A value is trying to be set on a copy of a slice from a DataFrame.\n",
      "Try using .loc[row_indexer,col_indexer] = value instead\n",
      "\n",
      "See the caveats in the documentation: https://pandas.pydata.org/pandas-docs/stable/user_guide/indexing.html#returning-a-view-versus-a-copy\n",
      "  X_test['ganancia_perdida_declarada_bolsa_argentina'] = X_test['ganancia_perdida_declarada_bolsa_argentina'].apply(_log_scale)\n"
     ]
    }
   ],
   "source": [
    "X = df[df.columns.drop('tiene_alto_valor_adquisitivo')].copy()\n",
    "X = pd.get_dummies(X, drop_first=True)\n",
    "Y = df['tiene_alto_valor_adquisitivo'].copy()\n",
    "\n",
    "\n",
    "X_train_2, X_test_2, y_train_2, y_test_2 = train_test_split(X, Y, random_state=112, stratify=Y)\n",
    "\n",
    "# Explica el 75% de la varianza\n",
    "X_train_2, X_test_2 = preprocessing_significantes(X_train_2, X_test_2, 0.75)"
   ]
  },
  {
   "cell_type": "code",
   "execution_count": 12,
   "metadata": {},
   "outputs": [],
   "source": [
    "model = SVC() # Al entrenar probability = False, al predecir probability = True\n",
    "params = [{'kernel': ['linear'], 'C': np.logspace(-6, -4, 3)},\n",
    "          {'kernel': ['poly'], 'C': np.logspace(-4, 1, 6), 'degree': range(2, 4)},\n",
    "          {'kernel': ['rbf'], 'C': np.logspace(-3, 2, 12) ,'gamma': [0.01, 0.001, 0.0001]}\n",
    "         ]"
   ]
  },
  {
   "cell_type": "code",
   "execution_count": 13,
   "metadata": {},
   "outputs": [],
   "source": [
    "gscv2 = GridSearchCV(model, params, scoring='roc_auc', n_jobs=-1, cv=4, verbose=4)"
   ]
  },
  {
   "cell_type": "code",
   "execution_count": 14,
   "metadata": {
    "scrolled": true
   },
   "outputs": [
    {
     "name": "stdout",
     "output_type": "stream",
     "text": [
      "Fitting 4 folds for each of 51 candidates, totalling 204 fits\n"
     ]
    },
    {
     "name": "stderr",
     "output_type": "stream",
     "text": [
      "[Parallel(n_jobs=-1)]: Using backend LokyBackend with 8 concurrent workers.\n",
      "[Parallel(n_jobs=-1)]: Done   9 tasks      | elapsed:  1.8min\n",
      "[Parallel(n_jobs=-1)]: Done  82 tasks      | elapsed: 10.2min\n",
      "[Parallel(n_jobs=-1)]: Done 204 out of 204 | elapsed: 22.5min finished\n"
     ]
    },
    {
     "data": {
      "text/plain": [
       "GridSearchCV(cv=4, estimator=SVC(), n_jobs=-1,\n",
       "             param_grid=[{'C': array([1.e-06, 1.e-05, 1.e-04]),\n",
       "                          'kernel': ['linear']},\n",
       "                         {'C': array([1.e-04, 1.e-03, 1.e-02, 1.e-01, 1.e+00, 1.e+01]),\n",
       "                          'degree': range(2, 4), 'kernel': ['poly']},\n",
       "                         {'C': array([1.00000000e-03, 2.84803587e-03, 8.11130831e-03, 2.31012970e-02,\n",
       "       6.57933225e-02, 1.87381742e-01, 5.33669923e-01, 1.51991108e+00,\n",
       "       4.32876128e+00, 1.23284674e+01, 3.51119173e+01, 1.00000000e+02]),\n",
       "                          'gamma': [0.01, 0.001, 0.0001], 'kernel': ['rbf']}],\n",
       "             scoring='roc_auc', verbose=4)"
      ]
     },
     "execution_count": 14,
     "metadata": {},
     "output_type": "execute_result"
    }
   ],
   "source": [
    "gscv2.fit(X_train_2, y_train_2)"
   ]
  },
  {
   "cell_type": "code",
   "execution_count": 15,
   "metadata": {},
   "outputs": [
    {
     "name": "stdout",
     "output_type": "stream",
     "text": [
      "Los parámetros que mejor score obtuvieron para SVM fueron: {'C': 100.0, 'gamma': 0.001, 'kernel': 'rbf'}\n",
      "Con un Score (RocAUC) de:  0.8898\n"
     ]
    }
   ],
   "source": [
    "print(\"Los parámetros que mejor score obtuvieron para SVM fueron:\", gscv2.best_params_)\n",
    "print(\"Con un Score (RocAUC) de: \", round(gscv2.best_score_, 4))"
   ]
  },
  {
   "cell_type": "code",
   "execution_count": 16,
   "metadata": {},
   "outputs": [
    {
     "name": "stdout",
     "output_type": "stream",
     "text": [
      "[LibSVM]"
     ]
    },
    {
     "data": {
      "text/plain": [
       "SVC(C=100.0, gamma=0.001, probability=True, verbose=4)"
      ]
     },
     "execution_count": 16,
     "metadata": {},
     "output_type": "execute_result"
    }
   ],
   "source": [
    "svm2 = gscv2.best_estimator_\n",
    "svm2.probability = True\n",
    "svm2.verbose=4\n",
    "svm2.fit(X_train_2, y_train_2, )"
   ]
  },
  {
   "cell_type": "code",
   "execution_count": 40,
   "metadata": {},
   "outputs": [
    {
     "name": "stdout",
     "output_type": "stream",
     "text": [
      "              precision    recall  f1-score   support\n",
      "\n",
      "           0     0.8741    0.9254    0.8990      6181\n",
      "           1     0.7113    0.5796    0.6387      1960\n",
      "\n",
      "    accuracy                         0.8422      8141\n",
      "   macro avg     0.7927    0.7525    0.7689      8141\n",
      "weighted avg     0.8349    0.8422    0.8364      8141\n",
      "\n"
     ]
    }
   ],
   "source": [
    "print(classification_report(y_test_2,svm2.predict(X_test_2), digits=4))"
   ]
  },
  {
   "cell_type": "markdown",
   "metadata": {},
   "source": [
    "Unos resultados decentes. Un accuracy de 84.2%, similar al obtenido para el baseline de la parte1.\n",
    "\n",
    "Veamos la matriz de confusión"
   ]
  },
  {
   "cell_type": "code",
   "execution_count": 41,
   "metadata": {},
   "outputs": [
    {
     "data": {
      "image/png": "[encoded data removed]",
      "text/plain": [
       "<Figure size 1080x504 with 2 Axes>"
      ]
     },
     "metadata": {
      "needs_background": "light"
     },
     "output_type": "display_data"
    }
   ],
   "source": [
    "fig, ax = plt.subplots(figsize=(15,7))\n",
    "plt.grid(False)\n",
    "plot_confusion_matrix(svm2, X_test_2, y_test_2, cmap=plt.cm.Blues, display_labels=['0', '1'], ax=ax)\n",
    "plt.show()"
   ]
  },
  {
   "cell_type": "markdown",
   "metadata": {},
   "source": [
    "Podemos ver de la matriz de confusión algunas similitudes con la obtenida previamente.\n",
    "\n",
    "Hay muchísimos falsos negativos, cercanos a los verdaderos positivos. Esto se podía ver en el pobre Recall de unos obtenido.\n",
    "\n",
    "\n",
    "De todas formas, veamos la curva ROC y su puntuación"
   ]
  },
  {
   "cell_type": "code",
   "execution_count": 19,
   "metadata": {},
   "outputs": [
    {
     "data": {
      "text/plain": [
       "<sklearn.metrics._plot.roc_curve.RocCurveDisplay at 0x7f642f55eca0>"
      ]
     },
     "execution_count": 19,
     "metadata": {},
     "output_type": "execute_result"
    },
    {
     "data": {
      "image/png": "[encoded data removed]",
      "text/plain": [
       "<Figure size 432x288 with 1 Axes>"
      ]
     },
     "metadata": {
      "needs_background": "light"
     },
     "output_type": "display_data"
    }
   ],
   "source": [
    "plot_roc_curve(svm2, X_test_2, y_test_2)"
   ]
  },
  {
   "cell_type": "code",
   "execution_count": 20,
   "metadata": {},
   "outputs": [
    {
     "data": {
      "text/plain": [
       "0.889819856109407"
      ]
     },
     "execution_count": 20,
     "metadata": {},
     "output_type": "execute_result"
    }
   ],
   "source": [
    "roc_auc_score(y_test_2, svm2.predict_proba(X_test_2)[:, 1])"
   ]
  },
  {
   "cell_type": "markdown",
   "metadata": {},
   "source": [
    "Una curva buena con un Score decente."
   ]
  },
  {
   "cell_type": "markdown",
   "metadata": {},
   "source": [
    "### Modelo 3 - Mejor variables por árbol"
   ]
  },
  {
   "cell_type": "code",
   "execution_count": 21,
   "metadata": {},
   "outputs": [],
   "source": [
    "X = df[df.columns.drop('tiene_alto_valor_adquisitivo')].copy()\n",
    "X = pd.get_dummies(X, drop_first=False)\n",
    "Y = df['tiene_alto_valor_adquisitivo'].copy()\n",
    "\n",
    "\n",
    "X_train_3, X_test_3, y_train_3, y_test_3 = train_test_split(X, Y, random_state=112, stratify=Y)\n",
    "\n",
    "X_train_3, X_test_3 = preprocessing_mejores_por_arbol(X_train_3, X_test_3)"
   ]
  },
  {
   "cell_type": "code",
   "execution_count": 22,
   "metadata": {},
   "outputs": [],
   "source": [
    "params = [{'kernel': ['linear'], 'C': np.logspace(-6, -4, 3)},\n",
    "          {'kernel': ['poly'], 'C': np.logspace(-4, 1, 6), 'degree': [2, 3]},\n",
    "          {'kernel': ['rbf'], 'C': np.logspace(-3, 2, 12) ,'gamma': [0.01, 0.001, 0.0001]}\n",
    "         ]\n",
    "model = SVC()\n",
    "\n",
    "gscv3 = GridSearchCV(model, params, scoring='roc_auc', n_jobs=-1, verbose = 4)"
   ]
  },
  {
   "cell_type": "code",
   "execution_count": 23,
   "metadata": {},
   "outputs": [
    {
     "name": "stdout",
     "output_type": "stream",
     "text": [
      "Fitting 5 folds for each of 51 candidates, totalling 255 fits\n"
     ]
    },
    {
     "name": "stderr",
     "output_type": "stream",
     "text": [
      "[Parallel(n_jobs=-1)]: Using backend LokyBackend with 8 concurrent workers.\n",
      "[Parallel(n_jobs=-1)]: Done   9 tasks      | elapsed:   44.1s\n",
      "[Parallel(n_jobs=-1)]: Done  82 tasks      | elapsed:  4.2min\n",
      "[Parallel(n_jobs=-1)]: Done 205 tasks      | elapsed:  8.6min\n",
      "[Parallel(n_jobs=-1)]: Done 255 out of 255 | elapsed: 11.2min finished\n"
     ]
    },
    {
     "data": {
      "text/plain": [
       "GridSearchCV(estimator=SVC(), n_jobs=-1,\n",
       "             param_grid=[{'C': array([1.e-06, 1.e-05, 1.e-04]),\n",
       "                          'kernel': ['linear']},\n",
       "                         {'C': array([1.e-04, 1.e-03, 1.e-02, 1.e-01, 1.e+00, 1.e+01]),\n",
       "                          'degree': [2, 3], 'kernel': ['poly']},\n",
       "                         {'C': array([1.00000000e-03, 2.84803587e-03, 8.11130831e-03, 2.31012970e-02,\n",
       "       6.57933225e-02, 1.87381742e-01, 5.33669923e-01, 1.51991108e+00,\n",
       "       4.32876128e+00, 1.23284674e+01, 3.51119173e+01, 1.00000000e+02]),\n",
       "                          'gamma': [0.01, 0.001, 0.0001], 'kernel': ['rbf']}],\n",
       "             scoring='roc_auc', verbose=4)"
      ]
     },
     "execution_count": 23,
     "metadata": {},
     "output_type": "execute_result"
    }
   ],
   "source": [
    "gscv3.fit(X_train_3, y_train_3)"
   ]
  },
  {
   "cell_type": "code",
   "execution_count": 24,
   "metadata": {},
   "outputs": [
    {
     "name": "stdout",
     "output_type": "stream",
     "text": [
      "Los parámetros que mejor score obtuvieron para SVM fueron: {'C': 100.0, 'gamma': 0.0001, 'kernel': 'rbf'}\n",
      "Con un Score (RocAUC) de:  0.9119\n"
     ]
    }
   ],
   "source": [
    "print(\"Los parámetros que mejor score obtuvieron para SVM fueron:\", gscv3.best_params_)\n",
    "print(\"Con un Score (RocAUC) de: \", round(gscv3.best_score_, 4))"
   ]
  },
  {
   "cell_type": "markdown",
   "metadata": {},
   "source": [
    "Vemos que el Score obtenido para ser bastante bueno. Veamos cómo se comporta con los datos de validación."
   ]
  },
  {
   "cell_type": "code",
   "execution_count": 25,
   "metadata": {},
   "outputs": [
    {
     "name": "stdout",
     "output_type": "stream",
     "text": [
      "[LibSVM]"
     ]
    },
    {
     "data": {
      "text/plain": [
       "SVC(C=100.0, gamma=0.0001, probability=True, verbose=4)"
      ]
     },
     "execution_count": 25,
     "metadata": {},
     "output_type": "execute_result"
    }
   ],
   "source": [
    "svm3 = gscv3.best_estimator_\n",
    "svm3.probability = True\n",
    "svm3.verbose=4\n",
    "svm3.fit(X_train_3, y_train_3)"
   ]
  },
  {
   "cell_type": "code",
   "execution_count": 42,
   "metadata": {
    "scrolled": true
   },
   "outputs": [
    {
     "name": "stdout",
     "output_type": "stream",
     "text": [
      "              precision    recall  f1-score   support\n",
      "\n",
      "           0     0.8727    0.9575    0.9131      6181\n",
      "           1     0.8066    0.5597    0.6608      1960\n",
      "\n",
      "    accuracy                         0.8617      8141\n",
      "   macro avg     0.8397    0.7586    0.7870      8141\n",
      "weighted avg     0.8568    0.8617    0.8524      8141\n",
      "\n"
     ]
    }
   ],
   "source": [
    "print(classification_report(y_test_3,svm3.predict(X_test_3), digits=4))"
   ]
  },
  {
   "cell_type": "markdown",
   "metadata": {},
   "source": [
    "Vemos que el modelo parece ser bueno! Un 86.2% de Accuracy, buenas métricas para precisión.\n",
    "\n",
    "Como siempre, las métricas para recall de unos es muy baja.\n",
    "\n",
    "Veamos la matriz de confusión."
   ]
  },
  {
   "cell_type": "code",
   "execution_count": 27,
   "metadata": {},
   "outputs": [
    {
     "data": {
      "image/png": "[encoded data removed]",
      "text/plain": [
       "<Figure size 1080x504 with 2 Axes>"
      ]
     },
     "metadata": {
      "needs_background": "light"
     },
     "output_type": "display_data"
    }
   ],
   "source": [
    "fig, ax = plt.subplots(figsize=(15,7))\n",
    "plt.grid(False)\n",
    "plot_confusion_matrix(svm3, X_test_3, y_test_3, cmap=plt.cm.Blues, display_labels=['0', '1'], ax=ax)\n",
    "plt.show()"
   ]
  },
  {
   "cell_type": "markdown",
   "metadata": {},
   "source": [
    "Generalmente se obtuvieron mejores valores que antes. Pero tenemos el mismo problema de muchísimos falsos negativos."
   ]
  },
  {
   "cell_type": "code",
   "execution_count": 28,
   "metadata": {},
   "outputs": [
    {
     "data": {
      "text/plain": [
       "<sklearn.metrics._plot.roc_curve.RocCurveDisplay at 0x7f642f7414c0>"
      ]
     },
     "execution_count": 28,
     "metadata": {},
     "output_type": "execute_result"
    },
    {
     "data": {
      "image/png": "[encoded data removed]",
      "text/plain": [
       "<Figure size 432x288 with 1 Axes>"
      ]
     },
     "metadata": {
      "needs_background": "light"
     },
     "output_type": "display_data"
    }
   ],
   "source": [
    "plot_roc_curve(svm3, X_test_3, y_test_3)"
   ]
  },
  {
   "cell_type": "code",
   "execution_count": 29,
   "metadata": {},
   "outputs": [
    {
     "data": {
      "text/plain": [
       "0.9122943417781285"
      ]
     },
     "execution_count": 29,
     "metadata": {},
     "output_type": "execute_result"
    }
   ],
   "source": [
    "roc_auc_score(y_test_3, svm3.predict_proba(X_test_3)[:, 1])"
   ]
  },
  {
   "cell_type": "markdown",
   "metadata": {},
   "source": [
    "Se trata entonces del mejor modelo de SVM entrenado."
   ]
  },
  {
   "cell_type": "markdown",
   "metadata": {},
   "source": [
    "### Conclusiones\n",
    "\n",
    "\n",
    "En general teníamos pocas expectativa a SVM ya que es difícil ver si los datos tienen una distribución separable en el espacio, pero resultó en modelos buenos. El último particularmente resultó en uno muy bueno, siendo hasta ahora el mejor modelo armado."
   ]
  },
  {
   "cell_type": "markdown",
   "metadata": {},
   "source": [
    "# Persistiendo los modelos"
   ]
  },
  {
   "cell_type": "code",
   "execution_count": 30,
   "metadata": {},
   "outputs": [],
   "source": [
    "import pickle"
   ]
  },
  {
   "cell_type": "code",
   "execution_count": 31,
   "metadata": {},
   "outputs": [],
   "source": [
    "pickle.dump(svm, open(\"Modelos/SVM/svm1.pickle\", \"wb\" ))\n",
    "pickle.dump(svm2, open(\"Modelos/SVM/svm2.pickle\", \"wb\" ))\n",
    "pickle.dump(svm3, open(\"Modelos/SVM/svm3.pickle\", \"wb\" ))"
   ]
  },
  {
   "cell_type": "markdown",
   "metadata": {},
   "source": [
    "# Predicción de HoldOut\n",
    "\n",
    "Usaremos para predecir el SVM obtenido para el preprocessing mejores variables según árbol."
   ]
  },
  {
   "cell_type": "code",
   "execution_count": 32,
   "metadata": {},
   "outputs": [],
   "source": [
    "svm3 = pickle.load(open(\"Modelos/SVM/svm3.pickle\", \"rb\"))"
   ]
  },
  {
   "cell_type": "code",
   "execution_count": 33,
   "metadata": {},
   "outputs": [],
   "source": [
    "def holdout():\n",
    "    dfv = utils.get_data()\n",
    "    Xv = dfv[dfv.columns.drop('tiene_alto_valor_adquisitivo')]\n",
    "    Xv = pd.get_dummies(Xv)\n",
    "\n",
    "    ids, X = utils.get_holdout_data()\n",
    "    X = pd.get_dummies(X)\n",
    "\n",
    "    notInHoldout=[]\n",
    "    for c in Xv.columns:\n",
    "        if c not in X.columns:\n",
    "            notInHoldout.append(c)\n",
    "    X[notInHoldout] = 0\n",
    "\n",
    "    Xv, X = preprocessing_mejores_por_arbol(Xv, X)\n",
    "    return ids, X"
   ]
  },
  {
   "cell_type": "code",
   "execution_count": 34,
   "metadata": {},
   "outputs": [],
   "source": [
    "ids, X = holdout()"
   ]
  },
  {
   "cell_type": "code",
   "execution_count": 35,
   "metadata": {},
   "outputs": [],
   "source": [
    "utils.escribir_holdout(svm3.predict(X), \"4 - SVM\", ids)"
   ]
  }
 ],
 "metadata": {
  "kernelspec": {
   "display_name": "Python 3",
   "language": "python",
   "name": "python3"
  },
  "language_info": {
   "codemirror_mode": {
    "name": "ipython",
    "version": 3
   },
   "file_extension": ".py",
   "mimetype": "text/x-python",
   "name": "python",
   "nbconvert_exporter": "python",
   "pygments_lexer": "ipython3",
   "version": "3.6.9"
  }
 },
 "nbformat": 4,
 "nbformat_minor": 4
}

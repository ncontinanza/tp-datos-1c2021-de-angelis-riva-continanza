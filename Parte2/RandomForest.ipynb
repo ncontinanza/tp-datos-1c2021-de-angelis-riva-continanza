{
 "cells": [
  {
   "cell_type": "markdown",
   "metadata": {},
   "source": [
    "# Random Forest\n",
    "\n",
    "En este notebook clasificaremos si una instancia tiene alto poder adquisitivo mediante RandomForest\n",
    "\n",
    "Se utilizarán cuatro preprocessings diferentes:\n",
    "* Las variables utilizadas en la primera parte del trabajo práctico.\n",
    "* Todas las variables pero el data frame equilibrado\n",
    "* Todas las variables sin modificación alguna\n",
    "* PCA del 90% de la varianza."
   ]
  },
  {
   "cell_type": "code",
   "execution_count": 1,
   "metadata": {},
   "outputs": [],
   "source": [
    "# Modelo\n",
    "from sklearn.ensemble import RandomForestClassifier\n",
    "\n",
    "# Búsqueda\n",
    "from sklearn.model_selection import train_test_split, GridSearchCV\n",
    "\n",
    "# Metrics\n",
    "from sklearn.metrics import roc_curve, plot_roc_curve, auc, roc_auc_score, accuracy_score\n",
    "from sklearn.metrics import classification_report, confusion_matrix, plot_confusion_matrix\n",
    "\n",
    "# Plots\n",
    "from matplotlib import pyplot as plt\n",
    "import seaborn as sns\n",
    "\n",
    "# Otros\n",
    "import pandas as pd\n",
    "from preprocessing import preprocessing_base_parte_1\n",
    "from preprocessing import preprocessing_equilibrado\n",
    "from preprocessing import preprocessing_significantes\n",
    "import utils"
   ]
  },
  {
   "cell_type": "code",
   "execution_count": 2,
   "metadata": {},
   "outputs": [],
   "source": [
    "df = utils.get_data()"
   ]
  },
  {
   "cell_type": "markdown",
   "metadata": {},
   "source": [
    "### Modelo 1 - Preprocessing parte 1\n",
    "\n",
    "Este RandomForest será entrenado con las siguientes variables:\n",
    "\n",
    "* **Ganancia/Pérdida declara en la bolsa argentina**: `ganancia_perdida_declarada_bolsa_argentina`\n",
    "* **Edad**: `edad`\n",
    "* **Rol familiar registrado**: `rol_familiar_registrado`\n",
    "* **Años estudiados**: `anios_estudiados`\n",
    "\n",
    "Además, de los hiperparámetros rescatamos que entrenaremos un RandomForest que mirará un máximo de features de 2"
   ]
  },
  {
   "cell_type": "code",
   "execution_count": 3,
   "metadata": {},
   "outputs": [],
   "source": [
    "X = df[df.columns.drop('tiene_alto_valor_adquisitivo')]\n",
    "Y = df['tiene_alto_valor_adquisitivo']\n",
    "\n",
    "X_train_1, X_test_1, y_train_1, y_test_1 = train_test_split(X, Y, random_state=27, stratify=Y)\n",
    "\n",
    "X_train_1, X_test_1 = preprocessing_base_parte_1(X_train_1, X_test_1)"
   ]
  },
  {
   "cell_type": "markdown",
   "metadata": {},
   "source": [
    "#### Búsqueda de la mejor altura"
   ]
  },
  {
   "cell_type": "code",
   "execution_count": 4,
   "metadata": {},
   "outputs": [],
   "source": [
    "params = { 'max_depth': range(2,18), 'n_estimators': range(50,1500,50), 'criterion': ['gini', 'entropy'] }\n",
    "model = RandomForestClassifier(n_jobs=-1, random_state=27)\n",
    "    \n",
    "gscv = GridSearchCV(model, params, scoring='roc_auc', n_jobs=-1, cv=4, verbose=5)"
   ]
  },
  {
   "cell_type": "code",
   "execution_count": 5,
   "metadata": {},
   "outputs": [
    {
     "name": "stdout",
     "output_type": "stream",
     "text": [
      "Fitting 4 folds for each of 928 candidates, totalling 3712 fits\n"
     ]
    },
    {
     "name": "stderr",
     "output_type": "stream",
     "text": [
      "[Parallel(n_jobs=-1)]: Using backend LokyBackend with 4 concurrent workers.\n",
      "[Parallel(n_jobs=-1)]: Done  10 tasks      | elapsed:    4.1s\n",
      "[Parallel(n_jobs=-1)]: Done  64 tasks      | elapsed:  1.3min\n",
      "[Parallel(n_jobs=-1)]: Done 154 tasks      | elapsed:  4.4min\n",
      "[Parallel(n_jobs=-1)]: Done 280 tasks      | elapsed:  7.9min\n",
      "[Parallel(n_jobs=-1)]: Done 442 tasks      | elapsed: 14.2min\n",
      "[Parallel(n_jobs=-1)]: Done 640 tasks      | elapsed: 22.1min\n",
      "[Parallel(n_jobs=-1)]: Done 874 tasks      | elapsed: 33.0min\n",
      "[Parallel(n_jobs=-1)]: Done 1144 tasks      | elapsed: 47.5min\n",
      "[Parallel(n_jobs=-1)]: Done 1450 tasks      | elapsed: 63.9min\n",
      "[Parallel(n_jobs=-1)]: Done 1792 tasks      | elapsed: 86.1min\n",
      "[Parallel(n_jobs=-1)]: Done 2170 tasks      | elapsed: 103.0min\n",
      "[Parallel(n_jobs=-1)]: Done 2584 tasks      | elapsed: 121.7min\n",
      "[Parallel(n_jobs=-1)]: Done 3034 tasks      | elapsed: 143.5min\n",
      "[Parallel(n_jobs=-1)]: Done 3520 tasks      | elapsed: 174.9min\n",
      "[Parallel(n_jobs=-1)]: Done 3712 out of 3712 | elapsed: 191.4min finished\n"
     ]
    },
    {
     "data": {
      "text/plain": [
       "GridSearchCV(cv=4, estimator=RandomForestClassifier(n_jobs=-1, random_state=27),\n",
       "             n_jobs=-1,\n",
       "             param_grid={'criterion': ['gini', 'entropy'],\n",
       "                         'max_depth': range(2, 18),\n",
       "                         'n_estimators': range(50, 1500, 50)},\n",
       "             scoring='roc_auc', verbose=5)"
      ]
     },
     "execution_count": 5,
     "metadata": {},
     "output_type": "execute_result"
    }
   ],
   "source": [
    "gscv.fit(X_train_1, y_train_1)"
   ]
  },
  {
   "cell_type": "code",
   "execution_count": 6,
   "metadata": {},
   "outputs": [
    {
     "data": {
      "text/plain": [
       "RandomForestClassifier(max_depth=12, n_estimators=850, n_jobs=-1,\n",
       "                       random_state=27)"
      ]
     },
     "execution_count": 6,
     "metadata": {},
     "output_type": "execute_result"
    }
   ],
   "source": [
    "gscv.best_estimator_"
   ]
  },
  {
   "cell_type": "code",
   "execution_count": 7,
   "metadata": {},
   "outputs": [
    {
     "data": {
      "text/plain": [
       "{'criterion': 'gini', 'max_depth': 12, 'n_estimators': 850}"
      ]
     },
     "execution_count": 7,
     "metadata": {},
     "output_type": "execute_result"
    }
   ],
   "source": [
    "gscv.best_params_"
   ]
  },
  {
   "cell_type": "markdown",
   "metadata": {},
   "source": [
    "Vemos que la altura óptima que usaremos es de 12, con 850 estimadores.\n",
    "\n",
    "Por lo que crearemos el primer modelo:"
   ]
  },
  {
   "cell_type": "code",
   "execution_count": 8,
   "metadata": {},
   "outputs": [],
   "source": [
    "rfc1 = RandomForestClassifier(n_estimators=850,\n",
    "                               criterion='gini',\n",
    "                               max_depth=12,\n",
    "                               max_features=2,\n",
    "                               oob_score=True,\n",
    "                               n_jobs=-1,\n",
    "                               random_state=27)"
   ]
  },
  {
   "cell_type": "code",
   "execution_count": 9,
   "metadata": {},
   "outputs": [
    {
     "data": {
      "text/plain": [
       "RandomForestClassifier(max_depth=12, max_features=2, n_estimators=850,\n",
       "                       n_jobs=-1, oob_score=True, random_state=27)"
      ]
     },
     "execution_count": 9,
     "metadata": {},
     "output_type": "execute_result"
    }
   ],
   "source": [
    "rfc1.fit(X_train_1, y_train_1)"
   ]
  },
  {
   "cell_type": "code",
   "execution_count": 10,
   "metadata": {},
   "outputs": [
    {
     "name": "stdout",
     "output_type": "stream",
     "text": [
      "              precision    recall  f1-score   support\n",
      "\n",
      "           0     0.8662    0.9560    0.9089      6181\n",
      "           1     0.7938    0.5342    0.6386      1960\n",
      "\n",
      "    accuracy                         0.8544      8141\n",
      "   macro avg     0.8300    0.7451    0.7737      8141\n",
      "weighted avg     0.8487    0.8544    0.8438      8141\n",
      "\n"
     ]
    }
   ],
   "source": [
    "print(classification_report(y_test_1,rfc1.predict(X_test_1), digits=4))"
   ]
  },
  {
   "cell_type": "markdown",
   "metadata": {},
   "source": [
    "Buenas métricas para el primer modelo, considerando que la cantidad de features está limitada a 4 (es decir, el modelo está previamente sesgado por la selección).\n",
    "\n",
    "Veamos cómo se comporta la matriz de confusión"
   ]
  },
  {
   "cell_type": "code",
   "execution_count": 11,
   "metadata": {},
   "outputs": [
    {
     "data": {
      "image/png": "[encoded data removed]",
      "text/plain": [
       "<Figure size 1080x504 with 2 Axes>"
      ]
     },
     "metadata": {
      "needs_background": "light"
     },
     "output_type": "display_data"
    }
   ],
   "source": [
    "fig, ax = plt.subplots(figsize=(15,7))\n",
    "plt.grid(False)\n",
    "plot_confusion_matrix(rfc1, X_test_1, y_test_1, cmap=plt.cm.Blues, display_labels=['0', '1'], ax=ax)\n",
    "plt.show()"
   ]
  },
  {
   "cell_type": "markdown",
   "metadata": {},
   "source": [
    "Vemos que, como ya es costumbre la cantidad de falsos negativos es muy alta, pero se mantuvo relativamente baja.\n",
    "\n",
    "Veamos ahora las métricas de Roc_AUC"
   ]
  },
  {
   "cell_type": "code",
   "execution_count": 12,
   "metadata": {},
   "outputs": [
    {
     "data": {
      "text/plain": [
       "<sklearn.metrics._plot.roc_curve.RocCurveDisplay at 0x7f6a6710e630>"
      ]
     },
     "execution_count": 12,
     "metadata": {},
     "output_type": "execute_result"
    },
    {
     "data": {
      "image/png": "[encoded data removed]",
      "text/plain": [
       "<Figure size 432x288 with 1 Axes>"
      ]
     },
     "metadata": {
      "needs_background": "light"
     },
     "output_type": "display_data"
    }
   ],
   "source": [
    "plot_roc_curve(rfc1, X_test_1, y_test_1)"
   ]
  },
  {
   "cell_type": "code",
   "execution_count": 13,
   "metadata": {},
   "outputs": [
    {
     "name": "stdout",
     "output_type": "stream",
     "text": [
      "El score de RocAUC es de:  0.9091\n"
     ]
    }
   ],
   "source": [
    "print(\"El score de RocAUC es de: \", round(roc_auc_score(y_test_1, rfc1.predict_proba(X_test_1)[:, 1]), 4))"
   ]
  },
  {
   "cell_type": "markdown",
   "metadata": {},
   "source": [
    "Si bien el modelo tuvo una buena performance creemos que se puede llegar más lejos."
   ]
  },
  {
   "cell_type": "markdown",
   "metadata": {},
   "source": [
    "### Modelo 2 - Preprocessing equilibrado\n",
    "\n",
    "Este RandomForest será entrenado con todas las variables disponibles en el data frame, pero antes de entrenarlo se realizará un equilibrio de la variable objetivo (es decir, se desecharán gran parte de los datos de entrenamiento que no sean unos hasta que se alcace un equilibrio y sean 50% unos y 50% ceros)\n",
    "\n",
    "Esta vez la cantidad de features a mirar en cada split será un poco más alta que el anterior, dejando 4 features en cada split.\n",
    "\n",
    "Veamos qué sucede."
   ]
  },
  {
   "cell_type": "code",
   "execution_count": 14,
   "metadata": {},
   "outputs": [],
   "source": [
    "X = df[df.columns.drop('tiene_alto_valor_adquisitivo')]\n",
    "X = pd.get_dummies(X, drop_first=True)\n",
    "Y = df['tiene_alto_valor_adquisitivo']\n",
    "\n",
    "X_train_2, X_test_2, y_train_2, y_test_2 = train_test_split(X, Y, random_state=112, stratify=Y)\n",
    "\n",
    "X_train_2, X_test_2, y_train_2, y_test_2 = preprocessing_equilibrado(X_train_2, X_test_2, y_train_2, y_test_2)"
   ]
  },
  {
   "cell_type": "code",
   "execution_count": 15,
   "metadata": {},
   "outputs": [],
   "source": [
    "params = { 'max_depth': range(2,18), 'n_estimators': range(50,1500,50), 'criterion': ['gini', 'entropy'] }\n",
    "model = RandomForestClassifier(n_jobs=-1, random_state=27)\n",
    "    \n",
    "gscv = GridSearchCV(model, params, scoring='roc_auc', n_jobs=-1, cv=4, verbose=5)"
   ]
  },
  {
   "cell_type": "code",
   "execution_count": 16,
   "metadata": {},
   "outputs": [
    {
     "name": "stdout",
     "output_type": "stream",
     "text": [
      "Fitting 4 folds for each of 928 candidates, totalling 3712 fits\n"
     ]
    },
    {
     "name": "stderr",
     "output_type": "stream",
     "text": [
      "[Parallel(n_jobs=-1)]: Using backend LokyBackend with 4 concurrent workers.\n",
      "[Parallel(n_jobs=-1)]: Done  10 tasks      | elapsed:    4.3s\n",
      "[Parallel(n_jobs=-1)]: Done  64 tasks      | elapsed:   50.3s\n",
      "[Parallel(n_jobs=-1)]: Done 154 tasks      | elapsed:  3.1min\n",
      "[Parallel(n_jobs=-1)]: Done 280 tasks      | elapsed:  6.7min\n",
      "[Parallel(n_jobs=-1)]: Done 442 tasks      | elapsed: 10.9min\n",
      "[Parallel(n_jobs=-1)]: Done 640 tasks      | elapsed: 15.9min\n",
      "[Parallel(n_jobs=-1)]: Done 874 tasks      | elapsed: 23.3min\n",
      "[Parallel(n_jobs=-1)]: Done 1144 tasks      | elapsed: 33.8min\n",
      "[Parallel(n_jobs=-1)]: Done 1450 tasks      | elapsed: 46.4min\n",
      "[Parallel(n_jobs=-1)]: Done 1792 tasks      | elapsed: 67.2min\n",
      "[Parallel(n_jobs=-1)]: Done 2170 tasks      | elapsed: 79.9min\n",
      "[Parallel(n_jobs=-1)]: Done 2584 tasks      | elapsed: 92.9min\n",
      "[Parallel(n_jobs=-1)]: Done 3034 tasks      | elapsed: 114.3min\n",
      "[Parallel(n_jobs=-1)]: Done 3520 tasks      | elapsed: 136.6min\n",
      "[Parallel(n_jobs=-1)]: Done 3712 out of 3712 | elapsed: 148.3min finished\n"
     ]
    },
    {
     "data": {
      "text/plain": [
       "GridSearchCV(cv=4, estimator=RandomForestClassifier(n_jobs=-1, random_state=27),\n",
       "             n_jobs=-1,\n",
       "             param_grid={'criterion': ['gini', 'entropy'],\n",
       "                         'max_depth': range(2, 18),\n",
       "                         'n_estimators': range(50, 1500, 50)},\n",
       "             scoring='roc_auc', verbose=5)"
      ]
     },
     "execution_count": 16,
     "metadata": {},
     "output_type": "execute_result"
    }
   ],
   "source": [
    "gscv.fit(X_train_2, y_train_2)"
   ]
  },
  {
   "cell_type": "code",
   "execution_count": 17,
   "metadata": {},
   "outputs": [
    {
     "data": {
      "text/plain": [
       "RandomForestClassifier(criterion='entropy', max_depth=17, n_estimators=800,\n",
       "                       n_jobs=-1, random_state=27)"
      ]
     },
     "execution_count": 17,
     "metadata": {},
     "output_type": "execute_result"
    }
   ],
   "source": [
    "gscv.best_estimator_"
   ]
  },
  {
   "cell_type": "code",
   "execution_count": 18,
   "metadata": {},
   "outputs": [
    {
     "data": {
      "text/plain": [
       "{'criterion': 'entropy', 'max_depth': 17, 'n_estimators': 800}"
      ]
     },
     "execution_count": 18,
     "metadata": {},
     "output_type": "execute_result"
    }
   ],
   "source": [
    "gscv.best_params_"
   ]
  },
  {
   "cell_type": "markdown",
   "metadata": {},
   "source": [
    "Nos quedamos con el mejor de los modelos, que esta vez tiene una altura de 17 y 800 estimadores."
   ]
  },
  {
   "cell_type": "code",
   "execution_count": 19,
   "metadata": {},
   "outputs": [],
   "source": [
    "rfc2 = gscv.best_estimator_"
   ]
  },
  {
   "cell_type": "code",
   "execution_count": 20,
   "metadata": {},
   "outputs": [
    {
     "data": {
      "text/plain": [
       "RandomForestClassifier(criterion='entropy', max_depth=17, n_estimators=800,\n",
       "                       n_jobs=-1, random_state=27)"
      ]
     },
     "execution_count": 20,
     "metadata": {},
     "output_type": "execute_result"
    }
   ],
   "source": [
    "rfc2.fit(X_train_2, y_train_2)"
   ]
  },
  {
   "cell_type": "code",
   "execution_count": 21,
   "metadata": {},
   "outputs": [
    {
     "name": "stdout",
     "output_type": "stream",
     "text": [
      "              precision    recall  f1-score   support\n",
      "\n",
      "           0     0.9514    0.7848    0.8601      6181\n",
      "           1     0.5628    0.8735    0.6845      1960\n",
      "\n",
      "    accuracy                         0.8062      8141\n",
      "   macro avg     0.7571    0.8291    0.7723      8141\n",
      "weighted avg     0.8578    0.8062    0.8178      8141\n",
      "\n"
     ]
    }
   ],
   "source": [
    "print(classification_report(y_test_2,rfc2.predict(X_test_2), digits=4))"
   ]
  },
  {
   "cell_type": "markdown",
   "metadata": {},
   "source": [
    "Vemos que el accuracy nuevamente dio de un 80% aproximadamente. Por lo que el modelo es decente, sin embargo, no sólo hay que mirar dicho valor.\n",
    "\n",
    "El recall de unos es relativamente alto, un 87%. Pero el recall de ceros es bajo en relación a otros modelos ejecutados anteriormente.\n",
    "\n",
    "Los modelos que nacen del data frame equilibrado son peculiares. Suelen tener valores insólitos de Recall de unos.\n",
    "\n",
    "Veamos la matriz de confusión"
   ]
  },
  {
   "cell_type": "code",
   "execution_count": 22,
   "metadata": {},
   "outputs": [
    {
     "data": {
      "image/png": "[encoded data removed]",
      "text/plain": [
       "<Figure size 1080x504 with 2 Axes>"
      ]
     },
     "metadata": {
      "needs_background": "light"
     },
     "output_type": "display_data"
    }
   ],
   "source": [
    "fig, ax = plt.subplots(figsize=(15,7))\n",
    "plt.grid(False)\n",
    "plot_confusion_matrix(rfc2, X_test_2, y_test_2, cmap=plt.cm.Blues, display_labels=['0', '1'], ax=ax)\n",
    "plt.show()"
   ]
  },
  {
   "cell_type": "markdown",
   "metadata": {},
   "source": [
    "Podemos notar que, si bien la cantidad de falsos negativos disminuyó rotúndamente (en comparación a otros modelos) al cantidad de falsos positivos aumentó mucho (Con un valor cercano a los verdaderos positivos, lo cual es preocupante)\n",
    "\n",
    "\n",
    "Veamos la curva Roc y su puntuación AUC:"
   ]
  },
  {
   "cell_type": "code",
   "execution_count": 23,
   "metadata": {
    "scrolled": true
   },
   "outputs": [
    {
     "data": {
      "text/plain": [
       "<sklearn.metrics._plot.roc_curve.RocCurveDisplay at 0x7f6a318588d0>"
      ]
     },
     "execution_count": 23,
     "metadata": {},
     "output_type": "execute_result"
    },
    {
     "data": {
      "image/png": "[encoded data removed]",
      "text/plain": [
       "<Figure size 432x288 with 1 Axes>"
      ]
     },
     "metadata": {
      "needs_background": "light"
     },
     "output_type": "display_data"
    }
   ],
   "source": [
    "plot_roc_curve(rfc2, X_test_2, y_test_2)"
   ]
  },
  {
   "cell_type": "code",
   "execution_count": 24,
   "metadata": {},
   "outputs": [
    {
     "name": "stdout",
     "output_type": "stream",
     "text": [
      "El score de RocAUC es de:  0.9141\n"
     ]
    }
   ],
   "source": [
    "print(\"El score de RocAUC es de: \", round(roc_auc_score(y_test_2, rfc2.predict_proba(X_test_2)[:, 1]), 4))"
   ]
  },
  {
   "cell_type": "markdown",
   "metadata": {},
   "source": [
    "El valor de RocAUC es alto, pero en realidad no se trata de un buen modelo para predecir todo, sino más bien para casos particulares como aumentar el recall de unos o disminuir la cantidad de falsos negativos."
   ]
  },
  {
   "cell_type": "markdown",
   "metadata": {},
   "source": [
    "## Modelo 3 - Sin preprocesamiento\n",
    "\n",
    "La idea de este modelo es dejar que RandomForest se entrene sin sesgar las features a utilizar (que pueda utilizar absolutamente todas)\n",
    "\n",
    "Creemos que esto se justifica ya que RandomForest busca realizar la votación de múltiples árboles relativamente diferentes entre sí, por lo que tiene sentido dejar todas las variables.\n",
    "\n",
    "Veamos qué sucede!"
   ]
  },
  {
   "cell_type": "code",
   "execution_count": 25,
   "metadata": {},
   "outputs": [],
   "source": [
    "X = df[df.columns.drop('tiene_alto_valor_adquisitivo')]\n",
    "X = pd.get_dummies(X, drop_first=True)\n",
    "Y = df['tiene_alto_valor_adquisitivo']\n",
    "\n",
    "X_train_3, X_test_3, y_train_3, y_test_3 = train_test_split(X, Y, random_state=27, stratify=Y)"
   ]
  },
  {
   "cell_type": "code",
   "execution_count": 26,
   "metadata": {},
   "outputs": [],
   "source": [
    "params = { 'max_depth': range(2,18), 'n_estimators': range(50,1500,50), 'criterion': ['gini', 'entropy'] }\n",
    "model = RandomForestClassifier(n_jobs=-1, random_state=27)\n",
    "    \n",
    "gscv = GridSearchCV(model, params, scoring='roc_auc', n_jobs=-1, cv=4, verbose=5)"
   ]
  },
  {
   "cell_type": "code",
   "execution_count": 27,
   "metadata": {},
   "outputs": [
    {
     "name": "stdout",
     "output_type": "stream",
     "text": [
      "Fitting 4 folds for each of 928 candidates, totalling 3712 fits\n"
     ]
    },
    {
     "name": "stderr",
     "output_type": "stream",
     "text": [
      "[Parallel(n_jobs=-1)]: Using backend LokyBackend with 4 concurrent workers.\n",
      "[Parallel(n_jobs=-1)]: Done  10 tasks      | elapsed:    5.2s\n",
      "[Parallel(n_jobs=-1)]: Done  64 tasks      | elapsed:  1.4min\n",
      "[Parallel(n_jobs=-1)]: Done 154 tasks      | elapsed:  5.0min\n",
      "[Parallel(n_jobs=-1)]: Done 280 tasks      | elapsed: 10.9min\n",
      "[Parallel(n_jobs=-1)]: Done 442 tasks      | elapsed: 25.1min\n",
      "[Parallel(n_jobs=-1)]: Done 640 tasks      | elapsed: 45.5min\n",
      "[Parallel(n_jobs=-1)]: Done 874 tasks      | elapsed: 76.5min\n",
      "[Parallel(n_jobs=-1)]: Done 1144 tasks      | elapsed: 123.8min\n",
      "[Parallel(n_jobs=-1)]: Done 1450 tasks      | elapsed: 180.7min\n",
      "[Parallel(n_jobs=-1)]: Done 1792 tasks      | elapsed: 259.5min\n",
      "[Parallel(n_jobs=-1)]: Done 2170 tasks      | elapsed: 306.1min\n",
      "[Parallel(n_jobs=-1)]: Done 2584 tasks      | elapsed: 326.1min\n",
      "[Parallel(n_jobs=-1)]: Done 3034 tasks      | elapsed: 358.7min\n",
      "[Parallel(n_jobs=-1)]: Done 3520 tasks      | elapsed: 403.1min\n",
      "[Parallel(n_jobs=-1)]: Done 3712 out of 3712 | elapsed: 426.4min finished\n"
     ]
    },
    {
     "data": {
      "text/plain": [
       "GridSearchCV(cv=4, estimator=RandomForestClassifier(n_jobs=-1, random_state=27),\n",
       "             n_jobs=-1,\n",
       "             param_grid={'criterion': ['gini', 'entropy'],\n",
       "                         'max_depth': range(2, 18),\n",
       "                         'n_estimators': range(50, 1500, 50)},\n",
       "             scoring='roc_auc', verbose=5)"
      ]
     },
     "execution_count": 27,
     "metadata": {},
     "output_type": "execute_result"
    }
   ],
   "source": [
    "gscv.fit(X_train_3, y_train_3)"
   ]
  },
  {
   "cell_type": "code",
   "execution_count": 28,
   "metadata": {},
   "outputs": [
    {
     "data": {
      "text/plain": [
       "RandomForestClassifier(criterion='entropy', max_depth=17, n_estimators=950,\n",
       "                       n_jobs=-1, random_state=27)"
      ]
     },
     "execution_count": 28,
     "metadata": {},
     "output_type": "execute_result"
    }
   ],
   "source": [
    "gscv.best_estimator_"
   ]
  },
  {
   "cell_type": "code",
   "execution_count": 29,
   "metadata": {},
   "outputs": [
    {
     "data": {
      "text/plain": [
       "{'criterion': 'entropy', 'max_depth': 17, 'n_estimators': 950}"
      ]
     },
     "execution_count": 29,
     "metadata": {},
     "output_type": "execute_result"
    }
   ],
   "source": [
    "gscv.best_params_"
   ]
  },
  {
   "cell_type": "markdown",
   "metadata": {},
   "source": [
    "Nos quedamos con el mejor de los modelos, que esta vez tiene una altura de 17 y 950 estimadores."
   ]
  },
  {
   "cell_type": "code",
   "execution_count": 30,
   "metadata": {},
   "outputs": [],
   "source": [
    "rfc3 = gscv.best_estimator_"
   ]
  },
  {
   "cell_type": "code",
   "execution_count": 31,
   "metadata": {},
   "outputs": [
    {
     "data": {
      "text/plain": [
       "RandomForestClassifier(criterion='entropy', max_depth=17, n_estimators=950,\n",
       "                       n_jobs=-1, random_state=27)"
      ]
     },
     "execution_count": 31,
     "metadata": {},
     "output_type": "execute_result"
    }
   ],
   "source": [
    "rfc3.fit(X_train_3, y_train_3)"
   ]
  },
  {
   "cell_type": "code",
   "execution_count": 32,
   "metadata": {},
   "outputs": [
    {
     "name": "stdout",
     "output_type": "stream",
     "text": [
      "              precision    recall  f1-score   support\n",
      "\n",
      "           0     0.8733    0.9489    0.9095      6181\n",
      "           1     0.7782    0.5658    0.6552      1960\n",
      "\n",
      "    accuracy                         0.8567      8141\n",
      "   macro avg     0.8258    0.7573    0.7824      8141\n",
      "weighted avg     0.8504    0.8567    0.8483      8141\n",
      "\n"
     ]
    }
   ],
   "source": [
    "print(classification_report(y_test_3,rfc3.predict(X_test_3), digits=4))"
   ]
  },
  {
   "cell_type": "markdown",
   "metadata": {},
   "source": [
    "Vemos que el modelo obtuvo un accuracy muy alto, casi de 86%\n",
    "\n",
    "Además, la precisión para predecir unos y para predecir ceros resulta alta. Sin embargo, como es usual, el recall de unos es bajo (pero relativamente por encima de lo común)\n",
    "\n",
    "Veamos ahora la matriz de confusión"
   ]
  },
  {
   "cell_type": "code",
   "execution_count": 33,
   "metadata": {},
   "outputs": [
    {
     "data": {
      "image/png": "[encoded data removed]",
      "text/plain": [
       "<Figure size 1080x504 with 2 Axes>"
      ]
     },
     "metadata": {
      "needs_background": "light"
     },
     "output_type": "display_data"
    }
   ],
   "source": [
    "fig, ax = plt.subplots(figsize=(15,7))\n",
    "plt.grid(False)\n",
    "plot_confusion_matrix(rfc3, X_test_3, y_test_3, cmap=plt.cm.Blues, display_labels=['0', '1'], ax=ax)\n",
    "plt.show()"
   ]
  },
  {
   "cell_type": "markdown",
   "metadata": {},
   "source": [
    "Vemos que nuevamente los falsos negativos suben en cantidad. Es relativamente parecida a las otras matrices de confusión vistas a lo largo del trabajo práctico.\n",
    "\n",
    "Veamos ahora la curva ROC y su puntuación AUC"
   ]
  },
  {
   "cell_type": "code",
   "execution_count": 34,
   "metadata": {},
   "outputs": [
    {
     "data": {
      "text/plain": [
       "<sklearn.metrics._plot.roc_curve.RocCurveDisplay at 0x7f6a1511cb70>"
      ]
     },
     "execution_count": 34,
     "metadata": {},
     "output_type": "execute_result"
    },
    {
     "data": {
      "image/png": "[encoded data removed]",
      "text/plain": [
       "<Figure size 432x288 with 1 Axes>"
      ]
     },
     "metadata": {
      "needs_background": "light"
     },
     "output_type": "display_data"
    }
   ],
   "source": [
    "plot_roc_curve(rfc3, X_test_3, y_test_3)"
   ]
  },
  {
   "cell_type": "code",
   "execution_count": 35,
   "metadata": {},
   "outputs": [
    {
     "name": "stdout",
     "output_type": "stream",
     "text": [
      "El score de RocAUC es de:  0.9181\n"
     ]
    }
   ],
   "source": [
    "print(\"El score de RocAUC es de: \", round(roc_auc_score(y_test_3, rfc3.predict_proba(X_test_3)[:, 1]), 4))"
   ]
  },
  {
   "cell_type": "markdown",
   "metadata": {},
   "source": [
    "### Modelo 4 - Preprocessing Significantes 90%\n",
    "\n",
    "\n",
    "Queremos ver con este modelo si un RandomForest puede aprender de un data frame preprocesado con PCA del 90% de la varianza y los datos previamente escalados con un StandardScaler."
   ]
  },
  {
   "cell_type": "code",
   "execution_count": 36,
   "metadata": {},
   "outputs": [
    {
     "name": "stderr",
     "output_type": "stream",
     "text": [
      "/home/nicolascontinanza/Desktop/FIUBA/Datos/tp-datos-1c2021-de-angelis-riva-continanza/Parte2/preprocessing.py:40: SettingWithCopyWarning: \n",
      "A value is trying to be set on a copy of a slice from a DataFrame.\n",
      "Try using .loc[row_indexer,col_indexer] = value instead\n",
      "\n",
      "See the caveats in the documentation: https://pandas.pydata.org/pandas-docs/stable/user_guide/indexing.html#returning-a-view-versus-a-copy\n",
      "  X_train['ganancia_perdida_declarada_bolsa_argentina'] = X_train['ganancia_perdida_declarada_bolsa_argentina'].apply(_log_scale)\n",
      "/home/nicolascontinanza/Desktop/FIUBA/Datos/tp-datos-1c2021-de-angelis-riva-continanza/Parte2/preprocessing.py:41: SettingWithCopyWarning: \n",
      "A value is trying to be set on a copy of a slice from a DataFrame.\n",
      "Try using .loc[row_indexer,col_indexer] = value instead\n",
      "\n",
      "See the caveats in the documentation: https://pandas.pydata.org/pandas-docs/stable/user_guide/indexing.html#returning-a-view-versus-a-copy\n",
      "  X_test['ganancia_perdida_declarada_bolsa_argentina'] = X_test['ganancia_perdida_declarada_bolsa_argentina'].apply(_log_scale)\n"
     ]
    }
   ],
   "source": [
    "X = df[df.columns.drop('tiene_alto_valor_adquisitivo')]\n",
    "X = pd.get_dummies(X, drop_first=True)\n",
    "Y = df['tiene_alto_valor_adquisitivo']\n",
    "\n",
    "X_train_4, X_test_4, y_train_4, y_test_4 = train_test_split(X, Y, random_state=112, stratify=Y)\n",
    "\n",
    "X_train_4, X_test_4 = preprocessing_significantes(X_train_4, X_test_4, 0.9)"
   ]
  },
  {
   "cell_type": "code",
   "execution_count": 39,
   "metadata": {},
   "outputs": [],
   "source": [
    "params = { 'max_depth': range(2,18), 'n_estimators': range(50,1200,50), 'criterion': ['gini', 'entropy'] }\n",
    "model = RandomForestClassifier(n_jobs=-1, random_state=27)\n",
    "    \n",
    "gscv = GridSearchCV(model, params, scoring='roc_auc', n_jobs=-1, cv=4, verbose=5)"
   ]
  },
  {
   "cell_type": "code",
   "execution_count": 40,
   "metadata": {},
   "outputs": [
    {
     "name": "stdout",
     "output_type": "stream",
     "text": [
      "Fitting 4 folds for each of 736 candidates, totalling 2944 fits\n"
     ]
    },
    {
     "name": "stderr",
     "output_type": "stream",
     "text": [
      "[Parallel(n_jobs=-1)]: Using backend LokyBackend with 4 concurrent workers.\n",
      "[Parallel(n_jobs=-1)]: Done  10 tasks      | elapsed:   13.2s\n",
      "[Parallel(n_jobs=-1)]: Done  64 tasks      | elapsed:  5.0min\n",
      "[Parallel(n_jobs=-1)]: Done 154 tasks      | elapsed: 16.9min\n",
      "[Parallel(n_jobs=-1)]: Done 280 tasks      | elapsed: 45.2min\n",
      "[Parallel(n_jobs=-1)]: Done 442 tasks      | elapsed: 83.4min\n",
      "[Parallel(n_jobs=-1)]: Done 640 tasks      | elapsed: 142.7min\n",
      "[Parallel(n_jobs=-1)]: Done 874 tasks      | elapsed: 215.5min\n",
      "[Parallel(n_jobs=-1)]: Done 1144 tasks      | elapsed: 356.5min\n",
      "[Parallel(n_jobs=-1)]: Done 1450 tasks      | elapsed: 502.7min\n",
      "[Parallel(n_jobs=-1)]: Done 1792 tasks      | elapsed: 600.0min\n",
      "[Parallel(n_jobs=-1)]: Done 2170 tasks      | elapsed: 810.6min\n",
      "[Parallel(n_jobs=-1)]: Done 2584 tasks      | elapsed: 1118.8min\n",
      "[Parallel(n_jobs=-1)]: Done 2944 out of 2944 | elapsed: 1414.9min finished\n"
     ]
    },
    {
     "data": {
      "text/plain": [
       "GridSearchCV(cv=4, estimator=RandomForestClassifier(n_jobs=-1, random_state=27),\n",
       "             n_jobs=-1,\n",
       "             param_grid={'criterion': ['gini', 'entropy'],\n",
       "                         'max_depth': range(2, 18),\n",
       "                         'n_estimators': range(50, 1200, 50)},\n",
       "             scoring='roc_auc', verbose=5)"
      ]
     },
     "execution_count": 40,
     "metadata": {},
     "output_type": "execute_result"
    }
   ],
   "source": [
    "gscv.fit(X_train_4, y_train_4)"
   ]
  },
  {
   "cell_type": "code",
   "execution_count": 41,
   "metadata": {},
   "outputs": [
    {
     "data": {
      "text/plain": [
       "RandomForestClassifier(criterion='entropy', max_depth=11, n_estimators=450,\n",
       "                       n_jobs=-1, random_state=27)"
      ]
     },
     "execution_count": 41,
     "metadata": {},
     "output_type": "execute_result"
    }
   ],
   "source": [
    "gscv.best_estimator_"
   ]
  },
  {
   "cell_type": "code",
   "execution_count": 42,
   "metadata": {},
   "outputs": [
    {
     "data": {
      "text/plain": [
       "{'criterion': 'entropy', 'max_depth': 11, 'n_estimators': 450}"
      ]
     },
     "execution_count": 42,
     "metadata": {},
     "output_type": "execute_result"
    }
   ],
   "source": [
    "gscv.best_params_"
   ]
  },
  {
   "cell_type": "markdown",
   "metadata": {},
   "source": [
    "Nos quedamos con el mejor de los modelos, que esta vez tiene una altura de 11 y 450 estimadores."
   ]
  },
  {
   "cell_type": "code",
   "execution_count": 43,
   "metadata": {},
   "outputs": [],
   "source": [
    "rfc4 = gscv.best_estimator_"
   ]
  },
  {
   "cell_type": "code",
   "execution_count": 44,
   "metadata": {},
   "outputs": [
    {
     "data": {
      "text/plain": [
       "RandomForestClassifier(criterion='entropy', max_depth=11, n_estimators=450,\n",
       "                       n_jobs=-1, random_state=27)"
      ]
     },
     "execution_count": 44,
     "metadata": {},
     "output_type": "execute_result"
    }
   ],
   "source": [
    "rfc4.fit(X_train_4, y_train_4)"
   ]
  },
  {
   "cell_type": "code",
   "execution_count": 45,
   "metadata": {},
   "outputs": [
    {
     "name": "stdout",
     "output_type": "stream",
     "text": [
      "              precision    recall  f1-score   support\n",
      "\n",
      "           0     0.8662    0.9346    0.8991      6181\n",
      "           1     0.7255    0.5449    0.6224      1960\n",
      "\n",
      "    accuracy                         0.8408      8141\n",
      "   macro avg     0.7959    0.7398    0.7608      8141\n",
      "weighted avg     0.8324    0.8408    0.8325      8141\n",
      "\n"
     ]
    }
   ],
   "source": [
    "print(classification_report(y_test_4,rfc4.predict(X_test_4), digits=4))"
   ]
  },
  {
   "cell_type": "markdown",
   "metadata": {},
   "source": [
    "El modelo obtuvo un Accuracy de 84%, valor bastante malo para tratarse de un ensamble.\n",
    "\n",
    "Vemos que el recall de unos es bastante malo, por lo que no esperamos nada particularmente bueno en la matriz de confusión. Realmente no se trata de un buen modelo."
   ]
  },
  {
   "cell_type": "code",
   "execution_count": 46,
   "metadata": {},
   "outputs": [
    {
     "data": {
      "image/png": "[encoded data removed]",
      "text/plain": [
       "<Figure size 1080x504 with 2 Axes>"
      ]
     },
     "metadata": {
      "needs_background": "light"
     },
     "output_type": "display_data"
    }
   ],
   "source": [
    "fig, ax = plt.subplots(figsize=(15,7))\n",
    "plt.grid(False)\n",
    "plot_confusion_matrix(rfc4, X_test_4, y_test_4, cmap=plt.cm.Blues, display_labels=['0', '1'], ax=ax)\n",
    "plt.show()"
   ]
  },
  {
   "cell_type": "code",
   "execution_count": 47,
   "metadata": {},
   "outputs": [
    {
     "data": {
      "text/plain": [
       "<sklearn.metrics._plot.roc_curve.RocCurveDisplay at 0x7f6a14e433c8>"
      ]
     },
     "execution_count": 47,
     "metadata": {},
     "output_type": "execute_result"
    },
    {
     "data": {
      "image/png": "[encoded data removed]",
      "text/plain": [
       "<Figure size 432x288 with 1 Axes>"
      ]
     },
     "metadata": {
      "needs_background": "light"
     },
     "output_type": "display_data"
    }
   ],
   "source": [
    "plot_roc_curve(rfc4, X_test_4, y_test_4)"
   ]
  },
  {
   "cell_type": "code",
   "execution_count": 48,
   "metadata": {},
   "outputs": [
    {
     "name": "stdout",
     "output_type": "stream",
     "text": [
      "El score de RocAUC es de:  0.8983\n"
     ]
    }
   ],
   "source": [
    "print(\"El score de RocAUC es de: \", round(roc_auc_score(y_test_4, rfc4.predict_proba(X_test_4)[:, 1]), 4))"
   ]
  },
  {
   "cell_type": "markdown",
   "metadata": {},
   "source": [
    "# Persistiendo los modelos"
   ]
  },
  {
   "cell_type": "code",
   "execution_count": null,
   "metadata": {},
   "outputs": [],
   "source": [
    "import pickle"
   ]
  },
  {
   "cell_type": "code",
   "execution_count": null,
   "metadata": {},
   "outputs": [],
   "source": [
    "pickle.dump(rfc1, open(\"Modelos/RandomForest/rfc1.pickle\", \"wb\"))\n",
    "pickle.dump(rfc2, open(\"Modelos/RandomForest/rfc2.pickle\", \"wb\"))\n",
    "pickle.dump(rfc3, open(\"Modelos/RandomForest/rfc3.pickle\", \"wb\"))\n",
    "pickle.dump(rfc4, open(\"Modelos/RandomForest/rfc4.pickle\", \"wb\"))"
   ]
  },
  {
   "cell_type": "markdown",
   "metadata": {},
   "source": [
    "# Predicción de HoldOut\n",
    "\n",
    "Usaremos para predecir el RandomForest obtenido para el preprocessing \"sin preprocessing\""
   ]
  },
  {
   "cell_type": "code",
   "execution_count": null,
   "metadata": {},
   "outputs": [],
   "source": [
    "rfc3 = pickle.load(open(\"Modelos/RandomForest/rfc3.pickle\", \"rb\"))"
   ]
  },
  {
   "cell_type": "code",
   "execution_count": 49,
   "metadata": {},
   "outputs": [],
   "source": [
    "def holdout():\n",
    "    dfv = utils.get_data()\n",
    "    Xv = dfv[dfv.columns.drop('tiene_alto_valor_adquisitivo')]\n",
    "    Xv = pd.get_dummies(Xv, drop_first=True)\n",
    "\n",
    "    ids, X = utils.get_holdout_data()\n",
    "    X = pd.get_dummies(X, drop_first=True)\n",
    "    \n",
    "    notInHoldout=[]\n",
    "    for c in Xv.columns:\n",
    "        if c not in X.columns:\n",
    "            notInHoldout.append(c)\n",
    "    X[notInHoldout] = 0\n",
    "\n",
    "    return ids, X"
   ]
  },
  {
   "cell_type": "code",
   "execution_count": 50,
   "metadata": {},
   "outputs": [],
   "source": [
    "ids, X = holdout()"
   ]
  },
  {
   "cell_type": "code",
   "execution_count": 51,
   "metadata": {},
   "outputs": [],
   "source": [
    "utils.escribir_holdout(rfc3.predict(X), \"5 - RandomForest\", ids)"
   ]
  }
 ],
 "metadata": {
  "kernelspec": {
   "display_name": "Python 3",
   "language": "python",
   "name": "python3"
  },
  "language_info": {
   "codemirror_mode": {
    "name": "ipython",
    "version": 3
   },
   "file_extension": ".py",
   "mimetype": "text/x-python",
   "name": "python",
   "nbconvert_exporter": "python",
   "pygments_lexer": "ipython3",
   "version": "3.6.9"
  }
 },
 "nbformat": 4,
 "nbformat_minor": 4
}

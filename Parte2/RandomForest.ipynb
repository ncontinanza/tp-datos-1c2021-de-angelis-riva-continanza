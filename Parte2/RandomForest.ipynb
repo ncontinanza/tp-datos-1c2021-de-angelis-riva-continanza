{
 "cells": [
  {
   "cell_type": "code",
   "execution_count": 2,
   "metadata": {},
   "outputs": [],
   "source": [
    "from sklearn.preprocessing import MinMaxScaler\n",
    "from sklearn.model_selection import train_test_split, GridSearchCV\n",
    "from sklearn.ensemble import RandomForestClassifier\n",
    "from sklearn.metrics import roc_curve, plot_roc_curve, auc, roc_auc_score, classification_report, confusion_matrix, plot_confusion_matrix\n",
    "from matplotlib import pyplot as plt\n",
    "import pandas as pd\n",
    "import numpy as np\n",
    "import utils\n",
    "import preprocessing"
   ]
  },
  {
   "cell_type": "code",
   "execution_count": 10,
   "metadata": {},
   "outputs": [],
   "source": [
    "params = { 'n_estimators': [1001], 'criterion': ['gini'], 'max_depth': [25], 'max_features': ['log2']}\n",
    "model = RandomForestClassifier()"
   ]
  },
  {
   "cell_type": "markdown",
   "metadata": {},
   "source": [
    "### Preprocessing base"
   ]
  },
  {
   "cell_type": "code",
   "execution_count": 4,
   "metadata": {},
   "outputs": [],
   "source": [
    "df_base = preprocessing.preprocessing_base_parte_1(utils.feature_engineering(utils.get_data()))"
   ]
  },
  {
   "cell_type": "code",
   "execution_count": 11,
   "metadata": {},
   "outputs": [],
   "source": [
    "gscv_base = GridSearchCV(model, params, scoring='roc_auc', n_jobs=-1, verbose=10)"
   ]
  },
  {
   "cell_type": "code",
   "execution_count": 12,
   "metadata": {},
   "outputs": [],
   "source": [
    "X_train_base, X_test_base, y_train_base, y_test_base = train_test_split(df_base.drop('tiene_alto_valor_adquisitivo',1), df_base['tiene_alto_valor_adquisitivo'], random_state=112)"
   ]
  },
  {
   "cell_type": "code",
   "execution_count": 13,
   "metadata": {},
   "outputs": [
    {
     "name": "stdout",
     "output_type": "stream",
     "text": [
      "Fitting 5 folds for each of 504 candidates, totalling 2520 fits\n"
     ]
    },
    {
     "name": "stderr",
     "output_type": "stream",
     "text": [
      "[Parallel(n_jobs=-1)]: Using backend LokyBackend with 4 concurrent workers.\n",
      "[Parallel(n_jobs=-1)]: Done   5 tasks      | elapsed:    4.5s\n",
      "[Parallel(n_jobs=-1)]: Done  10 tasks      | elapsed:    6.8s\n",
      "[Parallel(n_jobs=-1)]: Done  17 tasks      | elapsed:   11.1s\n",
      "[Parallel(n_jobs=-1)]: Done  24 tasks      | elapsed:   17.6s\n",
      "[Parallel(n_jobs=-1)]: Done  33 tasks      | elapsed:   27.2s\n",
      "[Parallel(n_jobs=-1)]: Done  42 tasks      | elapsed:   30.5s\n",
      "[Parallel(n_jobs=-1)]: Done  53 tasks      | elapsed:   37.7s\n",
      "[Parallel(n_jobs=-1)]: Done  64 tasks      | elapsed:   51.3s\n",
      "[Parallel(n_jobs=-1)]: Done  77 tasks      | elapsed:   59.6s\n",
      "[Parallel(n_jobs=-1)]: Done  90 tasks      | elapsed:  1.2min\n",
      "[Parallel(n_jobs=-1)]: Done 105 tasks      | elapsed:  1.5min\n",
      "[Parallel(n_jobs=-1)]: Done 120 tasks      | elapsed:  1.6min\n",
      "[Parallel(n_jobs=-1)]: Done 137 tasks      | elapsed:  1.9min\n",
      "[Parallel(n_jobs=-1)]: Done 154 tasks      | elapsed:  2.0min\n",
      "[Parallel(n_jobs=-1)]: Done 173 tasks      | elapsed:  2.3min\n",
      "[Parallel(n_jobs=-1)]: Done 192 tasks      | elapsed:  2.5min\n",
      "[Parallel(n_jobs=-1)]: Done 213 tasks      | elapsed:  2.8min\n",
      "[Parallel(n_jobs=-1)]: Done 234 tasks      | elapsed:  3.1min\n",
      "[Parallel(n_jobs=-1)]: Done 257 tasks      | elapsed:  3.5min\n",
      "[Parallel(n_jobs=-1)]: Done 280 tasks      | elapsed:  3.9min\n",
      "[Parallel(n_jobs=-1)]: Done 305 tasks      | elapsed:  4.3min\n",
      "[Parallel(n_jobs=-1)]: Done 330 tasks      | elapsed:  4.7min\n",
      "[Parallel(n_jobs=-1)]: Done 357 tasks      | elapsed:  5.2min\n",
      "[Parallel(n_jobs=-1)]: Done 384 tasks      | elapsed:  5.8min\n",
      "[Parallel(n_jobs=-1)]: Done 413 tasks      | elapsed:  6.3min\n",
      "[Parallel(n_jobs=-1)]: Done 442 tasks      | elapsed:  6.8min\n",
      "[Parallel(n_jobs=-1)]: Done 473 tasks      | elapsed:  7.5min\n",
      "[Parallel(n_jobs=-1)]: Done 504 tasks      | elapsed:  8.1min\n",
      "[Parallel(n_jobs=-1)]: Done 537 tasks      | elapsed:  8.8min\n",
      "[Parallel(n_jobs=-1)]: Done 570 tasks      | elapsed:  9.6min\n",
      "[Parallel(n_jobs=-1)]: Done 605 tasks      | elapsed: 10.3min\n",
      "[Parallel(n_jobs=-1)]: Done 640 tasks      | elapsed: 11.1min\n",
      "[Parallel(n_jobs=-1)]: Done 677 tasks      | elapsed: 11.5min\n",
      "[Parallel(n_jobs=-1)]: Done 714 tasks      | elapsed: 12.0min\n",
      "[Parallel(n_jobs=-1)]: Done 753 tasks      | elapsed: 12.5min\n",
      "[Parallel(n_jobs=-1)]: Done 792 tasks      | elapsed: 13.0min\n",
      "[Parallel(n_jobs=-1)]: Done 833 tasks      | elapsed: 13.7min\n",
      "[Parallel(n_jobs=-1)]: Done 874 tasks      | elapsed: 14.4min\n",
      "[Parallel(n_jobs=-1)]: Done 917 tasks      | elapsed: 15.0min\n",
      "[Parallel(n_jobs=-1)]: Done 960 tasks      | elapsed: 15.7min\n",
      "[Parallel(n_jobs=-1)]: Done 1005 tasks      | elapsed: 16.6min\n",
      "[Parallel(n_jobs=-1)]: Done 1050 tasks      | elapsed: 17.5min\n",
      "[Parallel(n_jobs=-1)]: Done 1097 tasks      | elapsed: 18.4min\n",
      "[Parallel(n_jobs=-1)]: Done 1144 tasks      | elapsed: 19.6min\n",
      "[Parallel(n_jobs=-1)]: Done 1193 tasks      | elapsed: 21.2min\n",
      "[Parallel(n_jobs=-1)]: Done 1242 tasks      | elapsed: 22.8min\n",
      "[Parallel(n_jobs=-1)]: Done 1293 tasks      | elapsed: 25.4min\n",
      "[Parallel(n_jobs=-1)]: Done 1344 tasks      | elapsed: 28.0min\n",
      "[Parallel(n_jobs=-1)]: Done 1397 tasks      | elapsed: 31.2min\n",
      "[Parallel(n_jobs=-1)]: Done 1450 tasks      | elapsed: 33.2min\n",
      "[Parallel(n_jobs=-1)]: Done 1505 tasks      | elapsed: 35.9min\n",
      "[Parallel(n_jobs=-1)]: Done 1560 tasks      | elapsed: 38.3min\n",
      "[Parallel(n_jobs=-1)]: Done 1617 tasks      | elapsed: 41.4min\n",
      "[Parallel(n_jobs=-1)]: Done 1674 tasks      | elapsed: 45.0min\n",
      "[Parallel(n_jobs=-1)]: Done 1733 tasks      | elapsed: 48.5min\n",
      "[Parallel(n_jobs=-1)]: Done 1792 tasks      | elapsed: 51.5min\n",
      "[Parallel(n_jobs=-1)]: Done 1853 tasks      | elapsed: 54.9min\n",
      "[Parallel(n_jobs=-1)]: Done 1914 tasks      | elapsed: 57.6min\n",
      "[Parallel(n_jobs=-1)]: Done 1977 tasks      | elapsed: 59.9min\n",
      "[Parallel(n_jobs=-1)]: Done 2040 tasks      | elapsed: 62.4min\n",
      "[Parallel(n_jobs=-1)]: Done 2105 tasks      | elapsed: 65.3min\n",
      "[Parallel(n_jobs=-1)]: Done 2170 tasks      | elapsed: 68.3min\n",
      "[Parallel(n_jobs=-1)]: Done 2237 tasks      | elapsed: 71.4min\n",
      "[Parallel(n_jobs=-1)]: Done 2304 tasks      | elapsed: 74.5min\n",
      "[Parallel(n_jobs=-1)]: Done 2373 tasks      | elapsed: 77.9min\n",
      "[Parallel(n_jobs=-1)]: Done 2442 tasks      | elapsed: 81.4min\n",
      "[Parallel(n_jobs=-1)]: Done 2513 tasks      | elapsed: 85.3min\n",
      "[Parallel(n_jobs=-1)]: Done 2520 out of 2520 | elapsed: 85.9min finished\n"
     ]
    },
    {
     "name": "stdout",
     "output_type": "stream",
     "text": [
      "CPU times: user 18.4 s, sys: 1.12 s, total: 19.5 s\n",
      "Wall time: 1h 25min 57s\n"
     ]
    }
   ],
   "source": [
    "%%time\n",
    "gscv_base.fit(X_train_base, y_train_base)\n",
    "score_base = roc_auc_score(y_test_base, gscv_base.predict_proba(X_test_base)[:,1])"
   ]
  },
  {
   "cell_type": "code",
   "execution_count": 14,
   "metadata": {},
   "outputs": [
    {
     "data": {
      "text/plain": [
       "{'class_weight': 'balanced',\n",
       " 'criterion': 'gini',\n",
       " 'max_depth': 9,\n",
       " 'max_features': 'log2',\n",
       " 'n_estimators': 150}"
      ]
     },
     "execution_count": 14,
     "metadata": {},
     "output_type": "execute_result"
    }
   ],
   "source": [
    "gscv_base.best_params_"
   ]
  },
  {
   "cell_type": "code",
   "execution_count": 15,
   "metadata": {},
   "outputs": [
    {
     "data": {
      "text/plain": [
       "0.9055286808893214"
      ]
     },
     "execution_count": 15,
     "metadata": {},
     "output_type": "execute_result"
    }
   ],
   "source": [
    "score_base"
   ]
  },
  {
   "cell_type": "code",
   "execution_count": 16,
   "metadata": {},
   "outputs": [
    {
     "name": "stdout",
     "output_type": "stream",
     "text": [
      "              precision    recall  f1-score   support\n",
      "\n",
      "           0       0.95      0.76      0.84      6182\n",
      "           1       0.53      0.88      0.66      1959\n",
      "\n",
      "    accuracy                           0.79      8141\n",
      "   macro avg       0.74      0.82      0.75      8141\n",
      "weighted avg       0.85      0.79      0.80      8141\n",
      "\n"
     ]
    }
   ],
   "source": [
    "print(classification_report(y_test_base,gscv_base.predict(X_test_base)))"
   ]
  },
  {
   "cell_type": "code",
   "execution_count": 17,
   "metadata": {},
   "outputs": [
    {
     "data": {
      "image/png": "[encoded data removed]",
      "text/plain": [
       "<Figure size 1080x504 with 2 Axes>"
      ]
     },
     "metadata": {
      "needs_background": "light"
     },
     "output_type": "display_data"
    }
   ],
   "source": [
    "fig, ax = plt.subplots(figsize=(15,7))\n",
    "plt.grid(False)\n",
    "plot_confusion_matrix(gscv_base, X_test_base, y_test_base, cmap=plt.cm.Blues, display_labels=['1', '0'], ax=ax)\n",
    "plt.show()"
   ]
  },
  {
   "cell_type": "code",
   "execution_count": 18,
   "metadata": {},
   "outputs": [
    {
     "data": {
      "text/plain": [
       "<sklearn.metrics._plot.roc_curve.RocCurveDisplay at 0x7f5d782d3438>"
      ]
     },
     "execution_count": 18,
     "metadata": {},
     "output_type": "execute_result"
    },
    {
     "data": {
      "image/png": "[encoded data removed]",
      "text/plain": [
       "<Figure size 432x288 with 1 Axes>"
      ]
     },
     "metadata": {
      "needs_background": "light"
     },
     "output_type": "display_data"
    }
   ],
   "source": [
    "plot_roc_curve(gscv_base, X_test_base, y_test_base)"
   ]
  },
  {
   "cell_type": "markdown",
   "metadata": {},
   "source": [
    "### Preprocessing Significantes"
   ]
  },
  {
   "cell_type": "code",
   "execution_count": 6,
   "metadata": {},
   "outputs": [],
   "source": [
    "df_sig, pa_sig = preprocessing.preprocessing_significantes(utils.feature_engineering(utils.get_data()))"
   ]
  },
  {
   "cell_type": "code",
   "execution_count": 11,
   "metadata": {},
   "outputs": [],
   "source": [
    "gscv_sig = GridSearchCV(model, params, scoring='roc_auc', n_jobs=-1, verbose=4, cv=2)"
   ]
  },
  {
   "cell_type": "code",
   "execution_count": 12,
   "metadata": {},
   "outputs": [],
   "source": [
    "X_train_sig, X_test_sig, y_train_sig, y_test_sig = train_test_split(df_sig, pa_sig, random_state=112)"
   ]
  },
  {
   "cell_type": "code",
   "execution_count": 13,
   "metadata": {},
   "outputs": [
    {
     "name": "stdout",
     "output_type": "stream",
     "text": [
      "Fitting 2 folds for each of 10 candidates, totalling 20 fits\n"
     ]
    },
    {
     "name": "stderr",
     "output_type": "stream",
     "text": [
      "[Parallel(n_jobs=-1)]: Using backend LokyBackend with 8 concurrent workers.\n",
      "[Parallel(n_jobs=-1)]: Done  11 out of  20 | elapsed:  3.9min remaining:  3.2min\n",
      "[Parallel(n_jobs=-1)]: Done  17 out of  20 | elapsed:  5.1min remaining:   53.6s\n",
      "[Parallel(n_jobs=-1)]: Done  20 out of  20 | elapsed:  5.1min finished\n"
     ]
    },
    {
     "name": "stdout",
     "output_type": "stream",
     "text": [
      "CPU times: user 1min 44s, sys: 454 ms, total: 1min 44s\n",
      "Wall time: 6min 51s\n"
     ]
    }
   ],
   "source": [
    "%%time\n",
    "gscv_sig.fit(X_train_sig, y_train_sig)\n",
    "score_sig = roc_auc_score(y_test_sig, gscv_sig.predict_proba(X_test_sig)[:,1])"
   ]
  },
  {
   "cell_type": "code",
   "execution_count": 14,
   "metadata": {},
   "outputs": [
    {
     "data": {
      "text/plain": [
       "{'criterion': 'gini',\n",
       " 'max_depth': 20,\n",
       " 'max_features': 'log2',\n",
       " 'n_estimators': 1001}"
      ]
     },
     "execution_count": 14,
     "metadata": {},
     "output_type": "execute_result"
    }
   ],
   "source": [
    "gscv_sig.best_params_"
   ]
  },
  {
   "cell_type": "code",
   "execution_count": 15,
   "metadata": {},
   "outputs": [
    {
     "data": {
      "text/plain": [
       "0.8833495258427001"
      ]
     },
     "execution_count": 15,
     "metadata": {},
     "output_type": "execute_result"
    }
   ],
   "source": [
    "score_sig"
   ]
  },
  {
   "cell_type": "code",
   "execution_count": 16,
   "metadata": {},
   "outputs": [
    {
     "name": "stdout",
     "output_type": "stream",
     "text": [
      "              precision    recall  f1-score   support\n",
      "\n",
      "           0       0.88      0.91      0.89      6182\n",
      "           1       0.68      0.59      0.63      1959\n",
      "\n",
      "    accuracy                           0.83      8141\n",
      "   macro avg       0.78      0.75      0.76      8141\n",
      "weighted avg       0.83      0.83      0.83      8141\n",
      "\n"
     ]
    }
   ],
   "source": [
    "print(classification_report(y_test_sig,gscv_sig.predict(X_test_sig)))"
   ]
  },
  {
   "cell_type": "code",
   "execution_count": 17,
   "metadata": {},
   "outputs": [
    {
     "data": {
      "image/png": "[encoded data removed]",
      "text/plain": [
       "<Figure size 1080x504 with 2 Axes>"
      ]
     },
     "metadata": {
      "needs_background": "light"
     },
     "output_type": "display_data"
    }
   ],
   "source": [
    "fig, ax = plt.subplots(figsize=(15,7))\n",
    "plt.grid(False)\n",
    "plot_confusion_matrix(gscv_sig, X_test_sig, y_test_sig, cmap=plt.cm.Blues, display_labels=['1', '0'], ax=ax)\n",
    "plt.show()"
   ]
  },
  {
   "cell_type": "code",
   "execution_count": 18,
   "metadata": {},
   "outputs": [
    {
     "data": {
      "text/plain": [
       "<sklearn.metrics._plot.roc_curve.RocCurveDisplay at 0x7f54e1a6ea30>"
      ]
     },
     "execution_count": 18,
     "metadata": {},
     "output_type": "execute_result"
    },
    {
     "data": {
      "image/png": "[encoded data removed]",
      "text/plain": [
       "<Figure size 432x288 with 1 Axes>"
      ]
     },
     "metadata": {
      "needs_background": "light"
     },
     "output_type": "display_data"
    }
   ],
   "source": [
    "plot_roc_curve(gscv_sig, X_test_sig, y_test_sig)"
   ]
  }
 ],
 "metadata": {
  "kernelspec": {
   "display_name": "Python 3",
   "language": "python",
   "name": "python3"
  },
  "language_info": {
   "codemirror_mode": {
    "name": "ipython",
    "version": 3
   },
   "file_extension": ".py",
   "mimetype": "text/x-python",
   "name": "python",
   "nbconvert_exporter": "python",
   "pygments_lexer": "ipython3",
   "version": "3.8.10"
  }
 },
 "nbformat": 4,
 "nbformat_minor": 4
}

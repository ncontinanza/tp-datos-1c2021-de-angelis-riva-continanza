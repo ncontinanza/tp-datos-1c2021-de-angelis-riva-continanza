{
 "cells": [
  {
   "cell_type": "markdown",
   "id": "confirmed-specialist",
   "metadata": {},
   "source": [
    "# Bagging: árbol\n",
    "\n",
    "En este notebook clasificaremos si una instancia tiene alto poder adquisitivo mediante Bagging (con un árbol de decisión)\n",
    "\n",
    "Se utilizarán dos preprocessings diferentes:\n",
    "* Las variables utilizadas en la primera parte del trabajo práctico.\n",
    "* Todas las variables sin modificación alguna"
   ]
  },
  {
   "cell_type": "code",
   "execution_count": 2,
   "id": "ceramic-handbook",
   "metadata": {},
   "outputs": [],
   "source": [
    "# Modelo\n",
    "from sklearn.tree import DecisionTreeClassifier\n",
    "from sklearn.ensemble import BaggingClassifier\n",
    "\n",
    "# Búsqueda\n",
    "from sklearn.model_selection import train_test_split, GridSearchCV\n",
    "\n",
    "# Metrics\n",
    "from sklearn.metrics import roc_curve, plot_roc_curve, auc, roc_auc_score\n",
    "from sklearn.metrics import classification_report, confusion_matrix, plot_confusion_matrix\n",
    "\n",
    "# Otros\n",
    "import pandas as pd\n",
    "from preprocessing import preprocessing_base_parte_1\n",
    "import utils\n",
    "\n",
    "# Plots\n",
    "from matplotlib import pyplot as plt\n",
    "import seaborn as sns"
   ]
  },
  {
   "cell_type": "code",
   "execution_count": 3,
   "id": "congressional-remainder",
   "metadata": {},
   "outputs": [],
   "source": [
    "df = utils.get_data()"
   ]
  },
  {
   "cell_type": "markdown",
   "id": "nutritional-veteran",
   "metadata": {},
   "source": [
    "### Modelo 1 - Preprocessing parte 1\n",
    "\n",
    "Este Bagging será entrenado con las siguientes variables:\n",
    "\n",
    "* **Ganancia/Pérdida declara en la bolsa argentina**: `ganancia_perdida_declarada_bolsa_argentina`\n",
    "* **Edad**: `edad`\n",
    "* **Rol familiar registrado**: `rol_familiar_registrado`\n",
    "* **Años estudiados**: `anios_estudiados`"
   ]
  },
  {
   "cell_type": "code",
   "execution_count": 7,
   "id": "advanced-founder",
   "metadata": {},
   "outputs": [],
   "source": [
    "X = df[df.columns.drop('tiene_alto_valor_adquisitivo')]\n",
    "Y = df['tiene_alto_valor_adquisitivo']\n",
    "\n",
    "X_train_1, X_test_1, y_train_1, y_test_1 = train_test_split(X, Y, random_state=27)\n",
    "\n",
    "X_train_1, X_test_1 = preprocessing_base_parte_1(X_train_1, X_test_1)"
   ]
  },
  {
   "cell_type": "code",
   "execution_count": 8,
   "id": "front-aviation",
   "metadata": {},
   "outputs": [],
   "source": [
    "bagging1 = BaggingClassifier(base_estimator=DecisionTreeClassifier(),\n",
    "                            n_estimators = 501,\n",
    "                            n_jobs=-1,\n",
    "                            random_state=27)"
   ]
  },
  {
   "cell_type": "code",
   "execution_count": 9,
   "id": "exposed-filename",
   "metadata": {},
   "outputs": [
    {
     "data": {
      "text/plain": [
       "BaggingClassifier(base_estimator=DecisionTreeClassifier(), n_estimators=501,\n",
       "                  n_jobs=-1, random_state=27)"
      ]
     },
     "execution_count": 9,
     "metadata": {},
     "output_type": "execute_result"
    }
   ],
   "source": [
    "bagging1.fit(X_train_1, y_train_1)"
   ]
  },
  {
   "cell_type": "code",
   "execution_count": 10,
   "id": "fixed-brooklyn",
   "metadata": {},
   "outputs": [
    {
     "name": "stdout",
     "output_type": "stream",
     "text": [
      "              precision    recall  f1-score   support\n",
      "\n",
      "           0       0.88      0.93      0.91      6186\n",
      "           1       0.75      0.61      0.67      1955\n",
      "\n",
      "    accuracy                           0.86      8141\n",
      "   macro avg       0.82      0.77      0.79      8141\n",
      "weighted avg       0.85      0.86      0.85      8141\n",
      "\n"
     ]
    }
   ],
   "source": [
    "print(classification_report(y_test_1, bagging.predict(X_test_1)))"
   ]
  },
  {
   "cell_type": "markdown",
   "id": "central-feeling",
   "metadata": {},
   "source": [
    "Vemos que el modelo resulta bueno. Un accuray de 86%, precision de unos relativamente alta como así también relativamente alto recall de unos.\n",
    "\n",
    "Veamos ahora la matriz de confusión"
   ]
  },
  {
   "cell_type": "code",
   "execution_count": 11,
   "id": "final-language",
   "metadata": {},
   "outputs": [
    {
     "data": {
      "image/png": "[encoded data removed]",
      "text/plain": [
       "<Figure size 1080x504 with 2 Axes>"
      ]
     },
     "metadata": {
      "needs_background": "light"
     },
     "output_type": "display_data"
    }
   ],
   "source": [
    "fig, ax = plt.subplots(figsize=(15,7))\n",
    "plt.grid(False)\n",
    "plot_confusion_matrix(bagging1, X_test_1, y_test_1, cmap=plt.cm.Blues, display_labels=['0', '1'], ax=ax)\n",
    "plt.show()"
   ]
  },
  {
   "cell_type": "markdown",
   "id": "funny-breach",
   "metadata": {},
   "source": [
    "La matriz de confusión nos muestra la alta canidad de falsos negativos.\n",
    "\n",
    "\n",
    "Veamos la curva ROC y su puntuación AUC"
   ]
  },
  {
   "cell_type": "code",
   "execution_count": 12,
   "id": "welsh-intranet",
   "metadata": {},
   "outputs": [
    {
     "data": {
      "text/plain": [
       "<sklearn.metrics._plot.roc_curve.RocCurveDisplay at 0x7f2de9a42850>"
      ]
     },
     "execution_count": 12,
     "metadata": {},
     "output_type": "execute_result"
    },
    {
     "data": {
      "image/png": "[encoded data removed]",
      "text/plain": [
       "<Figure size 432x288 with 1 Axes>"
      ]
     },
     "metadata": {
      "needs_background": "light"
     },
     "output_type": "display_data"
    }
   ],
   "source": [
    "plot_roc_curve(bagging1, X_test_1, y_test_1)"
   ]
  },
  {
   "cell_type": "code",
   "execution_count": 13,
   "id": "starting-filing",
   "metadata": {},
   "outputs": [
    {
     "name": "stdout",
     "output_type": "stream",
     "text": [
      "El score de RocAUC es de:  0.8985\n"
     ]
    }
   ],
   "source": [
    "print(\"El score de RocAUC es de: \", round(roc_auc_score(y_test_1, bagging1.predict_proba(X_test_1)[:, 1]), 4))"
   ]
  },
  {
   "cell_type": "markdown",
   "id": "narrow-victoria",
   "metadata": {},
   "source": [
    "Se obtuvieron buenos scores."
   ]
  },
  {
   "cell_type": "markdown",
   "id": "proprietary-notebook",
   "metadata": {},
   "source": [
    "## Modelo 3 - Sin preprocesamiento\n",
    "\n",
    "La idea de este modelo es dejar que RandomForest se entrene sin sesgar las features a utilizar (que pueda utilizar absolutamente todas)\n",
    "\n",
    "Creemos que esto se justifica ya que RandomForest busca realizar la votación de múltiples árboles relativamente diferentes entre sí, por lo que tiene sentido dejar todas las variables.\n",
    "\n",
    "Veamos qué sucede!"
   ]
  },
  {
   "cell_type": "code",
   "execution_count": 14,
   "id": "heated-shipping",
   "metadata": {},
   "outputs": [],
   "source": [
    "X = df[df.columns.drop('tiene_alto_valor_adquisitivo')]\n",
    "X = pd.get_dummies(X, drop_first=True)\n",
    "Y = df['tiene_alto_valor_adquisitivo']\n",
    "\n",
    "X_train_2, X_test_2, y_train_2, y_test_2 = train_test_split(X, Y, random_state=27)"
   ]
  },
  {
   "cell_type": "code",
   "execution_count": 15,
   "id": "atomic-paragraph",
   "metadata": {},
   "outputs": [],
   "source": [
    "bagging2 = BaggingClassifier(base_estimator=DecisionTreeClassifier(),\n",
    "                            n_estimators = 1001,\n",
    "                            n_jobs=-1,\n",
    "                            random_state=27)"
   ]
  },
  {
   "cell_type": "code",
   "execution_count": 16,
   "id": "animated-hierarchy",
   "metadata": {},
   "outputs": [
    {
     "data": {
      "text/plain": [
       "BaggingClassifier(base_estimator=DecisionTreeClassifier(), n_estimators=1001,\n",
       "                  n_jobs=-1, random_state=27)"
      ]
     },
     "execution_count": 16,
     "metadata": {},
     "output_type": "execute_result"
    }
   ],
   "source": [
    "bagging2.fit(X_train_2, y_train_2)"
   ]
  },
  {
   "cell_type": "code",
   "execution_count": 18,
   "id": "promotional-pantyhose",
   "metadata": {},
   "outputs": [
    {
     "name": "stdout",
     "output_type": "stream",
     "text": [
      "              precision    recall  f1-score   support\n",
      "\n",
      "           0       0.89      0.91      0.90      6186\n",
      "           1       0.70      0.65      0.67      1955\n",
      "\n",
      "    accuracy                           0.85      8141\n",
      "   macro avg       0.80      0.78      0.79      8141\n",
      "weighted avg       0.85      0.85      0.85      8141\n",
      "\n"
     ]
    }
   ],
   "source": [
    "print(classification_report(y_test_2,bagging2.predict(X_test_2)))"
   ]
  },
  {
   "cell_type": "markdown",
   "id": "proprietary-algeria",
   "metadata": {},
   "source": [
    "Un modelo interesante.\n",
    "\n",
    "El recall de unos dio apenas por encima del modelo anterior, y su precision emperó apenas por debajo.\n",
    "\n",
    "Luego, el accuracy dio 85%, por lo que el modelo es decente.\n",
    "\n",
    "Veamos la matriz de confusión"
   ]
  },
  {
   "cell_type": "code",
   "execution_count": 17,
   "id": "imposed-letter",
   "metadata": {},
   "outputs": [
    {
     "data": {
      "image/png": "[encoded data removed]",
      "text/plain": [
       "<Figure size 1080x504 with 2 Axes>"
      ]
     },
     "metadata": {
      "needs_background": "light"
     },
     "output_type": "display_data"
    }
   ],
   "source": [
    "fig, ax = plt.subplots(figsize=(15,7))\n",
    "plt.grid(False)\n",
    "plot_confusion_matrix(bagging2, X_test_2, y_test_2, cmap=plt.cm.Blues, display_labels=['0', '1'], ax=ax)\n",
    "plt.show()"
   ]
  },
  {
   "cell_type": "markdown",
   "id": "ranking-integral",
   "metadata": {},
   "source": [
    "Las conclusiones son similares a la anterior matriz de confusión, salvo que aquí se puede ver como aproximadamente se equilibraron ambos errores (FN y FP)\n",
    "\n",
    "Por último veams la curva ROC y su puntuación AUC"
   ]
  },
  {
   "cell_type": "code",
   "execution_count": 23,
   "id": "prompt-python",
   "metadata": {},
   "outputs": [
    {
     "data": {
      "text/plain": [
       "<sklearn.metrics._plot.roc_curve.RocCurveDisplay at 0x7f2de92f5be0>"
      ]
     },
     "execution_count": 23,
     "metadata": {},
     "output_type": "execute_result"
    },
    {
     "data": {
      "image/png": "[encoded data removed]",
      "text/plain": [
       "<Figure size 432x288 with 1 Axes>"
      ]
     },
     "metadata": {
      "needs_background": "light"
     },
     "output_type": "display_data"
    }
   ],
   "source": [
    "plot_roc_curve(bagging2, X_test_2, y_test_2)"
   ]
  },
  {
   "cell_type": "code",
   "execution_count": 29,
   "id": "caring-terminal",
   "metadata": {},
   "outputs": [
    {
     "name": "stdout",
     "output_type": "stream",
     "text": [
      "El score de RocAUC es de:  0.9016\n"
     ]
    }
   ],
   "source": [
    "print(\"El score de RocAUC es de: \", round(roc_auc_score(y_test_2, bagging2.predict_proba(X_test_2)[:, 1]), 4))"
   ]
  },
  {
   "cell_type": "markdown",
   "id": "charming-associate",
   "metadata": {},
   "source": [
    "Valores buenos"
   ]
  },
  {
   "cell_type": "markdown",
   "id": "spiritual-major",
   "metadata": {},
   "source": [
    "# Persistiendo los modelos"
   ]
  },
  {
   "cell_type": "code",
   "execution_count": 26,
   "id": "ecological-reynolds",
   "metadata": {},
   "outputs": [],
   "source": [
    "import pickle"
   ]
  },
  {
   "cell_type": "code",
   "execution_count": 27,
   "id": "hungarian-seven",
   "metadata": {},
   "outputs": [],
   "source": [
    "pickle.dump(bagging1, open(\"Bagging/bagging1.pickle\", \"wb\"))\n",
    "pickle.dump(bagging2, open(\"Bagging/bagging2.pickle\", \"wb\"))"
   ]
  },
  {
   "cell_type": "code",
   "execution_count": 32,
   "id": "convenient-swaziland",
   "metadata": {},
   "outputs": [],
   "source": [
    "bagging_fachero = pickle.load(open(\"Bagging/bagging1.pickle\", \"rb\"))"
   ]
  }
 ],
 "metadata": {
  "kernelspec": {
   "display_name": "Python 3",
   "language": "python",
   "name": "python3"
  },
  "language_info": {
   "codemirror_mode": {
    "name": "ipython",
    "version": 3
   },
   "file_extension": ".py",
   "mimetype": "text/x-python",
   "name": "python",
   "nbconvert_exporter": "python",
   "pygments_lexer": "ipython3",
   "version": "3.8.10"
  }
 },
 "nbformat": 4,
 "nbformat_minor": 5
}

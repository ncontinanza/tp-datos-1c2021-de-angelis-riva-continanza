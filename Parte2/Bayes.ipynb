{
 "cells": [
  {
   "cell_type": "markdown",
   "metadata": {},
   "source": [
    "### Naive Bayes\n",
    "\n",
    "En este notebook entrenaremos tres modelos de MultinomialNB, uno con el mismo preprocesamiento del dataset realizado en la primera parte del TP, el segundo con la función `preprocessing_significantes`, y el último con el `preprocessing_equilibrado`, para estudiar cómo se comporta este modelo ante esas tres distribuciones."
   ]
  },
  {
   "cell_type": "code",
   "execution_count": 1,
   "metadata": {},
   "outputs": [],
   "source": [
    "# Modelo\n",
    "from sklearn.naive_bayes import GaussianNB, CategoricalNB, MultinomialNB\n",
    "from sklearn.naive_bayes import BernoulliNB, ComplementNB\n",
    "\n",
    "# Preprocessing\n",
    "import utils\n",
    "import preprocessing\n",
    "from sklearn.preprocessing import MinMaxScaler\n",
    "\n",
    "# Búsqueda\n",
    "from sklearn.model_selection import train_test_split, GridSearchCV\n",
    "\n",
    "# Metrics\n",
    "from sklearn.metrics import plot_roc_curve, roc_auc_score\n",
    "from sklearn.metrics import classification_report, plot_confusion_matrix\n",
    "\n",
    "# Plots\n",
    "from matplotlib import pyplot as plt\n",
    "import seaborn as sns\n",
    "\n",
    "# Otros\n",
    "import pandas as pd\n",
    "import numpy as np"
   ]
  },
  {
   "cell_type": "markdown",
   "metadata": {},
   "source": [
    "Como siempre, comencemos por obtener el dataset"
   ]
  },
  {
   "cell_type": "code",
   "execution_count": 2,
   "metadata": {},
   "outputs": [],
   "source": [
    "df = utils.get_data()"
   ]
  },
  {
   "cell_type": "markdown",
   "metadata": {},
   "source": [
    "En este modelo en particular, nos interesa entrenar modelos con distintos valores del hiperparámetro alpha, que haremos variar entre 0 y 1."
   ]
  },
  {
   "cell_type": "code",
   "execution_count": 3,
   "metadata": {},
   "outputs": [],
   "source": [
    "params = { 'alpha': np.linspace(0,1,1000) }\n",
    "model = MultinomialNB()"
   ]
  },
  {
   "cell_type": "code",
   "execution_count": 4,
   "metadata": {},
   "outputs": [],
   "source": [
    "gscv = GridSearchCV(model, params, scoring='roc_auc', n_jobs=-1, verbose=10)"
   ]
  },
  {
   "cell_type": "markdown",
   "metadata": {},
   "source": [
    "Separamos los datos, los preprocesamos con la primer función que mostraremos en este notebook, y escalamos los valores obtenidos entre 0 y 1 antes de entrenar."
   ]
  },
  {
   "cell_type": "code",
   "execution_count": 5,
   "metadata": {},
   "outputs": [],
   "source": [
    "X_train, X_test, y_train, y_test = train_test_split(df.drop('tiene_alto_valor_adquisitivo',1), df['tiene_alto_valor_adquisitivo'], random_state=112)\n",
    "X_train, X_test = preprocessing.preprocessing_base_parte_1(X_train, X_test)"
   ]
  },
  {
   "cell_type": "code",
   "execution_count": 6,
   "metadata": {},
   "outputs": [],
   "source": [
    "scaler = MinMaxScaler() # Por default, en [0,1]\n",
    "\n",
    "X_train = pd.DataFrame(scaler.fit_transform(X_train))\n",
    "X_test = pd.DataFrame(scaler.transform(X_test))"
   ]
  },
  {
   "cell_type": "code",
   "execution_count": 7,
   "metadata": {},
   "outputs": [
    {
     "name": "stdout",
     "output_type": "stream",
     "text": [
      "Fitting 5 folds for each of 1000 candidates, totalling 5000 fits\n"
     ]
    },
    {
     "name": "stderr",
     "output_type": "stream",
     "text": [
      "[Parallel(n_jobs=-1)]: Using backend LokyBackend with 8 concurrent workers.\n",
      "[Parallel(n_jobs=-1)]: Done   2 tasks      | elapsed:    1.3s\n",
      "[Parallel(n_jobs=-1)]: Done   9 tasks      | elapsed:    1.5s\n",
      "[Parallel(n_jobs=-1)]: Done  16 tasks      | elapsed:    1.6s\n",
      "[Parallel(n_jobs=-1)]: Done  25 tasks      | elapsed:    1.7s\n",
      "[Parallel(n_jobs=-1)]: Done  34 tasks      | elapsed:    1.8s\n",
      "[Parallel(n_jobs=-1)]: Batch computation too fast (0.1981s.) Setting batch_size=2.\n",
      "[Parallel(n_jobs=-1)]: Done  45 tasks      | elapsed:    1.9s\n",
      "[Parallel(n_jobs=-1)]: Done  56 tasks      | elapsed:    2.0s\n",
      "[Parallel(n_jobs=-1)]: Batch computation too fast (0.1730s.) Setting batch_size=4.\n",
      "[Parallel(n_jobs=-1)]: Done  82 tasks      | elapsed:    2.2s\n",
      "[Parallel(n_jobs=-1)]: Done 128 tasks      | elapsed:    2.5s\n",
      "[Parallel(n_jobs=-1)]: Done 188 tasks      | elapsed:    2.7s\n",
      "[Parallel(n_jobs=-1)]: Done 248 tasks      | elapsed:    2.9s\n",
      "[Parallel(n_jobs=-1)]: Done 316 tasks      | elapsed:    3.1s\n",
      "[Parallel(n_jobs=-1)]: Done 384 tasks      | elapsed:    3.4s\n",
      "[Parallel(n_jobs=-1)]: Done 460 tasks      | elapsed:    3.6s\n",
      "[Parallel(n_jobs=-1)]: Batch computation too fast (0.1987s.) Setting batch_size=8.\n",
      "[Parallel(n_jobs=-1)]: Done 536 tasks      | elapsed:    3.9s\n",
      "[Parallel(n_jobs=-1)]: Done 704 tasks      | elapsed:    4.4s\n",
      "[Parallel(n_jobs=-1)]: Done 872 tasks      | elapsed:    5.0s\n",
      "[Parallel(n_jobs=-1)]: Done 1056 tasks      | elapsed:    5.5s\n",
      "[Parallel(n_jobs=-1)]: Done 1240 tasks      | elapsed:    6.1s\n",
      "[Parallel(n_jobs=-1)]: Done 1440 tasks      | elapsed:    6.7s\n",
      "[Parallel(n_jobs=-1)]: Done 1640 tasks      | elapsed:    7.3s\n",
      "[Parallel(n_jobs=-1)]: Done 1856 tasks      | elapsed:    8.1s\n",
      "[Parallel(n_jobs=-1)]: Done 2072 tasks      | elapsed:    9.3s\n",
      "[Parallel(n_jobs=-1)]: Done 2304 tasks      | elapsed:   10.1s\n",
      "[Parallel(n_jobs=-1)]: Done 2536 tasks      | elapsed:   10.8s\n",
      "[Parallel(n_jobs=-1)]: Done 2784 tasks      | elapsed:   11.6s\n",
      "[Parallel(n_jobs=-1)]: Done 3032 tasks      | elapsed:   12.3s\n",
      "[Parallel(n_jobs=-1)]: Done 3296 tasks      | elapsed:   13.0s\n",
      "[Parallel(n_jobs=-1)]: Done 3560 tasks      | elapsed:   14.0s\n",
      "[Parallel(n_jobs=-1)]: Done 3840 tasks      | elapsed:   15.1s\n",
      "[Parallel(n_jobs=-1)]: Done 4120 tasks      | elapsed:   16.4s\n",
      "[Parallel(n_jobs=-1)]: Done 4416 tasks      | elapsed:   17.6s\n",
      "[Parallel(n_jobs=-1)]: Done 4712 tasks      | elapsed:   18.6s\n",
      "[Parallel(n_jobs=-1)]: Done 4947 tasks      | elapsed:   19.4s\n"
     ]
    },
    {
     "name": "stdout",
     "output_type": "stream",
     "text": [
      "CPU times: user 4.07 s, sys: 850 ms, total: 4.92 s\n",
      "Wall time: 19.8 s\n"
     ]
    },
    {
     "name": "stderr",
     "output_type": "stream",
     "text": [
      "[Parallel(n_jobs=-1)]: Done 5000 out of 5000 | elapsed:   19.6s finished\n"
     ]
    }
   ],
   "source": [
    "%%time\n",
    "gscv.fit(X_train, y_train)\n",
    "score = roc_auc_score(y_test, gscv.predict_proba(X_test)[:,1])"
   ]
  },
  {
   "cell_type": "code",
   "execution_count": 8,
   "metadata": {},
   "outputs": [
    {
     "data": {
      "text/plain": [
       "{'alpha': 0.984984984984985}"
      ]
     },
     "execution_count": 8,
     "metadata": {},
     "output_type": "execute_result"
    }
   ],
   "source": [
    "gscv.best_params_"
   ]
  },
  {
   "cell_type": "code",
   "execution_count": 9,
   "metadata": {},
   "outputs": [
    {
     "data": {
      "text/plain": [
       "MultinomialNB(alpha=0.984984984984985)"
      ]
     },
     "execution_count": 9,
     "metadata": {},
     "output_type": "execute_result"
    }
   ],
   "source": [
    "bayes_base = MultinomialNB(alpha=0.984984984984985)\n",
    "bayes_base.fit(X_train, y_train)"
   ]
  },
  {
   "cell_type": "code",
   "execution_count": 10,
   "metadata": {},
   "outputs": [
    {
     "data": {
      "text/plain": [
       "0.8426126898738933"
      ]
     },
     "execution_count": 10,
     "metadata": {},
     "output_type": "execute_result"
    }
   ],
   "source": [
    "score"
   ]
  },
  {
   "cell_type": "code",
   "execution_count": 11,
   "metadata": {},
   "outputs": [
    {
     "name": "stdout",
     "output_type": "stream",
     "text": [
      "              precision    recall  f1-score   support\n",
      "\n",
      "           0       0.76      1.00      0.87      6182\n",
      "           1       1.00      0.02      0.03      1959\n",
      "\n",
      "    accuracy                           0.76      8141\n",
      "   macro avg       0.88      0.51      0.45      8141\n",
      "weighted avg       0.82      0.76      0.66      8141\n",
      "\n"
     ]
    }
   ],
   "source": [
    "print(classification_report(y_test,gscv.predict(X_test)))"
   ]
  },
  {
   "cell_type": "markdown",
   "metadata": {},
   "source": [
    "Vemos que, si bien la métrica AUC-ROC arrojó un buen resultado, el accuracy es bastante bajo, y las demás métricas nos dan una idea de que el modelo seleccionado no generaliza nada bien."
   ]
  },
  {
   "cell_type": "code",
   "execution_count": 12,
   "metadata": {},
   "outputs": [
    {
     "data": {
      "image/png": "[encoded data removed]",
      "text/plain": [
       "<Figure size 1080x504 with 2 Axes>"
      ]
     },
     "metadata": {
      "needs_background": "light"
     },
     "output_type": "display_data"
    }
   ],
   "source": [
    "fig, ax = plt.subplots(figsize=(15,7))\n",
    "plt.grid(False)\n",
    "plot_confusion_matrix(gscv, X_test, y_test, cmap=plt.cm.Blues, display_labels=['1', '0'], ax=ax)\n",
    "plt.show()"
   ]
  },
  {
   "cell_type": "markdown",
   "metadata": {},
   "source": [
    "Si bien, a priori, parece dar buenos resultados para los True Positive y False Negative, vemos que los True Negative son muy escasos y tiene una cantidad indeseablemente alta de False Positive."
   ]
  },
  {
   "cell_type": "code",
   "execution_count": 13,
   "metadata": {},
   "outputs": [
    {
     "data": {
      "text/plain": [
       "<sklearn.metrics._plot.roc_curve.RocCurveDisplay at 0x7f2e09169df0>"
      ]
     },
     "execution_count": 13,
     "metadata": {},
     "output_type": "execute_result"
    },
    {
     "data": {
      "image/png": "[encoded data removed]",
      "text/plain": [
       "<Figure size 432x288 with 1 Axes>"
      ]
     },
     "metadata": {
      "needs_background": "light"
     },
     "output_type": "display_data"
    }
   ],
   "source": [
    "plot_roc_curve(gscv, X_test, y_test)"
   ]
  },
  {
   "cell_type": "markdown",
   "metadata": {},
   "source": [
    "La forma de la curva y su lento crecimiento en el eje vertical nos ayuda a reforzar la idea de que no obtuvimos un buen clasificador."
   ]
  },
  {
   "cell_type": "markdown",
   "metadata": {},
   "source": [
    "### Preprocessing Significantes\n",
    "\n",
    "Repetimos el procedimiento anterior, esta vez trabajando los datos con la función de preprocessing significantes para con un 90% de varianza explicada."
   ]
  },
  {
   "cell_type": "code",
   "execution_count": 14,
   "metadata": {},
   "outputs": [],
   "source": [
    "df = utils.get_data()"
   ]
  },
  {
   "cell_type": "code",
   "execution_count": 15,
   "metadata": {},
   "outputs": [],
   "source": [
    "params = { 'alpha': np.linspace(0,1,1000) }\n",
    "model = MultinomialNB()"
   ]
  },
  {
   "cell_type": "code",
   "execution_count": 16,
   "metadata": {},
   "outputs": [],
   "source": [
    "gscv = GridSearchCV(model, params, scoring='roc_auc', n_jobs=-1, verbose=10)"
   ]
  },
  {
   "cell_type": "code",
   "execution_count": 17,
   "metadata": {},
   "outputs": [
    {
     "name": "stderr",
     "output_type": "stream",
     "text": [
      "/home/lukas/FIUBA/tp-datos-1c2021-de-angelis-riva-continanza/Parte2/preprocessing.py:40: SettingWithCopyWarning: \n",
      "A value is trying to be set on a copy of a slice from a DataFrame.\n",
      "Try using .loc[row_indexer,col_indexer] = value instead\n",
      "\n",
      "See the caveats in the documentation: https://pandas.pydata.org/pandas-docs/stable/user_guide/indexing.html#returning-a-view-versus-a-copy\n",
      "  X_train['ganancia_perdida_declarada_bolsa_argentina'] = X_train['ganancia_perdida_declarada_bolsa_argentina'].apply(_log_scale)\n",
      "/home/lukas/FIUBA/tp-datos-1c2021-de-angelis-riva-continanza/Parte2/preprocessing.py:41: SettingWithCopyWarning: \n",
      "A value is trying to be set on a copy of a slice from a DataFrame.\n",
      "Try using .loc[row_indexer,col_indexer] = value instead\n",
      "\n",
      "See the caveats in the documentation: https://pandas.pydata.org/pandas-docs/stable/user_guide/indexing.html#returning-a-view-versus-a-copy\n",
      "  X_test['ganancia_perdida_declarada_bolsa_argentina'] = X_test['ganancia_perdida_declarada_bolsa_argentina'].apply(_log_scale)\n"
     ]
    }
   ],
   "source": [
    "X = df[df.columns.drop('tiene_alto_valor_adquisitivo')]\n",
    "Y = df['tiene_alto_valor_adquisitivo']\n",
    "X = pd.get_dummies(X, drop_first=True)\n",
    "\n",
    "X_train, X_test, y_train, y_test = train_test_split(X, Y, random_state=112)\n",
    "X_train, X_test = preprocessing.preprocessing_significantes(X_train, X_test, 0.9)"
   ]
  },
  {
   "cell_type": "code",
   "execution_count": 18,
   "metadata": {},
   "outputs": [],
   "source": [
    "scaler = MinMaxScaler() # Por default, en [0,1]\n",
    "\n",
    "X_train = pd.DataFrame(scaler.fit_transform(X_train))\n",
    "X_test = pd.DataFrame(scaler.transform(X_test))"
   ]
  },
  {
   "cell_type": "code",
   "execution_count": 19,
   "metadata": {},
   "outputs": [
    {
     "name": "stdout",
     "output_type": "stream",
     "text": [
      "Fitting 5 folds for each of 1000 candidates, totalling 5000 fits\n"
     ]
    },
    {
     "name": "stderr",
     "output_type": "stream",
     "text": [
      "[Parallel(n_jobs=-1)]: Using backend LokyBackend with 8 concurrent workers.\n",
      "[Parallel(n_jobs=-1)]: Batch computation too fast (0.0598s.) Setting batch_size=2.\n",
      "[Parallel(n_jobs=-1)]: Done   2 tasks      | elapsed:    0.1s\n",
      "[Parallel(n_jobs=-1)]: Done   9 tasks      | elapsed:    0.2s\n",
      "[Parallel(n_jobs=-1)]: Done  16 tasks      | elapsed:    0.3s\n",
      "[Parallel(n_jobs=-1)]: Done  34 tasks      | elapsed:    0.5s\n",
      "[Parallel(n_jobs=-1)]: Done  52 tasks      | elapsed:    0.6s\n",
      "[Parallel(n_jobs=-1)]: Done  74 tasks      | elapsed:    0.8s\n",
      "[Parallel(n_jobs=-1)]: Done  96 tasks      | elapsed:    0.9s\n",
      "[Parallel(n_jobs=-1)]: Done 122 tasks      | elapsed:    1.1s\n",
      "[Parallel(n_jobs=-1)]: Done 148 tasks      | elapsed:    1.4s\n",
      "[Parallel(n_jobs=-1)]: Done 178 tasks      | elapsed:    1.6s\n",
      "[Parallel(n_jobs=-1)]: Done 208 tasks      | elapsed:    1.9s\n",
      "[Parallel(n_jobs=-1)]: Done 242 tasks      | elapsed:    2.2s\n",
      "[Parallel(n_jobs=-1)]: Done 276 tasks      | elapsed:    2.6s\n",
      "[Parallel(n_jobs=-1)]: Done 314 tasks      | elapsed:    3.0s\n",
      "[Parallel(n_jobs=-1)]: Done 352 tasks      | elapsed:    3.3s\n",
      "[Parallel(n_jobs=-1)]: Done 394 tasks      | elapsed:    3.7s\n",
      "[Parallel(n_jobs=-1)]: Done 436 tasks      | elapsed:    4.1s\n",
      "[Parallel(n_jobs=-1)]: Done 482 tasks      | elapsed:    4.4s\n",
      "[Parallel(n_jobs=-1)]: Done 528 tasks      | elapsed:    5.0s\n",
      "[Parallel(n_jobs=-1)]: Done 578 tasks      | elapsed:    5.5s\n",
      "[Parallel(n_jobs=-1)]: Done 628 tasks      | elapsed:    6.0s\n",
      "[Parallel(n_jobs=-1)]: Done 682 tasks      | elapsed:    6.4s\n",
      "[Parallel(n_jobs=-1)]: Done 736 tasks      | elapsed:    6.9s\n",
      "[Parallel(n_jobs=-1)]: Done 794 tasks      | elapsed:    7.4s\n",
      "[Parallel(n_jobs=-1)]: Done 852 tasks      | elapsed:    7.9s\n",
      "[Parallel(n_jobs=-1)]: Done 914 tasks      | elapsed:    8.4s\n",
      "[Parallel(n_jobs=-1)]: Done 976 tasks      | elapsed:    8.9s\n",
      "[Parallel(n_jobs=-1)]: Done 1042 tasks      | elapsed:    9.4s\n",
      "[Parallel(n_jobs=-1)]: Done 1108 tasks      | elapsed:   10.0s\n",
      "[Parallel(n_jobs=-1)]: Done 1178 tasks      | elapsed:   10.5s\n",
      "[Parallel(n_jobs=-1)]: Done 1248 tasks      | elapsed:   11.1s\n",
      "[Parallel(n_jobs=-1)]: Done 1322 tasks      | elapsed:   11.7s\n",
      "[Parallel(n_jobs=-1)]: Done 1396 tasks      | elapsed:   12.3s\n",
      "[Parallel(n_jobs=-1)]: Done 1474 tasks      | elapsed:   13.0s\n",
      "[Parallel(n_jobs=-1)]: Done 1552 tasks      | elapsed:   13.6s\n",
      "[Parallel(n_jobs=-1)]: Done 1634 tasks      | elapsed:   14.3s\n",
      "[Parallel(n_jobs=-1)]: Done 1716 tasks      | elapsed:   14.9s\n",
      "[Parallel(n_jobs=-1)]: Done 1802 tasks      | elapsed:   15.7s\n",
      "[Parallel(n_jobs=-1)]: Done 1888 tasks      | elapsed:   16.5s\n",
      "[Parallel(n_jobs=-1)]: Done 1978 tasks      | elapsed:   17.4s\n",
      "[Parallel(n_jobs=-1)]: Done 2068 tasks      | elapsed:   18.4s\n",
      "[Parallel(n_jobs=-1)]: Done 2162 tasks      | elapsed:   19.2s\n",
      "[Parallel(n_jobs=-1)]: Done 2256 tasks      | elapsed:   19.9s\n",
      "[Parallel(n_jobs=-1)]: Done 2354 tasks      | elapsed:   20.7s\n",
      "[Parallel(n_jobs=-1)]: Done 2452 tasks      | elapsed:   21.9s\n",
      "[Parallel(n_jobs=-1)]: Done 2554 tasks      | elapsed:   22.9s\n",
      "[Parallel(n_jobs=-1)]: Done 2656 tasks      | elapsed:   24.3s\n",
      "[Parallel(n_jobs=-1)]: Done 2762 tasks      | elapsed:   25.8s\n",
      "[Parallel(n_jobs=-1)]: Done 2868 tasks      | elapsed:   27.5s\n",
      "[Parallel(n_jobs=-1)]: Done 2978 tasks      | elapsed:   29.0s\n",
      "[Parallel(n_jobs=-1)]: Done 3088 tasks      | elapsed:   30.6s\n",
      "[Parallel(n_jobs=-1)]: Done 3202 tasks      | elapsed:   32.3s\n",
      "[Parallel(n_jobs=-1)]: Done 3316 tasks      | elapsed:   33.9s\n",
      "[Parallel(n_jobs=-1)]: Done 3434 tasks      | elapsed:   35.4s\n",
      "[Parallel(n_jobs=-1)]: Done 3552 tasks      | elapsed:   37.1s\n",
      "[Parallel(n_jobs=-1)]: Done 3674 tasks      | elapsed:   38.6s\n",
      "[Parallel(n_jobs=-1)]: Done 3796 tasks      | elapsed:   40.1s\n",
      "[Parallel(n_jobs=-1)]: Done 3922 tasks      | elapsed:   41.7s\n",
      "[Parallel(n_jobs=-1)]: Done 4048 tasks      | elapsed:   43.4s\n",
      "[Parallel(n_jobs=-1)]: Done 4178 tasks      | elapsed:   44.9s\n",
      "[Parallel(n_jobs=-1)]: Done 4308 tasks      | elapsed:   46.4s\n",
      "[Parallel(n_jobs=-1)]: Done 4442 tasks      | elapsed:   48.0s\n",
      "[Parallel(n_jobs=-1)]: Done 4576 tasks      | elapsed:   49.5s\n",
      "[Parallel(n_jobs=-1)]: Done 4714 tasks      | elapsed:   51.1s\n",
      "[Parallel(n_jobs=-1)]: Done 4852 tasks      | elapsed:   52.7s\n",
      "[Parallel(n_jobs=-1)]: Done 4985 out of 5000 | elapsed:   54.1s remaining:    0.2s\n",
      "[Parallel(n_jobs=-1)]: Done 5000 out of 5000 | elapsed:   54.2s finished\n"
     ]
    },
    {
     "name": "stdout",
     "output_type": "stream",
     "text": [
      "CPU times: user 12.7 s, sys: 2.24 s, total: 15 s\n",
      "Wall time: 54.4 s\n"
     ]
    }
   ],
   "source": [
    "%%time\n",
    "gscv.fit(X_train, y_train)\n",
    "score = roc_auc_score(y_test, gscv.predict_proba(X_test)[:,1])"
   ]
  },
  {
   "cell_type": "code",
   "execution_count": 20,
   "metadata": {},
   "outputs": [
    {
     "data": {
      "text/plain": [
       "{'alpha': 0.002002002002002002}"
      ]
     },
     "execution_count": 20,
     "metadata": {},
     "output_type": "execute_result"
    }
   ],
   "source": [
    "gscv.best_params_"
   ]
  },
  {
   "cell_type": "markdown",
   "metadata": {},
   "source": [
    "Antes de continuar, notemos que el alpha obtenido en este caso es muy chico, en comparación con el seleccionado para el modelo anterior que era bastante cercano a 1."
   ]
  },
  {
   "cell_type": "code",
   "execution_count": 21,
   "metadata": {},
   "outputs": [
    {
     "data": {
      "text/plain": [
       "MultinomialNB(alpha=0.001001001001001001)"
      ]
     },
     "execution_count": 21,
     "metadata": {},
     "output_type": "execute_result"
    }
   ],
   "source": [
    "bayes_significantes = MultinomialNB(alpha=0.001001001001001001)\n",
    "bayes_significantes.fit(X_train, y_train)"
   ]
  },
  {
   "cell_type": "code",
   "execution_count": 22,
   "metadata": {},
   "outputs": [
    {
     "data": {
      "text/plain": [
       "0.8655059750442136"
      ]
     },
     "execution_count": 22,
     "metadata": {},
     "output_type": "execute_result"
    }
   ],
   "source": [
    "score"
   ]
  },
  {
   "cell_type": "markdown",
   "metadata": {},
   "source": [
    "Vemos una mejora en la métrica AUC-ROC"
   ]
  },
  {
   "cell_type": "code",
   "execution_count": 23,
   "metadata": {},
   "outputs": [
    {
     "name": "stdout",
     "output_type": "stream",
     "text": [
      "              precision    recall  f1-score   support\n",
      "\n",
      "           0       0.76      1.00      0.86      6182\n",
      "           1       0.00      0.00      0.00      1959\n",
      "\n",
      "    accuracy                           0.76      8141\n",
      "   macro avg       0.38      0.50      0.43      8141\n",
      "weighted avg       0.58      0.76      0.66      8141\n",
      "\n"
     ]
    },
    {
     "name": "stderr",
     "output_type": "stream",
     "text": [
      "/home/lukas/.local/lib/python3.8/site-packages/sklearn/metrics/_classification.py:1221: UndefinedMetricWarning: Precision and F-score are ill-defined and being set to 0.0 in labels with no predicted samples. Use `zero_division` parameter to control this behavior.\n",
      "  _warn_prf(average, modifier, msg_start, len(result))\n"
     ]
    }
   ],
   "source": [
    "print(classification_report(y_test,gscv.predict(X_test)))"
   ]
  },
  {
   "cell_type": "markdown",
   "metadata": {},
   "source": [
    "Nuevamente, a pesar de haber obtenido un resultado decente según AUC-ROC, vemos que la clasificación es muy mala."
   ]
  },
  {
   "cell_type": "code",
   "execution_count": 24,
   "metadata": {},
   "outputs": [
    {
     "data": {
      "image/png": "[encoded data removed]",
      "text/plain": [
       "<Figure size 1080x504 with 2 Axes>"
      ]
     },
     "metadata": {
      "needs_background": "light"
     },
     "output_type": "display_data"
    }
   ],
   "source": [
    "fig, ax = plt.subplots(figsize=(15,7))\n",
    "plt.grid(False)\n",
    "plot_confusion_matrix(gscv, X_test, y_test, cmap=plt.cm.Blues, display_labels=['1', '0'], ax=ax)\n",
    "plt.show()"
   ]
  },
  {
   "cell_type": "markdown",
   "metadata": {},
   "source": [
    "Vemos que el comportamiento es incluso peor que el modelo anterior."
   ]
  },
  {
   "cell_type": "code",
   "execution_count": 25,
   "metadata": {},
   "outputs": [
    {
     "data": {
      "text/plain": [
       "<sklearn.metrics._plot.roc_curve.RocCurveDisplay at 0x7f2e0903e400>"
      ]
     },
     "execution_count": 25,
     "metadata": {},
     "output_type": "execute_result"
    },
    {
     "data": {
      "image/png": "[encoded data removed]",
      "text/plain": [
       "<Figure size 432x288 with 1 Axes>"
      ]
     },
     "metadata": {
      "needs_background": "light"
     },
     "output_type": "display_data"
    }
   ],
   "source": [
    "plot_roc_curve(gscv, X_test, y_test)"
   ]
  },
  {
   "cell_type": "markdown",
   "metadata": {},
   "source": [
    "### Preprocessing Equilibrado\n",
    "\n",
    "Finalizaremos este análisis intentando obtener un mejor resultado al equilibrar la cantidad de muestras con bajo poder adquisitivo a la de muestras con alto poder adquisitivo."
   ]
  },
  {
   "cell_type": "code",
   "execution_count": 26,
   "metadata": {},
   "outputs": [],
   "source": [
    "df = utils.get_data()"
   ]
  },
  {
   "cell_type": "code",
   "execution_count": 27,
   "metadata": {},
   "outputs": [],
   "source": [
    "params = { 'alpha': np.linspace(0,1,1000) }\n",
    "model = MultinomialNB()"
   ]
  },
  {
   "cell_type": "code",
   "execution_count": 28,
   "metadata": {},
   "outputs": [],
   "source": [
    "gscv = GridSearchCV(model, params, scoring='roc_auc', n_jobs=-1, verbose=10)"
   ]
  },
  {
   "cell_type": "code",
   "execution_count": 29,
   "metadata": {},
   "outputs": [],
   "source": [
    "X = df[df.columns.drop('tiene_alto_valor_adquisitivo')]\n",
    "Y = df['tiene_alto_valor_adquisitivo']\n",
    "X = pd.get_dummies(X)\n",
    "\n",
    "X_train, X_test, y_train, y_test = train_test_split(X, Y, random_state=112)\n",
    "X_train, X_test, y_train, y_test = preprocessing.preprocessing_equilibrado(X_train, X_test, y_train, y_test)"
   ]
  },
  {
   "cell_type": "code",
   "execution_count": 30,
   "metadata": {},
   "outputs": [],
   "source": [
    "scaler_train = MinMaxScaler() # Por default, en [0,1]\n",
    "scaler_test = MinMaxScaler() # Por default, en [0,1]\n",
    "\n",
    "X_train = pd.DataFrame(scaler_train.fit_transform(X_train))\n",
    "X_test = pd.DataFrame(scaler_test.fit_transform(X_test))"
   ]
  },
  {
   "cell_type": "code",
   "execution_count": 31,
   "metadata": {},
   "outputs": [
    {
     "name": "stdout",
     "output_type": "stream",
     "text": [
      "Fitting 5 folds for each of 1000 candidates, totalling 5000 fits\n"
     ]
    },
    {
     "name": "stderr",
     "output_type": "stream",
     "text": [
      "[Parallel(n_jobs=-1)]: Using backend LokyBackend with 8 concurrent workers.\n",
      "[Parallel(n_jobs=-1)]: Batch computation too fast (0.0491s.) Setting batch_size=2.\n",
      "[Parallel(n_jobs=-1)]: Done   2 tasks      | elapsed:    0.1s\n",
      "[Parallel(n_jobs=-1)]: Done   9 tasks      | elapsed:    0.2s\n",
      "[Parallel(n_jobs=-1)]: Done  16 tasks      | elapsed:    0.3s\n",
      "[Parallel(n_jobs=-1)]: Done  34 tasks      | elapsed:    0.5s\n",
      "[Parallel(n_jobs=-1)]: Done  52 tasks      | elapsed:    0.6s\n",
      "[Parallel(n_jobs=-1)]: Done  74 tasks      | elapsed:    0.7s\n",
      "[Parallel(n_jobs=-1)]: Done  96 tasks      | elapsed:    0.9s\n",
      "[Parallel(n_jobs=-1)]: Batch computation too fast (0.1972s.) Setting batch_size=4.\n",
      "[Parallel(n_jobs=-1)]: Done 122 tasks      | elapsed:    1.0s\n",
      "[Parallel(n_jobs=-1)]: Done 152 tasks      | elapsed:    1.3s\n",
      "[Parallel(n_jobs=-1)]: Done 212 tasks      | elapsed:    1.7s\n",
      "[Parallel(n_jobs=-1)]: Done 272 tasks      | elapsed:    2.0s\n",
      "[Parallel(n_jobs=-1)]: Done 340 tasks      | elapsed:    2.5s\n",
      "[Parallel(n_jobs=-1)]: Done 408 tasks      | elapsed:    3.1s\n",
      "[Parallel(n_jobs=-1)]: Done 484 tasks      | elapsed:    3.6s\n",
      "[Parallel(n_jobs=-1)]: Done 560 tasks      | elapsed:    4.2s\n",
      "[Parallel(n_jobs=-1)]: Done 644 tasks      | elapsed:    4.8s\n",
      "[Parallel(n_jobs=-1)]: Done 728 tasks      | elapsed:    5.5s\n",
      "[Parallel(n_jobs=-1)]: Done 820 tasks      | elapsed:    6.1s\n",
      "[Parallel(n_jobs=-1)]: Done 912 tasks      | elapsed:    7.0s\n",
      "[Parallel(n_jobs=-1)]: Done 1012 tasks      | elapsed:    8.1s\n",
      "[Parallel(n_jobs=-1)]: Done 1112 tasks      | elapsed:    9.1s\n",
      "[Parallel(n_jobs=-1)]: Done 1220 tasks      | elapsed:   10.1s\n",
      "[Parallel(n_jobs=-1)]: Done 1328 tasks      | elapsed:   11.0s\n",
      "[Parallel(n_jobs=-1)]: Done 1444 tasks      | elapsed:   12.0s\n",
      "[Parallel(n_jobs=-1)]: Done 1560 tasks      | elapsed:   12.9s\n",
      "[Parallel(n_jobs=-1)]: Done 1684 tasks      | elapsed:   14.2s\n",
      "[Parallel(n_jobs=-1)]: Done 1808 tasks      | elapsed:   15.5s\n",
      "[Parallel(n_jobs=-1)]: Done 1940 tasks      | elapsed:   16.7s\n",
      "[Parallel(n_jobs=-1)]: Done 2072 tasks      | elapsed:   18.1s\n",
      "[Parallel(n_jobs=-1)]: Done 2212 tasks      | elapsed:   19.2s\n",
      "[Parallel(n_jobs=-1)]: Done 2352 tasks      | elapsed:   20.5s\n",
      "[Parallel(n_jobs=-1)]: Done 2500 tasks      | elapsed:   21.8s\n",
      "[Parallel(n_jobs=-1)]: Done 2648 tasks      | elapsed:   23.1s\n",
      "[Parallel(n_jobs=-1)]: Done 2804 tasks      | elapsed:   24.4s\n",
      "[Parallel(n_jobs=-1)]: Done 2960 tasks      | elapsed:   25.6s\n",
      "[Parallel(n_jobs=-1)]: Done 3124 tasks      | elapsed:   27.1s\n",
      "[Parallel(n_jobs=-1)]: Done 3288 tasks      | elapsed:   28.3s\n",
      "[Parallel(n_jobs=-1)]: Done 3460 tasks      | elapsed:   29.7s\n",
      "[Parallel(n_jobs=-1)]: Done 3632 tasks      | elapsed:   31.2s\n",
      "[Parallel(n_jobs=-1)]: Done 3812 tasks      | elapsed:   32.7s\n",
      "[Parallel(n_jobs=-1)]: Done 3992 tasks      | elapsed:   34.4s\n",
      "[Parallel(n_jobs=-1)]: Done 4180 tasks      | elapsed:   36.2s\n",
      "[Parallel(n_jobs=-1)]: Done 4368 tasks      | elapsed:   38.1s\n",
      "[Parallel(n_jobs=-1)]: Done 4564 tasks      | elapsed:   39.1s\n",
      "[Parallel(n_jobs=-1)]: Done 4760 tasks      | elapsed:   40.1s\n",
      "[Parallel(n_jobs=-1)]: Done 4958 tasks      | elapsed:   41.2s\n",
      "[Parallel(n_jobs=-1)]: Done 5000 out of 5000 | elapsed:   41.4s finished\n"
     ]
    },
    {
     "name": "stdout",
     "output_type": "stream",
     "text": [
      "CPU times: user 6.79 s, sys: 856 ms, total: 7.65 s\n",
      "Wall time: 41.5 s\n"
     ]
    },
    {
     "data": {
      "text/plain": [
       "GridSearchCV(estimator=MultinomialNB(), n_jobs=-1,\n",
       "             param_grid={'alpha': array([0.        , 0.001001  , 0.002002  , 0.003003  , 0.004004  ,\n",
       "       0.00500501, 0.00600601, 0.00700701, 0.00800801, 0.00900901,\n",
       "       0.01001001, 0.01101101, 0.01201201, 0.01301301, 0.01401401,\n",
       "       0.01501502, 0.01601602, 0.01701702, 0.01801802, 0.01901902,\n",
       "       0.02002002, 0.02102102, 0.02202202, 0.02302302, 0.02402402,\n",
       "       0.02502503, 0.02...\n",
       "       0.96596597, 0.96696697, 0.96796797, 0.96896897, 0.96996997,\n",
       "       0.97097097, 0.97197197, 0.97297297, 0.97397397, 0.97497497,\n",
       "       0.97597598, 0.97697698, 0.97797798, 0.97897898, 0.97997998,\n",
       "       0.98098098, 0.98198198, 0.98298298, 0.98398398, 0.98498498,\n",
       "       0.98598599, 0.98698699, 0.98798799, 0.98898899, 0.98998999,\n",
       "       0.99099099, 0.99199199, 0.99299299, 0.99399399, 0.99499499,\n",
       "       0.995996  , 0.996997  , 0.997998  , 0.998999  , 1.        ])},\n",
       "             scoring='roc_auc', verbose=10)"
      ]
     },
     "execution_count": 31,
     "metadata": {},
     "output_type": "execute_result"
    }
   ],
   "source": [
    "%%time\n",
    "gscv.fit(X_train, y_train)"
   ]
  },
  {
   "cell_type": "code",
   "execution_count": 32,
   "metadata": {},
   "outputs": [
    {
     "data": {
      "text/plain": [
       "{'alpha': 0.7067067067067067}"
      ]
     },
     "execution_count": 32,
     "metadata": {},
     "output_type": "execute_result"
    }
   ],
   "source": [
    "gscv.best_params_"
   ]
  },
  {
   "cell_type": "markdown",
   "metadata": {},
   "source": [
    "Vemos que el alpha seleccionado está casi en el límite superior del rango elegido."
   ]
  },
  {
   "cell_type": "code",
   "execution_count": 33,
   "metadata": {},
   "outputs": [
    {
     "data": {
      "text/plain": [
       "MultinomialNB(alpha=0.998998998998999)"
      ]
     },
     "execution_count": 33,
     "metadata": {},
     "output_type": "execute_result"
    }
   ],
   "source": [
    "bayes_equilibrado = MultinomialNB(alpha=0.998998998998999)\n",
    "bayes_equilibrado.fit(X_train, y_train)"
   ]
  },
  {
   "cell_type": "code",
   "execution_count": 34,
   "metadata": {},
   "outputs": [
    {
     "name": "stdout",
     "output_type": "stream",
     "text": [
      "              precision    recall  f1-score   support\n",
      "\n",
      "           0       0.94      0.70      0.80      6182\n",
      "           1       0.47      0.85      0.60      1959\n",
      "\n",
      "    accuracy                           0.73      8141\n",
      "   macro avg       0.70      0.77      0.70      8141\n",
      "weighted avg       0.82      0.73      0.75      8141\n",
      "\n"
     ]
    }
   ],
   "source": [
    "print(classification_report(y_test,gscv.predict(X_test)))"
   ]
  },
  {
   "cell_type": "markdown",
   "metadata": {},
   "source": [
    "Si bien sigue sin ser un clasificador excelente, vemos una mejora sustancial respecto de los anteriores, al menos en términos de la generalización. Sin embargo, el accuracy empeoró."
   ]
  },
  {
   "cell_type": "code",
   "execution_count": 35,
   "metadata": {},
   "outputs": [
    {
     "data": {
      "image/png": "[encoded data removed]",
      "text/plain": [
       "<Figure size 1080x504 with 2 Axes>"
      ]
     },
     "metadata": {
      "needs_background": "light"
     },
     "output_type": "display_data"
    }
   ],
   "source": [
    "fig, ax = plt.subplots(figsize=(15,7))\n",
    "plt.grid(False)\n",
    "plot_confusion_matrix(gscv, X_test, y_test, cmap=plt.cm.Blues, display_labels=['1', '0'], ax=ax)\n",
    "plt.show()"
   ]
  },
  {
   "cell_type": "markdown",
   "metadata": {},
   "source": [
    "A pesar de haber mejorado en algunos aspectos, ahora tenemos un número demasiado alto en los False Negatives"
   ]
  },
  {
   "cell_type": "code",
   "execution_count": 36,
   "metadata": {},
   "outputs": [
    {
     "data": {
      "text/plain": [
       "<sklearn.metrics._plot.roc_curve.RocCurveDisplay at 0x7f2e086ade20>"
      ]
     },
     "execution_count": 36,
     "metadata": {},
     "output_type": "execute_result"
    },
    {
     "data": {
      "image/png": "[encoded data removed]",
      "text/plain": [
       "<Figure size 432x288 with 1 Axes>"
      ]
     },
     "metadata": {
      "needs_background": "light"
     },
     "output_type": "display_data"
    }
   ],
   "source": [
    "plot_roc_curve(gscv, X_test, y_test)"
   ]
  },
  {
   "cell_type": "markdown",
   "metadata": {},
   "source": [
    "Nuevamente, vemos que los falsos positivos crecen muy rápido en comparación con los verdaderos positivos, haciendo que la clasificación sea tan pobre como vimos.\n",
    "\n",
    "A modo de conclusión general, no vemos que MultinomialNB sea un modelo interesante para los objetivos de este trabajo."
   ]
  },
  {
   "cell_type": "markdown",
   "metadata": {},
   "source": [
    "# Persistiendo los modelos"
   ]
  },
  {
   "cell_type": "code",
   "execution_count": 37,
   "metadata": {},
   "outputs": [],
   "source": [
    "import pickle"
   ]
  },
  {
   "cell_type": "code",
   "execution_count": 39,
   "metadata": {},
   "outputs": [],
   "source": [
    "pickle.dump(bayes_base, open(\"Modelos/MultinomialNB/bayes_base.pickle\", \"wb\"))\n",
    "pickle.dump(bayes_significantes, open(\"Modelos/MultinomialNB/bayes_significantes.pickle\", \"wb\"))\n",
    "pickle.dump(bayes_equilibrado, open(\"Modelos/MultinomialNB/bayes_equilibrado.pickle\", \"wb\"))"
   ]
  },
  {
   "cell_type": "markdown",
   "metadata": {},
   "source": [
    "# Predicción de HoldOut\n",
    "\n",
    "Usaremos para predecir el NaiveBayes obtenido para el preprocessing significantes de 90%"
   ]
  },
  {
   "cell_type": "code",
   "execution_count": 40,
   "metadata": {},
   "outputs": [],
   "source": [
    "bayes_significantes = pickle.load(open(\"Modelos/MultinomialNB/bayes_significantes.pickle\", \"rb\"))"
   ]
  },
  {
   "cell_type": "code",
   "execution_count": 73,
   "metadata": {},
   "outputs": [],
   "source": [
    "def holdout():\n",
    "    dfv = utils.get_data()\n",
    "    Xv = dfv[dfv.columns.drop('tiene_alto_valor_adquisitivo')]\n",
    "    Xv = pd.get_dummies(Xv, drop_first=True)\n",
    "    Xv, _, _, _ = train_test_split(Xv, dfv['tiene_alto_valor_adquisitivo'], random_state=112)\n",
    "\n",
    "    ids, X = utils.get_holdout_data()\n",
    "    X = pd.get_dummies(X, drop_first=True)\n",
    "\n",
    "    notInHoldout=[]\n",
    "    for c in Xv.columns:\n",
    "        if c not in X.columns:\n",
    "            notInHoldout.append(c)\n",
    "    X[notInHoldout] = 0\n",
    "\n",
    "    Xv, X = preprocessing.preprocessing_significantes(Xv, X, variance=0.9)\n",
    "    return ids, X"
   ]
  },
  {
   "cell_type": "code",
   "execution_count": 74,
   "metadata": {},
   "outputs": [],
   "source": [
    "ids, X = holdout()"
   ]
  },
  {
   "cell_type": "code",
   "execution_count": 75,
   "metadata": {},
   "outputs": [],
   "source": [
    "utils.escribir_holdout(bayes_significantes.predict(X), \"3 - MultinomialNB\", ids)"
   ]
  }
 ],
 "metadata": {
  "kernelspec": {
   "display_name": "Python 3",
   "language": "python",
   "name": "python3"
  },
  "language_info": {
   "codemirror_mode": {
    "name": "ipython",
    "version": 3
   },
   "file_extension": ".py",
   "mimetype": "text/x-python",
   "name": "python",
   "nbconvert_exporter": "python",
   "pygments_lexer": "ipython3",
   "version": "3.8.10"
  }
 },
 "nbformat": 4,
 "nbformat_minor": 4
}

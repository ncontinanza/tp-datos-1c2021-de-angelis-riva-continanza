{
 "cells": [
  {
   "cell_type": "markdown",
   "metadata": {},
   "source": [
    "### AdaBoost\n",
    "\n",
    "En este notebook utilizaremos AdaBoostClassifier para entrenar y predecir sobre el dataset de entrenamiento, con dos preprocesamientos distintos:\n",
    "* Uno muy similar al realizado en la parte 1 de este TP pero escalando los datos. \n",
    "* El segundo será el resultado de la función `preprocessing_significantes` con 90% de la varianza explicada.\n",
    "\n",
    "Estos dos preprocesamientos los usaremos con un modelo de AdaBoost con `base_estimator` default (árboles). Luego, cambiaremos ese estimador por un MultinomialNB, y lo usaremos con los preprocesamientos de la parte 1 del TP y el equilibrado."
   ]
  },
  {
   "cell_type": "code",
   "execution_count": 1,
   "metadata": {},
   "outputs": [],
   "source": [
    "# Modelo \n",
    "from sklearn.naive_bayes import MultinomialNB\n",
    "from sklearn.ensemble import AdaBoostClassifier\n",
    "\n",
    "# Preprocessing\n",
    "from preprocessing import preprocessing_base_parte_1, preprocessing_significantes, preprocessing_equilibrado\n",
    "\n",
    "# Búsqueda\n",
    "from sklearn.model_selection import train_test_split, GridSearchCV\n",
    "\n",
    "# Metrics \n",
    "from sklearn.metrics import plot_roc_curve, roc_auc_score, classification_report, plot_confusion_matrix\n",
    "\n",
    "# Plots\n",
    "from matplotlib import pyplot as plt\n",
    "\n",
    "#Otros\n",
    "import pandas as pd\n",
    "import numpy as np\n",
    "import utils"
   ]
  },
  {
   "cell_type": "code",
   "execution_count": 2,
   "metadata": {},
   "outputs": [],
   "source": [
    "df = utils.get_data()"
   ]
  },
  {
   "cell_type": "markdown",
   "metadata": {},
   "source": [
    "## Modelo 1 - Árboles + Preprocessing primera parte\n",
    "\n",
    "Será entrenado con las siguientes variables:\n",
    "\n",
    "* **Ganancia/Pérdida declara en la bolsa argentina**: `ganancia_perdida_declarada_bolsa_argentina`\n",
    "* **Edad**: `edad`\n",
    "* **Rol familiar registrado**: `rol_familiar_registrado`\n",
    "* **Años estudiados**: `anios_estudiados`"
   ]
  },
  {
   "cell_type": "code",
   "execution_count": 3,
   "metadata": {},
   "outputs": [],
   "source": [
    "X = df[df.columns.drop('tiene_alto_valor_adquisitivo')]\n",
    "Y = df['tiene_alto_valor_adquisitivo']\n",
    "\n",
    "X_train_1, X_test_1, y_train_1, y_test_1 = train_test_split(X, Y, random_state=112)\n",
    "\n",
    "X_train_1, X_test_1 = preprocessing_base_parte_1(X_train_1, X_test_1)"
   ]
  },
  {
   "cell_type": "markdown",
   "metadata": {},
   "source": [
    "Usamos GridSearchCV con los siguientes hiperparámetros, y entrenamos los modelos"
   ]
  },
  {
   "cell_type": "code",
   "execution_count": 16,
   "metadata": {},
   "outputs": [],
   "source": [
    "model = AdaBoostClassifier()\n",
    "params = {'n_estimators':range(101, 502, 100),\n",
    "          'learning_rate': np.logspace(-3, 0, 4),\n",
    "          'algorithm': ('SAMME', 'SAMME.R')\n",
    "         }\n",
    "\n",
    "gscv1 = GridSearchCV(model, params, scoring='roc_auc', cv=25, n_jobs=-1, verbose=4)"
   ]
  },
  {
   "cell_type": "code",
   "execution_count": 17,
   "metadata": {},
   "outputs": [
    {
     "name": "stdout",
     "output_type": "stream",
     "text": [
      "Fitting 25 folds for each of 40 candidates, totalling 1000 fits\n"
     ]
    },
    {
     "name": "stderr",
     "output_type": "stream",
     "text": [
      "[Parallel(n_jobs=-1)]: Using backend LokyBackend with 8 concurrent workers.\n",
      "[Parallel(n_jobs=-1)]: Done   9 tasks      | elapsed:    4.3s\n",
      "[Parallel(n_jobs=-1)]: Done  82 tasks      | elapsed:   41.8s\n",
      "[Parallel(n_jobs=-1)]: Done 205 tasks      | elapsed:  2.1min\n",
      "[Parallel(n_jobs=-1)]: Done 376 tasks      | elapsed:  4.3min\n",
      "[Parallel(n_jobs=-1)]: Done 597 tasks      | elapsed:  7.3min\n",
      "[Parallel(n_jobs=-1)]: Done 866 tasks      | elapsed: 11.6min\n",
      "[Parallel(n_jobs=-1)]: Done 1000 out of 1000 | elapsed: 13.6min finished\n"
     ]
    },
    {
     "data": {
      "text/plain": [
       "GridSearchCV(cv=25, estimator=AdaBoostClassifier(), n_jobs=-1,\n",
       "             param_grid={'algorithm': ('SAMME', 'SAMME.R'),\n",
       "                         'learning_rate': array([0.001, 0.01 , 0.1  , 1.   ]),\n",
       "                         'n_estimators': range(101, 502, 100)},\n",
       "             scoring='roc_auc', verbose=4)"
      ]
     },
     "execution_count": 17,
     "metadata": {},
     "output_type": "execute_result"
    }
   ],
   "source": [
    "gscv1.fit(X_train_1, y_train_1)"
   ]
  },
  {
   "cell_type": "code",
   "execution_count": 18,
   "metadata": {},
   "outputs": [
    {
     "name": "stdout",
     "output_type": "stream",
     "text": [
      "Los parámetros que mejor score obtuvieron para AdaBoost fueron: {'algorithm': 'SAMME.R', 'learning_rate': 1.0, 'n_estimators': 501}\n",
      "Con un Score (RocAUC) de:  0.9159\n"
     ]
    }
   ],
   "source": [
    "print(\"Los parámetros que mejor score obtuvieron para AdaBoost fueron:\", gscv1.best_params_)\n",
    "print(\"Con un Score (RocAUC) de: \", round(gscv1.best_score_, 4))"
   ]
  },
  {
   "cell_type": "markdown",
   "metadata": {},
   "source": [
    "Dado que obtuvimos valores límites de la búsqueda la centralizaremos aún más:\n",
    "\n",
    "Buscaremos con learnings rates mayores a 1, con el algoritmo SAMME.R y con más estimadores. Pero bajaremos el crossvalidation de 25 a 4."
   ]
  },
  {
   "cell_type": "code",
   "execution_count": 36,
   "metadata": {},
   "outputs": [],
   "source": [
    "model = AdaBoostClassifier(algorithm='SAMME.R')\n",
    "params = {'n_estimators': list(range(501, 1502, 200)),\n",
    "          'learning_rate': np.linspace(1, 2, 5)\n",
    "         }\n",
    "gscv1 = GridSearchCV(model, params, scoring='roc_auc', cv=4, n_jobs=-1, verbose=4)"
   ]
  },
  {
   "cell_type": "code",
   "execution_count": 37,
   "metadata": {
    "scrolled": true
   },
   "outputs": [
    {
     "name": "stdout",
     "output_type": "stream",
     "text": [
      "Fitting 4 folds for each of 30 candidates, totalling 120 fits\n"
     ]
    },
    {
     "name": "stderr",
     "output_type": "stream",
     "text": [
      "[Parallel(n_jobs=-1)]: Using backend LokyBackend with 8 concurrent workers.\n",
      "[Parallel(n_jobs=-1)]: Done   9 tasks      | elapsed:   30.9s\n",
      "[Parallel(n_jobs=-1)]: Done  82 tasks      | elapsed:  4.0min\n",
      "[Parallel(n_jobs=-1)]: Done 120 out of 120 | elapsed:  5.8min finished\n"
     ]
    },
    {
     "data": {
      "text/plain": [
       "GridSearchCV(cv=4, estimator=AdaBoostClassifier(), n_jobs=-1,\n",
       "             param_grid={'learning_rate': array([1.  , 1.25, 1.5 , 1.75, 2.  ]),\n",
       "                         'n_estimators': [501, 701, 901, 1101, 1301, 1501]},\n",
       "             scoring='roc_auc', verbose=4)"
      ]
     },
     "execution_count": 37,
     "metadata": {},
     "output_type": "execute_result"
    }
   ],
   "source": [
    "gscv1.fit(X_train_1, y_train_1)"
   ]
  },
  {
   "cell_type": "code",
   "execution_count": 39,
   "metadata": {},
   "outputs": [
    {
     "name": "stdout",
     "output_type": "stream",
     "text": [
      "Los parámetros que mejor score obtuvieron para AdaBoost fueron: {'learning_rate': 1.25, 'n_estimators': 901}\n",
      "Con un Score (RocAUC) de:  0.9168\n"
     ]
    }
   ],
   "source": [
    "print(\"Los parámetros que mejor score obtuvieron para AdaBoost fueron:\", gscv1.best_params_)\n",
    "print(\"Con un Score (RocAUC) de: \", round(gscv1.best_score_, 4))"
   ]
  },
  {
   "cell_type": "markdown",
   "metadata": {},
   "source": [
    "El modelo promete muchísimo! Vemos además que no parece necesario aumentar más la cantidad de estimadores, que con 901 ya se obtiene el mejor resultado de validación cruzada."
   ]
  },
  {
   "cell_type": "code",
   "execution_count": 45,
   "metadata": {},
   "outputs": [],
   "source": [
    "abc1 = AdaBoostClassifier(algorithm='SAMME.R', learning_rate=1.25, n_estimators = 901, random_state = 27)"
   ]
  },
  {
   "cell_type": "code",
   "execution_count": 46,
   "metadata": {},
   "outputs": [
    {
     "data": {
      "text/plain": [
       "AdaBoostClassifier(learning_rate=1.25, n_estimators=901, random_state=27)"
      ]
     },
     "execution_count": 46,
     "metadata": {},
     "output_type": "execute_result"
    }
   ],
   "source": [
    "abc1.fit(X_train_1, y_train_1)"
   ]
  },
  {
   "cell_type": "code",
   "execution_count": 48,
   "metadata": {},
   "outputs": [
    {
     "name": "stdout",
     "output_type": "stream",
     "text": [
      "              precision    recall  f1-score   support\n",
      "\n",
      "           0       0.87      0.95      0.91      6182\n",
      "           1       0.79      0.56      0.65      1959\n",
      "\n",
      "    accuracy                           0.86      8141\n",
      "   macro avg       0.83      0.76      0.78      8141\n",
      "weighted avg       0.85      0.86      0.85      8141\n",
      "\n"
     ]
    }
   ],
   "source": [
    "print(classification_report(y_test_1,abc1.predict(X_test_1)))"
   ]
  },
  {
   "cell_type": "markdown",
   "metadata": {},
   "source": [
    "Vemos que obtuvo buenas métricas en general. Relativamente buena precisión para los unos, pero con poco recall para ellos.\n",
    "\n",
    "Muy buena recall para los ceros, pero con peor precisión.\n",
    "\n",
    "El accuracy es alto (de los más altos obtenidos hasta ahora)\n",
    "\n",
    "Veamos la matriz de confusión!"
   ]
  },
  {
   "cell_type": "code",
   "execution_count": 49,
   "metadata": {},
   "outputs": [
    {
     "data": {
      "image/png": "[encoded data removed]",
      "text/plain": [
       "<Figure size 1080x504 with 2 Axes>"
      ]
     },
     "metadata": {
      "needs_background": "light"
     },
     "output_type": "display_data"
    }
   ],
   "source": [
    "fig, ax = plt.subplots(figsize=(15,7))\n",
    "plt.grid(False)\n",
    "plot_confusion_matrix(abc1, X_test_1, y_test_1, cmap=plt.cm.Blues, display_labels=['0', '1'], ax=ax)\n",
    "plt.show()"
   ]
  },
  {
   "cell_type": "markdown",
   "metadata": {},
   "source": [
    "Vemos en la matriz de confusión que hay muy pocos falsos positivos, pero en contraparte hay muchísimos falsos negativos. Esto coincide con los valores de recall y precision vistos en el reporte.\n",
    "\n",
    "La matriz está bien, sin embargo la cantidad de FN es preocupante.\n",
    "\n",
    "\n",
    "Veamos ahora la curva ROC y su puntuación AUC"
   ]
  },
  {
   "cell_type": "code",
   "execution_count": 50,
   "metadata": {},
   "outputs": [
    {
     "data": {
      "text/plain": [
       "<sklearn.metrics._plot.roc_curve.RocCurveDisplay at 0x7fa32ac3d550>"
      ]
     },
     "execution_count": 50,
     "metadata": {},
     "output_type": "execute_result"
    },
    {
     "data": {
      "image/png": "[encoded data removed]",
      "text/plain": [
       "<Figure size 432x288 with 1 Axes>"
      ]
     },
     "metadata": {
      "needs_background": "light"
     },
     "output_type": "display_data"
    }
   ],
   "source": [
    "plot_roc_curve(abc1, X_test_1, y_test_1)"
   ]
  },
  {
   "cell_type": "code",
   "execution_count": 52,
   "metadata": {
    "scrolled": true
   },
   "outputs": [
    {
     "data": {
      "text/plain": [
       "0.9184181578060364"
      ]
     },
     "execution_count": 52,
     "metadata": {},
     "output_type": "execute_result"
    }
   ],
   "source": [
    "roc_auc_score(y_test_1, abc1.predict_proba(X_test_1)[:,1])"
   ]
  },
  {
   "cell_type": "markdown",
   "metadata": {},
   "source": [
    "Esta métrica se encuentra entre las más altas conseguidas hasta ahora!"
   ]
  },
  {
   "cell_type": "markdown",
   "metadata": {},
   "source": [
    "## Modelo 2 - Árboles + Preprocessing significantes 90%\n",
    "\n",
    "Se procederá a ejecutar un AdaBoost de árboles sobre un data frame que posee el 90% de la varianza explicada.\n",
    "\n",
    "Esta vez, debido a la alta dimensionalidad, se utilizará gridsearch con poco crossvalidation (Kfold K=4) y en la búsqueda se usará una altura igual y en 200. Básicamente queremos buscar el mejor learning rate.\n",
    "\n",
    "Veamos"
   ]
  },
  {
   "cell_type": "code",
   "execution_count": 54,
   "metadata": {},
   "outputs": [
    {
     "name": "stderr",
     "output_type": "stream",
     "text": [
      "/home/lukas/FIUBA/tp-datos-1c2021-de-angelis-riva-continanza/Parte2/preprocessing.py:31: SettingWithCopyWarning: \n",
      "A value is trying to be set on a copy of a slice from a DataFrame.\n",
      "Try using .loc[row_indexer,col_indexer] = value instead\n",
      "\n",
      "See the caveats in the documentation: https://pandas.pydata.org/pandas-docs/stable/user_guide/indexing.html#returning-a-view-versus-a-copy\n",
      "  X_train['ganancia_perdida_declarada_bolsa_argentina'] = X_train['ganancia_perdida_declarada_bolsa_argentina'].apply(_log_scale)\n",
      "/home/lukas/FIUBA/tp-datos-1c2021-de-angelis-riva-continanza/Parte2/preprocessing.py:32: SettingWithCopyWarning: \n",
      "A value is trying to be set on a copy of a slice from a DataFrame.\n",
      "Try using .loc[row_indexer,col_indexer] = value instead\n",
      "\n",
      "See the caveats in the documentation: https://pandas.pydata.org/pandas-docs/stable/user_guide/indexing.html#returning-a-view-versus-a-copy\n",
      "  X_test['ganancia_perdida_declarada_bolsa_argentina'] = X_test['ganancia_perdida_declarada_bolsa_argentina'].apply(_log_scale)\n"
     ]
    }
   ],
   "source": [
    "X = df[df.columns.drop('tiene_alto_valor_adquisitivo')]\n",
    "X = pd.get_dummies(X)\n",
    "Y = df['tiene_alto_valor_adquisitivo']\n",
    "\n",
    "X_train_2, X_test_2, y_train_2, y_test_2 = train_test_split(X, Y, random_state=112)\n",
    "\n",
    "X_train_2, X_test_2 = preprocessing_significantes(X_train_2, X_test_2, variance=0.9)"
   ]
  },
  {
   "cell_type": "code",
   "execution_count": 65,
   "metadata": {},
   "outputs": [],
   "source": [
    "model = AdaBoostClassifier(n_estimators=200, algorithm='SAMME.R')\n",
    "params = {'learning_rate': np.linspace(1, 2, 5)}\n",
    "\n",
    "gscv2 = GridSearchCV(model, params, scoring='roc_auc', cv=4, n_jobs=-1, verbose=4)"
   ]
  },
  {
   "cell_type": "code",
   "execution_count": 66,
   "metadata": {},
   "outputs": [
    {
     "name": "stdout",
     "output_type": "stream",
     "text": [
      "Fitting 4 folds for each of 5 candidates, totalling 20 fits\n"
     ]
    },
    {
     "name": "stderr",
     "output_type": "stream",
     "text": [
      "[Parallel(n_jobs=-1)]: Using backend LokyBackend with 8 concurrent workers.\n",
      "[Parallel(n_jobs=-1)]: Done  11 out of  20 | elapsed:  2.4min remaining:  2.0min\n",
      "[Parallel(n_jobs=-1)]: Done  17 out of  20 | elapsed:  3.1min remaining:   32.8s\n",
      "[Parallel(n_jobs=-1)]: Done  20 out of  20 | elapsed:  3.1min finished\n"
     ]
    },
    {
     "data": {
      "text/plain": [
       "GridSearchCV(cv=4, estimator=AdaBoostClassifier(n_estimators=200), n_jobs=-1,\n",
       "             param_grid={'learning_rate': array([1.  , 1.25, 1.5 , 1.75, 2.  ])},\n",
       "             scoring='roc_auc', verbose=4)"
      ]
     },
     "execution_count": 66,
     "metadata": {},
     "output_type": "execute_result"
    }
   ],
   "source": [
    "gscv2.fit(X_train_2, y_train_2)"
   ]
  },
  {
   "cell_type": "code",
   "execution_count": 67,
   "metadata": {},
   "outputs": [
    {
     "name": "stdout",
     "output_type": "stream",
     "text": [
      "Los parámetros que mejor score obtuvieron para AdaBoost fueron: {'learning_rate': 1.0}\n",
      "Con un Score (RocAUC) de:  0.8894\n"
     ]
    }
   ],
   "source": [
    "print(\"Los parámetros que mejor score obtuvieron para AdaBoost fueron:\", gscv2.best_params_)\n",
    "print(\"Con un Score (RocAUC) de: \", round(gscv2.best_score_, 4))"
   ]
  },
  {
   "cell_type": "markdown",
   "metadata": {},
   "source": [
    "Se obtuvo un peor valor que en el preprocessing anterior, pero hay que tener en cuenta que no podíamos ser pretenciosos con la cantidad de estimadores, veamos qué sucede si ahora entrenamos un AdaBoost con el learning rate obtenido pero con una cantidad de estimadores más alta, en este caso probaremos con 1001.\n",
    "\n",
    "Armemos entonces el modelo"
   ]
  },
  {
   "cell_type": "code",
   "execution_count": 68,
   "metadata": {},
   "outputs": [],
   "source": [
    "abc2 = AdaBoostClassifier(algorithm='SAMME.R', learning_rate=1.00, n_estimators = 1001, random_state = 27)"
   ]
  },
  {
   "cell_type": "code",
   "execution_count": 69,
   "metadata": {},
   "outputs": [
    {
     "data": {
      "text/plain": [
       "AdaBoostClassifier(n_estimators=1001, random_state=27)"
      ]
     },
     "execution_count": 69,
     "metadata": {},
     "output_type": "execute_result"
    }
   ],
   "source": [
    "abc2.fit(X_train_2, y_train_2)"
   ]
  },
  {
   "cell_type": "code",
   "execution_count": 70,
   "metadata": {},
   "outputs": [
    {
     "name": "stdout",
     "output_type": "stream",
     "text": [
      "              precision    recall  f1-score   support\n",
      "\n",
      "           0       0.88      0.91      0.90      6182\n",
      "           1       0.68      0.62      0.65      1959\n",
      "\n",
      "    accuracy                           0.84      8141\n",
      "   macro avg       0.78      0.77      0.77      8141\n",
      "weighted avg       0.84      0.84      0.84      8141\n",
      "\n"
     ]
    }
   ],
   "source": [
    "print(classification_report(y_test_2,abc2.predict(X_test_2)))"
   ]
  },
  {
   "cell_type": "markdown",
   "metadata": {},
   "source": [
    "Vemos que las métricas son mucho peores que las obtenidas en el anterior modelo.\n",
    "\n",
    "Sin embargo este modelo obtuvo mayor recall para los unos, esto debería aparecer reflejado en la matriz de confusión:"
   ]
  },
  {
   "cell_type": "code",
   "execution_count": 71,
   "metadata": {},
   "outputs": [
    {
     "data": {
      "image/png": "[encoded data removed]",
      "text/plain": [
       "<Figure size 1080x504 with 2 Axes>"
      ]
     },
     "metadata": {
      "needs_background": "light"
     },
     "output_type": "display_data"
    }
   ],
   "source": [
    "fig, ax = plt.subplots(figsize=(15,7))\n",
    "plt.grid(False)\n",
    "plot_confusion_matrix(abc2, X_test_2, y_test_2, cmap=plt.cm.Blues, display_labels=['0', '1'], ax=ax)\n",
    "plt.show()"
   ]
  },
  {
   "cell_type": "markdown",
   "metadata": {},
   "source": [
    "Efectivamente vemos como los dos tipos de errores FP & FN están más equilibrados que en el modelo anterior.\n",
    "\n",
    "Veamos ahora la curva Roc y su puntuación AUC"
   ]
  },
  {
   "cell_type": "code",
   "execution_count": 72,
   "metadata": {},
   "outputs": [
    {
     "data": {
      "text/plain": [
       "<sklearn.metrics._plot.roc_curve.RocCurveDisplay at 0x7fa393b5f310>"
      ]
     },
     "execution_count": 72,
     "metadata": {},
     "output_type": "execute_result"
    },
    {
     "data": {
      "image/png": "[encoded data removed]",
      "text/plain": [
       "<Figure size 432x288 with 1 Axes>"
      ]
     },
     "metadata": {
      "needs_background": "light"
     },
     "output_type": "display_data"
    }
   ],
   "source": [
    "plot_roc_curve(abc2, X_test_2, y_test_2)"
   ]
  },
  {
   "cell_type": "code",
   "execution_count": 73,
   "metadata": {},
   "outputs": [
    {
     "data": {
      "text/plain": [
       "0.8912403396116672"
      ]
     },
     "execution_count": 73,
     "metadata": {},
     "output_type": "execute_result"
    }
   ],
   "source": [
    "roc_auc_score(y_test_2, abc2.predict_proba(X_test_2)[:,1])"
   ]
  },
  {
   "cell_type": "markdown",
   "metadata": {},
   "source": [
    "Vemos que el valor obtenido es alto, pero regular. No es el mejor modelo."
   ]
  },
  {
   "cell_type": "markdown",
   "metadata": {},
   "source": [
    "## Modelo 3 -  Bayes + Preprocessing primera parte\n",
    "\n",
    "En este caso cambiaremps el base_estimator (que por default es un árbol) a MultinomialNB, repitiendo el procedimiento anterior con dicho preprocessing, pero poniendo a todas las features entre 0 y 1, para ello utilizaremos el minmax scaler de sklearn"
   ]
  },
  {
   "cell_type": "code",
   "execution_count": 79,
   "metadata": {},
   "outputs": [],
   "source": [
    "from sklearn.preprocessing import MinMaxScaler"
   ]
  },
  {
   "cell_type": "code",
   "execution_count": 81,
   "metadata": {},
   "outputs": [],
   "source": [
    "X = df[df.columns.drop('tiene_alto_valor_adquisitivo')]\n",
    "Y = df['tiene_alto_valor_adquisitivo']\n",
    "\n",
    "X_train_3, X_test_3, y_train_3, y_test_3 = train_test_split(X, Y, random_state=112)\n",
    "\n",
    "X_train_3, X_test_3 = preprocessing_base_parte_1(X_train_3, X_test_3)\n",
    "scaler = MinMaxScaler((0, 1))\n",
    "\n",
    "X_train_3 = scaler.fit_transform(X_train_3)\n",
    "X_test_3 = scaler.transform(X_test_3)"
   ]
  },
  {
   "cell_type": "code",
   "execution_count": 95,
   "metadata": {},
   "outputs": [],
   "source": [
    "multinomialNB = MultinomialNB()\n",
    "model = AdaBoostClassifier(base_estimator=multinomialNB, algorithm='SAMME.R', n_estimators=500)\n",
    "params = {'base_estimator__alpha': np.linspace(0.25, 0.75, 3),\n",
    "          'learning_rate': np.linspace(1, 1.75, 4)\n",
    "         }\n",
    "gscv3 = GridSearchCV(model, params, scoring='roc_auc', cv=5, n_jobs=-1, verbose=4)"
   ]
  },
  {
   "cell_type": "code",
   "execution_count": 96,
   "metadata": {},
   "outputs": [
    {
     "name": "stdout",
     "output_type": "stream",
     "text": [
      "Fitting 5 folds for each of 12 candidates, totalling 60 fits\n"
     ]
    },
    {
     "name": "stderr",
     "output_type": "stream",
     "text": [
      "[Parallel(n_jobs=-1)]: Using backend LokyBackend with 8 concurrent workers.\n",
      "[Parallel(n_jobs=-1)]: Done   9 tasks      | elapsed:   20.0s\n",
      "[Parallel(n_jobs=-1)]: Done  60 out of  60 | elapsed:  1.3min finished\n"
     ]
    },
    {
     "data": {
      "text/plain": [
       "GridSearchCV(cv=5,\n",
       "             estimator=AdaBoostClassifier(base_estimator=MultinomialNB(),\n",
       "                                          n_estimators=500),\n",
       "             n_jobs=-1,\n",
       "             param_grid={'base_estimator__alpha': array([0.25, 0.5 , 0.75]),\n",
       "                         'learning_rate': array([1.  , 1.25, 1.5 , 1.75])},\n",
       "             scoring='roc_auc', verbose=4)"
      ]
     },
     "execution_count": 96,
     "metadata": {},
     "output_type": "execute_result"
    }
   ],
   "source": [
    "gscv3.fit(X_train_3, y_train_3)"
   ]
  },
  {
   "cell_type": "code",
   "execution_count": 97,
   "metadata": {},
   "outputs": [
    {
     "name": "stdout",
     "output_type": "stream",
     "text": [
      "Los parámetros que mejor score obtuvieron para AdaBoost fueron: {'base_estimator__alpha': 0.75, 'learning_rate': 1.5}\n",
      "Con un Score (RocAUC) de:  0.8688\n"
     ]
    }
   ],
   "source": [
    "print(\"Los parámetros que mejor score obtuvieron para AdaBoost fueron:\", gscv3.best_params_)\n",
    "print(\"Con un Score (RocAUC) de: \", round(gscv3.best_score_, 4))"
   ]
  },
  {
   "cell_type": "markdown",
   "metadata": {},
   "source": [
    "Este modelo no tiene mucha pinta, pero vamos a poner más estimadores."
   ]
  },
  {
   "cell_type": "code",
   "execution_count": 101,
   "metadata": {},
   "outputs": [],
   "source": [
    "nb = MultinomialNB(alpha = 0.75)\n",
    "abc3 = AdaBoostClassifier(nb, algorithm='SAMME.R', learning_rate= 1.5, n_estimators = 1501, random_state = 27)"
   ]
  },
  {
   "cell_type": "code",
   "execution_count": 102,
   "metadata": {},
   "outputs": [
    {
     "data": {
      "text/plain": [
       "AdaBoostClassifier(base_estimator=MultinomialNB(alpha=0.75), learning_rate=1.5,\n",
       "                   n_estimators=1501, random_state=27)"
      ]
     },
     "execution_count": 102,
     "metadata": {},
     "output_type": "execute_result"
    }
   ],
   "source": [
    "abc3.fit(X_train_3, y_train_3)"
   ]
  },
  {
   "cell_type": "code",
   "execution_count": 103,
   "metadata": {},
   "outputs": [
    {
     "name": "stdout",
     "output_type": "stream",
     "text": [
      "              precision    recall  f1-score   support\n",
      "\n",
      "           0       0.85      0.93      0.89      6182\n",
      "           1       0.69      0.49      0.58      1959\n",
      "\n",
      "    accuracy                           0.83      8141\n",
      "   macro avg       0.77      0.71      0.73      8141\n",
      "weighted avg       0.81      0.83      0.81      8141\n",
      "\n"
     ]
    }
   ],
   "source": [
    "print(classification_report(y_test_3,abc3.predict(X_test_3)))"
   ]
  },
  {
   "cell_type": "markdown",
   "metadata": {},
   "source": [
    "Vemos que evidentemente este modelo no es de los mejores hechos en el trabajo práctico. Se centra mucho en los ceros y bastante poco en los unos. Eso se va a poder reflejar en la matriz de confusión:"
   ]
  },
  {
   "cell_type": "code",
   "execution_count": 104,
   "metadata": {},
   "outputs": [
    {
     "data": {
      "image/png": "[encoded data removed]",
      "text/plain": [
       "<Figure size 1080x504 with 2 Axes>"
      ]
     },
     "metadata": {
      "needs_background": "light"
     },
     "output_type": "display_data"
    }
   ],
   "source": [
    "fig, ax = plt.subplots(figsize=(15,7))\n",
    "plt.grid(False)\n",
    "plot_confusion_matrix(abc3, X_test_3, y_test_3, cmap=plt.cm.Blues, display_labels=['0', '1'], ax=ax)\n",
    "plt.show()"
   ]
  },
  {
   "cell_type": "markdown",
   "metadata": {},
   "source": [
    "Como ya fue comentado, este modelo predice muchos ceros, y esto se puede observar en la gran cantidad de falsos negativos obtenidos (los cuales son superiores a los verdaderos positivos). Aquí en la matriz de confusión vemos que este modelo no es tan bueno realmente.\n",
    "\n",
    "Veamos de todas formas la curva ROC y su puntuación AUC"
   ]
  },
  {
   "cell_type": "code",
   "execution_count": 105,
   "metadata": {},
   "outputs": [
    {
     "data": {
      "text/plain": [
       "<sklearn.metrics._plot.roc_curve.RocCurveDisplay at 0x7fa3938f65e0>"
      ]
     },
     "execution_count": 105,
     "metadata": {},
     "output_type": "execute_result"
    },
    {
     "data": {
      "image/png": "[encoded data removed]",
      "text/plain": [
       "<Figure size 432x288 with 1 Axes>"
      ]
     },
     "metadata": {
      "needs_background": "light"
     },
     "output_type": "display_data"
    }
   ],
   "source": [
    "plot_roc_curve(abc3, X_test_3, y_test_3)"
   ]
  },
  {
   "cell_type": "code",
   "execution_count": 106,
   "metadata": {},
   "outputs": [
    {
     "data": {
      "text/plain": [
       "0.8731788794188995"
      ]
     },
     "execution_count": 106,
     "metadata": {},
     "output_type": "execute_result"
    }
   ],
   "source": [
    "roc_auc_score(y_test_3, abc3.predict_proba(X_test_3)[:,1])"
   ]
  },
  {
   "cell_type": "markdown",
   "metadata": {},
   "source": [
    "La métrica AUC-ROC empeoró ligeramente. Y es de las peores obtenidas hasta el momento."
   ]
  },
  {
   "cell_type": "markdown",
   "metadata": {},
   "source": [
    "## Modelo 4 -  Bayes + Preprocessing equilibrado\n",
    "\n",
    "En este caso cambiaremos el base_estimator (que por default es un árbol) a MultinomialNB.\n",
    "Equilibraremos el data frame (es decir, habrá la misma cantidad de valores para cero como para uno).\n",
    "\n",
    "Queremos ver cómo se comporta nuestro modelo basado en Naive Bayes frente a la situación de equilibrar el data frame de entrenamiento. Quizá así no se ve tan sesgado a predecir ceros debido a su alta tasa de aparición.\n",
    "\n",
    "\n",
    "Pondremos a todas las features entre 0 y 1, para ello utilizaremos el minmax scaler de sklearn"
   ]
  },
  {
   "cell_type": "code",
   "execution_count": 118,
   "metadata": {},
   "outputs": [],
   "source": [
    "X = df[df.columns.drop('tiene_alto_valor_adquisitivo')]\n",
    "X = pd.get_dummies(X)\n",
    "Y = df['tiene_alto_valor_adquisitivo']\n",
    "\n",
    "X_train_4, X_test_4, y_train_4, y_test_4 = train_test_split(X, Y, random_state=112)\n",
    "X_train_4, X_test_4, y_train_4, y_test_4 = preprocessing_equilibrado(X_train_4, X_test_4, y_train_4, y_test_4)\n",
    "\n",
    "scaler = MinMaxScaler((0, 1))\n",
    "X_train_4 = pd.DataFrame(scaler.fit_transform(X_train_4))\n",
    "X_test_4 = pd.DataFrame(scaler.transform(X_test_4))"
   ]
  },
  {
   "cell_type": "code",
   "execution_count": 119,
   "metadata": {},
   "outputs": [],
   "source": [
    "multinomialNB = MultinomialNB()\n",
    "model = AdaBoostClassifier(base_estimator=multinomialNB, algorithm='SAMME.R', n_estimators=500)\n",
    "params = {'base_estimator__alpha': np.linspace(0.25, 0.75, 3),\n",
    "          'learning_rate': np.linspace(1, 1.75, 4)\n",
    "         }\n",
    "gscv4 = GridSearchCV(model, params, scoring='roc_auc', cv=5, n_jobs=-1, verbose=4)"
   ]
  },
  {
   "cell_type": "code",
   "execution_count": 120,
   "metadata": {},
   "outputs": [
    {
     "name": "stdout",
     "output_type": "stream",
     "text": [
      "Fitting 5 folds for each of 12 candidates, totalling 60 fits\n"
     ]
    },
    {
     "name": "stderr",
     "output_type": "stream",
     "text": [
      "[Parallel(n_jobs=-1)]: Using backend LokyBackend with 8 concurrent workers.\n",
      "[Parallel(n_jobs=-1)]: Done   9 tasks      | elapsed:   29.2s\n",
      "[Parallel(n_jobs=-1)]: Done  60 out of  60 | elapsed:  1.8min finished\n"
     ]
    },
    {
     "data": {
      "text/plain": [
       "GridSearchCV(cv=5,\n",
       "             estimator=AdaBoostClassifier(base_estimator=MultinomialNB(),\n",
       "                                          n_estimators=500),\n",
       "             n_jobs=-1,\n",
       "             param_grid={'base_estimator__alpha': array([0.25, 0.5 , 0.75]),\n",
       "                         'learning_rate': array([1.  , 1.25, 1.5 , 1.75])},\n",
       "             scoring='roc_auc', verbose=4)"
      ]
     },
     "execution_count": 120,
     "metadata": {},
     "output_type": "execute_result"
    }
   ],
   "source": [
    "gscv4.fit(X_train_4, y_train_4)"
   ]
  },
  {
   "cell_type": "code",
   "execution_count": 121,
   "metadata": {},
   "outputs": [
    {
     "name": "stdout",
     "output_type": "stream",
     "text": [
      "Los parámetros que mejor score obtuvieron para AdaBoost fueron: {'base_estimator__alpha': 0.75, 'learning_rate': 1.0}\n",
      "Con un Score (RocAUC) de:  0.8863\n"
     ]
    }
   ],
   "source": [
    "print(\"Los parámetros que mejor score obtuvieron para AdaBoost fueron:\", gscv4.best_params_)\n",
    "print(\"Con un Score (RocAUC) de: \", round(gscv4.best_score_, 4))"
   ]
  },
  {
   "cell_type": "markdown",
   "metadata": {},
   "source": [
    "Nuevamente, este modelo no parece tener mucho futuro, pero es mejor que en anterior, por lo que vamos a realizar el modelo con más estimadores, en este caso 1501."
   ]
  },
  {
   "cell_type": "code",
   "execution_count": 122,
   "metadata": {},
   "outputs": [],
   "source": [
    "nb = MultinomialNB(alpha = 0.75)\n",
    "abc4 = AdaBoostClassifier(nb, algorithm='SAMME.R', learning_rate=1.0, n_estimators = 1501, random_state = 27)"
   ]
  },
  {
   "cell_type": "code",
   "execution_count": 124,
   "metadata": {},
   "outputs": [
    {
     "data": {
      "text/plain": [
       "AdaBoostClassifier(base_estimator=MultinomialNB(alpha=0.75), n_estimators=1501,\n",
       "                   random_state=27)"
      ]
     },
     "execution_count": 124,
     "metadata": {},
     "output_type": "execute_result"
    }
   ],
   "source": [
    "abc4.fit(X_train_4, y_train_4)"
   ]
  },
  {
   "cell_type": "code",
   "execution_count": 130,
   "metadata": {},
   "outputs": [
    {
     "name": "stdout",
     "output_type": "stream",
     "text": [
      "              precision    recall  f1-score   support\n",
      "\n",
      "           0       1.00      0.35      0.52      6182\n",
      "           1       0.33      0.99      0.49      1959\n",
      "\n",
      "    accuracy                           0.51      8141\n",
      "   macro avg       0.66      0.67      0.51      8141\n",
      "weighted avg       0.83      0.51      0.52      8141\n",
      "\n"
     ]
    }
   ],
   "source": [
    "print(classification_report(y_test_4,abc4.predict(X_test_4)))"
   ]
  },
  {
   "cell_type": "markdown",
   "metadata": {},
   "source": [
    "El modelo hizo cualquier cosa. Es el peor obtenido hasta el momento."
   ]
  },
  {
   "cell_type": "code",
   "execution_count": 131,
   "metadata": {},
   "outputs": [
    {
     "data": {
      "image/png": "[encoded data removed]",
      "text/plain": [
       "<Figure size 1080x504 with 2 Axes>"
      ]
     },
     "metadata": {
      "needs_background": "light"
     },
     "output_type": "display_data"
    }
   ],
   "source": [
    "fig, ax = plt.subplots(figsize=(15,7))\n",
    "plt.grid(False)\n",
    "plot_confusion_matrix(abc4, X_test_4, y_test_4, cmap=plt.cm.Blues, display_labels=['0', '1'], ax=ax)\n",
    "plt.show()"
   ]
  },
  {
   "cell_type": "markdown",
   "metadata": {},
   "source": [
    "Vemos que la matriz de confusión no tiene sentido alguno."
   ]
  },
  {
   "cell_type": "code",
   "execution_count": 132,
   "metadata": {},
   "outputs": [
    {
     "data": {
      "text/plain": [
       "<sklearn.metrics._plot.roc_curve.RocCurveDisplay at 0x7fa350f34f10>"
      ]
     },
     "execution_count": 132,
     "metadata": {},
     "output_type": "execute_result"
    },
    {
     "data": {
      "image/png": "[encoded data removed]",
      "text/plain": [
       "<Figure size 432x288 with 1 Axes>"
      ]
     },
     "metadata": {
      "needs_background": "light"
     },
     "output_type": "display_data"
    }
   ],
   "source": [
    "plot_roc_curve(abc4, X_test_4, y_test_4)"
   ]
  },
  {
   "cell_type": "code",
   "execution_count": 128,
   "metadata": {},
   "outputs": [
    {
     "data": {
      "text/plain": [
       "0.8926168267669032"
      ]
     },
     "execution_count": 128,
     "metadata": {},
     "output_type": "execute_result"
    }
   ],
   "source": [
    "roc_auc_score(y_test_4, abc4.predict_proba(X_test_4)[:,1])"
   ]
  },
  {
   "cell_type": "markdown",
   "metadata": {},
   "source": [
    "Y vemos que el valor obtenido de RocAUC da alto, lo cual nos deja sorprendidos.\n",
    "\n",
    "También podemos observar que la curva comienza a inclinarse bastante temprano en FalsePositiveRate."
   ]
  },
  {
   "cell_type": "markdown",
   "metadata": {},
   "source": [
    "### Persistencia de modelos"
   ]
  },
  {
   "cell_type": "code",
   "execution_count": 2,
   "metadata": {},
   "outputs": [],
   "source": [
    "import pickle"
   ]
  },
  {
   "cell_type": "code",
   "execution_count": 135,
   "metadata": {},
   "outputs": [],
   "source": [
    "pickle.dump(abc1, open(\"Modelos/AdaBoost/abc1.pickle\", \"wb\"))\n",
    "pickle.dump(abc2, open(\"Modelos/AdaBoost/abc2.pickle\", \"wb\"))\n",
    "pickle.dump(abc3, open(\"Modelos/AdaBoost/abc3.pickle\", \"wb\"))\n",
    "pickle.dump(abc4, open(\"Modelos/AdaBoost/abc4.pickle\", \"wb\"))"
   ]
  },
  {
   "cell_type": "markdown",
   "metadata": {},
   "source": [
    "# Predicción de HoldOut\n",
    "\n",
    "Usaremos para predecir el AdaBoost obtenido para el preprocessing base."
   ]
  },
  {
   "cell_type": "code",
   "execution_count": 3,
   "metadata": {},
   "outputs": [],
   "source": [
    "abc1 = pickle.load(open(\"Modelos/AdaBoost/abc1.pickle\", \"rb\"))"
   ]
  },
  {
   "cell_type": "code",
   "execution_count": 6,
   "metadata": {},
   "outputs": [],
   "source": [
    "def holdout():\n",
    "    ids, X = utils.get_holdout_data()\n",
    "    X, _ = preprocessing_base_parte_1(X, X)\n",
    "    return ids, X"
   ]
  },
  {
   "cell_type": "code",
   "execution_count": 7,
   "metadata": {},
   "outputs": [],
   "source": [
    "ids, X = holdout()"
   ]
  },
  {
   "cell_type": "code",
   "execution_count": 8,
   "metadata": {},
   "outputs": [],
   "source": [
    "utils.escribir_holdout(abc1.predict(X), \"9 - AdaBoost\", ids)"
   ]
  }
 ],
 "metadata": {
  "kernelspec": {
   "display_name": "Python 3",
   "language": "python",
   "name": "python3"
  },
  "language_info": {
   "codemirror_mode": {
    "name": "ipython",
    "version": 3
   },
   "file_extension": ".py",
   "mimetype": "text/x-python",
   "name": "python",
   "nbconvert_exporter": "python",
   "pygments_lexer": "ipython3",
   "version": "3.8.10"
  }
 },
 "nbformat": 4,
 "nbformat_minor": 4
}

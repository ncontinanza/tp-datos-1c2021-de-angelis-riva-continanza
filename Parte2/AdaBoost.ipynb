{
 "cells": [
  {
   "cell_type": "markdown",
   "metadata": {},
   "source": [
    "### AdaBoost\n",
    "\n",
    "En este notebook utilizaremos AdaBoostClassifier para entrenar y predecir sobre el dataset de entrenamiento, con dos preprocesamientos distintos: uno muy similar al realizado en la parte 1 de este TP pero escalando los datos, y el segundo será el resultado de la función `preprocessing_significantes`. Estos dos preprocesamientos los usaremos con un modelo de AdaBoost con `base_estimator` default (árboles). Luego, cambiaremos ese estimador por un MultinomialNB, y lo usaremos con los preprocesamientos de la parte 1 del TP y el equilibrado."
   ]
  },
  {
   "cell_type": "code",
   "execution_count": 1,
   "metadata": {},
   "outputs": [],
   "source": [
    "# Modelo \n",
    "from sklearn.naive_bayes import MultinomialNB\n",
    "from sklearn.ensemble import AdaBoostClassifier\n",
    "\n",
    "# Preprocessing\n",
    "import preprocessing\n",
    "from sklearn.preprocessing import MinMaxScaler\n",
    "from sklearn.impute import SimpleImputer\n",
    "\n",
    "# Búsqueda\n",
    "from sklearn.model_selection import train_test_split, GridSearchCV\n",
    "\n",
    "# Metrics \n",
    "from sklearn.metrics import roc_curve, plot_roc_curve, auc, roc_auc_score, classification_report, confusion_matrix, plot_confusion_matrix\n",
    "\n",
    "# Plots\n",
    "from matplotlib import pyplot as plt\n",
    "\n",
    "#Otros\n",
    "import pandas as pd\n",
    "import numpy as np\n",
    "import utils"
   ]
  },
  {
   "cell_type": "markdown",
   "metadata": {},
   "source": [
    "Esta vez, usaremos una instancia del SimpleImputer de sklearn para rellenar los valores faltantes, utilizando la estrategia de utilizar el valor más frecuente en cada columna."
   ]
  },
  {
   "cell_type": "code",
   "execution_count": 2,
   "metadata": {},
   "outputs": [],
   "source": [
    "imputer = SimpleImputer(strategy='most_frequent')\n",
    "df = utils.get_data()\n",
    "df_imp = pd.DataFrame(imputer.fit_transform(df[['ganancia_perdida_declarada_bolsa_argentina', 'edad', 'rol_familiar_registrado', 'anios_estudiados']]))\n"
   ]
  },
  {
   "cell_type": "markdown",
   "metadata": {},
   "source": [
    "Creamos las variables dummy, separamos la columna de valor adquisitivo, y separamos el dataset en training y test."
   ]
  },
  {
   "cell_type": "code",
   "execution_count": 3,
   "metadata": {},
   "outputs": [],
   "source": [
    "X = df_imp\n",
    "X = pd.get_dummies(X)\n",
    "Y = df['tiene_alto_valor_adquisitivo']\n",
    "\n",
    "X_train, X_test, y_train, y_test = train_test_split(X, Y, random_state=112)"
   ]
  },
  {
   "cell_type": "markdown",
   "metadata": {},
   "source": [
    "Usamos GridSearchCV con los siguientes hiperparámetros, y entrenamos los modelos"
   ]
  },
  {
   "cell_type": "code",
   "execution_count": 4,
   "metadata": {},
   "outputs": [],
   "source": [
    "params = { 'n_estimators':range(100,501,100), 'learning_rate': np.linspace(0.1, 5, 10), 'algorithm': ('SAMME', 'SAMME.R') }\n",
    "model = AdaBoostClassifier()"
   ]
  },
  {
   "cell_type": "code",
   "execution_count": 5,
   "metadata": {},
   "outputs": [],
   "source": [
    "gscv = GridSearchCV(model, params, scoring='roc_auc', cv=4, n_jobs=-1, verbose=10)"
   ]
  },
  {
   "cell_type": "code",
   "execution_count": 6,
   "metadata": {},
   "outputs": [
    {
     "name": "stdout",
     "output_type": "stream",
     "text": [
      "Fitting 4 folds for each of 100 candidates, totalling 400 fits\n"
     ]
    },
    {
     "name": "stderr",
     "output_type": "stream",
     "text": [
      "[Parallel(n_jobs=-1)]: Using backend LokyBackend with 4 concurrent workers.\n",
      "[Parallel(n_jobs=-1)]: Done   5 tasks      | elapsed:   52.3s\n",
      "[Parallel(n_jobs=-1)]: Done  10 tasks      | elapsed:  1.7min\n",
      "[Parallel(n_jobs=-1)]: Done  17 tasks      | elapsed:  4.1min\n",
      "[Parallel(n_jobs=-1)]: Done  24 tasks      | elapsed:  4.4min\n",
      "[Parallel(n_jobs=-1)]: Done  33 tasks      | elapsed:  6.9min\n",
      "[Parallel(n_jobs=-1)]: Done  42 tasks      | elapsed:  8.5min\n",
      "[Parallel(n_jobs=-1)]: Done  53 tasks      | elapsed: 10.9min\n",
      "[Parallel(n_jobs=-1)]: Done  64 tasks      | elapsed: 12.6min\n",
      "[Parallel(n_jobs=-1)]: Done  77 tasks      | elapsed: 16.2min\n",
      "[Parallel(n_jobs=-1)]: Done  90 tasks      | elapsed: 16.5min\n",
      "[Parallel(n_jobs=-1)]: Done 105 tasks      | elapsed: 16.6min\n",
      "[Parallel(n_jobs=-1)]: Done 120 tasks      | elapsed: 16.7min\n",
      "[Parallel(n_jobs=-1)]: Done 137 tasks      | elapsed: 16.8min\n",
      "[Parallel(n_jobs=-1)]: Done 154 tasks      | elapsed: 16.9min\n",
      "[Parallel(n_jobs=-1)]: Done 173 tasks      | elapsed: 16.9min\n",
      "[Parallel(n_jobs=-1)]: Done 192 tasks      | elapsed: 17.0min\n",
      "[Parallel(n_jobs=-1)]: Done 213 tasks      | elapsed: 19.8min\n",
      "[Parallel(n_jobs=-1)]: Done 234 tasks      | elapsed: 24.1min\n",
      "[Parallel(n_jobs=-1)]: Done 257 tasks      | elapsed: 29.6min\n",
      "[Parallel(n_jobs=-1)]: Done 280 tasks      | elapsed: 34.0min\n",
      "[Parallel(n_jobs=-1)]: Done 305 tasks      | elapsed: 36.8min\n",
      "[Parallel(n_jobs=-1)]: Done 330 tasks      | elapsed: 40.3min\n",
      "[Parallel(n_jobs=-1)]: Done 357 tasks      | elapsed: 46.0min\n",
      "[Parallel(n_jobs=-1)]: Done 384 tasks      | elapsed: 49.6min\n",
      "[Parallel(n_jobs=-1)]: Done 400 out of 400 | elapsed: 53.0min finished\n"
     ]
    },
    {
     "name": "stdout",
     "output_type": "stream",
     "text": [
      "CPU times: user 35.1 s, sys: 451 ms, total: 35.6 s\n",
      "Wall time: 54min 56s\n"
     ]
    }
   ],
   "source": [
    "%%time\n",
    "gscv.fit(X_train, y_train)\n",
    "score = roc_auc_score(y_test, gscv.predict_proba(X_test)[:,1])"
   ]
  },
  {
   "cell_type": "markdown",
   "metadata": {},
   "source": [
    "Analicemos lo obtenido:"
   ]
  },
  {
   "cell_type": "code",
   "execution_count": 9,
   "metadata": {},
   "outputs": [
    {
     "data": {
      "text/plain": [
       "{'algorithm': 'SAMME.R',\n",
       " 'learning_rate': 0.6444444444444445,\n",
       " 'n_estimators': 300}"
      ]
     },
     "execution_count": 9,
     "metadata": {},
     "output_type": "execute_result"
    }
   ],
   "source": [
    "gscv.best_params_"
   ]
  },
  {
   "cell_type": "code",
   "execution_count": 10,
   "metadata": {},
   "outputs": [
    {
     "data": {
      "text/plain": [
       "0.9188260257306489"
      ]
     },
     "execution_count": 10,
     "metadata": {},
     "output_type": "execute_result"
    }
   ],
   "source": [
    "score"
   ]
  },
  {
   "cell_type": "code",
   "execution_count": 11,
   "metadata": {},
   "outputs": [
    {
     "name": "stdout",
     "output_type": "stream",
     "text": [
      "              precision    recall  f1-score   support\n",
      "\n",
      "           0       0.87      0.96      0.91      6182\n",
      "           1       0.81      0.55      0.66      1959\n",
      "\n",
      "    accuracy                           0.86      8141\n",
      "   macro avg       0.84      0.76      0.78      8141\n",
      "weighted avg       0.86      0.86      0.85      8141\n",
      "\n"
     ]
    }
   ],
   "source": [
    "print(classification_report(y_test,gscv.predict(X_test)))"
   ]
  },
  {
   "cell_type": "markdown",
   "metadata": {},
   "source": [
    "Vemos muy buenos resultados en términos de accuracy. También tenemos una buena performance en la clasificación de muestras que no tienen poder adquisitivo alto, y un desempeño decente (en comparación con lo visto en otros modelos) para clasificar casos de poder adquisitivo alto. En líneas generales, es claramente superador a lo realizado en la parte 1 del TP."
   ]
  },
  {
   "cell_type": "code",
   "execution_count": 12,
   "metadata": {},
   "outputs": [
    {
     "data": {
      "image/png": "[encoded data removed]",
      "text/plain": [
       "<Figure size 1080x504 with 2 Axes>"
      ]
     },
     "metadata": {
      "needs_background": "light"
     },
     "output_type": "display_data"
    }
   ],
   "source": [
    "fig, ax = plt.subplots(figsize=(15,7))\n",
    "plt.grid(False)\n",
    "plot_confusion_matrix(gscv, X_test, y_test, cmap=plt.cm.Blues, display_labels=['1', '0'], ax=ax)\n",
    "plt.show()"
   ]
  },
  {
   "cell_type": "code",
   "execution_count": 13,
   "metadata": {},
   "outputs": [
    {
     "data": {
      "text/plain": [
       "<sklearn.metrics._plot.roc_curve.RocCurveDisplay at 0x7f8ace5c4400>"
      ]
     },
     "execution_count": 13,
     "metadata": {},
     "output_type": "execute_result"
    },
    {
     "data": {
      "image/png": "[encoded data removed]",
      "text/plain": [
       "<Figure size 432x288 with 1 Axes>"
      ]
     },
     "metadata": {
      "needs_background": "light"
     },
     "output_type": "display_data"
    }
   ],
   "source": [
    "plot_roc_curve(gscv, X_test, y_test)"
   ]
  },
  {
   "cell_type": "markdown",
   "metadata": {},
   "source": [
    "La métrica AUC-ROC se encuentra entre las mejores que obtuvimos hasta ahora."
   ]
  },
  {
   "cell_type": "markdown",
   "metadata": {},
   "source": [
    "### AdaBoost con Bayes\n",
    "\n",
    "Estudiemos qué resulta de cambiar el base_estimator (que por default es un árbol) a MultinomialNB, repitiendo el procedimiento anterior."
   ]
  },
  {
   "cell_type": "code",
   "execution_count": 14,
   "metadata": {},
   "outputs": [],
   "source": [
    "multinomialNB = MultinomialNB(alpha=0.1402805611222445)\n",
    "model_nb = AdaBoostClassifier(base_estimator=multinomialNB)"
   ]
  },
  {
   "cell_type": "code",
   "execution_count": 15,
   "metadata": {},
   "outputs": [],
   "source": [
    "gscv_nb = GridSearchCV(model_nb, params, scoring='roc_auc', cv=4, n_jobs=-1, verbose=10)"
   ]
  },
  {
   "cell_type": "code",
   "execution_count": 16,
   "metadata": {},
   "outputs": [
    {
     "name": "stdout",
     "output_type": "stream",
     "text": [
      "Fitting 4 folds for each of 100 candidates, totalling 400 fits\n"
     ]
    },
    {
     "name": "stderr",
     "output_type": "stream",
     "text": [
      "[Parallel(n_jobs=-1)]: Using backend LokyBackend with 4 concurrent workers.\n",
      "[Parallel(n_jobs=-1)]: Done   5 tasks      | elapsed:  1.1min\n",
      "[Parallel(n_jobs=-1)]: Done  10 tasks      | elapsed:  2.1min\n",
      "[Parallel(n_jobs=-1)]: Done  17 tasks      | elapsed:  5.4min\n",
      "[Parallel(n_jobs=-1)]: Done  24 tasks      | elapsed:  5.9min\n",
      "[Parallel(n_jobs=-1)]: Done  33 tasks      | elapsed:  7.3min\n",
      "[Parallel(n_jobs=-1)]: Done  42 tasks      | elapsed:  8.4min\n",
      "[Parallel(n_jobs=-1)]: Done  53 tasks      | elapsed:  9.4min\n",
      "[Parallel(n_jobs=-1)]: Done  64 tasks      | elapsed: 10.5min\n",
      "[Parallel(n_jobs=-1)]: Done  77 tasks      | elapsed: 13.3min\n",
      "[Parallel(n_jobs=-1)]: Done  90 tasks      | elapsed: 14.1min\n",
      "[Parallel(n_jobs=-1)]: Done 105 tasks      | elapsed: 14.6min\n",
      "[Parallel(n_jobs=-1)]: Done 120 tasks      | elapsed: 14.8min\n",
      "[Parallel(n_jobs=-1)]: Done 137 tasks      | elapsed: 14.9min\n",
      "[Parallel(n_jobs=-1)]: Done 154 tasks      | elapsed: 15.0min\n",
      "[Parallel(n_jobs=-1)]: Done 173 tasks      | elapsed: 15.1min\n",
      "[Parallel(n_jobs=-1)]: Done 192 tasks      | elapsed: 15.2min\n",
      "[Parallel(n_jobs=-1)]: Done 213 tasks      | elapsed: 19.0min\n",
      "[Parallel(n_jobs=-1)]: Done 234 tasks      | elapsed: 25.1min\n",
      "[Parallel(n_jobs=-1)]: Done 257 tasks      | elapsed: 32.1min\n",
      "[Parallel(n_jobs=-1)]: Done 280 tasks      | elapsed: 37.0min\n",
      "[Parallel(n_jobs=-1)]: Done 305 tasks      | elapsed: 42.1min\n",
      "[Parallel(n_jobs=-1)]: Done 330 tasks      | elapsed: 47.7min\n",
      "[Parallel(n_jobs=-1)]: Done 357 tasks      | elapsed: 54.9min\n",
      "[Parallel(n_jobs=-1)]: Done 384 tasks      | elapsed: 60.0min\n",
      "[Parallel(n_jobs=-1)]: Done 400 out of 400 | elapsed: 64.1min finished\n"
     ]
    },
    {
     "name": "stdout",
     "output_type": "stream",
     "text": [
      "CPU times: user 2min 33s, sys: 1min 28s, total: 4min 2s\n",
      "Wall time: 1h 5min 28s\n"
     ]
    }
   ],
   "source": [
    "%%time\n",
    "gscv_nb.fit(X_train, y_train)\n",
    "score = roc_auc_score(y_test, gscv_nb.predict_proba(X_test)[:,1])"
   ]
  },
  {
   "cell_type": "code",
   "execution_count": 17,
   "metadata": {},
   "outputs": [
    {
     "data": {
      "text/plain": [
       "{'algorithm': 'SAMME.R',\n",
       " 'learning_rate': 0.6444444444444445,\n",
       " 'n_estimators': 500}"
      ]
     },
     "execution_count": 17,
     "metadata": {},
     "output_type": "execute_result"
    }
   ],
   "source": [
    "gscv_nb.best_params_"
   ]
  },
  {
   "cell_type": "code",
   "execution_count": 18,
   "metadata": {},
   "outputs": [
    {
     "data": {
      "text/plain": [
       "0.9127565596177478"
      ]
     },
     "execution_count": 18,
     "metadata": {},
     "output_type": "execute_result"
    }
   ],
   "source": [
    "score"
   ]
  },
  {
   "cell_type": "code",
   "execution_count": 19,
   "metadata": {},
   "outputs": [
    {
     "name": "stdout",
     "output_type": "stream",
     "text": [
      "              precision    recall  f1-score   support\n",
      "\n",
      "           0       0.87      0.95      0.91      6182\n",
      "           1       0.79      0.55      0.65      1959\n",
      "\n",
      "    accuracy                           0.86      8141\n",
      "   macro avg       0.83      0.75      0.78      8141\n",
      "weighted avg       0.85      0.86      0.85      8141\n",
      "\n"
     ]
    }
   ],
   "source": [
    "print(classification_report(y_test,gscv_nb.predict(X_test)))"
   ]
  },
  {
   "cell_type": "markdown",
   "metadata": {},
   "source": [
    "Vemos que la mejor combinación de hiperparámetros obtenida utiliza el mismo algoritmo y el mismo learning rate que en el caso anterior, pero aumentó la cantidad de estimadores. Sin embargo, esto no llevó a un aumento apreciable en la performance del modelo sobre el dataset utilizado."
   ]
  },
  {
   "cell_type": "code",
   "execution_count": 20,
   "metadata": {},
   "outputs": [
    {
     "data": {
      "image/png": "[encoded data removed]",
      "text/plain": [
       "<Figure size 1080x504 with 2 Axes>"
      ]
     },
     "metadata": {
      "needs_background": "light"
     },
     "output_type": "display_data"
    }
   ],
   "source": [
    "fig, ax = plt.subplots(figsize=(15,7))\n",
    "plt.grid(False)\n",
    "plot_confusion_matrix(gscv_nb, X_test, y_test, cmap=plt.cm.Blues, display_labels=['1', '0'], ax=ax)\n",
    "plt.show()"
   ]
  },
  {
   "cell_type": "code",
   "execution_count": 21,
   "metadata": {},
   "outputs": [
    {
     "data": {
      "text/plain": [
       "<sklearn.metrics._plot.roc_curve.RocCurveDisplay at 0x7f8ace38acf8>"
      ]
     },
     "execution_count": 21,
     "metadata": {},
     "output_type": "execute_result"
    },
    {
     "data": {
      "image/png": "[encoded data removed]",
      "text/plain": [
       "<Figure size 432x288 with 1 Axes>"
      ]
     },
     "metadata": {
      "needs_background": "light"
     },
     "output_type": "display_data"
    }
   ],
   "source": [
    "plot_roc_curve(gscv_nb, X_test, y_test)"
   ]
  },
  {
   "cell_type": "markdown",
   "metadata": {},
   "source": [
    "La métrica AUC-ROC empeoró ligeramente."
   ]
  },
  {
   "cell_type": "markdown",
   "metadata": {},
   "source": [
    "### AdaBoost con `preprocessing_significantes`\n",
    "\n",
    "Para finalizar, veamos qué obtenemos al cambiar el preprocesamiento por el realizado con la función `preprocessing_significantes`"
   ]
  },
  {
   "cell_type": "code",
   "execution_count": 22,
   "metadata": {},
   "outputs": [],
   "source": [
    "df, pa = preprocessing.preprocessing_significantes(utils.feature_engineering(utils.get_data()))"
   ]
  },
  {
   "cell_type": "code",
   "execution_count": 23,
   "metadata": {},
   "outputs": [],
   "source": [
    "X_train, X_test, y_train, y_test = train_test_split(df, pa, random_state=112)"
   ]
  },
  {
   "cell_type": "code",
   "execution_count": 24,
   "metadata": {},
   "outputs": [],
   "source": [
    "params = { 'n_estimators':range(100,501,100), 'learning_rate': np.linspace(0.1, 5, 10), 'algorithm': ('SAMME', 'SAMME.R') }\n",
    "model = AdaBoostClassifier()"
   ]
  },
  {
   "cell_type": "code",
   "execution_count": 25,
   "metadata": {},
   "outputs": [],
   "source": [
    "gscv = GridSearchCV(model, params, scoring='roc_auc', cv=4, n_jobs=-1, verbose=10)"
   ]
  },
  {
   "cell_type": "code",
   "execution_count": 26,
   "metadata": {},
   "outputs": [
    {
     "name": "stdout",
     "output_type": "stream",
     "text": [
      "Fitting 4 folds for each of 100 candidates, totalling 400 fits\n"
     ]
    },
    {
     "name": "stderr",
     "output_type": "stream",
     "text": [
      "[Parallel(n_jobs=-1)]: Using backend LokyBackend with 4 concurrent workers.\n",
      "[Parallel(n_jobs=-1)]: Done   5 tasks      | elapsed:   43.9s\n",
      "[Parallel(n_jobs=-1)]: Done  10 tasks      | elapsed:  1.5min\n",
      "[Parallel(n_jobs=-1)]: Done  17 tasks      | elapsed:  3.6min\n",
      "[Parallel(n_jobs=-1)]: Done  24 tasks      | elapsed:  4.0min\n",
      "[Parallel(n_jobs=-1)]: Done  33 tasks      | elapsed:  6.1min\n",
      "[Parallel(n_jobs=-1)]: Done  42 tasks      | elapsed:  7.7min\n",
      "[Parallel(n_jobs=-1)]: Done  53 tasks      | elapsed:  9.9min\n",
      "[Parallel(n_jobs=-1)]: Done  64 tasks      | elapsed: 11.6min\n",
      "[Parallel(n_jobs=-1)]: Done  77 tasks      | elapsed: 14.8min\n",
      "[Parallel(n_jobs=-1)]: Done  90 tasks      | elapsed: 15.1min\n",
      "[Parallel(n_jobs=-1)]: Done 105 tasks      | elapsed: 15.3min\n",
      "[Parallel(n_jobs=-1)]: Done 120 tasks      | elapsed: 15.3min\n",
      "[Parallel(n_jobs=-1)]: Done 137 tasks      | elapsed: 15.4min\n",
      "[Parallel(n_jobs=-1)]: Done 154 tasks      | elapsed: 15.4min\n",
      "[Parallel(n_jobs=-1)]: Done 173 tasks      | elapsed: 15.5min\n",
      "[Parallel(n_jobs=-1)]: Done 192 tasks      | elapsed: 15.5min\n",
      "[Parallel(n_jobs=-1)]: Done 213 tasks      | elapsed: 18.1min\n",
      "[Parallel(n_jobs=-1)]: Done 234 tasks      | elapsed: 22.0min\n",
      "[Parallel(n_jobs=-1)]: Done 257 tasks      | elapsed: 27.0min\n",
      "[Parallel(n_jobs=-1)]: Done 280 tasks      | elapsed: 30.9min\n",
      "[Parallel(n_jobs=-1)]: Done 305 tasks      | elapsed: 31.8min\n",
      "[Parallel(n_jobs=-1)]: Done 330 tasks      | elapsed: 32.6min\n",
      "[Parallel(n_jobs=-1)]: Done 357 tasks      | elapsed: 34.0min\n",
      "[Parallel(n_jobs=-1)]: Done 384 tasks      | elapsed: 34.7min\n",
      "[Parallel(n_jobs=-1)]: Done 400 out of 400 | elapsed: 35.2min finished\n"
     ]
    },
    {
     "name": "stdout",
     "output_type": "stream",
     "text": [
      "CPU times: user 59.5 s, sys: 353 ms, total: 59.8 s\n",
      "Wall time: 36min 10s\n"
     ]
    }
   ],
   "source": [
    "%%time\n",
    "gscv.fit(X_train, y_train)\n",
    "score = roc_auc_score(y_test, gscv.predict_proba(X_test)[:,1])"
   ]
  },
  {
   "cell_type": "code",
   "execution_count": 27,
   "metadata": {},
   "outputs": [
    {
     "data": {
      "text/plain": [
       "{'algorithm': 'SAMME.R', 'learning_rate': 0.1, 'n_estimators': 500}"
      ]
     },
     "execution_count": 27,
     "metadata": {},
     "output_type": "execute_result"
    }
   ],
   "source": [
    "gscv.best_params_"
   ]
  },
  {
   "cell_type": "code",
   "execution_count": 28,
   "metadata": {},
   "outputs": [
    {
     "data": {
      "text/plain": [
       "0.8964718165287124"
      ]
     },
     "execution_count": 28,
     "metadata": {},
     "output_type": "execute_result"
    }
   ],
   "source": [
    "score"
   ]
  },
  {
   "cell_type": "code",
   "execution_count": 29,
   "metadata": {},
   "outputs": [
    {
     "name": "stdout",
     "output_type": "stream",
     "text": [
      "              precision    recall  f1-score   support\n",
      "\n",
      "           0       0.87      0.93      0.90      6182\n",
      "           1       0.71      0.56      0.63      1959\n",
      "\n",
      "    accuracy                           0.84      8141\n",
      "   macro avg       0.79      0.74      0.76      8141\n",
      "weighted avg       0.83      0.84      0.83      8141\n",
      "\n"
     ]
    }
   ],
   "source": [
    "print(classification_report(y_test,gscv.predict(X_test)))"
   ]
  },
  {
   "cell_type": "markdown",
   "metadata": {},
   "source": [
    "Nuevamente, obtenemos el mismo algoritmo y el learning_rate, pero esta vez con una disminución en la cantidad de estimadores utilizados. En cuanto a las métricas obtenidas, esta configuración nos llevó a la peor performance de las tres analizadas para este clasificador."
   ]
  },
  {
   "cell_type": "code",
   "execution_count": 30,
   "metadata": {},
   "outputs": [
    {
     "data": {
      "image/png": "[encoded data removed]",
      "text/plain": [
       "<Figure size 1080x504 with 2 Axes>"
      ]
     },
     "metadata": {
      "needs_background": "light"
     },
     "output_type": "display_data"
    }
   ],
   "source": [
    "fig, ax = plt.subplots(figsize=(15,7))\n",
    "plt.grid(False)\n",
    "plot_confusion_matrix(gscv, X_test, y_test, cmap=plt.cm.Blues, display_labels=['1', '0'], ax=ax)\n",
    "plt.show()"
   ]
  },
  {
   "cell_type": "code",
   "execution_count": 31,
   "metadata": {},
   "outputs": [
    {
     "data": {
      "text/plain": [
       "<sklearn.metrics._plot.roc_curve.RocCurveDisplay at 0x7f8ace5ba978>"
      ]
     },
     "execution_count": 31,
     "metadata": {},
     "output_type": "execute_result"
    },
    {
     "data": {
      "image/png": "[encoded data removed]",
      "text/plain": [
       "<Figure size 432x288 with 1 Axes>"
      ]
     },
     "metadata": {
      "needs_background": "light"
     },
     "output_type": "display_data"
    }
   ],
   "source": [
    "plot_roc_curve(gscv, X_test, y_test)"
   ]
  },
  {
   "cell_type": "markdown",
   "metadata": {},
   "source": [
    "Si bien es mejor que la mayoría de las clasificaciones obtenidas usando otros modelos, esta es la que peor AUC-ROC presenta para AdaBoost."
   ]
  }
 ],
 "metadata": {
  "kernelspec": {
   "display_name": "Python 3",
   "language": "python",
   "name": "python3"
  },
  "language_info": {
   "codemirror_mode": {
    "name": "ipython",
    "version": 3
   },
   "file_extension": ".py",
   "mimetype": "text/x-python",
   "name": "python",
   "nbconvert_exporter": "python",
   "pygments_lexer": "ipython3",
   "version": "3.6.9"
  }
 },
 "nbformat": 4,
 "nbformat_minor": 4
}

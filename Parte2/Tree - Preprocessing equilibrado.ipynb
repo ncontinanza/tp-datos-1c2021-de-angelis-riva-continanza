{
 "cells": [
  {
   "cell_type": "markdown",
   "id": "paperback-omega",
   "metadata": {},
   "source": [
    "### Explicación del modelo\n",
    "\n",
    "Este modelo entrenará un árbol con todas las features posibles, buscaremos una altura medianamente adecuada (entre 3 y 7 a lo sumo), pero lo hará con muestras equilibradas para el poder adquisitivo (es decir, entrenará con un data set equilibrado y testeara con un data set de la misma estructura que el original). Veamos qué sucede."
   ]
  },
  {
   "cell_type": "code",
   "execution_count": 10,
   "id": "immune-english",
   "metadata": {},
   "outputs": [],
   "source": [
    "from sklearn.model_selection import train_test_split, GridSearchCV\n",
    "\n",
    "from sklearn.tree import DecisionTreeClassifier\n",
    "\n",
    "import pandas as pd\n",
    "import utils\n",
    "\n",
    "\n",
    "from sklearn.metrics import classification_report\n",
    "from sklearn.metrics import confusion_matrix, plot_confusion_matrix\n",
    "\n",
    "from matplotlib import pyplot as plt\n",
    "import seaborn as sns\n"
   ]
  },
  {
   "cell_type": "code",
   "execution_count": 11,
   "id": "working-commonwealth",
   "metadata": {},
   "outputs": [],
   "source": [
    "def equilibrar(X, y):\n",
    "    X_1 = X[y==1].copy()\n",
    "    X_0 = X[y==0].copy()\n",
    "    indexs = X_0.sample(len(X_1)).index\n",
    "    X = pd.concat([X_1, X_0.loc[indexs]], ignore_index=True, sort=False)\n",
    "    y = pd.concat([y[y==1],y.loc[indexs]])\n",
    "    return X, y"
   ]
  },
  {
   "cell_type": "code",
   "execution_count": 12,
   "id": "previous-prediction",
   "metadata": {},
   "outputs": [],
   "source": [
    "df = utils.feature_engineering(utils.get_data())"
   ]
  },
  {
   "cell_type": "code",
   "execution_count": 13,
   "id": "olympic-brass",
   "metadata": {},
   "outputs": [],
   "source": [
    "X = df[df.columns.drop('tiene_alto_valor_adquisitivo')]\n",
    "Y = df['tiene_alto_valor_adquisitivo']\n",
    "\n",
    "X = pd.get_dummies(X)\n",
    "\n",
    "X_train, X_test, y_train, y_test = train_test_split(X, Y, random_state=112)\n",
    "\n",
    "X_train, y_train = equilibrar(X_train, y_train)"
   ]
  },
  {
   "cell_type": "code",
   "execution_count": 15,
   "id": "progressive-fruit",
   "metadata": {
    "scrolled": true
   },
   "outputs": [
    {
     "name": "stdout",
     "output_type": "stream",
     "text": [
      "Fitting 25 folds for each of 24 candidates, totalling 600 fits\n"
     ]
    },
    {
     "name": "stderr",
     "output_type": "stream",
     "text": [
      "[Parallel(n_jobs=-1)]: Using backend LokyBackend with 8 concurrent workers.\n",
      "[Parallel(n_jobs=-1)]: Done   9 tasks      | elapsed:    0.4s\n",
      "[Parallel(n_jobs=-1)]: Done 148 tasks      | elapsed:    3.7s\n",
      "[Parallel(n_jobs=-1)]: Done 394 tasks      | elapsed:    9.8s\n",
      "[Parallel(n_jobs=-1)]: Done 585 out of 600 | elapsed:   14.4s remaining:    0.4s\n",
      "[Parallel(n_jobs=-1)]: Done 600 out of 600 | elapsed:   14.6s finished\n"
     ]
    },
    {
     "data": {
      "text/plain": [
       "GridSearchCV(cv=25, estimator=DecisionTreeClassifier(), n_jobs=-1,\n",
       "             param_grid={'criterion': ['gini', 'entropy'],\n",
       "                         'max_depth': range(6, 10),\n",
       "                         'min_samples_leaf': [200, 300, 400],\n",
       "                         'splitter': ['best']},\n",
       "             scoring='roc_auc', verbose=4)"
      ]
     },
     "execution_count": 15,
     "metadata": {},
     "output_type": "execute_result"
    }
   ],
   "source": [
    "model = DecisionTreeClassifier()\n",
    "params = {'criterion': ['gini','entropy'],\n",
    "          'splitter': ['best'],\n",
    "          'min_samples_leaf': [200, 300, 400],\n",
    "          'max_depth': range(6, 10)}\n",
    "\n",
    "gscv = GridSearchCV(model, params, scoring = 'roc_auc', n_jobs=-1, cv=25, verbose=4)\n",
    "\n",
    "gscv.fit(X_train, y_train)"
   ]
  },
  {
   "cell_type": "code",
   "execution_count": 16,
   "id": "mounted-frederick",
   "metadata": {},
   "outputs": [
    {
     "data": {
      "text/plain": [
       "0.8975570969301241"
      ]
     },
     "execution_count": 16,
     "metadata": {},
     "output_type": "execute_result"
    }
   ],
   "source": [
    "gscv.best_score_"
   ]
  },
  {
   "cell_type": "code",
   "execution_count": 17,
   "id": "starting-objective",
   "metadata": {},
   "outputs": [
    {
     "data": {
      "text/plain": [
       "DecisionTreeClassifier(criterion='entropy', max_depth=9, min_samples_leaf=200)"
      ]
     },
     "execution_count": 17,
     "metadata": {},
     "output_type": "execute_result"
    }
   ],
   "source": [
    "arbol = gscv.best_estimator_\n",
    "arbol.fit(X_train, y_train)"
   ]
  },
  {
   "cell_type": "code",
   "execution_count": 18,
   "id": "incorporated-mandate",
   "metadata": {},
   "outputs": [
    {
     "name": "stdout",
     "output_type": "stream",
     "text": [
      "              precision    recall  f1-score   support\n",
      "\n",
      "           0       0.94      0.79      0.86      6182\n",
      "           1       0.56      0.85      0.68      1959\n",
      "\n",
      "    accuracy                           0.80      8141\n",
      "   macro avg       0.75      0.82      0.77      8141\n",
      "weighted avg       0.85      0.80      0.81      8141\n",
      "\n"
     ]
    }
   ],
   "source": [
    "print(classification_report(y_test, arbol.predict(X_test)))"
   ]
  },
  {
   "cell_type": "code",
   "execution_count": 19,
   "id": "occupational-school",
   "metadata": {},
   "outputs": [
    {
     "data": {
      "image/png": "[encoded data removed]",
      "text/plain": [
       "<Figure size 1500x600 with 2 Axes>"
      ]
     },
     "metadata": {
      "needs_background": "light"
     },
     "output_type": "display_data"
    }
   ],
   "source": [
    "fig, ax = plt.subplots(figsize=(10,4), dpi=150)\n",
    "plt.grid(False)\n",
    "plot_confusion_matrix(arbol, X_test, y_test, cmap=plt.cm.Blues, ax=ax)\n",
    "plt.show()"
   ]
  },
  {
   "cell_type": "markdown",
   "id": "focal-bracelet",
   "metadata": {},
   "source": [
    "Ya en estas instancias podemos observar que el modelo utilizando todas las variables y equilibrando el dataset de entrenamiento no es muy bueno en general. Eso sí, a diferencia de todos los demás modelos, podemos ver que el Recall de 1s aumentó considerablemente (casi un 40%) mientras que el recall de 0s disminuyó bastante.\n",
    "\n",
    "El accuracy final da 77%, un resultado un tanto regular.\n",
    "\n",
    "La mejor parte de este modelo es la precisión para los 0, es decir, este modelo predice excelentemente cuando una instancia NO es 1, es decir, si yo te digo que tu instancia es CERO, lo digo con una precisión del 95%, aproximadamente. Esto será interesante para tener en cuenta en algún ensamble del tipo cascada."
   ]
  }
 ],
 "metadata": {
  "kernelspec": {
   "display_name": "Python 3",
   "language": "python",
   "name": "python3"
  },
  "language_info": {
   "codemirror_mode": {
    "name": "ipython",
    "version": 3
   },
   "file_extension": ".py",
   "mimetype": "text/x-python",
   "name": "python",
   "nbconvert_exporter": "python",
   "pygments_lexer": "ipython3",
   "version": "3.8.10"
  }
 },
 "nbformat": 4,
 "nbformat_minor": 5
}

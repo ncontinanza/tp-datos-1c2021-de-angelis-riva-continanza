{
 "cells": [
  {
   "cell_type": "markdown",
   "id": "changing-giant",
   "metadata": {},
   "source": [
    "# Bayes - Ensamble\n",
    "\n",
    "En este notebook trataremos de entrenar 3 modelos de Naive Bayes. 1 Con las variables categóricas, otro con las variables discretas y otro con las variables continuas y hacerlos votar. "
   ]
  },
  {
   "cell_type": "markdown",
   "id": "aging-little",
   "metadata": {},
   "source": [
    "#### Bibliotecas"
   ]
  },
  {
   "cell_type": "code",
   "execution_count": 1,
   "id": "quality-choir",
   "metadata": {},
   "outputs": [],
   "source": [
    "# Modelo\n",
    "from sklearn.naive_bayes import GaussianNB, CategoricalNB, MultinomialNB\n",
    "from sklearn.naive_bayes import BernoulliNB, ComplementNB\n",
    "\n",
    "# Preprocessing\n",
    "import utils\n",
    "from sklearn.preprocessing import MinMaxScaler\n",
    "from sklearn.preprocessing import OrdinalEncoder\n",
    "\n",
    "# Búsqueda\n",
    "from sklearn.model_selection import train_test_split, GridSearchCV\n",
    "\n",
    "# Metrics\n",
    "from sklearn.metrics import roc_curve, plot_roc_curve, auc, roc_auc_score\n",
    "from sklearn.metrics import classification_report, confusion_matrix, plot_confusion_matrix\n",
    "\n",
    "# Plots\n",
    "from matplotlib import pyplot as plt\n",
    "import seaborn as sns\n",
    "\n",
    "# Otros\n",
    "import pandas as pd\n",
    "import numpy as np"
   ]
  },
  {
   "cell_type": "code",
   "execution_count": 2,
   "id": "loose-force",
   "metadata": {},
   "outputs": [],
   "source": [
    "df = utils.feature_engineering(utils.get_data())"
   ]
  },
  {
   "cell_type": "code",
   "execution_count": 4,
   "id": "divine-partner",
   "metadata": {},
   "outputs": [],
   "source": [
    "def discretas(X):\n",
    "    return X[['anios_estudiados', 'edad', 'horas_trabajo_registradas']]\n",
    "\n",
    "def continuas(X):\n",
    "    return X[['ganancia_perdida_declarada_bolsa_argentina']]\n",
    "\n",
    "def categoricas(X):\n",
    "    return X[X.columns.drop(['edad',\n",
    "                             'horas_trabajo_registradas',\n",
    "                             'anios_estudiados',\n",
    "                             'ganancia_perdida_declarada_bolsa_argentina'])]"
   ]
  },
  {
   "cell_type": "code",
   "execution_count": 5,
   "id": "humanitarian-entrance",
   "metadata": {},
   "outputs": [],
   "source": [
    "X = df[df.columns.drop('tiene_alto_valor_adquisitivo')]\n",
    "X_disc = discretas(X)\n",
    "X_cont = continuas(X)\n",
    "X_cat = categoricas(X)\n",
    "\n",
    "Y = df['tiene_alto_valor_adquisitivo']\n",
    "\n",
    "\n",
    "# Es importante que el random_state sea el mismo, en caso contrario podría darse un leak. \n",
    "X_train_disc, X_test_disc, y_train, y_test = train_test_split(X_disc, Y, random_state=27)\n",
    "X_train_cont, X_test_cont, y_train, y_test = train_test_split(X_cont, Y, random_state=27)\n",
    "X_train_cat, X_test_cat, y_train, y_test = train_test_split(X_cat, Y, random_state=27)"
   ]
  },
  {
   "cell_type": "markdown",
   "id": "spiritual-mediterranean",
   "metadata": {},
   "source": [
    "### Manejo de las categóricas\n",
    "\n",
    "Para ello será necesario encodearlas de 0 a n-1, n: cantidad de categorías disponibles."
   ]
  },
  {
   "cell_type": "code",
   "execution_count": 6,
   "id": "comparable-jurisdiction",
   "metadata": {},
   "outputs": [],
   "source": [
    "orEnc = OrdinalEncoder()\n",
    "X_train_cat = pd.DataFrame(orEnc.fit_transform(X_train_cat)).set_axis(X_train_cat.columns, axis=1).add_prefix('$')\n",
    "X_test_cat = pd.DataFrame(orEnc.transform(X_test_cat)).set_axis(X_train_cat.columns, axis=1).add_prefix('$')"
   ]
  },
  {
   "cell_type": "markdown",
   "id": "continental-paris",
   "metadata": {},
   "source": [
    "##### Entrenando el modelo"
   ]
  },
  {
   "cell_type": "code",
   "execution_count": 7,
   "id": "heavy-bernard",
   "metadata": {
    "scrolled": false
   },
   "outputs": [
    {
     "data": {
      "text/plain": [
       "CategoricalNB()"
      ]
     },
     "execution_count": 7,
     "metadata": {},
     "output_type": "execute_result"
    }
   ],
   "source": [
    "clf_cat = CategoricalNB()\n",
    "clf_cat.fit(X_train_cat, y_train)"
   ]
  },
  {
   "cell_type": "code",
   "execution_count": 8,
   "id": "uniform-proportion",
   "metadata": {
    "scrolled": true
   },
   "outputs": [
    {
     "name": "stdout",
     "output_type": "stream",
     "text": [
      "              precision    recall  f1-score   support\n",
      "\n",
      "           0       0.91      0.77      0.83      6186\n",
      "           1       0.50      0.75      0.60      1955\n",
      "\n",
      "    accuracy                           0.76      8141\n",
      "   macro avg       0.71      0.76      0.72      8141\n",
      "weighted avg       0.81      0.76      0.78      8141\n",
      "\n"
     ]
    }
   ],
   "source": [
    "print(classification_report(y_test,clf_cat.predict(X_test_cat)))"
   ]
  },
  {
   "cell_type": "markdown",
   "id": "impossible-graphic",
   "metadata": {},
   "source": [
    "### Clasificación sobre discretas"
   ]
  },
  {
   "cell_type": "code",
   "execution_count": 59,
   "id": "proud-florida",
   "metadata": {},
   "outputs": [
    {
     "data": {
      "text/plain": [
       "MultinomialNB()"
      ]
     },
     "execution_count": 59,
     "metadata": {},
     "output_type": "execute_result"
    }
   ],
   "source": [
    "clf_dis = MultinomialNB()\n",
    "clf_dis.fit(X_train_disc, y_train)"
   ]
  },
  {
   "cell_type": "code",
   "execution_count": 61,
   "id": "conservative-soundtrack",
   "metadata": {},
   "outputs": [
    {
     "name": "stdout",
     "output_type": "stream",
     "text": [
      "              precision    recall  f1-score   support\n",
      "\n",
      "           0       0.76      1.00      0.86     18534\n",
      "           1       0.00      0.00      0.00      5886\n",
      "\n",
      "    accuracy                           0.76     24420\n",
      "   macro avg       0.38      0.50      0.43     24420\n",
      "weighted avg       0.58      0.76      0.65     24420\n",
      "\n"
     ]
    },
    {
     "name": "stderr",
     "output_type": "stream",
     "text": [
      "/home/lukas/.local/lib/python3.8/site-packages/sklearn/metrics/_classification.py:1221: UndefinedMetricWarning: Precision and F-score are ill-defined and being set to 0.0 in labels with no predicted samples. Use `zero_division` parameter to control this behavior.\n",
      "  _warn_prf(average, modifier, msg_start, len(result))\n"
     ]
    }
   ],
   "source": [
    "print(classification_report(y_train, clf_dis.predict(X_train_disc)))"
   ]
  },
  {
   "cell_type": "markdown",
   "id": "dried-flashing",
   "metadata": {},
   "source": [
    "No sirve para nada."
   ]
  },
  {
   "cell_type": "markdown",
   "id": "micro-aberdeen",
   "metadata": {},
   "source": [
    "### Única continua"
   ]
  },
  {
   "cell_type": "code",
   "execution_count": 55,
   "id": "theoretical-merchant",
   "metadata": {},
   "outputs": [
    {
     "data": {
      "text/plain": [
       "GaussianNB()"
      ]
     },
     "execution_count": 55,
     "metadata": {},
     "output_type": "execute_result"
    }
   ],
   "source": [
    "clf_con = GaussianNB()\n",
    "clf_con.fit(X_train_cont, y_train)"
   ]
  },
  {
   "cell_type": "code",
   "execution_count": 58,
   "id": "ongoing-clinic",
   "metadata": {},
   "outputs": [
    {
     "name": "stdout",
     "output_type": "stream",
     "text": [
      "              precision    recall  f1-score   support\n",
      "\n",
      "           0       0.80      0.98      0.88      6186\n",
      "           1       0.75      0.22      0.34      1955\n",
      "\n",
      "    accuracy                           0.79      8141\n",
      "   macro avg       0.77      0.60      0.61      8141\n",
      "weighted avg       0.79      0.79      0.75      8141\n",
      "\n"
     ]
    }
   ],
   "source": [
    "print(classification_report(y_test, clf_con.predict(X_test_cont)))"
   ]
  },
  {
   "cell_type": "markdown",
   "id": "federal-matrix",
   "metadata": {},
   "source": [
    "Única decente..."
   ]
  },
  {
   "cell_type": "code",
   "execution_count": null,
   "id": "straight-restriction",
   "metadata": {},
   "outputs": [],
   "source": []
  }
 ],
 "metadata": {
  "kernelspec": {
   "display_name": "Python 3",
   "language": "python",
   "name": "python3"
  },
  "language_info": {
   "codemirror_mode": {
    "name": "ipython",
    "version": 3
   },
   "file_extension": ".py",
   "mimetype": "text/x-python",
   "name": "python",
   "nbconvert_exporter": "python",
   "pygments_lexer": "ipython3",
   "version": "3.8.5"
  }
 },
 "nbformat": 4,
 "nbformat_minor": 5
}

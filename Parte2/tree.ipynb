{
 "cells": [
  {
   "cell_type": "code",
   "execution_count": 71,
   "metadata": {},
   "outputs": [
    {
     "ename": "ModuleNotFoundError",
     "evalue": "No module named 'dtreeviz'",
     "output_type": "error",
     "traceback": [
      "\u001b[0;31m---------------------------------------------------------------------------\u001b[0m",
      "\u001b[0;31mModuleNotFoundError\u001b[0m                       Traceback (most recent call last)",
      "\u001b[0;32m<ipython-input-71-421559d590de>\u001b[0m in \u001b[0;36m<module>\u001b[0;34m\u001b[0m\n\u001b[1;32m      3\u001b[0m \u001b[0;32mfrom\u001b[0m \u001b[0msklearn\u001b[0m\u001b[0;34m.\u001b[0m\u001b[0mtree\u001b[0m \u001b[0;32mimport\u001b[0m \u001b[0mDecisionTreeClassifier\u001b[0m\u001b[0;34m,\u001b[0m \u001b[0mplot_tree\u001b[0m\u001b[0;34m\u001b[0m\u001b[0;34m\u001b[0m\u001b[0m\n\u001b[1;32m      4\u001b[0m \u001b[0;32mfrom\u001b[0m \u001b[0msklearn\u001b[0m\u001b[0;34m.\u001b[0m\u001b[0mmetrics\u001b[0m \u001b[0;32mimport\u001b[0m \u001b[0mroc_curve\u001b[0m\u001b[0;34m,\u001b[0m \u001b[0mplot_roc_curve\u001b[0m\u001b[0;34m,\u001b[0m \u001b[0mauc\u001b[0m\u001b[0;34m,\u001b[0m \u001b[0mroc_auc_score\u001b[0m\u001b[0;34m,\u001b[0m \u001b[0mclassification_report\u001b[0m\u001b[0;34m,\u001b[0m \u001b[0mconfusion_matrix\u001b[0m\u001b[0;34m,\u001b[0m \u001b[0mplot_confusion_matrix\u001b[0m\u001b[0;34m\u001b[0m\u001b[0;34m\u001b[0m\u001b[0m\n\u001b[0;32m----> 5\u001b[0;31m \u001b[0;32mimport\u001b[0m \u001b[0mdtreeviz\u001b[0m\u001b[0;34m\u001b[0m\u001b[0;34m\u001b[0m\u001b[0m\n\u001b[0m\u001b[1;32m      6\u001b[0m \u001b[0;32mimport\u001b[0m \u001b[0mgraphviz\u001b[0m\u001b[0;34m\u001b[0m\u001b[0;34m\u001b[0m\u001b[0m\n\u001b[1;32m      7\u001b[0m \u001b[0;32mfrom\u001b[0m \u001b[0mmatplotlib\u001b[0m \u001b[0;32mimport\u001b[0m \u001b[0mpyplot\u001b[0m \u001b[0;32mas\u001b[0m \u001b[0mplt\u001b[0m\u001b[0;34m\u001b[0m\u001b[0;34m\u001b[0m\u001b[0m\n",
      "\u001b[0;31mModuleNotFoundError\u001b[0m: No module named 'dtreeviz'"
     ]
    }
   ],
   "source": [
    "from sklearn.preprocessing import MinMaxScaler\n",
    "from sklearn.model_selection import train_test_split, GridSearchCV\n",
    "from sklearn.tree import DecisionTreeClassifier, plot_tree\n",
    "from sklearn.metrics import roc_curve, plot_roc_curve, auc, roc_auc_score, classification_report, confusion_matrix, plot_confusion_matrix\n",
    "import dtreeviz\n",
    "import graphviz\n",
    "from matplotlib import pyplot as plt\n",
    "import pandas as pd\n"
   ]
  },
  {
   "cell_type": "code",
   "execution_count": 56,
   "metadata": {},
   "outputs": [],
   "source": [
    "def get_data():\n",
    "    GSPREADHSEET_DOWNLOAD_URL = (\n",
    "        \"https://docs.google.com/spreadsheets/d/{gid}/export?format=csv&id={gid}\".format\n",
    "    )\n",
    "    TP_GID = '1-DWTP8uwVS-dZY402-dm0F9ICw_6PNqDGLmH0u8Eqa0'\n",
    "    df = pd.read_csv(GSPREADHSEET_DOWNLOAD_URL(gid=TP_GID))\n",
    "    return df   "
   ]
  },
  {
   "cell_type": "code",
   "execution_count": 57,
   "metadata": {},
   "outputs": [],
   "source": [
    "def feature_engineering(df):\n",
    "    # Missings en barrio\n",
    "    data_set_mejorado = df.copy()\n",
    "    data_set_mejorado['barrio'] = data_set_mejorado['barrio'].apply(lambda x: 'Palermo' if str(x) == 'nan' else x)\n",
    "\n",
    "    # Missings en categoría de trabajo\n",
    "    data_set_mejorado['categoria_de_trabajo'] = data_set_mejorado['categoria_de_trabajo'].apply(lambda x: 'Sin categoria' if str(x) == 'nan' else x)\n",
    "\n",
    "    # Missings en trabajo\n",
    "    data_set_mejorado['trabajo'] = data_set_mejorado['trabajo'].apply(lambda x: 'No responde' if str(x) == 'nan' else x)\n",
    "\n",
    "    # Eliminación de el atributo eduación alcanzada\n",
    "    del data_set_mejorado['educacion_alcanzada']\n",
    "\n",
    "    # Juntamos casado y casada en una misma categoría.\n",
    "    data_set_mejorado['rol_familiar_registrado'] = data_set_mejorado['rol_familiar_registrado'].apply(lambda x : 'casado' if x == 'casada' else x)\n",
    "    \n",
    "    # One hot encoding provisorio\n",
    "    data_set_mejorado = pd.get_dummies(data_set_mejorado, drop_first=True)\n",
    "    \n",
    "    return data_set_mejorado"
   ]
  },
  {
   "cell_type": "code",
   "execution_count": 58,
   "metadata": {},
   "outputs": [
    {
     "data": {
      "text/plain": [
       "Index(['anios_estudiados', 'edad',\n",
       "       'ganancia_perdida_declarada_bolsa_argentina',\n",
       "       'horas_trabajo_registradas', 'tiene_alto_valor_adquisitivo',\n",
       "       'barrio_Almagro', 'barrio_Balvanera', 'barrio_Barracas',\n",
       "       'barrio_Belgrano', 'barrio_Boedo', 'barrio_Caballito',\n",
       "       'barrio_Chacarita', 'barrio_Cilla Riachuelo', 'barrio_Coghland',\n",
       "       'barrio_Colegiales', 'barrio_Constitucion', 'barrio_Flores',\n",
       "       'barrio_Floresta', 'barrio_La Boca', 'barrio_La Paternal',\n",
       "       'barrio_Liniers', 'barrio_Mataderos', 'barrio_Monserrat',\n",
       "       'barrio_Monte Castro', 'barrio_Nueva Pompeya', 'barrio_Palermo',\n",
       "       'barrio_Parque Avellaneda', 'barrio_Parque Chacabuco',\n",
       "       'barrio_Parque Chas', 'barrio_Puerto Madero', 'barrio_Recoleta',\n",
       "       'barrio_Retiro', 'barrio_San Isidro', 'barrio_San Telmo',\n",
       "       'barrio_Santa Rita', 'barrio_Velez Sarsfield', 'barrio_Versalles',\n",
       "       'barrio_Villa Devoto', 'barrio_Villa General Mitre',\n",
       "       'barrio_Villa Luro', 'barrio_Villa Pueyrredon', 'barrio_Villa Real',\n",
       "       'barrio_Villa Soldati', 'barrio_Villa Urquiza', 'barrio_nuñez',\n",
       "       'categoria_de_trabajo_empleadao_estatal',\n",
       "       'categoria_de_trabajo_empleado_municipal',\n",
       "       'categoria_de_trabajo_empleado_provincial',\n",
       "       'categoria_de_trabajo_monotibutista',\n",
       "       'categoria_de_trabajo_relacion_de_dependencia',\n",
       "       'categoria_de_trabajo_responsable_inscripto',\n",
       "       'categoria_de_trabajo_sin_trabajo',\n",
       "       'categoria_de_trabajo_trabajo_voluntariado',\n",
       "       'estado_marital_matrimonio_civil', 'estado_marital_matrimonio_militar',\n",
       "       'estado_marital_pareja_no_presente', 'estado_marital_separado',\n",
       "       'estado_marital_sin_matrimonio', 'estado_marital_viudo_a',\n",
       "       'genero_mujer', 'religion_budismo', 'religion_cristianismo',\n",
       "       'religion_judaismo', 'religion_otro',\n",
       "       'rol_familiar_registrado_con_hijos', 'rol_familiar_registrado_otro',\n",
       "       'rol_familiar_registrado_sin_familia',\n",
       "       'rol_familiar_registrado_soltero_a', 'trabajo_directivo_gerente',\n",
       "       'trabajo_ejercito', 'trabajo_entretenimiento', 'trabajo_inspector',\n",
       "       'trabajo_limpiador', 'trabajo_otros',\n",
       "       'trabajo_profesional_especializado', 'trabajo_reparador',\n",
       "       'trabajo_sector_primario', 'trabajo_seguridad',\n",
       "       'trabajo_servicio_domestico', 'trabajo_soporte_tecnico',\n",
       "       'trabajo_transporte', 'trabajo_ventas'],\n",
       "      dtype='object')"
      ]
     },
     "execution_count": 58,
     "metadata": {},
     "output_type": "execute_result"
    }
   ],
   "source": [
    "df = feature_engineering(get_data())\n",
    "df.columns"
   ]
  },
  {
   "cell_type": "code",
   "execution_count": 59,
   "metadata": {},
   "outputs": [],
   "source": [
    "params = { 'max_depth': range(3,8), 'criterion': ('gini','entropy'), 'splitter':('best', 'random'), 'max_features':('sqrt', 'log2') }\n",
    "model = DecisionTreeClassifier()"
   ]
  },
  {
   "cell_type": "code",
   "execution_count": 60,
   "metadata": {},
   "outputs": [],
   "source": [
    "gscv = GridSearchCV(model, params, scoring='roc_auc', n_jobs=-1)"
   ]
  },
  {
   "cell_type": "code",
   "execution_count": 61,
   "metadata": {},
   "outputs": [],
   "source": [
    "X_train, X_test, y_train, y_test = train_test_split(df.drop('tiene_alto_valor_adquisitivo',1), df['tiene_alto_valor_adquisitivo'], random_state=112)"
   ]
  },
  {
   "cell_type": "code",
   "execution_count": 62,
   "metadata": {},
   "outputs": [],
   "source": [
    "gscv.fit(X_train, y_train)\n",
    "score = roc_auc_score(y_test, gscv.predict_proba(X_test)[:,1])"
   ]
  },
  {
   "cell_type": "code",
   "execution_count": 63,
   "metadata": {},
   "outputs": [
    {
     "data": {
      "text/plain": [
       "{'criterion': 'entropy',\n",
       " 'max_depth': 7,\n",
       " 'max_features': 'sqrt',\n",
       " 'splitter': 'best'}"
      ]
     },
     "execution_count": 63,
     "metadata": {},
     "output_type": "execute_result"
    }
   ],
   "source": [
    "gscv.best_params_"
   ]
  },
  {
   "cell_type": "code",
   "execution_count": 64,
   "metadata": {},
   "outputs": [
    {
     "name": "stderr",
     "output_type": "stream",
     "text": [
      "/home/nicolascontinanza/.local/lib/python3.6/site-packages/sklearn/utils/validation.py:70: FutureWarning: Pass max_depth=       anios_estudiados  edad  ganancia_perdida_declarada_bolsa_argentina  \\\n",
      "11908                15    26                                           0   \n",
      "19499                17    45                                           0   \n",
      "15698                18    32                                           0   \n",
      "2602                 15    45                                           0   \n",
      "29320                14    29                                           0   \n",
      "...                 ...   ...                                         ...   \n",
      "18753                14    18                                           0   \n",
      "7642                 13    62                                           0   \n",
      "232                  14    25                                           0   \n",
      "11179                13    20                                           0   \n",
      "15972                14    18                                           0   \n",
      "\n",
      "       horas_trabajo_registradas  barrio_Almagro  barrio_Balvanera  \\\n",
      "11908                         54               0                 0   \n",
      "19499                         45               0                 0   \n",
      "15698                         40               1                 0   \n",
      "2602                          40               0                 0   \n",
      "29320                         40               0                 0   \n",
      "...                          ...             ...               ...   \n",
      "18753                         40               0                 0   \n",
      "7642                          40               0                 0   \n",
      "232                           42               0                 0   \n",
      "11179                         40               0                 0   \n",
      "15972                         30               0                 0   \n",
      "\n",
      "       barrio_Barracas  barrio_Belgrano  barrio_Boedo  barrio_Caballito  ...  \\\n",
      "11908                0                0             0                 0  ...   \n",
      "19499                0                0             0                 0  ...   \n",
      "15698                0                0             0                 0  ...   \n",
      "2602                 0                0             0                 0  ...   \n",
      "29320                0                0             0                 0  ...   \n",
      "...                ...              ...           ...               ...  ...   \n",
      "18753                0                0             0                 0  ...   \n",
      "7642                 0                0             0                 0  ...   \n",
      "232                  0                0             0                 0  ...   \n",
      "11179                0                0             0                 0  ...   \n",
      "15972                0                0             0                 0  ...   \n",
      "\n",
      "       trabajo_limpiador  trabajo_otros  trabajo_profesional_especializado  \\\n",
      "11908                  0              0                                  0   \n",
      "19499                  0              0                                  0   \n",
      "15698                  0              0                                  1   \n",
      "2602                   0              0                                  0   \n",
      "29320                  0              0                                  0   \n",
      "...                  ...            ...                                ...   \n",
      "18753                  0              0                                  0   \n",
      "7642                   0              0                                  0   \n",
      "232                    0              0                                  0   \n",
      "11179                  1              0                                  0   \n",
      "15972                  0              0                                  0   \n",
      "\n",
      "       trabajo_reparador  trabajo_sector_primario  trabajo_seguridad  \\\n",
      "11908                  0                        0                  0   \n",
      "19499                  0                        0                  0   \n",
      "15698                  0                        0                  0   \n",
      "2602                   0                        0                  0   \n",
      "29320                  0                        0                  0   \n",
      "...                  ...                      ...                ...   \n",
      "18753                  0                        0                  0   \n",
      "7642                   0                        1                  0   \n",
      "232                    0                        0                  0   \n",
      "11179                  0                        0                  0   \n",
      "15972                  0                        0                  0   \n",
      "\n",
      "       trabajo_servicio_domestico  trabajo_soporte_tecnico  \\\n",
      "11908                           0                        0   \n",
      "19499                           0                        0   \n",
      "15698                           0                        0   \n",
      "2602                            0                        1   \n",
      "29320                           0                        0   \n",
      "...                           ...                      ...   \n",
      "18753                           0                        0   \n",
      "7642                            0                        0   \n",
      "232                             0                        0   \n",
      "11179                           0                        0   \n",
      "15972                           0                        0   \n",
      "\n",
      "       trabajo_transporte  trabajo_ventas  \n",
      "11908                   0               1  \n",
      "19499                   0               0  \n",
      "15698                   0               0  \n",
      "2602                    0               0  \n",
      "29320                   1               0  \n",
      "...                   ...             ...  \n",
      "18753                   0               0  \n",
      "7642                    0               0  \n",
      "232                     0               0  \n",
      "11179                   0               0  \n",
      "15972                   0               1  \n",
      "\n",
      "[24420 rows x 81 columns], feature_names=11908    0\n",
      "19499    1\n",
      "15698    0\n",
      "2602     0\n",
      "29320    0\n",
      "        ..\n",
      "18753    0\n",
      "7642     0\n",
      "232      0\n",
      "11179    0\n",
      "15972    0\n",
      "Name: tiene_alto_valor_adquisitivo, Length: 24420, dtype: int64 as keyword args. From version 0.25 passing these as positional arguments will result in an error\n",
      "  FutureWarning)\n"
     ]
    },
    {
     "ename": "AttributeError",
     "evalue": "'GridSearchCV' object has no attribute 'tree_'",
     "output_type": "error",
     "traceback": [
      "\u001b[0;31m---------------------------------------------------------------------------\u001b[0m",
      "\u001b[0;31mAttributeError\u001b[0m                            Traceback (most recent call last)",
      "\u001b[0;32m<ipython-input-64-4204309ac5cf>\u001b[0m in \u001b[0;36m<module>\u001b[0;34m\u001b[0m\n\u001b[0;32m----> 1\u001b[0;31m \u001b[0mplot_tree\u001b[0m\u001b[0;34m(\u001b[0m\u001b[0mgscv\u001b[0m\u001b[0;34m,\u001b[0m \u001b[0mX_train\u001b[0m\u001b[0;34m,\u001b[0m \u001b[0my_train\u001b[0m\u001b[0;34m)\u001b[0m\u001b[0;34m\u001b[0m\u001b[0;34m\u001b[0m\u001b[0m\n\u001b[0m",
      "\u001b[0;32m~/.local/lib/python3.6/site-packages/sklearn/utils/validation.py\u001b[0m in \u001b[0;36minner_f\u001b[0;34m(*args, **kwargs)\u001b[0m\n\u001b[1;32m     70\u001b[0m                           FutureWarning)\n\u001b[1;32m     71\u001b[0m         \u001b[0mkwargs\u001b[0m\u001b[0;34m.\u001b[0m\u001b[0mupdate\u001b[0m\u001b[0;34m(\u001b[0m\u001b[0;34m{\u001b[0m\u001b[0mk\u001b[0m\u001b[0;34m:\u001b[0m \u001b[0marg\u001b[0m \u001b[0;32mfor\u001b[0m \u001b[0mk\u001b[0m\u001b[0;34m,\u001b[0m \u001b[0marg\u001b[0m \u001b[0;32min\u001b[0m \u001b[0mzip\u001b[0m\u001b[0;34m(\u001b[0m\u001b[0msig\u001b[0m\u001b[0;34m.\u001b[0m\u001b[0mparameters\u001b[0m\u001b[0;34m,\u001b[0m \u001b[0margs\u001b[0m\u001b[0;34m)\u001b[0m\u001b[0;34m}\u001b[0m\u001b[0;34m)\u001b[0m\u001b[0;34m\u001b[0m\u001b[0;34m\u001b[0m\u001b[0m\n\u001b[0;32m---> 72\u001b[0;31m         \u001b[0;32mreturn\u001b[0m \u001b[0mf\u001b[0m\u001b[0;34m(\u001b[0m\u001b[0;34m**\u001b[0m\u001b[0mkwargs\u001b[0m\u001b[0;34m)\u001b[0m\u001b[0;34m\u001b[0m\u001b[0;34m\u001b[0m\u001b[0m\n\u001b[0m\u001b[1;32m     73\u001b[0m     \u001b[0;32mreturn\u001b[0m \u001b[0minner_f\u001b[0m\u001b[0;34m\u001b[0m\u001b[0;34m\u001b[0m\u001b[0m\n\u001b[1;32m     74\u001b[0m \u001b[0;34m\u001b[0m\u001b[0m\n",
      "\u001b[0;32m~/.local/lib/python3.6/site-packages/sklearn/tree/_export.py\u001b[0m in \u001b[0;36mplot_tree\u001b[0;34m(decision_tree, max_depth, feature_names, class_names, label, filled, impurity, node_ids, proportion, rotate, rounded, precision, ax, fontsize)\u001b[0m\n\u001b[1;32m    191\u001b[0m         \u001b[0mproportion\u001b[0m\u001b[0;34m=\u001b[0m\u001b[0mproportion\u001b[0m\u001b[0;34m,\u001b[0m \u001b[0mrotate\u001b[0m\u001b[0;34m=\u001b[0m\u001b[0mrotate\u001b[0m\u001b[0;34m,\u001b[0m \u001b[0mrounded\u001b[0m\u001b[0;34m=\u001b[0m\u001b[0mrounded\u001b[0m\u001b[0;34m,\u001b[0m\u001b[0;34m\u001b[0m\u001b[0;34m\u001b[0m\u001b[0m\n\u001b[1;32m    192\u001b[0m         precision=precision, fontsize=fontsize)\n\u001b[0;32m--> 193\u001b[0;31m     \u001b[0;32mreturn\u001b[0m \u001b[0mexporter\u001b[0m\u001b[0;34m.\u001b[0m\u001b[0mexport\u001b[0m\u001b[0;34m(\u001b[0m\u001b[0mdecision_tree\u001b[0m\u001b[0;34m,\u001b[0m \u001b[0max\u001b[0m\u001b[0;34m=\u001b[0m\u001b[0max\u001b[0m\u001b[0;34m)\u001b[0m\u001b[0;34m\u001b[0m\u001b[0;34m\u001b[0m\u001b[0m\n\u001b[0m\u001b[1;32m    194\u001b[0m \u001b[0;34m\u001b[0m\u001b[0m\n\u001b[1;32m    195\u001b[0m \u001b[0;34m\u001b[0m\u001b[0m\n",
      "\u001b[0;32m~/.local/lib/python3.6/site-packages/sklearn/tree/_export.py\u001b[0m in \u001b[0;36mexport\u001b[0;34m(self, decision_tree, ax)\u001b[0m\n\u001b[1;32m    582\u001b[0m         \u001b[0max\u001b[0m\u001b[0;34m.\u001b[0m\u001b[0mclear\u001b[0m\u001b[0;34m(\u001b[0m\u001b[0;34m)\u001b[0m\u001b[0;34m\u001b[0m\u001b[0;34m\u001b[0m\u001b[0m\n\u001b[1;32m    583\u001b[0m         \u001b[0max\u001b[0m\u001b[0;34m.\u001b[0m\u001b[0mset_axis_off\u001b[0m\u001b[0;34m(\u001b[0m\u001b[0;34m)\u001b[0m\u001b[0;34m\u001b[0m\u001b[0;34m\u001b[0m\u001b[0m\n\u001b[0;32m--> 584\u001b[0;31m         my_tree = self._make_tree(0, decision_tree.tree_,\n\u001b[0m\u001b[1;32m    585\u001b[0m                                   decision_tree.criterion)\n\u001b[1;32m    586\u001b[0m         \u001b[0mdraw_tree\u001b[0m \u001b[0;34m=\u001b[0m \u001b[0mbuchheim\u001b[0m\u001b[0;34m(\u001b[0m\u001b[0mmy_tree\u001b[0m\u001b[0;34m)\u001b[0m\u001b[0;34m\u001b[0m\u001b[0;34m\u001b[0m\u001b[0m\n",
      "\u001b[0;31mAttributeError\u001b[0m: 'GridSearchCV' object has no attribute 'tree_'"
     ]
    },
    {
     "data": {
      "image/png": "[encoded data removed]",
      "text/plain": [
       "<Figure size 432x288 with 1 Axes>"
      ]
     },
     "metadata": {
      "needs_background": "light"
     },
     "output_type": "display_data"
    }
   ],
   "source": [
    "viz = dtreeviz.dtreeviz(\n",
    "    clf,\n",
    "    X,\n",
    "    y,\n",
    "    target_name='smoker',\n",
    "    feature_names=list(X.columns),\n",
    "    class_names=list(y_encoder.classes_),\n",
    "    scale=1.5,\n",
    ")\n",
    "\n",
    "display(viz)"
   ]
  },
  {
   "cell_type": "code",
   "execution_count": null,
   "metadata": {},
   "outputs": [],
   "source": [
    "score"
   ]
  },
  {
   "cell_type": "code",
   "execution_count": null,
   "metadata": {},
   "outputs": [],
   "source": [
    "print(classification_report(y_test,gscv.predict(X_test)))"
   ]
  },
  {
   "cell_type": "code",
   "execution_count": null,
   "metadata": {},
   "outputs": [],
   "source": [
    "fig, ax = plt.subplots(figsize=(15,7))\n",
    "plt.grid(False)\n",
    "plot_confusion_matrix(gscv, X_test, y_test, cmap=plt.cm.Blues, display_labels=['1', '0'], ax=ax)\n",
    "plt.show()"
   ]
  },
  {
   "cell_type": "code",
   "execution_count": null,
   "metadata": {},
   "outputs": [],
   "source": [
    "plot_roc_curve(gscv, X_test, y_test)"
   ]
  }
 ],
 "metadata": {
  "kernelspec": {
   "display_name": "Python 3",
   "language": "python",
   "name": "python3"
  },
  "language_info": {
   "codemirror_mode": {
    "name": "ipython",
    "version": 3
   },
   "file_extension": ".py",
   "mimetype": "text/x-python",
   "name": "python",
   "nbconvert_exporter": "python",
   "pygments_lexer": "ipython3",
   "version": "3.6.9"
  }
 },
 "nbformat": 4,
 "nbformat_minor": 4
}

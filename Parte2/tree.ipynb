{
 "cells": [
  {
   "cell_type": "code",
   "execution_count": 2,
   "metadata": {},
   "outputs": [
    {
     "name": "stdout",
     "output_type": "stream",
     "text": [
      "Defaulting to user installation because normal site-packages is not writeable\n",
      "Requirement already satisfied: dtreeviz in /home/nicolascontinanza/.local/lib/python3.8/site-packages (1.3)\n",
      "Requirement already satisfied: colour in /home/nicolascontinanza/.local/lib/python3.8/site-packages (from dtreeviz) (0.1.5)\n",
      "Requirement already satisfied: pandas in /home/nicolascontinanza/anaconda3/lib/python3.8/site-packages (from dtreeviz) (1.1.3)\n",
      "Requirement already satisfied: scikit-learn in /home/nicolascontinanza/anaconda3/lib/python3.8/site-packages (from dtreeviz) (0.23.2)\n",
      "Requirement already satisfied: pytest in /home/nicolascontinanza/anaconda3/lib/python3.8/site-packages (from dtreeviz) (0.0.0)\n",
      "Requirement already satisfied: graphviz>=0.9 in /home/nicolascontinanza/.local/lib/python3.8/site-packages (from dtreeviz) (0.16)\n",
      "Requirement already satisfied: numpy in /home/nicolascontinanza/anaconda3/lib/python3.8/site-packages (from dtreeviz) (1.19.2)\n",
      "Requirement already satisfied: matplotlib in /home/nicolascontinanza/anaconda3/lib/python3.8/site-packages (from dtreeviz) (3.3.2)\n",
      "Requirement already satisfied: cycler>=0.10 in /home/nicolascontinanza/anaconda3/lib/python3.8/site-packages (from matplotlib->dtreeviz) (0.10.0)\n",
      "Requirement already satisfied: certifi>=2020.06.20 in /home/nicolascontinanza/anaconda3/lib/python3.8/site-packages (from matplotlib->dtreeviz) (2020.6.20)\n",
      "Requirement already satisfied: pyparsing!=2.0.4,!=2.1.2,!=2.1.6,>=2.0.3 in /home/nicolascontinanza/anaconda3/lib/python3.8/site-packages (from matplotlib->dtreeviz) (2.4.7)\n",
      "Requirement already satisfied: kiwisolver>=1.0.1 in /home/nicolascontinanza/anaconda3/lib/python3.8/site-packages (from matplotlib->dtreeviz) (1.3.0)\n",
      "Requirement already satisfied: python-dateutil>=2.1 in /home/nicolascontinanza/anaconda3/lib/python3.8/site-packages (from matplotlib->dtreeviz) (2.8.1)\n",
      "Requirement already satisfied: pillow>=6.2.0 in /home/nicolascontinanza/anaconda3/lib/python3.8/site-packages (from matplotlib->dtreeviz) (8.0.1)\n",
      "Requirement already satisfied: six in /home/nicolascontinanza/anaconda3/lib/python3.8/site-packages (from cycler>=0.10->matplotlib->dtreeviz) (1.15.0)\n",
      "Requirement already satisfied: pytz>=2017.2 in /home/nicolascontinanza/anaconda3/lib/python3.8/site-packages (from pandas->dtreeviz) (2020.1)\n",
      "Requirement already satisfied: attrs>=17.4.0 in /home/nicolascontinanza/anaconda3/lib/python3.8/site-packages (from pytest->dtreeviz) (20.3.0)\n",
      "Requirement already satisfied: iniconfig in /home/nicolascontinanza/anaconda3/lib/python3.8/site-packages (from pytest->dtreeviz) (1.1.1)\n",
      "Requirement already satisfied: packaging in /home/nicolascontinanza/anaconda3/lib/python3.8/site-packages (from pytest->dtreeviz) (20.4)\n",
      "Requirement already satisfied: pluggy<1.0,>=0.12 in /home/nicolascontinanza/anaconda3/lib/python3.8/site-packages (from pytest->dtreeviz) (0.13.1)\n",
      "Requirement already satisfied: py>=1.8.2 in /home/nicolascontinanza/anaconda3/lib/python3.8/site-packages (from pytest->dtreeviz) (1.9.0)\n",
      "Requirement already satisfied: toml in /home/nicolascontinanza/anaconda3/lib/python3.8/site-packages (from pytest->dtreeviz) (0.10.1)\n",
      "Requirement already satisfied: threadpoolctl>=2.0.0 in /home/nicolascontinanza/anaconda3/lib/python3.8/site-packages (from scikit-learn->dtreeviz) (2.1.0)\n",
      "Requirement already satisfied: joblib>=0.11 in /home/nicolascontinanza/anaconda3/lib/python3.8/site-packages (from scikit-learn->dtreeviz) (0.17.0)\n",
      "Requirement already satisfied: scipy>=0.19.1 in /home/nicolascontinanza/anaconda3/lib/python3.8/site-packages (from scikit-learn->dtreeviz) (1.5.2)\n"
     ]
    },
    {
     "ename": "ModuleNotFoundError",
     "evalue": "No module named 'dtreeviz'",
     "output_type": "error",
     "traceback": [
      "\u001b[0;31m---------------------------------------------------------------------------\u001b[0m",
      "\u001b[0;31mModuleNotFoundError\u001b[0m                       Traceback (most recent call last)",
      "\u001b[0;32m<ipython-input-2-75409e4fbc2e>\u001b[0m in \u001b[0;36m<module>\u001b[0;34m\u001b[0m\n\u001b[1;32m      5\u001b[0m \u001b[0;32mfrom\u001b[0m \u001b[0msklearn\u001b[0m\u001b[0;34m.\u001b[0m\u001b[0mmetrics\u001b[0m \u001b[0;32mimport\u001b[0m \u001b[0mroc_curve\u001b[0m\u001b[0;34m,\u001b[0m \u001b[0mplot_roc_curve\u001b[0m\u001b[0;34m,\u001b[0m \u001b[0mauc\u001b[0m\u001b[0;34m,\u001b[0m \u001b[0mroc_auc_score\u001b[0m\u001b[0;34m,\u001b[0m \u001b[0mclassification_report\u001b[0m\u001b[0;34m,\u001b[0m \u001b[0mconfusion_matrix\u001b[0m\u001b[0;34m,\u001b[0m \u001b[0mplot_confusion_matrix\u001b[0m\u001b[0;34m\u001b[0m\u001b[0;34m\u001b[0m\u001b[0m\n\u001b[1;32m      6\u001b[0m \u001b[0mget_ipython\u001b[0m\u001b[0;34m(\u001b[0m\u001b[0;34m)\u001b[0m\u001b[0;34m.\u001b[0m\u001b[0msystem\u001b[0m\u001b[0;34m(\u001b[0m\u001b[0;34m'pip install dtreeviz'\u001b[0m\u001b[0;34m)\u001b[0m\u001b[0;34m\u001b[0m\u001b[0;34m\u001b[0m\u001b[0m\n\u001b[0;32m----> 7\u001b[0;31m \u001b[0;32mimport\u001b[0m \u001b[0mdtreeviz\u001b[0m\u001b[0;34m.\u001b[0m\u001b[0mtrees\u001b[0m \u001b[0;32mas\u001b[0m \u001b[0mdtreeviz\u001b[0m\u001b[0;34m\u001b[0m\u001b[0;34m\u001b[0m\u001b[0m\n\u001b[0m\u001b[1;32m      8\u001b[0m \u001b[0;34m\u001b[0m\u001b[0m\n\u001b[1;32m      9\u001b[0m \u001b[0;32mimport\u001b[0m \u001b[0mgraphviz\u001b[0m\u001b[0;34m\u001b[0m\u001b[0;34m\u001b[0m\u001b[0m\n",
      "\u001b[0;31mModuleNotFoundError\u001b[0m: No module named 'dtreeviz'"
     ]
    }
   ],
   "source": [
    "from sklearn.preprocessing import MinMaxScaler\n",
    "from sklearn.model_selection import train_test_split, GridSearchCV\n",
    "\n",
    "from sklearn.tree import DecisionTreeClassifier, plot_tree\n",
    "from sklearn.metrics import roc_curve, plot_roc_curve, auc, roc_auc_score, classification_report, confusion_matrix, plot_confusion_matrix\n",
    "\n",
    "import dtreeviz.trees as dtreeviz\n",
    "\n",
    "import graphviz\n",
    "from matplotlib import pyplot as plt\n",
    "import pandas as pd\n",
    "import utils\n",
    "import preprocessing\n",
    "from sklearn.model_selection import KFold, StratifiedKFold\n",
    "\n"
   ]
  },
  {
   "cell_type": "code",
   "execution_count": null,
   "metadata": {},
   "outputs": [],
   "source": [
    "df = preprocessing.preprocessing_base_parte_1(utils.feature_engineering(utils.get_data()))"
   ]
  },
  {
   "cell_type": "code",
   "execution_count": null,
   "metadata": {
    "scrolled": true
   },
   "outputs": [],
   "source": [
    "params = { 'max_depth': range(3,8), 'criterion': ('gini','entropy'), 'splitter':('best', 'random'), 'max_features':('sqrt', 'log2') }\n",
    "model = DecisionTreeClassifier()\n",
    "X = df.drop('tiene_alto_valor_adquisitivo', 1).copy()\n",
    "y = df['tiene_alto_valor_adquisitivo']\n",
    "\n",
    "best_params = []\n",
    "best_scores = []\n",
    "for k in range(5, 15):\n",
    "    gscv = GridSearchCV(model, params, scoring='roc_auc', n_jobs=-1, cv=k)\n",
    "    gscv.fit(X, y)\n",
    "    best_scores.append(gscv.best_score_)\n",
    "    print(k)"
   ]
  },
  {
   "cell_type": "markdown",
   "metadata": {},
   "source": [
    "### Veamos si los folds parecen afectar a los scores"
   ]
  },
  {
   "cell_type": "code",
   "execution_count": null,
   "metadata": {},
   "outputs": [],
   "source": [
    "best_scores"
   ]
  },
  {
   "cell_type": "markdown",
   "metadata": {},
   "source": [
    "Parece que no. Por lo que podemos decir que el decision tree efectivamente predice con un Score que ronda el 0.84."
   ]
  },
  {
   "cell_type": "markdown",
   "metadata": {},
   "source": [
    "# El árbol\n",
    "\n",
    "Para ello utilizaremos el que mejor predice para K = 15, pues es el valor de K más grande y por lo tanto sobreestima menos el score"
   ]
  },
  {
   "cell_type": "code",
   "execution_count": null,
   "metadata": {
    "scrolled": true
   },
   "outputs": [],
   "source": [
    "X = df.drop('tiene_alto_valor_adquisitivo', 1).copy()\n",
    "y = df['tiene_alto_valor_adquisitivo']\n",
    "\n",
    "gscv = GridSearchCV(model, params, scoring='roc_auc', n_jobs=-1, cv=15)\n",
    "gscv.fit(X, y)\n",
    "\n",
    "clf = DecisionTreeClassifier(criterion= gscv.best_params_['criterion'],\n",
    "                       max_depth= gscv.best_params_['max_depth'],\n",
    "                       max_features= gscv.best_params_['max_features'],\n",
    "                       splitter=gscv.best_params_['splitter'])\n",
    "clf.fit(X,y)\n",
    "viz = dtreeviz.dtreeviz(\n",
    "    clf,\n",
    "    X,\n",
    "    y,\n",
    "    target_name='tiene_alto_valor_adquisitivo',\n",
    "    feature_names=list(X.columns),\n",
    "    class_names=list([0,1]),\n",
    "    scale=1.5,\n",
    ")\n",
    "\n",
    "display(viz)"
   ]
  },
  {
   "cell_type": "code",
   "execution_count": null,
   "metadata": {},
   "outputs": [],
   "source": [
    "print(classification_report(y,gscv.predict(X)))"
   ]
  },
  {
   "cell_type": "code",
   "execution_count": null,
   "metadata": {},
   "outputs": [],
   "source": [
    "fig, ax = plt.subplots(figsize=(15,7))\n",
    "plt.grid(False)\n",
    "plot_confusion_matrix(gscv, X, y, cmap=plt.cm.Blues,  ax=ax)\n",
    "plt.show()"
   ]
  },
  {
   "cell_type": "code",
   "execution_count": null,
   "metadata": {},
   "outputs": [],
   "source": [
    "plot_roc_curve(gscv, X, y)"
   ]
  }
 ],
 "metadata": {
  "kernelspec": {
   "display_name": "Python 3",
   "language": "python",
   "name": "python3"
  },
  "language_info": {
   "codemirror_mode": {
    "name": "ipython",
    "version": 3
   },
   "file_extension": ".py",
   "mimetype": "text/x-python",
   "name": "python",
   "nbconvert_exporter": "python",
   "pygments_lexer": "ipython3",
   "version": "3.6.9"
  }
 },
 "nbformat": 4,
 "nbformat_minor": 4
}

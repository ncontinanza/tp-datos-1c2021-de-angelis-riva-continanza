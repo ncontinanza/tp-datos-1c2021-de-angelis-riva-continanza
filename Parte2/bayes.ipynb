{
 "cells": [
  {
   "cell_type": "markdown",
   "metadata": {},
   "source": [
    "### Naive Bayes\n",
    "\n",
    "En este notebook entrenaremos dos modelos de MultinomialNB, uno con el mismo preprocesamiento del dataset realizado en la primera parte del TP, y el segundo con la función `preprocessing_significantes`"
   ]
  },
  {
   "cell_type": "code",
   "execution_count": 4,
   "metadata": {},
   "outputs": [],
   "source": [
    "# Modelo\n",
    "from sklearn.naive_bayes import GaussianNB, CategoricalNB, MultinomialNB\n",
    "from sklearn.naive_bayes import BernoulliNB, ComplementNB\n",
    "\n",
    "# Preprocessing\n",
    "import utils\n",
    "import preprocessing\n",
    "from sklearn.preprocessing import MinMaxScaler\n",
    "from sklearn.preprocessing import OrdinalEncoder\n",
    "\n",
    "# Búsqueda\n",
    "from sklearn.model_selection import train_test_split, GridSearchCV\n",
    "\n",
    "# Metrics\n",
    "from sklearn.metrics import roc_curve, plot_roc_curve, auc, roc_auc_score\n",
    "from sklearn.metrics import classification_report, confusion_matrix, plot_confusion_matrix\n",
    "\n",
    "# Plots\n",
    "from matplotlib import pyplot as plt\n",
    "import seaborn as sns\n",
    "\n",
    "# Otros\n",
    "import pandas as pd\n",
    "import numpy as np"
   ]
  },
  {
   "cell_type": "code",
   "execution_count": 5,
   "metadata": {},
   "outputs": [],
   "source": [
    "df = preprocessing.preprocessing_base_parte_1(utils.feature_engineering(utils.get_data()))"
   ]
  },
  {
   "cell_type": "code",
   "execution_count": 21,
   "metadata": {},
   "outputs": [],
   "source": [
    "params = { 'alpha': np.linspace(0,1,1000) }\n",
    "model = MultinomialNB()"
   ]
  },
  {
   "cell_type": "code",
   "execution_count": 18,
   "metadata": {},
   "outputs": [],
   "source": [
    "gscv = GridSearchCV(model, params, scoring='roc_auc', n_jobs=-1, verbose=10)"
   ]
  },
  {
   "cell_type": "code",
   "execution_count": 8,
   "metadata": {},
   "outputs": [],
   "source": [
    "X_train, X_test, y_train, y_test = train_test_split(df.drop('tiene_alto_valor_adquisitivo',1), df['tiene_alto_valor_adquisitivo'], random_state=112)"
   ]
  },
  {
   "cell_type": "code",
   "execution_count": 15,
   "metadata": {},
   "outputs": [],
   "source": [
    "scaler = MinMaxScaler() # Por default, en [0,1]\n",
    "\n",
    "X_train = pd.DataFrame(scaler.fit_transform(X_train))\n",
    "X_test = pd.DataFrame(scaler.transform(X_test))"
   ]
  },
  {
   "cell_type": "code",
   "execution_count": 19,
   "metadata": {},
   "outputs": [
    {
     "name": "stdout",
     "output_type": "stream",
     "text": [
      "Fitting 5 folds for each of 1000 candidates, totalling 5000 fits\n"
     ]
    },
    {
     "name": "stderr",
     "output_type": "stream",
     "text": [
      "[Parallel(n_jobs=-1)]: Using backend LokyBackend with 4 concurrent workers.\n",
      "[Parallel(n_jobs=-1)]: Done   5 tasks      | elapsed:    1.7s\n",
      "[Parallel(n_jobs=-1)]: Done  10 tasks      | elapsed:    1.7s\n",
      "[Parallel(n_jobs=-1)]: Done  17 tasks      | elapsed:    1.8s\n",
      "[Parallel(n_jobs=-1)]: Batch computation too fast (0.1885s.) Setting batch_size=2.\n",
      "[Parallel(n_jobs=-1)]: Done  24 tasks      | elapsed:    1.9s\n",
      "[Parallel(n_jobs=-1)]: Done  34 tasks      | elapsed:    2.0s\n",
      "[Parallel(n_jobs=-1)]: Batch computation too fast (0.0884s.) Setting batch_size=4.\n",
      "[Parallel(n_jobs=-1)]: Done  56 tasks      | elapsed:    2.2s\n",
      "[Parallel(n_jobs=-1)]: Done 100 tasks      | elapsed:    2.6s\n",
      "[Parallel(n_jobs=-1)]: Done 144 tasks      | elapsed:    3.0s\n",
      "[Parallel(n_jobs=-1)]: Done 196 tasks      | elapsed:    3.4s\n",
      "[Parallel(n_jobs=-1)]: Done 248 tasks      | elapsed:    3.8s\n",
      "[Parallel(n_jobs=-1)]: Done 308 tasks      | elapsed:    4.4s\n",
      "[Parallel(n_jobs=-1)]: Done 368 tasks      | elapsed:    5.0s\n",
      "[Parallel(n_jobs=-1)]: Done 436 tasks      | elapsed:    5.7s\n",
      "[Parallel(n_jobs=-1)]: Done 504 tasks      | elapsed:    6.4s\n",
      "[Parallel(n_jobs=-1)]: Done 580 tasks      | elapsed:    7.1s\n",
      "[Parallel(n_jobs=-1)]: Done 656 tasks      | elapsed:    7.9s\n",
      "[Parallel(n_jobs=-1)]: Done 740 tasks      | elapsed:    8.7s\n",
      "[Parallel(n_jobs=-1)]: Done 824 tasks      | elapsed:    9.4s\n",
      "[Parallel(n_jobs=-1)]: Done 916 tasks      | elapsed:   10.3s\n",
      "[Parallel(n_jobs=-1)]: Done 1008 tasks      | elapsed:   11.2s\n",
      "[Parallel(n_jobs=-1)]: Done 1108 tasks      | elapsed:   12.2s\n",
      "[Parallel(n_jobs=-1)]: Done 1208 tasks      | elapsed:   13.2s\n",
      "[Parallel(n_jobs=-1)]: Done 1316 tasks      | elapsed:   14.2s\n",
      "[Parallel(n_jobs=-1)]: Done 1424 tasks      | elapsed:   15.3s\n",
      "[Parallel(n_jobs=-1)]: Done 1540 tasks      | elapsed:   16.3s\n",
      "[Parallel(n_jobs=-1)]: Done 1656 tasks      | elapsed:   17.6s\n",
      "[Parallel(n_jobs=-1)]: Done 1780 tasks      | elapsed:   18.6s\n",
      "[Parallel(n_jobs=-1)]: Done 1904 tasks      | elapsed:   19.9s\n",
      "[Parallel(n_jobs=-1)]: Done 2036 tasks      | elapsed:   20.9s\n",
      "[Parallel(n_jobs=-1)]: Done 2168 tasks      | elapsed:   21.9s\n",
      "[Parallel(n_jobs=-1)]: Done 2308 tasks      | elapsed:   23.0s\n",
      "[Parallel(n_jobs=-1)]: Done 2448 tasks      | elapsed:   24.1s\n",
      "[Parallel(n_jobs=-1)]: Done 2596 tasks      | elapsed:   25.3s\n",
      "[Parallel(n_jobs=-1)]: Done 2744 tasks      | elapsed:   26.5s\n",
      "[Parallel(n_jobs=-1)]: Done 2900 tasks      | elapsed:   27.8s\n",
      "[Parallel(n_jobs=-1)]: Done 3056 tasks      | elapsed:   29.0s\n",
      "[Parallel(n_jobs=-1)]: Done 3220 tasks      | elapsed:   30.3s\n",
      "[Parallel(n_jobs=-1)]: Done 3384 tasks      | elapsed:   31.8s\n",
      "[Parallel(n_jobs=-1)]: Done 3556 tasks      | elapsed:   33.1s\n",
      "[Parallel(n_jobs=-1)]: Done 3728 tasks      | elapsed:   34.6s\n",
      "[Parallel(n_jobs=-1)]: Done 3908 tasks      | elapsed:   36.0s\n",
      "[Parallel(n_jobs=-1)]: Done 4088 tasks      | elapsed:   37.4s\n",
      "[Parallel(n_jobs=-1)]: Done 4276 tasks      | elapsed:   39.0s\n",
      "[Parallel(n_jobs=-1)]: Done 4464 tasks      | elapsed:   40.7s\n",
      "[Parallel(n_jobs=-1)]: Done 4660 tasks      | elapsed:   42.4s\n",
      "[Parallel(n_jobs=-1)]: Done 4856 tasks      | elapsed:   44.5s\n",
      "[Parallel(n_jobs=-1)]: Done 4993 out of 5000 | elapsed:   45.7s remaining:    0.1s\n",
      "[Parallel(n_jobs=-1)]: Done 5000 out of 5000 | elapsed:   45.8s finished\n"
     ]
    },
    {
     "name": "stdout",
     "output_type": "stream",
     "text": [
      "CPU times: user 10.1 s, sys: 772 ms, total: 10.9 s\n",
      "Wall time: 46 s\n"
     ]
    }
   ],
   "source": [
    "%%time\n",
    "gscv.fit(X_train, y_train)\n",
    "score = roc_auc_score(y_test, gscv.predict_proba(X_test)[:,1])"
   ]
  },
  {
   "cell_type": "code",
   "execution_count": 20,
   "metadata": {},
   "outputs": [
    {
     "data": {
      "text/plain": [
       "{'alpha': 0.984984984984985}"
      ]
     },
     "execution_count": 20,
     "metadata": {},
     "output_type": "execute_result"
    }
   ],
   "source": [
    "gscv.best_params_"
   ]
  },
  {
   "cell_type": "code",
   "execution_count": 22,
   "metadata": {},
   "outputs": [
    {
     "data": {
      "text/plain": [
       "0.8426126898738933"
      ]
     },
     "execution_count": 22,
     "metadata": {},
     "output_type": "execute_result"
    }
   ],
   "source": [
    "score"
   ]
  },
  {
   "cell_type": "code",
   "execution_count": 23,
   "metadata": {},
   "outputs": [
    {
     "name": "stdout",
     "output_type": "stream",
     "text": [
      "              precision    recall  f1-score   support\n",
      "\n",
      "           0       0.76      1.00      0.87      6182\n",
      "           1       1.00      0.02      0.03      1959\n",
      "\n",
      "    accuracy                           0.76      8141\n",
      "   macro avg       0.88      0.51      0.45      8141\n",
      "weighted avg       0.82      0.76      0.66      8141\n",
      "\n"
     ]
    }
   ],
   "source": [
    "print(classification_report(y_test,gscv.predict(X_test)))"
   ]
  },
  {
   "cell_type": "code",
   "execution_count": 24,
   "metadata": {},
   "outputs": [
    {
     "data": {
      "image/png": "[encoded data removed]",
      "text/plain": [
       "<Figure size 1080x504 with 2 Axes>"
      ]
     },
     "metadata": {
      "needs_background": "light"
     },
     "output_type": "display_data"
    }
   ],
   "source": [
    "fig, ax = plt.subplots(figsize=(15,7))\n",
    "plt.grid(False)\n",
    "plot_confusion_matrix(gscv, X_test, y_test, cmap=plt.cm.Blues, display_labels=['1', '0'], ax=ax)\n",
    "plt.show()"
   ]
  },
  {
   "cell_type": "code",
   "execution_count": null,
   "metadata": {},
   "outputs": [],
   "source": []
  },
  {
   "cell_type": "code",
   "execution_count": 25,
   "metadata": {},
   "outputs": [
    {
     "data": {
      "text/plain": [
       "<sklearn.metrics._plot.roc_curve.RocCurveDisplay at 0x7f81e9dc7390>"
      ]
     },
     "execution_count": 25,
     "metadata": {},
     "output_type": "execute_result"
    },
    {
     "data": {
      "image/png": "[encoded data removed]",
      "text/plain": [
       "<Figure size 432x288 with 1 Axes>"
      ]
     },
     "metadata": {
      "needs_background": "light"
     },
     "output_type": "display_data"
    }
   ],
   "source": [
    "plot_roc_curve(gscv, X_test, y_test)"
   ]
  },
  {
   "cell_type": "code",
   "execution_count": 28,
   "metadata": {},
   "outputs": [],
   "source": [
    "df, pa = preprocessing.preprocessing_significantes(utils.feature_engineering(utils.get_data()))"
   ]
  },
  {
   "cell_type": "code",
   "execution_count": 27,
   "metadata": {},
   "outputs": [],
   "source": [
    "params = { 'alpha': np.linspace(0,1,1000) }\n",
    "model = MultinomialNB()"
   ]
  },
  {
   "cell_type": "code",
   "execution_count": 29,
   "metadata": {},
   "outputs": [],
   "source": [
    "gscv = GridSearchCV(model, params, scoring='roc_auc', n_jobs=-1, verbose=10)"
   ]
  },
  {
   "cell_type": "code",
   "execution_count": 30,
   "metadata": {},
   "outputs": [],
   "source": [
    "X_train, X_test, y_train, y_test = train_test_split(df, pa, random_state=112)"
   ]
  },
  {
   "cell_type": "code",
   "execution_count": 31,
   "metadata": {},
   "outputs": [],
   "source": [
    "scaler = MinMaxScaler() # Por default, en [0,1]\n",
    "\n",
    "X_train = pd.DataFrame(scaler.fit_transform(X_train))\n",
    "X_test = pd.DataFrame(scaler.transform(X_test))"
   ]
  },
  {
   "cell_type": "code",
   "execution_count": 32,
   "metadata": {},
   "outputs": [
    {
     "name": "stdout",
     "output_type": "stream",
     "text": [
      "Fitting 5 folds for each of 1000 candidates, totalling 5000 fits\n"
     ]
    },
    {
     "name": "stderr",
     "output_type": "stream",
     "text": [
      "[Parallel(n_jobs=-1)]: Using backend LokyBackend with 4 concurrent workers.\n",
      "[Parallel(n_jobs=-1)]: Done   5 tasks      | elapsed:    1.7s\n",
      "[Parallel(n_jobs=-1)]: Done  10 tasks      | elapsed:    1.8s\n",
      "[Parallel(n_jobs=-1)]: Done  17 tasks      | elapsed:    1.9s\n",
      "[Parallel(n_jobs=-1)]: Batch computation too fast (0.1999s.) Setting batch_size=2.\n",
      "[Parallel(n_jobs=-1)]: Done  24 tasks      | elapsed:    2.0s\n",
      "[Parallel(n_jobs=-1)]: Batch computation too fast (0.1421s.) Setting batch_size=4.\n",
      "[Parallel(n_jobs=-1)]: Done  38 tasks      | elapsed:    2.2s\n",
      "[Parallel(n_jobs=-1)]: Done  68 tasks      | elapsed:    2.5s\n",
      "[Parallel(n_jobs=-1)]: Done 112 tasks      | elapsed:    3.1s\n",
      "[Parallel(n_jobs=-1)]: Done 156 tasks      | elapsed:    3.5s\n",
      "[Parallel(n_jobs=-1)]: Done 208 tasks      | elapsed:    4.1s\n",
      "[Parallel(n_jobs=-1)]: Done 260 tasks      | elapsed:    4.9s\n",
      "[Parallel(n_jobs=-1)]: Done 320 tasks      | elapsed:    5.5s\n",
      "[Parallel(n_jobs=-1)]: Done 380 tasks      | elapsed:    6.2s\n",
      "[Parallel(n_jobs=-1)]: Done 448 tasks      | elapsed:    6.8s\n",
      "[Parallel(n_jobs=-1)]: Done 516 tasks      | elapsed:    7.6s\n",
      "[Parallel(n_jobs=-1)]: Done 592 tasks      | elapsed:    8.4s\n",
      "[Parallel(n_jobs=-1)]: Done 668 tasks      | elapsed:    9.3s\n",
      "[Parallel(n_jobs=-1)]: Done 752 tasks      | elapsed:   10.5s\n",
      "[Parallel(n_jobs=-1)]: Done 836 tasks      | elapsed:   11.4s\n",
      "[Parallel(n_jobs=-1)]: Done 928 tasks      | elapsed:   12.3s\n",
      "[Parallel(n_jobs=-1)]: Done 1020 tasks      | elapsed:   13.2s\n",
      "[Parallel(n_jobs=-1)]: Done 1120 tasks      | elapsed:   14.2s\n",
      "[Parallel(n_jobs=-1)]: Done 1220 tasks      | elapsed:   15.2s\n",
      "[Parallel(n_jobs=-1)]: Done 1328 tasks      | elapsed:   16.4s\n",
      "[Parallel(n_jobs=-1)]: Done 1436 tasks      | elapsed:   17.5s\n",
      "[Parallel(n_jobs=-1)]: Done 1552 tasks      | elapsed:   18.9s\n",
      "[Parallel(n_jobs=-1)]: Done 1668 tasks      | elapsed:   20.3s\n",
      "[Parallel(n_jobs=-1)]: Done 1792 tasks      | elapsed:   21.9s\n",
      "[Parallel(n_jobs=-1)]: Done 1916 tasks      | elapsed:   23.4s\n",
      "[Parallel(n_jobs=-1)]: Done 2048 tasks      | elapsed:   25.9s\n",
      "[Parallel(n_jobs=-1)]: Done 2180 tasks      | elapsed:   28.3s\n",
      "[Parallel(n_jobs=-1)]: Done 2320 tasks      | elapsed:   30.0s\n",
      "[Parallel(n_jobs=-1)]: Done 2460 tasks      | elapsed:   31.5s\n",
      "[Parallel(n_jobs=-1)]: Done 2608 tasks      | elapsed:   33.0s\n",
      "[Parallel(n_jobs=-1)]: Done 2756 tasks      | elapsed:   34.6s\n",
      "[Parallel(n_jobs=-1)]: Done 2912 tasks      | elapsed:   36.4s\n",
      "[Parallel(n_jobs=-1)]: Done 3068 tasks      | elapsed:   38.4s\n",
      "[Parallel(n_jobs=-1)]: Done 3232 tasks      | elapsed:   40.5s\n",
      "[Parallel(n_jobs=-1)]: Done 3396 tasks      | elapsed:   42.1s\n",
      "[Parallel(n_jobs=-1)]: Done 3568 tasks      | elapsed:   44.0s\n",
      "[Parallel(n_jobs=-1)]: Done 3740 tasks      | elapsed:   46.3s\n",
      "[Parallel(n_jobs=-1)]: Done 3920 tasks      | elapsed:   48.7s\n",
      "[Parallel(n_jobs=-1)]: Done 4100 tasks      | elapsed:   50.7s\n",
      "[Parallel(n_jobs=-1)]: Done 4288 tasks      | elapsed:   52.8s\n",
      "[Parallel(n_jobs=-1)]: Done 4476 tasks      | elapsed:   55.4s\n",
      "[Parallel(n_jobs=-1)]: Done 4672 tasks      | elapsed:   58.3s\n",
      "[Parallel(n_jobs=-1)]: Done 4868 tasks      | elapsed:  1.0min\n"
     ]
    },
    {
     "name": "stdout",
     "output_type": "stream",
     "text": [
      "CPU times: user 11 s, sys: 769 ms, total: 11.7 s\n",
      "Wall time: 1min 2s\n"
     ]
    },
    {
     "name": "stderr",
     "output_type": "stream",
     "text": [
      "[Parallel(n_jobs=-1)]: Done 5000 out of 5000 | elapsed:  1.0min finished\n"
     ]
    }
   ],
   "source": [
    "%%time\n",
    "gscv.fit(X_train, y_train)\n",
    "score = roc_auc_score(y_test, gscv.predict_proba(X_test)[:,1])"
   ]
  },
  {
   "cell_type": "code",
   "execution_count": 33,
   "metadata": {},
   "outputs": [
    {
     "data": {
      "text/plain": [
       "{'alpha': 0.9769769769769769}"
      ]
     },
     "execution_count": 33,
     "metadata": {},
     "output_type": "execute_result"
    }
   ],
   "source": [
    "gscv.best_params_"
   ]
  },
  {
   "cell_type": "code",
   "execution_count": 34,
   "metadata": {},
   "outputs": [
    {
     "data": {
      "text/plain": [
       "0.8362583066086742"
      ]
     },
     "execution_count": 34,
     "metadata": {},
     "output_type": "execute_result"
    }
   ],
   "source": [
    "score"
   ]
  },
  {
   "cell_type": "code",
   "execution_count": 35,
   "metadata": {},
   "outputs": [
    {
     "name": "stdout",
     "output_type": "stream",
     "text": [
      "              precision    recall  f1-score   support\n",
      "\n",
      "           0       0.76      1.00      0.86      6182\n",
      "           1       0.00      0.00      0.00      1959\n",
      "\n",
      "    accuracy                           0.76      8141\n",
      "   macro avg       0.38      0.50      0.43      8141\n",
      "weighted avg       0.58      0.76      0.66      8141\n",
      "\n"
     ]
    },
    {
     "name": "stderr",
     "output_type": "stream",
     "text": [
      "/home/nicolascontinanza/.local/lib/python3.6/site-packages/sklearn/metrics/_classification.py:1221: UndefinedMetricWarning: Precision and F-score are ill-defined and being set to 0.0 in labels with no predicted samples. Use `zero_division` parameter to control this behavior.\n",
      "  _warn_prf(average, modifier, msg_start, len(result))\n"
     ]
    }
   ],
   "source": [
    "print(classification_report(y_test,gscv.predict(X_test)))"
   ]
  },
  {
   "cell_type": "code",
   "execution_count": 36,
   "metadata": {},
   "outputs": [
    {
     "data": {
      "image/png": "[encoded data removed]",
      "text/plain": [
       "<Figure size 1080x504 with 2 Axes>"
      ]
     },
     "metadata": {
      "needs_background": "light"
     },
     "output_type": "display_data"
    }
   ],
   "source": [
    "fig, ax = plt.subplots(figsize=(15,7))\n",
    "plt.grid(False)\n",
    "plot_confusion_matrix(gscv, X_test, y_test, cmap=plt.cm.Blues, display_labels=['1', '0'], ax=ax)\n",
    "plt.show()"
   ]
  },
  {
   "cell_type": "code",
   "execution_count": 37,
   "metadata": {},
   "outputs": [
    {
     "data": {
      "text/plain": [
       "<sklearn.metrics._plot.roc_curve.RocCurveDisplay at 0x7f81cd223208>"
      ]
     },
     "execution_count": 37,
     "metadata": {},
     "output_type": "execute_result"
    },
    {
     "data": {
      "image/png": "[encoded data removed]",
      "text/plain": [
       "<Figure size 432x288 with 1 Axes>"
      ]
     },
     "metadata": {
      "needs_background": "light"
     },
     "output_type": "display_data"
    }
   ],
   "source": [
    "plot_roc_curve(gscv, X_test, y_test)"
   ]
  }
 ],
 "metadata": {
  "kernelspec": {
   "display_name": "Python 3",
   "language": "python",
   "name": "python3"
  },
  "language_info": {
   "codemirror_mode": {
    "name": "ipython",
    "version": 3
   },
   "file_extension": ".py",
   "mimetype": "text/x-python",
   "name": "python",
   "nbconvert_exporter": "python",
   "pygments_lexer": "ipython3",
   "version": "3.8.10"
  }
 },
 "nbformat": 4,
 "nbformat_minor": 4
}

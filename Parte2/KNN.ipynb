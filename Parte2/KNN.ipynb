{
 "cells": [
  {
   "cell_type": "markdown",
   "metadata": {},
   "source": [
    "### KNN\n",
    "\n",
    "En este notebook utilizaremos modelos de KNN para entrenar y clasificar el dataset con distintas configuraciones. Comenzaremos con la función de preprocesamiento que recrea lo realizado en la primera parte del TP, continuaremos con la función `preprocessing_significantes`, y finalizaremos preprocesando con las mejores variables seleccionadas con un árbol de decisión."
   ]
  },
  {
   "cell_type": "code",
   "execution_count": 2,
   "metadata": {},
   "outputs": [],
   "source": [
    "# Modelo\n",
    "from sklearn.naive_bayes import GaussianNB\n",
    "from sklearn.neighbors import KNeighborsClassifier\n",
    "\n",
    "# Preprocessing\n",
    "import preprocessing\n",
    "import utils\n",
    "\n",
    "# Búsqueda\n",
    "from sklearn.model_selection import train_test_split, GridSearchCV\n",
    "\n",
    "# Metrics\n",
    "from sklearn.metrics import plot_roc_curve, roc_auc_score\n",
    "from sklearn.metrics import classification_report, plot_confusion_matrix\n",
    "\n",
    "# Plots\n",
    "from matplotlib import pyplot as plt\n",
    "import seaborn as sns\n",
    "\n",
    "# Otros\n",
    "import pandas as pd\n",
    "import numpy as np"
   ]
  },
  {
   "cell_type": "markdown",
   "metadata": {},
   "source": [
    "Definimos los hiperparámetros que probaremos y sus valores posibles, para la validación cruzada."
   ]
  },
  {
   "cell_type": "code",
   "execution_count": 3,
   "metadata": {},
   "outputs": [],
   "source": [
    "params = { 'n_neighbors': range(10,300,5), 'weights': ('uniform', 'distance'), 'algorithm': ['ball_tree', 'kd_tree', 'brute'], 'p': range(1,3) }\n",
    "model = KNeighborsClassifier()"
   ]
  },
  {
   "cell_type": "markdown",
   "metadata": {},
   "source": [
    "### Preprocessing base\n",
    "\n",
    "Comenzamos por entrenar un modelo de KNN bajo las mismas condiciones en las que realizamos el baseline de la primera parte del TP."
   ]
  },
  {
   "cell_type": "code",
   "execution_count": 4,
   "metadata": {},
   "outputs": [],
   "source": [
    "df_base = utils.get_data()"
   ]
  },
  {
   "cell_type": "code",
   "execution_count": 5,
   "metadata": {},
   "outputs": [],
   "source": [
    "gscv_base = GridSearchCV(model, params, scoring='roc_auc', n_jobs=-1, cv=4, verbose=5)"
   ]
  },
  {
   "cell_type": "code",
   "execution_count": 6,
   "metadata": {},
   "outputs": [],
   "source": [
    "X_train_base, X_test_base, y_train_base, y_test_base = train_test_split(df_base.drop('tiene_alto_valor_adquisitivo',1), df_base['tiene_alto_valor_adquisitivo'], random_state=112)\n",
    "X_train_base, X_test_base = preprocessing.preprocessing_base_parte_1(X_train_base, X_test_base)"
   ]
  },
  {
   "cell_type": "code",
   "execution_count": 14,
   "metadata": {
    "scrolled": true
   },
   "outputs": [
    {
     "name": "stdout",
     "output_type": "stream",
     "text": [
      "Fitting 5 folds for each of 696 candidates, totalling 3480 fits\n"
     ]
    },
    {
     "name": "stderr",
     "output_type": "stream",
     "text": [
      "[Parallel(n_jobs=-1)]: Using backend LokyBackend with 4 concurrent workers.\n",
      "[Parallel(n_jobs=-1)]: Done   5 tasks      | elapsed:    3.5s\n",
      "[Parallel(n_jobs=-1)]: Done  10 tasks      | elapsed:    5.2s\n",
      "[Parallel(n_jobs=-1)]: Done  17 tasks      | elapsed:    7.4s\n",
      "[Parallel(n_jobs=-1)]: Done  24 tasks      | elapsed:    9.3s\n",
      "[Parallel(n_jobs=-1)]: Done  33 tasks      | elapsed:   11.8s\n",
      "[Parallel(n_jobs=-1)]: Done  42 tasks      | elapsed:   14.3s\n",
      "[Parallel(n_jobs=-1)]: Done  53 tasks      | elapsed:   17.2s\n",
      "[Parallel(n_jobs=-1)]: Done  64 tasks      | elapsed:   20.0s\n",
      "[Parallel(n_jobs=-1)]: Done  77 tasks      | elapsed:   23.7s\n",
      "[Parallel(n_jobs=-1)]: Done  90 tasks      | elapsed:   27.8s\n",
      "[Parallel(n_jobs=-1)]: Done 105 tasks      | elapsed:   32.3s\n",
      "[Parallel(n_jobs=-1)]: Done 120 tasks      | elapsed:   38.9s\n",
      "[Parallel(n_jobs=-1)]: Done 137 tasks      | elapsed:   44.8s\n",
      "[Parallel(n_jobs=-1)]: Done 154 tasks      | elapsed:   50.8s\n",
      "[Parallel(n_jobs=-1)]: Done 173 tasks      | elapsed:   57.5s\n",
      "[Parallel(n_jobs=-1)]: Done 192 tasks      | elapsed:  1.1min\n",
      "[Parallel(n_jobs=-1)]: Done 213 tasks      | elapsed:  1.2min\n",
      "[Parallel(n_jobs=-1)]: Done 234 tasks      | elapsed:  1.4min\n",
      "[Parallel(n_jobs=-1)]: Done 257 tasks      | elapsed:  1.6min\n",
      "[Parallel(n_jobs=-1)]: Done 280 tasks      | elapsed:  1.8min\n",
      "[Parallel(n_jobs=-1)]: Done 305 tasks      | elapsed:  1.9min\n",
      "[Parallel(n_jobs=-1)]: Done 330 tasks      | elapsed:  2.1min\n",
      "[Parallel(n_jobs=-1)]: Done 357 tasks      | elapsed:  2.3min\n",
      "[Parallel(n_jobs=-1)]: Done 384 tasks      | elapsed:  2.5min\n",
      "[Parallel(n_jobs=-1)]: Done 413 tasks      | elapsed:  2.7min\n",
      "[Parallel(n_jobs=-1)]: Done 442 tasks      | elapsed:  2.9min\n",
      "[Parallel(n_jobs=-1)]: Done 473 tasks      | elapsed:  3.2min\n",
      "[Parallel(n_jobs=-1)]: Done 504 tasks      | elapsed:  3.4min\n",
      "[Parallel(n_jobs=-1)]: Done 537 tasks      | elapsed:  3.7min\n",
      "[Parallel(n_jobs=-1)]: Done 570 tasks      | elapsed:  4.0min\n",
      "[Parallel(n_jobs=-1)]: Done 605 tasks      | elapsed:  4.3min\n",
      "[Parallel(n_jobs=-1)]: Done 640 tasks      | elapsed:  4.6min\n",
      "[Parallel(n_jobs=-1)]: Done 677 tasks      | elapsed:  4.9min\n",
      "[Parallel(n_jobs=-1)]: Done 714 tasks      | elapsed:  5.2min\n",
      "[Parallel(n_jobs=-1)]: Done 753 tasks      | elapsed:  5.5min\n",
      "[Parallel(n_jobs=-1)]: Done 792 tasks      | elapsed:  5.8min\n",
      "[Parallel(n_jobs=-1)]: Done 833 tasks      | elapsed:  6.2min\n",
      "[Parallel(n_jobs=-1)]: Done 874 tasks      | elapsed:  6.6min\n",
      "[Parallel(n_jobs=-1)]: Done 917 tasks      | elapsed:  7.1min\n",
      "[Parallel(n_jobs=-1)]: Done 960 tasks      | elapsed:  7.5min\n",
      "[Parallel(n_jobs=-1)]: Done 1005 tasks      | elapsed:  8.0min\n",
      "[Parallel(n_jobs=-1)]: Done 1050 tasks      | elapsed:  8.5min\n",
      "[Parallel(n_jobs=-1)]: Done 1097 tasks      | elapsed:  9.0min\n",
      "[Parallel(n_jobs=-1)]: Done 1144 tasks      | elapsed:  9.4min\n",
      "[Parallel(n_jobs=-1)]: Done 1193 tasks      | elapsed:  9.7min\n",
      "[Parallel(n_jobs=-1)]: Done 1242 tasks      | elapsed:  9.9min\n",
      "[Parallel(n_jobs=-1)]: Done 1293 tasks      | elapsed: 10.1min\n",
      "[Parallel(n_jobs=-1)]: Done 1344 tasks      | elapsed: 10.4min\n",
      "[Parallel(n_jobs=-1)]: Done 1397 tasks      | elapsed: 10.6min\n",
      "[Parallel(n_jobs=-1)]: Done 1450 tasks      | elapsed: 10.9min\n",
      "[Parallel(n_jobs=-1)]: Done 1505 tasks      | elapsed: 11.2min\n",
      "[Parallel(n_jobs=-1)]: Done 1560 tasks      | elapsed: 11.5min\n",
      "[Parallel(n_jobs=-1)]: Done 1617 tasks      | elapsed: 11.8min\n",
      "[Parallel(n_jobs=-1)]: Done 1674 tasks      | elapsed: 12.1min\n",
      "[Parallel(n_jobs=-1)]: Done 1733 tasks      | elapsed: 12.5min\n",
      "[Parallel(n_jobs=-1)]: Done 1792 tasks      | elapsed: 12.9min\n",
      "[Parallel(n_jobs=-1)]: Done 1853 tasks      | elapsed: 13.3min\n",
      "[Parallel(n_jobs=-1)]: Done 1914 tasks      | elapsed: 13.7min\n",
      "[Parallel(n_jobs=-1)]: Done 1977 tasks      | elapsed: 14.2min\n",
      "[Parallel(n_jobs=-1)]: Done 2040 tasks      | elapsed: 14.6min\n",
      "[Parallel(n_jobs=-1)]: Done 2105 tasks      | elapsed: 15.2min\n",
      "[Parallel(n_jobs=-1)]: Done 2170 tasks      | elapsed: 15.7min\n",
      "[Parallel(n_jobs=-1)]: Done 2237 tasks      | elapsed: 16.3min\n",
      "[Parallel(n_jobs=-1)]: Done 2304 tasks      | elapsed: 16.8min\n",
      "[Parallel(n_jobs=-1)]: Done 2373 tasks      | elapsed: 18.1min\n",
      "[Parallel(n_jobs=-1)]: Done 2442 tasks      | elapsed: 19.2min\n",
      "[Parallel(n_jobs=-1)]: Done 2513 tasks      | elapsed: 20.5min\n",
      "[Parallel(n_jobs=-1)]: Done 2584 tasks      | elapsed: 21.6min\n",
      "[Parallel(n_jobs=-1)]: Done 2657 tasks      | elapsed: 22.8min\n",
      "[Parallel(n_jobs=-1)]: Done 2730 tasks      | elapsed: 24.0min\n",
      "[Parallel(n_jobs=-1)]: Done 2805 tasks      | elapsed: 25.3min\n",
      "[Parallel(n_jobs=-1)]: Done 2880 tasks      | elapsed: 26.5min\n",
      "[Parallel(n_jobs=-1)]: Done 2957 tasks      | elapsed: 27.8min\n",
      "[Parallel(n_jobs=-1)]: Done 3034 tasks      | elapsed: 29.0min\n",
      "[Parallel(n_jobs=-1)]: Done 3113 tasks      | elapsed: 30.3min\n",
      "[Parallel(n_jobs=-1)]: Done 3192 tasks      | elapsed: 31.6min\n",
      "[Parallel(n_jobs=-1)]: Done 3273 tasks      | elapsed: 33.0min\n",
      "[Parallel(n_jobs=-1)]: Done 3354 tasks      | elapsed: 34.4min\n",
      "[Parallel(n_jobs=-1)]: Done 3437 tasks      | elapsed: 35.9min\n",
      "[Parallel(n_jobs=-1)]: Done 3480 out of 3480 | elapsed: 36.6min finished\n"
     ]
    },
    {
     "name": "stdout",
     "output_type": "stream",
     "text": [
      "CPU times: user 24.6 s, sys: 2.39 s, total: 27 s\n",
      "Wall time: 36min 37s\n"
     ]
    }
   ],
   "source": [
    "%%time\n",
    "gscv_base.fit(X_train_base, y_train_base)\n",
    "score_base = roc_auc_score(y_test_base, gscv_base.predict_proba(X_test_base)[:,1])"
   ]
  },
  {
   "cell_type": "code",
   "execution_count": 16,
   "metadata": {},
   "outputs": [
    {
     "data": {
      "text/plain": [
       "{'algorithm': 'kd_tree', 'n_neighbors': 30, 'p': 1, 'weights': 'uniform'}"
      ]
     },
     "execution_count": 16,
     "metadata": {},
     "output_type": "execute_result"
    }
   ],
   "source": [
    "gscv_base.best_params_"
   ]
  },
  {
   "cell_type": "code",
   "execution_count": 7,
   "metadata": {},
   "outputs": [
    {
     "data": {
      "text/plain": [
       "KNeighborsClassifier(algorithm='kd_tree', n_neighbors=30, p=1)"
      ]
     },
     "execution_count": 7,
     "metadata": {},
     "output_type": "execute_result"
    }
   ],
   "source": [
    "knn1 = KNeighborsClassifier(algorithm='kd_tree', n_neighbors=30, p=1, weights='uniform')\n",
    "knn1.fit(X_train_base, y_train_base)"
   ]
  },
  {
   "cell_type": "code",
   "execution_count": 17,
   "metadata": {},
   "outputs": [
    {
     "data": {
      "text/plain": [
       "0.8937630186206427"
      ]
     },
     "execution_count": 17,
     "metadata": {},
     "output_type": "execute_result"
    }
   ],
   "source": [
    "score_base"
   ]
  },
  {
   "cell_type": "markdown",
   "metadata": {},
   "source": [
    "Vemos un buen resultado en AUC-ROC, veamos cómo dieron las demás métricas"
   ]
  },
  {
   "cell_type": "code",
   "execution_count": 18,
   "metadata": {},
   "outputs": [
    {
     "name": "stdout",
     "output_type": "stream",
     "text": [
      "              precision    recall  f1-score   support\n",
      "\n",
      "           0       0.88      0.93      0.90      6182\n",
      "           1       0.72      0.58      0.65      1959\n",
      "\n",
      "    accuracy                           0.85      8141\n",
      "   macro avg       0.80      0.76      0.77      8141\n",
      "weighted avg       0.84      0.85      0.84      8141\n",
      "\n"
     ]
    }
   ],
   "source": [
    "print(classification_report(y_test_base,gscv_base.predict(X_test_base)))"
   ]
  },
  {
   "cell_type": "markdown",
   "metadata": {},
   "source": [
    "En líneas generales son buenos resultados, con un accuracy equiparable al de la parte 1 de este TP. Lo que sigue siendo bastante pobre es la clasificación de casos de poder adquisitivo alto."
   ]
  },
  {
   "cell_type": "code",
   "execution_count": 19,
   "metadata": {},
   "outputs": [
    {
     "data": {
      "image/png": "[encoded data removed]",
      "text/plain": [
       "<Figure size 1080x504 with 2 Axes>"
      ]
     },
     "metadata": {
      "needs_background": "light"
     },
     "output_type": "display_data"
    }
   ],
   "source": [
    "fig, ax = plt.subplots(figsize=(15,7))\n",
    "plt.grid(False)\n",
    "plot_confusion_matrix(gscv_base, X_test_base, y_test_base, cmap=plt.cm.Blues, display_labels=['1', '0'], ax=ax)\n",
    "plt.show()"
   ]
  },
  {
   "cell_type": "code",
   "execution_count": 20,
   "metadata": {},
   "outputs": [
    {
     "data": {
      "text/plain": [
       "<sklearn.metrics._plot.roc_curve.RocCurveDisplay at 0x7ff1d3a51ac8>"
      ]
     },
     "execution_count": 20,
     "metadata": {},
     "output_type": "execute_result"
    },
    {
     "data": {
      "image/png": "[encoded data removed]",
      "text/plain": [
       "<Figure size 432x288 with 1 Axes>"
      ]
     },
     "metadata": {
      "needs_background": "light"
     },
     "output_type": "display_data"
    }
   ],
   "source": [
    "plot_roc_curve(gscv_base, X_test_base, y_test_base)"
   ]
  },
  {
   "cell_type": "markdown",
   "metadata": {},
   "source": [
    "En general, podemos decir que es un buen clasificador. Veamos si podemos obtener mejores resultados trabajando de forma distinta con el preprocesamiento de los datos."
   ]
  },
  {
   "cell_type": "markdown",
   "metadata": {},
   "source": [
    "### Preprocessing Significantes\n",
    "\n",
    "Repetimos el procedimiento anterior, con otro preprocesamiento."
   ]
  },
  {
   "cell_type": "code",
   "execution_count": 8,
   "metadata": {},
   "outputs": [],
   "source": [
    "df = utils.get_data()"
   ]
  },
  {
   "cell_type": "code",
   "execution_count": 9,
   "metadata": {},
   "outputs": [],
   "source": [
    "params = { 'n_neighbors': range(10,300,20), 'weights': ('uniform', 'distance'), 'algorithm': ['ball_tree', 'kd_tree'], 'p': range(1,3) }\n",
    "model = KNeighborsClassifier()"
   ]
  },
  {
   "cell_type": "code",
   "execution_count": 13,
   "metadata": {},
   "outputs": [],
   "source": [
    "gscv = GridSearchCV(model, params, scoring='roc_auc', n_jobs=-1, cv=2, verbose=5)"
   ]
  },
  {
   "cell_type": "code",
   "execution_count": 10,
   "metadata": {},
   "outputs": [
    {
     "name": "stderr",
     "output_type": "stream",
     "text": [
      "/home/nicolascontinanza/Desktop/FIUBA/Datos/tp-datos-1c2021-de-angelis-riva-continanza/Parte2/preprocessing.py:40: SettingWithCopyWarning: \n",
      "A value is trying to be set on a copy of a slice from a DataFrame.\n",
      "Try using .loc[row_indexer,col_indexer] = value instead\n",
      "\n",
      "See the caveats in the documentation: https://pandas.pydata.org/pandas-docs/stable/user_guide/indexing.html#returning-a-view-versus-a-copy\n",
      "  X_train['ganancia_perdida_declarada_bolsa_argentina'] = X_train['ganancia_perdida_declarada_bolsa_argentina'].apply(_log_scale)\n",
      "/home/nicolascontinanza/Desktop/FIUBA/Datos/tp-datos-1c2021-de-angelis-riva-continanza/Parte2/preprocessing.py:41: SettingWithCopyWarning: \n",
      "A value is trying to be set on a copy of a slice from a DataFrame.\n",
      "Try using .loc[row_indexer,col_indexer] = value instead\n",
      "\n",
      "See the caveats in the documentation: https://pandas.pydata.org/pandas-docs/stable/user_guide/indexing.html#returning-a-view-versus-a-copy\n",
      "  X_test['ganancia_perdida_declarada_bolsa_argentina'] = X_test['ganancia_perdida_declarada_bolsa_argentina'].apply(_log_scale)\n"
     ]
    }
   ],
   "source": [
    "X = df[df.columns.drop('tiene_alto_valor_adquisitivo')]\n",
    "Y = df['tiene_alto_valor_adquisitivo']\n",
    "X = pd.get_dummies(X, drop_first=True)\n",
    "\n",
    "X_train, X_test, y_train, y_test = train_test_split(X, Y, random_state=112)\n",
    "X_train, X_test = preprocessing.preprocessing_significantes(X_train, X_test, 0.9)"
   ]
  },
  {
   "cell_type": "code",
   "execution_count": null,
   "metadata": {},
   "outputs": [
    {
     "name": "stdout",
     "output_type": "stream",
     "text": [
      "Fitting 2 folds for each of 120 candidates, totalling 240 fits\n"
     ]
    },
    {
     "name": "stderr",
     "output_type": "stream",
     "text": [
      "[Parallel(n_jobs=-1)]: Using backend LokyBackend with 4 concurrent workers.\n",
      "[Parallel(n_jobs=-1)]: Done  10 tasks      | elapsed:  3.3min\n",
      "[Parallel(n_jobs=-1)]: Done  64 tasks      | elapsed: 27.7min\n",
      "[Parallel(n_jobs=-1)]: Done 154 tasks      | elapsed: 56.4min\n"
     ]
    }
   ],
   "source": [
    "%%time\n",
    "gscv.fit(X_train, y_train)\n",
    "score = roc_auc_score(y_test, gscv.predict_proba(X_test)[:,1])"
   ]
  },
  {
   "cell_type": "code",
   "execution_count": 17,
   "metadata": {},
   "outputs": [
    {
     "data": {
      "text/plain": [
       "{'algorithm': 'ball_tree', 'n_neighbors': 50, 'p': 2, 'weights': 'uniform'}"
      ]
     },
     "execution_count": 17,
     "metadata": {},
     "output_type": "execute_result"
    }
   ],
   "source": [
    "gscv.best_params_"
   ]
  },
  {
   "cell_type": "code",
   "execution_count": 11,
   "metadata": {},
   "outputs": [
    {
     "data": {
      "text/plain": [
       "KNeighborsClassifier(algorithm='ball_tree', n_neighbors=50)"
      ]
     },
     "execution_count": 11,
     "metadata": {},
     "output_type": "execute_result"
    }
   ],
   "source": [
    "knn2 = KNeighborsClassifier(algorithm='ball_tree', n_neighbors=50, p=2, weights='uniform')\n",
    "knn2.fit(X_train, y_train)"
   ]
  },
  {
   "cell_type": "code",
   "execution_count": 18,
   "metadata": {},
   "outputs": [
    {
     "data": {
      "text/plain": [
       "0.8811689043046642"
      ]
     },
     "execution_count": 18,
     "metadata": {},
     "output_type": "execute_result"
    }
   ],
   "source": [
    "score"
   ]
  },
  {
   "cell_type": "markdown",
   "metadata": {},
   "source": [
    "Hay un ligero empeoramiento en la métrica AUC-ROC"
   ]
  },
  {
   "cell_type": "code",
   "execution_count": 19,
   "metadata": {},
   "outputs": [
    {
     "name": "stdout",
     "output_type": "stream",
     "text": [
      "              precision    recall  f1-score   support\n",
      "\n",
      "           0       0.86      0.92      0.89      6182\n",
      "           1       0.69      0.53      0.60      1959\n",
      "\n",
      "    accuracy                           0.83      8141\n",
      "   macro avg       0.77      0.73      0.75      8141\n",
      "weighted avg       0.82      0.83      0.82      8141\n",
      "\n"
     ]
    }
   ],
   "source": [
    "print(classification_report(y_test,gscv.predict(X_test)))"
   ]
  },
  {
   "cell_type": "markdown",
   "metadata": {},
   "source": [
    "Vemos que en el resto de las métricas los resultados tampoco mejoraron, y algunos de ellos empeoraron. "
   ]
  },
  {
   "cell_type": "code",
   "execution_count": 20,
   "metadata": {},
   "outputs": [
    {
     "data": {
      "image/png": "[encoded data removed]",
      "text/plain": [
       "<Figure size 1080x504 with 2 Axes>"
      ]
     },
     "metadata": {
      "needs_background": "light"
     },
     "output_type": "display_data"
    }
   ],
   "source": [
    "fig, ax = plt.subplots(figsize=(15,7))\n",
    "plt.grid(False)\n",
    "plot_confusion_matrix(gscv, X_test, y_test, cmap=plt.cm.Blues, display_labels=['1', '0'], ax=ax)\n",
    "plt.show()"
   ]
  },
  {
   "cell_type": "code",
   "execution_count": 21,
   "metadata": {},
   "outputs": [
    {
     "data": {
      "text/plain": [
       "<sklearn.metrics._plot.roc_curve.RocCurveDisplay at 0x7ffa7d114b70>"
      ]
     },
     "execution_count": 21,
     "metadata": {},
     "output_type": "execute_result"
    },
    {
     "data": {
      "image/png": "[encoded data removed]",
      "text/plain": [
       "<Figure size 432x288 with 1 Axes>"
      ]
     },
     "metadata": {
      "needs_background": "light"
     },
     "output_type": "display_data"
    }
   ],
   "source": [
    "plot_roc_curve(gscv, X_test, y_test)"
   ]
  },
  {
   "cell_type": "markdown",
   "metadata": {},
   "source": [
    "Vemos que los resultados, si bien no son pésimos, empeoraron respecto del primer caso. Continuemos con el último preprocesamiento que usaremos en este modelo.  "
   ]
  },
  {
   "cell_type": "markdown",
   "metadata": {},
   "source": [
    "### Mejores variables seleccionadas con un arbol\n",
    "\n",
    "En línea con lo analizado en el notebook de análisis de preprocessings, entrenaremos un modelo de KNN con las variables seleccionadas usando un árbol de decisión."
   ]
  },
  {
   "cell_type": "code",
   "execution_count": 12,
   "metadata": {},
   "outputs": [],
   "source": [
    "df = utils.get_data()"
   ]
  },
  {
   "cell_type": "code",
   "execution_count": 13,
   "metadata": {},
   "outputs": [],
   "source": [
    "X = df[df.columns.drop('tiene_alto_valor_adquisitivo')]\n",
    "X = pd.get_dummies(X)\n",
    "Y = df['tiene_alto_valor_adquisitivo']\n",
    "\n",
    "X_train, X_test, y_train, y_test = train_test_split(X, Y, random_state=112)"
   ]
  },
  {
   "cell_type": "code",
   "execution_count": 14,
   "metadata": {},
   "outputs": [],
   "source": [
    "X_train, X_test = preprocessing.preprocessing_mejores_por_arbol(X_train, X_test)"
   ]
  },
  {
   "cell_type": "code",
   "execution_count": 6,
   "metadata": {},
   "outputs": [],
   "source": [
    "params = { 'n_neighbors': range(10,200,10), \n",
    "          'weights': ('uniform', 'distance'),\n",
    "          'algorithm': ('ball_tree', 'kd_tree'),\n",
    "          'p': range(1,3) }\n",
    "\n",
    "model = KNeighborsClassifier()\n",
    "\n",
    "gscv1 = GridSearchCV(model, params, scoring='roc_auc', n_jobs=-1, cv=2, verbose = 5)"
   ]
  },
  {
   "cell_type": "code",
   "execution_count": 7,
   "metadata": {
    "scrolled": true
   },
   "outputs": [
    {
     "name": "stdout",
     "output_type": "stream",
     "text": [
      "Fitting 2 folds for each of 152 candidates, totalling 304 fits\n"
     ]
    },
    {
     "name": "stderr",
     "output_type": "stream",
     "text": [
      "[Parallel(n_jobs=-1)]: Using backend LokyBackend with 4 concurrent workers.\n",
      "[Parallel(n_jobs=-1)]: Done  10 tasks      | elapsed:    5.0s\n",
      "[Parallel(n_jobs=-1)]: Done  64 tasks      | elapsed:   27.8s\n",
      "[Parallel(n_jobs=-1)]: Done 154 tasks      | elapsed:  1.5min\n",
      "[Parallel(n_jobs=-1)]: Done 280 tasks      | elapsed:  2.4min\n",
      "[Parallel(n_jobs=-1)]: Done 304 out of 304 | elapsed:  2.7min finished\n"
     ]
    },
    {
     "name": "stdout",
     "output_type": "stream",
     "text": [
      "CPU times: user 2.28 s, sys: 159 ms, total: 2.44 s\n",
      "Wall time: 2min 40s\n"
     ]
    },
    {
     "data": {
      "text/plain": [
       "GridSearchCV(cv=2, estimator=KNeighborsClassifier(), n_jobs=-1,\n",
       "             param_grid={'algorithm': ('ball_tree', 'kd_tree'),\n",
       "                         'n_neighbors': range(10, 200, 10), 'p': range(1, 3),\n",
       "                         'weights': ('uniform', 'distance')},\n",
       "             scoring='roc_auc', verbose=5)"
      ]
     },
     "execution_count": 7,
     "metadata": {},
     "output_type": "execute_result"
    }
   ],
   "source": [
    "%%time\n",
    "gscv1.fit(X_train, y_train)"
   ]
  },
  {
   "cell_type": "markdown",
   "metadata": {},
   "source": [
    "#### El mejor modelo:"
   ]
  },
  {
   "cell_type": "code",
   "execution_count": 8,
   "metadata": {},
   "outputs": [
    {
     "name": "stdout",
     "output_type": "stream",
     "text": [
      "KNeighborsClassifier(algorithm='ball_tree', n_neighbors=30, p=1)\n",
      "{'algorithm': 'ball_tree', 'n_neighbors': 30, 'p': 1, 'weights': 'uniform'}\n",
      "0.8971692870565653\n"
     ]
    }
   ],
   "source": [
    "print(gscv1.best_estimator_)\n",
    "print(gscv1.best_params_)\n",
    "print(gscv1.best_score_)"
   ]
  },
  {
   "cell_type": "markdown",
   "metadata": {},
   "source": [
    "Obtuvimos un modelo bastante similar al anterior, por lo que no sería esperable que haya una mejora considerable en las métricas que nos interesa analizar."
   ]
  },
  {
   "cell_type": "code",
   "execution_count": 15,
   "metadata": {},
   "outputs": [
    {
     "data": {
      "text/plain": [
       "KNeighborsClassifier(algorithm='ball_tree', n_neighbors=30, p=1)"
      ]
     },
     "execution_count": 15,
     "metadata": {},
     "output_type": "execute_result"
    }
   ],
   "source": [
    "knn3 = KNeighborsClassifier(algorithm='ball_tree', n_neighbors=30, p=1, weights='uniform')\n",
    "knn3.fit(X_train, y_train)"
   ]
  },
  {
   "cell_type": "code",
   "execution_count": 10,
   "metadata": {
    "scrolled": true
   },
   "outputs": [
    {
     "name": "stdout",
     "output_type": "stream",
     "text": [
      "              precision    recall  f1-score   support\n",
      "\n",
      "           0       0.88      0.94      0.91      6182\n",
      "           1       0.75      0.58      0.65      1959\n",
      "\n",
      "    accuracy                           0.85      8141\n",
      "   macro avg       0.81      0.76      0.78      8141\n",
      "weighted avg       0.84      0.85      0.84      8141\n",
      "\n"
     ]
    }
   ],
   "source": [
    "print(classification_report(y_test,gscv1.predict(X_test)))"
   ]
  },
  {
   "cell_type": "markdown",
   "metadata": {},
   "source": [
    "Efectivamente, obtuvimos resultados que no difieren en gran medida de lo obtenido anteriormente. "
   ]
  },
  {
   "cell_type": "code",
   "execution_count": 13,
   "metadata": {},
   "outputs": [
    {
     "data": {
      "image/png": "[encoded data removed]",
      "text/plain": [
       "<Figure size 1080x504 with 2 Axes>"
      ]
     },
     "metadata": {
      "needs_background": "light"
     },
     "output_type": "display_data"
    }
   ],
   "source": [
    "fig, ax = plt.subplots(figsize=(15,7))\n",
    "plt.grid(False)\n",
    "plot_confusion_matrix(gscv1, X_test, y_test, cmap=plt.cm.Blues, display_labels=['1', '0'], ax=ax)\n",
    "plt.show()"
   ]
  },
  {
   "cell_type": "code",
   "execution_count": 15,
   "metadata": {},
   "outputs": [
    {
     "data": {
      "text/plain": [
       "<sklearn.metrics._plot.roc_curve.RocCurveDisplay at 0x7fb99ee024e0>"
      ]
     },
     "execution_count": 15,
     "metadata": {},
     "output_type": "execute_result"
    },
    {
     "data": {
      "image/png": "[encoded data removed]",
      "text/plain": [
       "<Figure size 432x288 with 1 Axes>"
      ]
     },
     "metadata": {
      "needs_background": "light"
     },
     "output_type": "display_data"
    }
   ],
   "source": [
    "plot_roc_curve(gscv1, X_test, y_test)"
   ]
  },
  {
   "cell_type": "markdown",
   "metadata": {},
   "source": [
    "Vemos que, de los tres modelos entrenados, el último es el que mejores resultados tuvo, si bien esos resultados no distan en gran medida de los demás. Podemos atribuirle esta mejora en los resultados a la selección de variables realizada en el preprocesamiento."
   ]
  },
  {
   "cell_type": "markdown",
   "metadata": {},
   "source": [
    "# Persistiendo los modelos"
   ]
  },
  {
   "cell_type": "code",
   "execution_count": 16,
   "metadata": {},
   "outputs": [],
   "source": [
    "import pickle"
   ]
  },
  {
   "cell_type": "code",
   "execution_count": 17,
   "metadata": {},
   "outputs": [],
   "source": [
    "pickle.dump(knn1, open(\"Modelos/KNN/knn1.pickle\", \"wb\"))\n",
    "pickle.dump(knn2, open(\"Modelos/KNN/knn2.pickle\", \"wb\"))\n",
    "pickle.dump(knn3, open(\"Modelos/KNN/knn3.pickle\", \"wb\"))"
   ]
  }
 ],
 "metadata": {
  "kernelspec": {
   "display_name": "Python 3",
   "language": "python",
   "name": "python3"
  },
  "language_info": {
   "codemirror_mode": {
    "name": "ipython",
    "version": 3
   },
   "file_extension": ".py",
   "mimetype": "text/x-python",
   "name": "python",
   "nbconvert_exporter": "python",
   "pygments_lexer": "ipython3",
   "version": "3.8.10"
  }
 },
 "nbformat": 4,
 "nbformat_minor": 4
}

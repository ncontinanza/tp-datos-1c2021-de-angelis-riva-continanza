{
 "cells": [
  {
   "cell_type": "markdown",
   "id": "collect-carol",
   "metadata": {},
   "source": [
    "### Bagging - Preprocessing todas las variables\n",
    "\n",
    "La idea de este notebook es entrenar con bagging de árboles con todas las variables del data set. Limitando un poco sus alturas."
   ]
  },
  {
   "cell_type": "markdown",
   "id": "violent-smell",
   "metadata": {},
   "source": [
    "##### Bibliotecas"
   ]
  },
  {
   "cell_type": "code",
   "execution_count": 1,
   "id": "becoming-methodology",
   "metadata": {},
   "outputs": [],
   "source": [
    "# Modelo\n",
    "from sklearn.tree import DecisionTreeClassifier\n",
    "from sklearn.ensemble import BaggingClassifier\n",
    "\n",
    "# Preprocessing\n",
    "import utils\n",
    "\n",
    "# Búsqueda\n",
    "from sklearn.model_selection import train_test_split, GridSearchCV\n",
    "\n",
    "# Metrics\n",
    "from sklearn.metrics import roc_curve, plot_roc_curve, auc, roc_auc_score\n",
    "from sklearn.metrics import classification_report, confusion_matrix, plot_confusion_matrix\n",
    "\n",
    "# Plots\n",
    "from matplotlib import pyplot as plt\n",
    "import seaborn as sns\n",
    "\n",
    "# Otros\n",
    "import pandas as pd\n",
    "import numpy as np"
   ]
  },
  {
   "cell_type": "code",
   "execution_count": 2,
   "id": "further-whole",
   "metadata": {},
   "outputs": [],
   "source": [
    "df = utils.feature_engineering(utils.get_data())"
   ]
  },
  {
   "cell_type": "code",
   "execution_count": 3,
   "id": "seasonal-creature",
   "metadata": {},
   "outputs": [],
   "source": [
    "X = df[df.columns.drop('tiene_alto_valor_adquisitivo')]\n",
    "X = pd.get_dummies(X)\n",
    "Y = df['tiene_alto_valor_adquisitivo']\n",
    "\n",
    "X_train, X_test, y_train, y_test = train_test_split(X, Y, random_state=27)"
   ]
  },
  {
   "cell_type": "code",
   "execution_count": 8,
   "id": "protected-module",
   "metadata": {},
   "outputs": [],
   "source": [
    "arbol = DecisionTreeClassifier(max_depth=25)\n",
    "bagging = BaggingClassifier(base_estimator=arbol, n_estimators = 5001, n_jobs=-1, random_state=27, verbose=4)"
   ]
  },
  {
   "cell_type": "code",
   "execution_count": 9,
   "id": "physical-tongue",
   "metadata": {},
   "outputs": [
    {
     "name": "stderr",
     "output_type": "stream",
     "text": [
      "[Parallel(n_jobs=8)]: Using backend LokyBackend with 8 concurrent workers.\n",
      "[Parallel(n_jobs=8)]: Done   2 out of   8 | elapsed:  4.9min remaining: 14.6min\n",
      "[Parallel(n_jobs=8)]: Done   5 out of   8 | elapsed:  4.9min remaining:  2.9min\n",
      "[Parallel(n_jobs=8)]: Done   8 out of   8 | elapsed:  4.9min remaining:    0.0s\n",
      "[Parallel(n_jobs=8)]: Done   8 out of   8 | elapsed:  4.9min finished\n"
     ]
    },
    {
     "data": {
      "text/plain": [
       "BaggingClassifier(base_estimator=DecisionTreeClassifier(max_depth=25),\n",
       "                  n_estimators=5001, n_jobs=-1, random_state=27, verbose=4)"
      ]
     },
     "execution_count": 9,
     "metadata": {},
     "output_type": "execute_result"
    }
   ],
   "source": [
    "bagging.fit(X_train, y_train)"
   ]
  },
  {
   "cell_type": "code",
   "execution_count": 10,
   "id": "perceived-consequence",
   "metadata": {},
   "outputs": [
    {
     "name": "stderr",
     "output_type": "stream",
     "text": [
      "[Parallel(n_jobs=8)]: Using backend LokyBackend with 8 concurrent workers.\n",
      "[Parallel(n_jobs=8)]: Done   2 out of   8 | elapsed:    9.4s remaining:   28.3s\n",
      "[Parallel(n_jobs=8)]: Done   5 out of   8 | elapsed:   13.3s remaining:    8.0s\n"
     ]
    },
    {
     "name": "stdout",
     "output_type": "stream",
     "text": [
      "              precision    recall  f1-score   support\n",
      "\n",
      "           0       0.89      0.92      0.91      6186\n",
      "           1       0.73      0.65      0.69      1955\n",
      "\n",
      "    accuracy                           0.86      8141\n",
      "   macro avg       0.81      0.79      0.80      8141\n",
      "weighted avg       0.85      0.86      0.85      8141\n",
      "\n"
     ]
    },
    {
     "name": "stderr",
     "output_type": "stream",
     "text": [
      "[Parallel(n_jobs=8)]: Done   8 out of   8 | elapsed:   18.0s remaining:    0.0s\n",
      "[Parallel(n_jobs=8)]: Done   8 out of   8 | elapsed:   18.0s finished\n"
     ]
    }
   ],
   "source": [
    "print(classification_report(y_test,bagging.predict(X_test)))"
   ]
  },
  {
   "cell_type": "code",
   "execution_count": 11,
   "id": "wanted-sugar",
   "metadata": {
    "scrolled": true
   },
   "outputs": [
    {
     "name": "stderr",
     "output_type": "stream",
     "text": [
      "[Parallel(n_jobs=8)]: Using backend LokyBackend with 8 concurrent workers.\n",
      "[Parallel(n_jobs=8)]: Done   2 out of   8 | elapsed:   10.8s remaining:   32.4s\n",
      "[Parallel(n_jobs=8)]: Done   5 out of   8 | elapsed:   15.6s remaining:    9.4s\n",
      "[Parallel(n_jobs=8)]: Done   8 out of   8 | elapsed:   17.6s remaining:    0.0s\n",
      "[Parallel(n_jobs=8)]: Done   8 out of   8 | elapsed:   17.6s finished\n"
     ]
    },
    {
     "data": {
      "text/plain": [
       "<sklearn.metrics._plot.roc_curve.RocCurveDisplay at 0x7fd08eaf8c70>"
      ]
     },
     "execution_count": 11,
     "metadata": {},
     "output_type": "execute_result"
    },
    {
     "data": {
      "image/png": "[encoded data removed]",
      "text/plain": [
       "<Figure size 432x288 with 1 Axes>"
      ]
     },
     "metadata": {
      "needs_background": "light"
     },
     "output_type": "display_data"
    }
   ],
   "source": [
    "plot_roc_curve(bagging, X_test, y_test)"
   ]
  },
  {
   "cell_type": "code",
   "execution_count": 12,
   "id": "answering-triple",
   "metadata": {
    "scrolled": false
   },
   "outputs": [
    {
     "name": "stderr",
     "output_type": "stream",
     "text": [
      "[Parallel(n_jobs=8)]: Using backend LokyBackend with 8 concurrent workers.\n",
      "[Parallel(n_jobs=8)]: Done   2 out of   8 | elapsed:    8.5s remaining:   25.5s\n",
      "[Parallel(n_jobs=8)]: Done   5 out of   8 | elapsed:   15.3s remaining:    9.2s\n",
      "[Parallel(n_jobs=8)]: Done   8 out of   8 | elapsed:   17.6s remaining:    0.0s\n",
      "[Parallel(n_jobs=8)]: Done   8 out of   8 | elapsed:   17.6s finished\n"
     ]
    },
    {
     "data": {
      "image/png": "[encoded data removed]",
      "text/plain": [
       "<Figure size 1080x504 with 2 Axes>"
      ]
     },
     "metadata": {
      "needs_background": "light"
     },
     "output_type": "display_data"
    }
   ],
   "source": [
    "fig, ax = plt.subplots(figsize=(15,7))\n",
    "plt.grid(False)\n",
    "plot_confusion_matrix(bagging, X_test, y_test, cmap=plt.cm.Blues, display_labels=['1', '0'], ax=ax)\n",
    "plt.show()"
   ]
  }
 ],
 "metadata": {
  "kernelspec": {
   "display_name": "Python 3",
   "language": "python",
   "name": "python3"
  },
  "language_info": {
   "codemirror_mode": {
    "name": "ipython",
    "version": 3
   },
   "file_extension": ".py",
   "mimetype": "text/x-python",
   "name": "python",
   "nbconvert_exporter": "python",
   "pygments_lexer": "ipython3",
   "version": "3.8.10"
  }
 },
 "nbformat": 4,
 "nbformat_minor": 5
}

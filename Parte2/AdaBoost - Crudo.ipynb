{
 "cells": [
  {
   "cell_type": "code",
   "execution_count": 66,
   "metadata": {},
   "outputs": [],
   "source": [
    "from sklearn.preprocessing import MinMaxScaler\n",
    "from sklearn.naive_bayes import MultinomialNB\n",
    "from sklearn.impute import SimpleImputer\n",
    "from sklearn.model_selection import train_test_split, GridSearchCV\n",
    "from sklearn.ensemble import AdaBoostClassifier\n",
    "from sklearn.metrics import roc_curve, plot_roc_curve, auc, roc_auc_score, classification_report, confusion_matrix, plot_confusion_matrix\n",
    "from matplotlib import pyplot as plt\n",
    "import pandas as pd\n",
    "import numpy as np\n",
    "import utils\n",
    "import preprocessing"
   ]
  },
  {
   "cell_type": "code",
   "execution_count": 38,
   "metadata": {},
   "outputs": [],
   "source": [
    "imputer = SimpleImputer(strategy='most_frequent')\n",
    "df = utils.get_data()\n",
    "df_imp = pd.DataFrame(imputer.fit_transform(df[['ganancia_perdida_declarada_bolsa_argentina', 'edad', 'rol_familiar_registrado', 'anios_estudiados']]))\n"
   ]
  },
  {
   "cell_type": "code",
   "execution_count": 39,
   "metadata": {},
   "outputs": [],
   "source": [
    "X = df_imp\n",
    "X = pd.get_dummies(X)\n",
    "Y = df['tiene_alto_valor_adquisitivo']\n",
    "\n",
    "X_train, X_test, y_train, y_test = train_test_split(X, Y, random_state=112)"
   ]
  },
  {
   "cell_type": "code",
   "execution_count": 40,
   "metadata": {},
   "outputs": [],
   "source": [
    "scaler = MinMaxScaler(feature_range=(0,1))\n",
    "\n",
    "X_train = pd.DataFrame(scaler.fit_transform(X_train))\n",
    "X_test = pd.DataFrame(scaler.transform(X_test))"
   ]
  },
  {
   "cell_type": "code",
   "execution_count": 41,
   "metadata": {},
   "outputs": [],
   "source": [
    "params = { 'n_estimators':range(100,501,100), 'learning_rate': np.linspace(0.1, 5, 10), 'algorithm': ('SAMME', 'SAMME.R') }\n",
    "model = AdaBoostClassifier()"
   ]
  },
  {
   "cell_type": "code",
   "execution_count": 42,
   "metadata": {},
   "outputs": [],
   "source": [
    "gscv = GridSearchCV(model, params, scoring='roc_auc', cv=4, n_jobs=-1, verbose=10)"
   ]
  },
  {
   "cell_type": "code",
   "execution_count": 43,
   "metadata": {},
   "outputs": [
    {
     "name": "stdout",
     "output_type": "stream",
     "text": [
      "Fitting 4 folds for each of 100 candidates, totalling 400 fits\n"
     ]
    },
    {
     "name": "stderr",
     "output_type": "stream",
     "text": [
      "[Parallel(n_jobs=-1)]: Using backend LokyBackend with 4 concurrent workers.\n",
      "[Parallel(n_jobs=-1)]: Done   5 tasks      | elapsed:   47.3s\n",
      "[Parallel(n_jobs=-1)]: Done  10 tasks      | elapsed:  1.6min\n",
      "[Parallel(n_jobs=-1)]: Done  17 tasks      | elapsed:  4.0min\n",
      "[Parallel(n_jobs=-1)]: Done  24 tasks      | elapsed:  4.4min\n",
      "[Parallel(n_jobs=-1)]: Done  33 tasks      | elapsed:  6.7min\n",
      "[Parallel(n_jobs=-1)]: Done  42 tasks      | elapsed:  8.4min\n",
      "[Parallel(n_jobs=-1)]: Done  53 tasks      | elapsed: 10.6min\n",
      "[Parallel(n_jobs=-1)]: Done  64 tasks      | elapsed: 12.5min\n",
      "[Parallel(n_jobs=-1)]: Done  77 tasks      | elapsed: 16.2min\n",
      "[Parallel(n_jobs=-1)]: Done  90 tasks      | elapsed: 16.6min\n",
      "[Parallel(n_jobs=-1)]: Done 105 tasks      | elapsed: 16.8min\n",
      "[Parallel(n_jobs=-1)]: Done 120 tasks      | elapsed: 16.9min\n",
      "[Parallel(n_jobs=-1)]: Done 137 tasks      | elapsed: 17.0min\n",
      "[Parallel(n_jobs=-1)]: Done 154 tasks      | elapsed: 17.1min\n",
      "[Parallel(n_jobs=-1)]: Done 173 tasks      | elapsed: 17.2min\n",
      "[Parallel(n_jobs=-1)]: Done 192 tasks      | elapsed: 17.2min\n",
      "[Parallel(n_jobs=-1)]: Done 213 tasks      | elapsed: 20.0min\n",
      "[Parallel(n_jobs=-1)]: Done 234 tasks      | elapsed: 24.9min\n",
      "[Parallel(n_jobs=-1)]: Done 257 tasks      | elapsed: 30.7min\n",
      "[Parallel(n_jobs=-1)]: Done 280 tasks      | elapsed: 35.2min\n",
      "[Parallel(n_jobs=-1)]: Done 305 tasks      | elapsed: 38.3min\n",
      "[Parallel(n_jobs=-1)]: Done 330 tasks      | elapsed: 42.2min\n",
      "[Parallel(n_jobs=-1)]: Done 357 tasks      | elapsed: 47.0min\n",
      "[Parallel(n_jobs=-1)]: Done 384 tasks      | elapsed: 50.0min\n",
      "[Parallel(n_jobs=-1)]: Done 400 out of 400 | elapsed: 52.5min finished\n"
     ]
    },
    {
     "name": "stdout",
     "output_type": "stream",
     "text": [
      "CPU times: user 33 s, sys: 359 ms, total: 33.4 s\n",
      "Wall time: 52min 58s\n"
     ]
    }
   ],
   "source": [
    "%%time\n",
    "gscv.fit(X_train, y_train)\n",
    "score = roc_auc_score(y_test, gscv.predict_proba(X_test)[:,1])"
   ]
  },
  {
   "cell_type": "code",
   "execution_count": 44,
   "metadata": {},
   "outputs": [
    {
     "data": {
      "text/plain": [
       "{'algorithm': 'SAMME.R',\n",
       " 'learning_rate': 0.6444444444444445,\n",
       " 'n_estimators': 300}"
      ]
     },
     "execution_count": 44,
     "metadata": {},
     "output_type": "execute_result"
    }
   ],
   "source": [
    "gscv.best_params_"
   ]
  },
  {
   "cell_type": "code",
   "execution_count": 45,
   "metadata": {},
   "outputs": [
    {
     "data": {
      "text/plain": [
       "0.9188260257306489"
      ]
     },
     "execution_count": 45,
     "metadata": {},
     "output_type": "execute_result"
    }
   ],
   "source": [
    "score"
   ]
  },
  {
   "cell_type": "code",
   "execution_count": 46,
   "metadata": {},
   "outputs": [
    {
     "name": "stdout",
     "output_type": "stream",
     "text": [
      "              precision    recall  f1-score   support\n",
      "\n",
      "           0       0.87      0.96      0.91      6182\n",
      "           1       0.81      0.55      0.66      1959\n",
      "\n",
      "    accuracy                           0.86      8141\n",
      "   macro avg       0.84      0.76      0.78      8141\n",
      "weighted avg       0.86      0.86      0.85      8141\n",
      "\n"
     ]
    }
   ],
   "source": [
    "print(classification_report(y_test,gscv.predict(X_test)))"
   ]
  },
  {
   "cell_type": "code",
   "execution_count": 47,
   "metadata": {},
   "outputs": [
    {
     "data": {
      "image/png": "[encoded data removed]",
      "text/plain": [
       "<Figure size 1080x504 with 2 Axes>"
      ]
     },
     "metadata": {
      "needs_background": "light"
     },
     "output_type": "display_data"
    }
   ],
   "source": [
    "fig, ax = plt.subplots(figsize=(15,7))\n",
    "plt.grid(False)\n",
    "plot_confusion_matrix(gscv, X_test, y_test, cmap=plt.cm.Blues, display_labels=['1', '0'], ax=ax)\n",
    "plt.show()"
   ]
  },
  {
   "cell_type": "code",
   "execution_count": 48,
   "metadata": {},
   "outputs": [
    {
     "data": {
      "text/plain": [
       "<sklearn.metrics._plot.roc_curve.RocCurveDisplay at 0x7f2703111780>"
      ]
     },
     "execution_count": 48,
     "metadata": {},
     "output_type": "execute_result"
    },
    {
     "data": {
      "image/png": "[encoded data removed]",
      "text/plain": [
       "<Figure size 432x288 with 1 Axes>"
      ]
     },
     "metadata": {
      "needs_background": "light"
     },
     "output_type": "display_data"
    }
   ],
   "source": [
    "plot_roc_curve(gscv, X_test, y_test)"
   ]
  },
  {
   "cell_type": "markdown",
   "metadata": {},
   "source": [
    "### AdaBoost con KNN"
   ]
  },
  {
   "cell_type": "code",
   "execution_count": 68,
   "metadata": {},
   "outputs": [],
   "source": [
    "multinomialNB = MultinomialNB(alpha=0.1402805611222445)\n",
    "model_nb = AdaBoostClassifier(base_estimator=multinomialNB)"
   ]
  },
  {
   "cell_type": "code",
   "execution_count": 69,
   "metadata": {},
   "outputs": [],
   "source": [
    "gscv_nb = GridSearchCV(model_nb, params, scoring='roc_auc', cv=4, n_jobs=-1, verbose=10)"
   ]
  },
  {
   "cell_type": "code",
   "execution_count": 70,
   "metadata": {},
   "outputs": [
    {
     "name": "stdout",
     "output_type": "stream",
     "text": [
      "Fitting 4 folds for each of 100 candidates, totalling 400 fits\n"
     ]
    },
    {
     "name": "stderr",
     "output_type": "stream",
     "text": [
      "[Parallel(n_jobs=-1)]: Using backend LokyBackend with 4 concurrent workers.\n",
      "[Parallel(n_jobs=-1)]: Done   5 tasks      | elapsed:   52.9s\n",
      "[Parallel(n_jobs=-1)]: Done  10 tasks      | elapsed:  1.7min\n",
      "[Parallel(n_jobs=-1)]: Done  17 tasks      | elapsed:  4.2min\n",
      "[Parallel(n_jobs=-1)]: Done  24 tasks      | elapsed:  4.7min\n",
      "[Parallel(n_jobs=-1)]: Done  33 tasks      | elapsed:  5.8min\n",
      "[Parallel(n_jobs=-1)]: Done  42 tasks      | elapsed:  6.8min\n",
      "[Parallel(n_jobs=-1)]: Done  53 tasks      | elapsed:  7.5min\n",
      "[Parallel(n_jobs=-1)]: Done  64 tasks      | elapsed:  8.3min\n",
      "[Parallel(n_jobs=-1)]: Done  77 tasks      | elapsed: 11.1min\n",
      "[Parallel(n_jobs=-1)]: Done  90 tasks      | elapsed: 11.9min\n",
      "[Parallel(n_jobs=-1)]: Done 105 tasks      | elapsed: 12.4min\n",
      "[Parallel(n_jobs=-1)]: Done 120 tasks      | elapsed: 12.6min\n",
      "[Parallel(n_jobs=-1)]: Done 137 tasks      | elapsed: 12.8min\n",
      "[Parallel(n_jobs=-1)]: Done 154 tasks      | elapsed: 12.9min\n",
      "[Parallel(n_jobs=-1)]: Done 173 tasks      | elapsed: 13.0min\n",
      "[Parallel(n_jobs=-1)]: Done 192 tasks      | elapsed: 13.1min\n",
      "[Parallel(n_jobs=-1)]: Done 213 tasks      | elapsed: 16.7min\n",
      "[Parallel(n_jobs=-1)]: Done 234 tasks      | elapsed: 22.1min\n",
      "[Parallel(n_jobs=-1)]: Done 257 tasks      | elapsed: 29.7min\n",
      "[Parallel(n_jobs=-1)]: Done 280 tasks      | elapsed: 35.7min\n",
      "[Parallel(n_jobs=-1)]: Done 305 tasks      | elapsed: 40.3min\n",
      "[Parallel(n_jobs=-1)]: Done 330 tasks      | elapsed: 45.6min\n",
      "[Parallel(n_jobs=-1)]: Done 357 tasks      | elapsed: 50.2min\n",
      "[Parallel(n_jobs=-1)]: Done 384 tasks      | elapsed: 54.6min\n",
      "[Parallel(n_jobs=-1)]: Done 400 out of 400 | elapsed: 58.0min finished\n"
     ]
    },
    {
     "name": "stdout",
     "output_type": "stream",
     "text": [
      "CPU times: user 2min 8s, sys: 54.8 s, total: 3min 3s\n",
      "Wall time: 58min 54s\n"
     ]
    }
   ],
   "source": [
    "%%time\n",
    "gscv_nb.fit(X_train, y_train)\n",
    "score = roc_auc_score(y_test, gscv_nb.predict_proba(X_test)[:,1])"
   ]
  },
  {
   "cell_type": "code",
   "execution_count": 71,
   "metadata": {},
   "outputs": [
    {
     "data": {
      "text/plain": [
       "{'algorithm': 'SAMME.R',\n",
       " 'learning_rate': 0.6444444444444445,\n",
       " 'n_estimators': 500}"
      ]
     },
     "execution_count": 71,
     "metadata": {},
     "output_type": "execute_result"
    }
   ],
   "source": [
    "gscv_nb.best_params_"
   ]
  },
  {
   "cell_type": "code",
   "execution_count": 72,
   "metadata": {},
   "outputs": [
    {
     "data": {
      "text/plain": [
       "0.9127565596177478"
      ]
     },
     "execution_count": 72,
     "metadata": {},
     "output_type": "execute_result"
    }
   ],
   "source": [
    "score"
   ]
  },
  {
   "cell_type": "code",
   "execution_count": 73,
   "metadata": {},
   "outputs": [
    {
     "name": "stdout",
     "output_type": "stream",
     "text": [
      "              precision    recall  f1-score   support\n",
      "\n",
      "           0       0.87      0.95      0.91      6182\n",
      "           1       0.79      0.55      0.65      1959\n",
      "\n",
      "    accuracy                           0.86      8141\n",
      "   macro avg       0.83      0.75      0.78      8141\n",
      "weighted avg       0.85      0.86      0.85      8141\n",
      "\n"
     ]
    }
   ],
   "source": [
    "print(classification_report(y_test,gscv_nb.predict(X_test)))"
   ]
  },
  {
   "cell_type": "code",
   "execution_count": 74,
   "metadata": {},
   "outputs": [
    {
     "data": {
      "image/png": "[encoded data removed]",
      "text/plain": [
       "<Figure size 1080x504 with 2 Axes>"
      ]
     },
     "metadata": {
      "needs_background": "light"
     },
     "output_type": "display_data"
    }
   ],
   "source": [
    "fig, ax = plt.subplots(figsize=(15,7))\n",
    "plt.grid(False)\n",
    "plot_confusion_matrix(gscv_nb, X_test, y_test, cmap=plt.cm.Blues, display_labels=['1', '0'], ax=ax)\n",
    "plt.show()"
   ]
  },
  {
   "cell_type": "code",
   "execution_count": 75,
   "metadata": {},
   "outputs": [
    {
     "data": {
      "text/plain": [
       "<sklearn.metrics._plot.roc_curve.RocCurveDisplay at 0x7f27032bc6a0>"
      ]
     },
     "execution_count": 75,
     "metadata": {},
     "output_type": "execute_result"
    },
    {
     "data": {
      "image/png": "[encoded data removed]",
      "text/plain": [
       "<Figure size 432x288 with 1 Axes>"
      ]
     },
     "metadata": {
      "needs_background": "light"
     },
     "output_type": "display_data"
    }
   ],
   "source": [
    "plot_roc_curve(gscv_nb, X_test, y_test)"
   ]
  },
  {
   "cell_type": "code",
   "execution_count": null,
   "metadata": {},
   "outputs": [],
   "source": []
  }
 ],
 "metadata": {
  "kernelspec": {
   "display_name": "Python 3",
   "language": "python",
   "name": "python3"
  },
  "language_info": {
   "codemirror_mode": {
    "name": "ipython",
    "version": 3
   },
   "file_extension": ".py",
   "mimetype": "text/x-python",
   "name": "python",
   "nbconvert_exporter": "python",
   "pygments_lexer": "ipython3",
   "version": "3.6.9"
  }
 },
 "nbformat": 4,
 "nbformat_minor": 4
}

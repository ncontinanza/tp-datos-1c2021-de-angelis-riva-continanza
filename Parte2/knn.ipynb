{
 "cells": [
  {
   "cell_type": "code",
   "execution_count": 1,
   "metadata": {},
   "outputs": [],
   "source": [
    "from sklearn.preprocessing import MinMaxScaler\n",
    "from sklearn.model_selection import train_test_split, GridSearchCV\n",
    "from sklearn.neighbors import KNeighborsClassifier\n",
    "from sklearn.metrics import roc_curve, plot_roc_curve, auc, roc_auc_score, classification_report, confusion_matrix, plot_confusion_matrix\n",
    "from matplotlib import pyplot as plt\n",
    "import pandas as pd\n",
    "import utils\n",
    "import preprocessing"
   ]
  },
  {
   "cell_type": "code",
   "execution_count": 2,
   "metadata": {},
   "outputs": [],
   "source": [
    "params = { 'n_neighbors': range(10,300,5), 'weights': ('uniform', 'distance'), 'algorithm': ['ball_tree', 'kd_tree', 'brute'], 'p': range(1,3) }\n",
    "model = KNeighborsClassifier()"
   ]
  },
  {
   "cell_type": "markdown",
   "metadata": {},
   "source": [
    "### Preprocessing base"
   ]
  },
  {
   "cell_type": "code",
   "execution_count": 3,
   "metadata": {},
   "outputs": [],
   "source": [
    "df_base = preprocessing.preprocessing_base_parte_1(utils.feature_engineering(utils.get_data()))"
   ]
  },
  {
   "cell_type": "code",
   "execution_count": 4,
   "metadata": {},
   "outputs": [],
   "source": [
    "gscv_base = GridSearchCV(model, params, scoring='roc_auc', n_jobs=-1, verbose=10)"
   ]
  },
  {
   "cell_type": "code",
   "execution_count": 5,
   "metadata": {},
   "outputs": [],
   "source": [
    "X_train_base, X_test_base, y_train_base, y_test_base = train_test_split(df_base.drop('tiene_alto_valor_adquisitivo',1), df_base['tiene_alto_valor_adquisitivo'], random_state=112)"
   ]
  },
  {
   "cell_type": "code",
   "execution_count": 6,
   "metadata": {},
   "outputs": [
    {
     "name": "stdout",
     "output_type": "stream",
     "text": [
      "Fitting 5 folds for each of 696 candidates, totalling 3480 fits\n"
     ]
    },
    {
     "name": "stderr",
     "output_type": "stream",
     "text": [
      "[Parallel(n_jobs=-1)]: Using backend LokyBackend with 4 concurrent workers.\n",
      "[Parallel(n_jobs=-1)]: Done   5 tasks      | elapsed:    3.1s\n",
      "[Parallel(n_jobs=-1)]: Done  10 tasks      | elapsed:    4.1s\n",
      "[Parallel(n_jobs=-1)]: Done  17 tasks      | elapsed:    5.8s\n",
      "[Parallel(n_jobs=-1)]: Done  24 tasks      | elapsed:    7.2s\n",
      "[Parallel(n_jobs=-1)]: Done  33 tasks      | elapsed:    9.5s\n",
      "[Parallel(n_jobs=-1)]: Done  42 tasks      | elapsed:   11.7s\n",
      "[Parallel(n_jobs=-1)]: Done  53 tasks      | elapsed:   14.6s\n",
      "[Parallel(n_jobs=-1)]: Done  64 tasks      | elapsed:   17.3s\n",
      "[Parallel(n_jobs=-1)]: Done  77 tasks      | elapsed:   20.7s\n",
      "[Parallel(n_jobs=-1)]: Done  90 tasks      | elapsed:   24.6s\n",
      "[Parallel(n_jobs=-1)]: Done 105 tasks      | elapsed:   28.7s\n",
      "[Parallel(n_jobs=-1)]: Done 120 tasks      | elapsed:   33.0s\n",
      "[Parallel(n_jobs=-1)]: Done 137 tasks      | elapsed:   38.0s\n",
      "[Parallel(n_jobs=-1)]: Done 154 tasks      | elapsed:   43.0s\n",
      "[Parallel(n_jobs=-1)]: Done 173 tasks      | elapsed:   49.2s\n",
      "[Parallel(n_jobs=-1)]: Done 192 tasks      | elapsed:   55.5s\n",
      "[Parallel(n_jobs=-1)]: Done 213 tasks      | elapsed:  1.0min\n",
      "[Parallel(n_jobs=-1)]: Done 234 tasks      | elapsed:  1.2min\n",
      "[Parallel(n_jobs=-1)]: Done 257 tasks      | elapsed:  1.3min\n",
      "[Parallel(n_jobs=-1)]: Done 280 tasks      | elapsed:  1.4min\n",
      "[Parallel(n_jobs=-1)]: Done 305 tasks      | elapsed:  1.6min\n",
      "[Parallel(n_jobs=-1)]: Done 330 tasks      | elapsed:  1.7min\n",
      "[Parallel(n_jobs=-1)]: Done 357 tasks      | elapsed:  1.9min\n",
      "[Parallel(n_jobs=-1)]: Done 384 tasks      | elapsed:  2.1min\n",
      "[Parallel(n_jobs=-1)]: Done 413 tasks      | elapsed:  2.3min\n",
      "[Parallel(n_jobs=-1)]: Done 442 tasks      | elapsed:  2.5min\n",
      "[Parallel(n_jobs=-1)]: Done 473 tasks      | elapsed:  2.7min\n",
      "[Parallel(n_jobs=-1)]: Done 504 tasks      | elapsed:  2.9min\n",
      "[Parallel(n_jobs=-1)]: Done 537 tasks      | elapsed:  3.1min\n",
      "[Parallel(n_jobs=-1)]: Done 570 tasks      | elapsed:  3.4min\n",
      "[Parallel(n_jobs=-1)]: Done 605 tasks      | elapsed:  3.6min\n",
      "[Parallel(n_jobs=-1)]: Done 640 tasks      | elapsed:  3.9min\n",
      "[Parallel(n_jobs=-1)]: Done 677 tasks      | elapsed:  4.2min\n",
      "[Parallel(n_jobs=-1)]: Done 714 tasks      | elapsed:  4.5min\n",
      "[Parallel(n_jobs=-1)]: Done 753 tasks      | elapsed:  4.9min\n",
      "[Parallel(n_jobs=-1)]: Done 792 tasks      | elapsed:  5.5min\n",
      "[Parallel(n_jobs=-1)]: Done 833 tasks      | elapsed:  6.2min\n",
      "[Parallel(n_jobs=-1)]: Done 874 tasks      | elapsed:  6.9min\n",
      "[Parallel(n_jobs=-1)]: Done 917 tasks      | elapsed:  7.6min\n",
      "[Parallel(n_jobs=-1)]: Done 960 tasks      | elapsed:  8.4min\n",
      "[Parallel(n_jobs=-1)]: Done 1005 tasks      | elapsed:  9.2min\n",
      "[Parallel(n_jobs=-1)]: Done 1050 tasks      | elapsed: 10.0min\n",
      "[Parallel(n_jobs=-1)]: Done 1097 tasks      | elapsed: 10.9min\n",
      "[Parallel(n_jobs=-1)]: Done 1144 tasks      | elapsed: 12.0min\n",
      "[Parallel(n_jobs=-1)]: Done 1193 tasks      | elapsed: 12.8min\n",
      "[Parallel(n_jobs=-1)]: Done 1242 tasks      | elapsed: 13.4min\n",
      "[Parallel(n_jobs=-1)]: Done 1293 tasks      | elapsed: 14.0min\n",
      "[Parallel(n_jobs=-1)]: Done 1344 tasks      | elapsed: 14.6min\n",
      "[Parallel(n_jobs=-1)]: Done 1397 tasks      | elapsed: 15.3min\n",
      "[Parallel(n_jobs=-1)]: Done 1450 tasks      | elapsed: 16.0min\n",
      "[Parallel(n_jobs=-1)]: Done 1505 tasks      | elapsed: 16.9min\n",
      "[Parallel(n_jobs=-1)]: Done 1560 tasks      | elapsed: 18.1min\n",
      "[Parallel(n_jobs=-1)]: Done 1617 tasks      | elapsed: 19.3min\n",
      "[Parallel(n_jobs=-1)]: Done 1674 tasks      | elapsed: 20.5min\n",
      "[Parallel(n_jobs=-1)]: Done 1733 tasks      | elapsed: 21.9min\n",
      "[Parallel(n_jobs=-1)]: Done 1792 tasks      | elapsed: 23.3min\n",
      "[Parallel(n_jobs=-1)]: Done 1853 tasks      | elapsed: 25.1min\n",
      "[Parallel(n_jobs=-1)]: Done 1914 tasks      | elapsed: 25.9min\n",
      "[Parallel(n_jobs=-1)]: Done 1977 tasks      | elapsed: 26.5min\n",
      "[Parallel(n_jobs=-1)]: Done 2040 tasks      | elapsed: 27.1min\n",
      "[Parallel(n_jobs=-1)]: Done 2105 tasks      | elapsed: 27.7min\n",
      "[Parallel(n_jobs=-1)]: Done 2170 tasks      | elapsed: 28.3min\n",
      "[Parallel(n_jobs=-1)]: Done 2237 tasks      | elapsed: 29.0min\n",
      "[Parallel(n_jobs=-1)]: Done 2304 tasks      | elapsed: 29.7min\n",
      "[Parallel(n_jobs=-1)]: Done 2373 tasks      | elapsed: 30.7min\n",
      "[Parallel(n_jobs=-1)]: Done 2442 tasks      | elapsed: 31.9min\n",
      "[Parallel(n_jobs=-1)]: Done 2513 tasks      | elapsed: 33.1min\n",
      "[Parallel(n_jobs=-1)]: Done 2584 tasks      | elapsed: 34.4min\n",
      "[Parallel(n_jobs=-1)]: Done 2657 tasks      | elapsed: 35.7min\n",
      "[Parallel(n_jobs=-1)]: Done 2730 tasks      | elapsed: 37.1min\n",
      "[Parallel(n_jobs=-1)]: Done 2805 tasks      | elapsed: 38.4min\n",
      "[Parallel(n_jobs=-1)]: Done 2880 tasks      | elapsed: 39.7min\n",
      "[Parallel(n_jobs=-1)]: Done 2957 tasks      | elapsed: 41.0min\n",
      "[Parallel(n_jobs=-1)]: Done 3034 tasks      | elapsed: 42.4min\n",
      "[Parallel(n_jobs=-1)]: Done 3113 tasks      | elapsed: 43.8min\n",
      "[Parallel(n_jobs=-1)]: Done 3192 tasks      | elapsed: 45.2min\n",
      "[Parallel(n_jobs=-1)]: Done 3273 tasks      | elapsed: 46.7min\n",
      "[Parallel(n_jobs=-1)]: Done 3354 tasks      | elapsed: 48.3min\n",
      "[Parallel(n_jobs=-1)]: Done 3437 tasks      | elapsed: 49.8min\n",
      "[Parallel(n_jobs=-1)]: Done 3480 out of 3480 | elapsed: 50.7min finished\n"
     ]
    },
    {
     "name": "stdout",
     "output_type": "stream",
     "text": [
      "CPU times: user 24.2 s, sys: 2.15 s, total: 26.4 s\n",
      "Wall time: 50min 43s\n"
     ]
    }
   ],
   "source": [
    "%%time\n",
    "gscv_base.fit(X_train_base, y_train_base)\n",
    "score_base = roc_auc_score(y_test_base, gscv_base.predict_proba(X_test_base)[:,1])"
   ]
  },
  {
   "cell_type": "code",
   "execution_count": 7,
   "metadata": {},
   "outputs": [
    {
     "data": {
      "text/plain": [
       "{'algorithm': 'kd_tree', 'n_neighbors': 30, 'p': 1, 'weights': 'uniform'}"
      ]
     },
     "execution_count": 7,
     "metadata": {},
     "output_type": "execute_result"
    }
   ],
   "source": [
    "gscv_base.best_params_"
   ]
  },
  {
   "cell_type": "code",
   "execution_count": 8,
   "metadata": {},
   "outputs": [
    {
     "data": {
      "text/plain": [
       "0.8937630186206427"
      ]
     },
     "execution_count": 8,
     "metadata": {},
     "output_type": "execute_result"
    }
   ],
   "source": [
    "score_base"
   ]
  },
  {
   "cell_type": "code",
   "execution_count": 9,
   "metadata": {},
   "outputs": [
    {
     "name": "stdout",
     "output_type": "stream",
     "text": [
      "              precision    recall  f1-score   support\n",
      "\n",
      "           0       0.88      0.93      0.90      6182\n",
      "           1       0.72      0.58      0.65      1959\n",
      "\n",
      "    accuracy                           0.85      8141\n",
      "   macro avg       0.80      0.76      0.77      8141\n",
      "weighted avg       0.84      0.85      0.84      8141\n",
      "\n"
     ]
    }
   ],
   "source": [
    "print(classification_report(y_test_base,gscv_base.predict(X_test_base)))"
   ]
  },
  {
   "cell_type": "code",
   "execution_count": 10,
   "metadata": {},
   "outputs": [
    {
     "data": {
      "image/png": "[encoded data removed]",
      "text/plain": [
       "<Figure size 1080x504 with 2 Axes>"
      ]
     },
     "metadata": {
      "needs_background": "light"
     },
     "output_type": "display_data"
    }
   ],
   "source": [
    "fig, ax = plt.subplots(figsize=(15,7))\n",
    "plt.grid(False)\n",
    "plot_confusion_matrix(gscv_base, X_test_base, y_test_base, cmap=plt.cm.Blues, display_labels=['1', '0'], ax=ax)\n",
    "plt.show()"
   ]
  },
  {
   "cell_type": "code",
   "execution_count": 11,
   "metadata": {},
   "outputs": [
    {
     "data": {
      "text/plain": [
       "<sklearn.metrics._plot.roc_curve.RocCurveDisplay at 0x7faac8dc83c8>"
      ]
     },
     "execution_count": 11,
     "metadata": {},
     "output_type": "execute_result"
    },
    {
     "data": {
      "image/png": "[encoded data removed]",
      "text/plain": [
       "<Figure size 432x288 with 1 Axes>"
      ]
     },
     "metadata": {
      "needs_background": "light"
     },
     "output_type": "display_data"
    }
   ],
   "source": [
    "plot_roc_curve(gscv_base, X_test_base, y_test_base)"
   ]
  },
  {
   "cell_type": "markdown",
   "metadata": {},
   "source": [
    "### Preprocessing Significantes"
   ]
  },
  {
   "cell_type": "code",
   "execution_count": 12,
   "metadata": {},
   "outputs": [],
   "source": [
    "df_sig, pa_sig = preprocessing.preprocessing_significantes(utils.feature_engineering(utils.get_data()))"
   ]
  },
  {
   "cell_type": "code",
   "execution_count": 13,
   "metadata": {},
   "outputs": [],
   "source": [
    "gscv_sig = GridSearchCV(model, params, scoring='roc_auc', n_jobs=-1, verbose=10)"
   ]
  },
  {
   "cell_type": "code",
   "execution_count": 14,
   "metadata": {},
   "outputs": [],
   "source": [
    "X_train_sig, X_test_sig, y_train_sig, y_test_sig = train_test_split(df_sig, pa_sig, random_state=112)"
   ]
  },
  {
   "cell_type": "code",
   "execution_count": 15,
   "metadata": {},
   "outputs": [
    {
     "name": "stdout",
     "output_type": "stream",
     "text": [
      "Fitting 5 folds for each of 696 candidates, totalling 3480 fits\n"
     ]
    },
    {
     "name": "stderr",
     "output_type": "stream",
     "text": [
      "[Parallel(n_jobs=-1)]: Using backend LokyBackend with 4 concurrent workers.\n",
      "[Parallel(n_jobs=-1)]: Done   5 tasks      | elapsed:   24.4s\n",
      "[Parallel(n_jobs=-1)]: Done  10 tasks      | elapsed:   37.0s\n",
      "[Parallel(n_jobs=-1)]: Done  17 tasks      | elapsed:  1.0min\n",
      "[Parallel(n_jobs=-1)]: Done  24 tasks      | elapsed:  1.3min\n",
      "[Parallel(n_jobs=-1)]: Done  33 tasks      | elapsed:  1.8min\n",
      "[Parallel(n_jobs=-1)]: Done  42 tasks      | elapsed:  2.3min\n",
      "[Parallel(n_jobs=-1)]: Done  53 tasks      | elapsed:  2.9min\n",
      "[Parallel(n_jobs=-1)]: Done  64 tasks      | elapsed:  3.3min\n",
      "[Parallel(n_jobs=-1)]: Done  77 tasks      | elapsed:  4.1min\n",
      "[Parallel(n_jobs=-1)]: Done  90 tasks      | elapsed:  4.7min\n",
      "[Parallel(n_jobs=-1)]: Done 105 tasks      | elapsed:  5.6min\n",
      "[Parallel(n_jobs=-1)]: Done 120 tasks      | elapsed:  6.3min\n",
      "[Parallel(n_jobs=-1)]: Done 137 tasks      | elapsed:  7.3min\n",
      "[Parallel(n_jobs=-1)]: Done 154 tasks      | elapsed:  8.2min\n",
      "[Parallel(n_jobs=-1)]: Done 173 tasks      | elapsed:  9.4min\n",
      "[Parallel(n_jobs=-1)]: Done 192 tasks      | elapsed: 11.0min\n",
      "[Parallel(n_jobs=-1)]: Done 213 tasks      | elapsed: 12.9min\n",
      "[Parallel(n_jobs=-1)]: Done 234 tasks      | elapsed: 14.7min\n",
      "[Parallel(n_jobs=-1)]: Done 257 tasks      | elapsed: 17.2min\n",
      "[Parallel(n_jobs=-1)]: Done 280 tasks      | elapsed: 19.1min\n",
      "[Parallel(n_jobs=-1)]: Done 305 tasks      | elapsed: 21.4min\n",
      "[Parallel(n_jobs=-1)]: Done 330 tasks      | elapsed: 22.8min\n",
      "[Parallel(n_jobs=-1)]: Done 357 tasks      | elapsed: 24.3min\n",
      "[Parallel(n_jobs=-1)]: Done 384 tasks      | elapsed: 25.7min\n",
      "[Parallel(n_jobs=-1)]: Done 413 tasks      | elapsed: 27.5min\n",
      "[Parallel(n_jobs=-1)]: Done 442 tasks      | elapsed: 29.3min\n",
      "[Parallel(n_jobs=-1)]: Done 473 tasks      | elapsed: 31.0min\n",
      "[Parallel(n_jobs=-1)]: Done 504 tasks      | elapsed: 33.1min\n",
      "[Parallel(n_jobs=-1)]: Done 537 tasks      | elapsed: 36.3min\n",
      "[Parallel(n_jobs=-1)]: Done 570 tasks      | elapsed: 39.4min\n",
      "[Parallel(n_jobs=-1)]: Done 605 tasks      | elapsed: 42.0min\n",
      "[Parallel(n_jobs=-1)]: Done 640 tasks      | elapsed: 45.3min\n",
      "[Parallel(n_jobs=-1)]: Done 677 tasks      | elapsed: 47.8min\n",
      "[Parallel(n_jobs=-1)]: Done 714 tasks      | elapsed: 50.3min\n",
      "[Parallel(n_jobs=-1)]: Done 753 tasks      | elapsed: 52.9min\n",
      "[Parallel(n_jobs=-1)]: Done 792 tasks      | elapsed: 56.5min\n",
      "[Parallel(n_jobs=-1)]: Done 833 tasks      | elapsed: 60.4min\n",
      "[Parallel(n_jobs=-1)]: Done 874 tasks      | elapsed: 62.9min\n",
      "[Parallel(n_jobs=-1)]: Done 917 tasks      | elapsed: 65.6min\n",
      "[Parallel(n_jobs=-1)]: Done 960 tasks      | elapsed: 68.3min\n",
      "[Parallel(n_jobs=-1)]: Done 1005 tasks      | elapsed: 71.0min\n",
      "[Parallel(n_jobs=-1)]: Done 1050 tasks      | elapsed: 73.9min\n",
      "[Parallel(n_jobs=-1)]: Done 1097 tasks      | elapsed: 77.9min\n",
      "[Parallel(n_jobs=-1)]: Done 1144 tasks      | elapsed: 81.9min\n",
      "[Parallel(n_jobs=-1)]: Done 1193 tasks      | elapsed: 83.3min\n",
      "[Parallel(n_jobs=-1)]: Done 1242 tasks      | elapsed: 83.9min\n",
      "[Parallel(n_jobs=-1)]: Done 1293 tasks      | elapsed: 84.7min\n",
      "[Parallel(n_jobs=-1)]: Done 1344 tasks      | elapsed: 85.7min\n",
      "[Parallel(n_jobs=-1)]: Done 1397 tasks      | elapsed: 86.8min\n",
      "[Parallel(n_jobs=-1)]: Done 1450 tasks      | elapsed: 89.0min\n",
      "[Parallel(n_jobs=-1)]: Done 1505 tasks      | elapsed: 91.5min\n",
      "[Parallel(n_jobs=-1)]: Done 1560 tasks      | elapsed: 94.7min\n",
      "[Parallel(n_jobs=-1)]: Done 1617 tasks      | elapsed: 98.3min\n",
      "[Parallel(n_jobs=-1)]: Done 1674 tasks      | elapsed: 100.7min\n",
      "[Parallel(n_jobs=-1)]: Done 1733 tasks      | elapsed: 102.8min\n",
      "[Parallel(n_jobs=-1)]: Done 1792 tasks      | elapsed: 104.9min\n",
      "[Parallel(n_jobs=-1)]: Done 1853 tasks      | elapsed: 107.2min\n",
      "[Parallel(n_jobs=-1)]: Done 1914 tasks      | elapsed: 109.5min\n",
      "[Parallel(n_jobs=-1)]: Done 1977 tasks      | elapsed: 112.2min\n",
      "[Parallel(n_jobs=-1)]: Done 2040 tasks      | elapsed: 114.7min\n",
      "[Parallel(n_jobs=-1)]: Done 2105 tasks      | elapsed: 117.4min\n",
      "[Parallel(n_jobs=-1)]: Done 2170 tasks      | elapsed: 120.0min\n",
      "[Parallel(n_jobs=-1)]: Done 2237 tasks      | elapsed: 122.7min\n",
      "[Parallel(n_jobs=-1)]: Done 2304 tasks      | elapsed: 125.4min\n",
      "[Parallel(n_jobs=-1)]: Done 2373 tasks      | elapsed: 127.4min\n",
      "[Parallel(n_jobs=-1)]: Done 2442 tasks      | elapsed: 129.1min\n",
      "[Parallel(n_jobs=-1)]: Done 2513 tasks      | elapsed: 130.8min\n",
      "[Parallel(n_jobs=-1)]: Done 2584 tasks      | elapsed: 132.6min\n",
      "[Parallel(n_jobs=-1)]: Done 2657 tasks      | elapsed: 134.4min\n",
      "[Parallel(n_jobs=-1)]: Done 2730 tasks      | elapsed: 136.2min\n",
      "[Parallel(n_jobs=-1)]: Done 2805 tasks      | elapsed: 138.1min\n",
      "[Parallel(n_jobs=-1)]: Done 2880 tasks      | elapsed: 139.9min\n",
      "[Parallel(n_jobs=-1)]: Done 2957 tasks      | elapsed: 141.8min\n",
      "[Parallel(n_jobs=-1)]: Done 3034 tasks      | elapsed: 143.8min\n",
      "[Parallel(n_jobs=-1)]: Done 3113 tasks      | elapsed: 145.8min\n",
      "[Parallel(n_jobs=-1)]: Done 3192 tasks      | elapsed: 147.8min\n",
      "[Parallel(n_jobs=-1)]: Done 3273 tasks      | elapsed: 149.9min\n",
      "[Parallel(n_jobs=-1)]: Done 3354 tasks      | elapsed: 151.9min\n",
      "[Parallel(n_jobs=-1)]: Done 3437 tasks      | elapsed: 154.0min\n",
      "[Parallel(n_jobs=-1)]: Done 3480 out of 3480 | elapsed: 155.1min finished\n"
     ]
    },
    {
     "name": "stdout",
     "output_type": "stream",
     "text": [
      "CPU times: user 31.1 s, sys: 1.91 s, total: 33.1 s\n",
      "Wall time: 2h 35min 14s\n"
     ]
    }
   ],
   "source": [
    "%%time\n",
    "gscv_sig.fit(X_train_sig, y_train_sig)\n",
    "score_sig = roc_auc_score(y_test_sig, gscv_sig.predict_proba(X_test_sig)[:,1])"
   ]
  },
  {
   "cell_type": "code",
   "execution_count": 16,
   "metadata": {},
   "outputs": [
    {
     "data": {
      "text/plain": [
       "{'algorithm': 'ball_tree', 'n_neighbors': 45, 'p': 2, 'weights': 'uniform'}"
      ]
     },
     "execution_count": 16,
     "metadata": {},
     "output_type": "execute_result"
    }
   ],
   "source": [
    "gscv_sig.best_params_"
   ]
  },
  {
   "cell_type": "code",
   "execution_count": 17,
   "metadata": {},
   "outputs": [
    {
     "data": {
      "text/plain": [
       "0.8807848586082633"
      ]
     },
     "execution_count": 17,
     "metadata": {},
     "output_type": "execute_result"
    }
   ],
   "source": [
    "score_sig"
   ]
  },
  {
   "cell_type": "code",
   "execution_count": 18,
   "metadata": {},
   "outputs": [
    {
     "name": "stdout",
     "output_type": "stream",
     "text": [
      "              precision    recall  f1-score   support\n",
      "\n",
      "           0       0.86      0.92      0.89      6182\n",
      "           1       0.69      0.54      0.61      1959\n",
      "\n",
      "    accuracy                           0.83      8141\n",
      "   macro avg       0.78      0.73      0.75      8141\n",
      "weighted avg       0.82      0.83      0.82      8141\n",
      "\n"
     ]
    }
   ],
   "source": [
    "print(classification_report(y_test_sig,gscv_sig.predict(X_test_sig)))"
   ]
  },
  {
   "cell_type": "code",
   "execution_count": 19,
   "metadata": {},
   "outputs": [
    {
     "data": {
      "image/png": "[encoded data removed]",
      "text/plain": [
       "<Figure size 1080x504 with 2 Axes>"
      ]
     },
     "metadata": {
      "needs_background": "light"
     },
     "output_type": "display_data"
    }
   ],
   "source": [
    "fig, ax = plt.subplots(figsize=(15,7))\n",
    "plt.grid(False)\n",
    "plot_confusion_matrix(gscv_sig, X_test_sig, y_test_sig, cmap=plt.cm.Blues, display_labels=['1', '0'], ax=ax)\n",
    "plt.show()"
   ]
  },
  {
   "cell_type": "code",
   "execution_count": 20,
   "metadata": {},
   "outputs": [
    {
     "data": {
      "text/plain": [
       "<sklearn.metrics._plot.roc_curve.RocCurveDisplay at 0x7faa9f861390>"
      ]
     },
     "execution_count": 20,
     "metadata": {},
     "output_type": "execute_result"
    },
    {
     "data": {
      "image/png": "[encoded data removed]",
      "text/plain": [
       "<Figure size 432x288 with 1 Axes>"
      ]
     },
     "metadata": {
      "needs_background": "light"
     },
     "output_type": "display_data"
    }
   ],
   "source": [
    "plot_roc_curve(gscv_sig, X_test_sig, y_test_sig)"
   ]
  }
 ],
 "metadata": {
  "kernelspec": {
   "display_name": "Python 3",
   "language": "python",
   "name": "python3"
  },
  "language_info": {
   "codemirror_mode": {
    "name": "ipython",
    "version": 3
   },
   "file_extension": ".py",
   "mimetype": "text/x-python",
   "name": "python",
   "nbconvert_exporter": "python",
   "pygments_lexer": "ipython3",
   "version": "3.6.9"
  }
 },
 "nbformat": 4,
 "nbformat_minor": 4
}

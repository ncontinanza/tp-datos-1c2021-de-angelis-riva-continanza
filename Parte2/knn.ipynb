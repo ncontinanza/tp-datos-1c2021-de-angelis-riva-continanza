{
 "cells": [
  {
   "cell_type": "code",
   "execution_count": 1,
   "metadata": {},
   "outputs": [],
   "source": [
    "from sklearn.preprocessing import MinMaxScaler\n",
    "from sklearn.model_selection import train_test_split, GridSearchCV\n",
    "from sklearn.neighbors import KNeighborsClassifier\n",
    "from sklearn.metrics import roc_curve, plot_roc_curve, auc, roc_auc_score, classification_report, confusion_matrix, plot_confusion_matrix\n",
    "from matplotlib import pyplot as plt\n",
    "import pandas as pd\n",
    "import utils\n",
    "import preprocessing"
   ]
  },
  {
   "cell_type": "code",
   "execution_count": 3,
   "metadata": {},
   "outputs": [],
   "source": [
    "params = { 'n_neighbors': range(10,100), 'weights': ('uniform', 'distance'), 'algorithm': ['ball_tree', 'kd_tree', 'brute'], 'p': range(1,3) }\n",
    "model = KNeighborsClassifier()"
   ]
  },
  {
   "cell_type": "markdown",
   "metadata": {},
   "source": [
    "### Preprocessing base"
   ]
  },
  {
   "cell_type": "code",
   "execution_count": 2,
   "metadata": {},
   "outputs": [],
   "source": [
    "df_base = preprocessing.preprocessing_base_parte_1(utils.feature_engineering(utils.get_data()))"
   ]
  },
  {
   "cell_type": "code",
   "execution_count": 4,
   "metadata": {},
   "outputs": [],
   "source": [
    "gscv_base = GridSearchCV(model, params, scoring='roc_auc', n_jobs=-1, verbose=10)"
   ]
  },
  {
   "cell_type": "code",
   "execution_count": 5,
   "metadata": {},
   "outputs": [],
   "source": [
    "X_train_base, X_test_base, y_train_base, y_test_base = train_test_split(df_base.drop('tiene_alto_valor_adquisitivo',1), df_base['tiene_alto_valor_adquisitivo'], random_state=112)"
   ]
  },
  {
   "cell_type": "code",
   "execution_count": 6,
   "metadata": {},
   "outputs": [
    {
     "name": "stdout",
     "output_type": "stream",
     "text": [
      "Fitting 5 folds for each of 1080 candidates, totalling 5400 fits\n"
     ]
    },
    {
     "name": "stderr",
     "output_type": "stream",
     "text": [
      "[Parallel(n_jobs=-1)]: Using backend LokyBackend with 4 concurrent workers.\n",
      "[Parallel(n_jobs=-1)]: Done   5 tasks      | elapsed:    6.4s\n",
      "[Parallel(n_jobs=-1)]: Done  10 tasks      | elapsed:    8.4s\n",
      "[Parallel(n_jobs=-1)]: Done  17 tasks      | elapsed:   11.9s\n",
      "[Parallel(n_jobs=-1)]: Done  24 tasks      | elapsed:   14.4s\n",
      "[Parallel(n_jobs=-1)]: Done  33 tasks      | elapsed:   19.7s\n",
      "[Parallel(n_jobs=-1)]: Done  42 tasks      | elapsed:   23.9s\n",
      "[Parallel(n_jobs=-1)]: Done  53 tasks      | elapsed:   29.4s\n",
      "[Parallel(n_jobs=-1)]: Done  64 tasks      | elapsed:   34.4s\n",
      "[Parallel(n_jobs=-1)]: Done  77 tasks      | elapsed:   42.3s\n",
      "[Parallel(n_jobs=-1)]: Done  90 tasks      | elapsed:   49.3s\n",
      "[Parallel(n_jobs=-1)]: Done 105 tasks      | elapsed:   57.1s\n",
      "[Parallel(n_jobs=-1)]: Done 120 tasks      | elapsed:  1.1min\n",
      "[Parallel(n_jobs=-1)]: Done 137 tasks      | elapsed:  1.2min\n",
      "[Parallel(n_jobs=-1)]: Done 154 tasks      | elapsed:  1.4min\n",
      "[Parallel(n_jobs=-1)]: Done 173 tasks      | elapsed:  1.6min\n",
      "[Parallel(n_jobs=-1)]: Done 192 tasks      | elapsed:  1.8min\n",
      "[Parallel(n_jobs=-1)]: Done 213 tasks      | elapsed:  2.0min\n",
      "[Parallel(n_jobs=-1)]: Done 234 tasks      | elapsed:  2.1min\n",
      "[Parallel(n_jobs=-1)]: Done 257 tasks      | elapsed:  2.4min\n",
      "[Parallel(n_jobs=-1)]: Done 280 tasks      | elapsed:  2.6min\n",
      "[Parallel(n_jobs=-1)]: Done 305 tasks      | elapsed:  2.8min\n",
      "[Parallel(n_jobs=-1)]: Done 330 tasks      | elapsed:  3.0min\n",
      "[Parallel(n_jobs=-1)]: Done 357 tasks      | elapsed:  3.2min\n",
      "[Parallel(n_jobs=-1)]: Done 384 tasks      | elapsed:  3.3min\n",
      "[Parallel(n_jobs=-1)]: Done 413 tasks      | elapsed:  3.5min\n",
      "[Parallel(n_jobs=-1)]: Done 442 tasks      | elapsed:  3.7min\n",
      "[Parallel(n_jobs=-1)]: Done 473 tasks      | elapsed:  4.1min\n",
      "[Parallel(n_jobs=-1)]: Done 504 tasks      | elapsed:  4.5min\n",
      "[Parallel(n_jobs=-1)]: Done 537 tasks      | elapsed:  4.9min\n",
      "[Parallel(n_jobs=-1)]: Done 570 tasks      | elapsed:  5.3min\n",
      "[Parallel(n_jobs=-1)]: Done 605 tasks      | elapsed:  5.6min\n",
      "[Parallel(n_jobs=-1)]: Done 640 tasks      | elapsed:  6.0min\n",
      "[Parallel(n_jobs=-1)]: Done 677 tasks      | elapsed:  6.4min\n",
      "[Parallel(n_jobs=-1)]: Done 714 tasks      | elapsed:  6.8min\n",
      "[Parallel(n_jobs=-1)]: Done 753 tasks      | elapsed:  7.2min\n",
      "[Parallel(n_jobs=-1)]: Done 792 tasks      | elapsed:  7.7min\n",
      "[Parallel(n_jobs=-1)]: Done 833 tasks      | elapsed:  8.2min\n",
      "[Parallel(n_jobs=-1)]: Done 874 tasks      | elapsed:  8.7min\n",
      "[Parallel(n_jobs=-1)]: Done 917 tasks      | elapsed:  9.2min\n",
      "[Parallel(n_jobs=-1)]: Done 960 tasks      | elapsed:  9.7min\n",
      "[Parallel(n_jobs=-1)]: Done 1005 tasks      | elapsed: 10.3min\n",
      "[Parallel(n_jobs=-1)]: Done 1050 tasks      | elapsed: 10.9min\n",
      "[Parallel(n_jobs=-1)]: Done 1097 tasks      | elapsed: 11.5min\n",
      "[Parallel(n_jobs=-1)]: Done 1144 tasks      | elapsed: 12.1min\n",
      "[Parallel(n_jobs=-1)]: Done 1193 tasks      | elapsed: 12.8min\n",
      "[Parallel(n_jobs=-1)]: Done 1242 tasks      | elapsed: 13.4min\n",
      "[Parallel(n_jobs=-1)]: Done 1293 tasks      | elapsed: 14.0min\n",
      "[Parallel(n_jobs=-1)]: Done 1344 tasks      | elapsed: 14.7min\n",
      "[Parallel(n_jobs=-1)]: Done 1397 tasks      | elapsed: 15.5min\n",
      "[Parallel(n_jobs=-1)]: Done 1450 tasks      | elapsed: 16.2min\n",
      "[Parallel(n_jobs=-1)]: Done 1505 tasks      | elapsed: 17.0min\n",
      "[Parallel(n_jobs=-1)]: Done 1560 tasks      | elapsed: 17.7min\n",
      "[Parallel(n_jobs=-1)]: Done 1617 tasks      | elapsed: 18.5min\n",
      "[Parallel(n_jobs=-1)]: Done 1674 tasks      | elapsed: 19.4min\n",
      "[Parallel(n_jobs=-1)]: Done 1733 tasks      | elapsed: 20.2min\n",
      "[Parallel(n_jobs=-1)]: Done 1792 tasks      | elapsed: 21.0min\n",
      "[Parallel(n_jobs=-1)]: Done 1853 tasks      | elapsed: 21.6min\n",
      "[Parallel(n_jobs=-1)]: Done 1914 tasks      | elapsed: 22.0min\n",
      "[Parallel(n_jobs=-1)]: Done 1977 tasks      | elapsed: 22.6min\n",
      "[Parallel(n_jobs=-1)]: Done 2040 tasks      | elapsed: 23.5min\n",
      "[Parallel(n_jobs=-1)]: Done 2105 tasks      | elapsed: 24.3min\n",
      "[Parallel(n_jobs=-1)]: Done 2170 tasks      | elapsed: 25.1min\n",
      "[Parallel(n_jobs=-1)]: Done 2237 tasks      | elapsed: 26.0min\n",
      "[Parallel(n_jobs=-1)]: Done 2304 tasks      | elapsed: 27.1min\n",
      "[Parallel(n_jobs=-1)]: Done 2373 tasks      | elapsed: 28.3min\n",
      "[Parallel(n_jobs=-1)]: Done 2442 tasks      | elapsed: 29.8min\n",
      "[Parallel(n_jobs=-1)]: Done 2513 tasks      | elapsed: 31.5min\n",
      "[Parallel(n_jobs=-1)]: Done 2584 tasks      | elapsed: 33.0min\n",
      "[Parallel(n_jobs=-1)]: Done 2657 tasks      | elapsed: 34.3min\n",
      "[Parallel(n_jobs=-1)]: Done 2730 tasks      | elapsed: 35.5min\n",
      "[Parallel(n_jobs=-1)]: Done 2805 tasks      | elapsed: 36.7min\n",
      "[Parallel(n_jobs=-1)]: Done 2880 tasks      | elapsed: 37.9min\n",
      "[Parallel(n_jobs=-1)]: Done 2957 tasks      | elapsed: 39.3min\n",
      "[Parallel(n_jobs=-1)]: Done 3034 tasks      | elapsed: 40.6min\n",
      "[Parallel(n_jobs=-1)]: Done 3113 tasks      | elapsed: 41.9min\n",
      "[Parallel(n_jobs=-1)]: Done 3192 tasks      | elapsed: 43.2min\n",
      "[Parallel(n_jobs=-1)]: Done 3273 tasks      | elapsed: 44.9min\n",
      "[Parallel(n_jobs=-1)]: Done 3354 tasks      | elapsed: 46.6min\n",
      "[Parallel(n_jobs=-1)]: Done 3437 tasks      | elapsed: 48.3min\n",
      "[Parallel(n_jobs=-1)]: Done 3520 tasks      | elapsed: 50.1min\n",
      "[Parallel(n_jobs=-1)]: Done 3605 tasks      | elapsed: 52.2min\n",
      "[Parallel(n_jobs=-1)]: Done 3690 tasks      | elapsed: 55.1min\n",
      "[Parallel(n_jobs=-1)]: Done 3777 tasks      | elapsed: 58.2min\n",
      "[Parallel(n_jobs=-1)]: Done 3864 tasks      | elapsed: 61.1min\n",
      "[Parallel(n_jobs=-1)]: Done 3953 tasks      | elapsed: 64.4min\n",
      "[Parallel(n_jobs=-1)]: Done 4042 tasks      | elapsed: 67.5min\n",
      "[Parallel(n_jobs=-1)]: Done 4133 tasks      | elapsed: 70.8min\n",
      "[Parallel(n_jobs=-1)]: Done 4224 tasks      | elapsed: 73.9min\n",
      "[Parallel(n_jobs=-1)]: Done 4317 tasks      | elapsed: 77.3min\n",
      "[Parallel(n_jobs=-1)]: Done 4410 tasks      | elapsed: 80.6min\n",
      "[Parallel(n_jobs=-1)]: Done 4505 tasks      | elapsed: 84.0min\n",
      "[Parallel(n_jobs=-1)]: Done 4600 tasks      | elapsed: 87.3min\n",
      "[Parallel(n_jobs=-1)]: Done 4697 tasks      | elapsed: 90.7min\n",
      "[Parallel(n_jobs=-1)]: Done 4794 tasks      | elapsed: 94.1min\n",
      "[Parallel(n_jobs=-1)]: Done 4893 tasks      | elapsed: 97.6min\n",
      "[Parallel(n_jobs=-1)]: Done 4992 tasks      | elapsed: 101.0min\n",
      "[Parallel(n_jobs=-1)]: Done 5093 tasks      | elapsed: 104.6min\n",
      "[Parallel(n_jobs=-1)]: Done 5194 tasks      | elapsed: 108.2min\n",
      "[Parallel(n_jobs=-1)]: Done 5297 tasks      | elapsed: 111.8min\n",
      "[Parallel(n_jobs=-1)]: Done 5400 out of 5400 | elapsed: 115.3min finished\n"
     ]
    },
    {
     "name": "stdout",
     "output_type": "stream",
     "text": [
      "CPU times: user 34.5 s, sys: 1.98 s, total: 36.5 s\n",
      "Wall time: 1h 55min 23s\n"
     ]
    }
   ],
   "source": [
    "%%time\n",
    "gscv_base.fit(X_train_base, y_train_base)\n",
    "score_base = roc_auc_score(y_test_base, gscv_base.predict_proba(X_test_base)[:,1])"
   ]
  },
  {
   "cell_type": "code",
   "execution_count": 7,
   "metadata": {},
   "outputs": [
    {
     "data": {
      "text/plain": [
       "{'algorithm': 'ball_tree', 'n_neighbors': 28, 'p': 1, 'weights': 'uniform'}"
      ]
     },
     "execution_count": 7,
     "metadata": {},
     "output_type": "execute_result"
    }
   ],
   "source": [
    "gscv_base.best_params_"
   ]
  },
  {
   "cell_type": "code",
   "execution_count": 8,
   "metadata": {},
   "outputs": [
    {
     "data": {
      "text/plain": [
       "0.8941416145178687"
      ]
     },
     "execution_count": 8,
     "metadata": {},
     "output_type": "execute_result"
    }
   ],
   "source": [
    "score_base"
   ]
  },
  {
   "cell_type": "code",
   "execution_count": 9,
   "metadata": {},
   "outputs": [
    {
     "name": "stdout",
     "output_type": "stream",
     "text": [
      "              precision    recall  f1-score   support\n",
      "\n",
      "           0       0.88      0.93      0.90      6182\n",
      "           1       0.72      0.59      0.65      1959\n",
      "\n",
      "    accuracy                           0.85      8141\n",
      "   macro avg       0.80      0.76      0.78      8141\n",
      "weighted avg       0.84      0.85      0.84      8141\n",
      "\n"
     ]
    }
   ],
   "source": [
    "print(classification_report(y_test_base,gscv_base.predict(X_test_base)))"
   ]
  },
  {
   "cell_type": "code",
   "execution_count": 10,
   "metadata": {},
   "outputs": [
    {
     "data": {
      "image/png": "[encoded data removed]",
      "text/plain": [
       "<Figure size 1080x504 with 2 Axes>"
      ]
     },
     "metadata": {
      "needs_background": "light"
     },
     "output_type": "display_data"
    }
   ],
   "source": [
    "fig, ax = plt.subplots(figsize=(15,7))\n",
    "plt.grid(False)\n",
    "plot_confusion_matrix(gscv_base, X_test_base, y_test_base, cmap=plt.cm.Blues, display_labels=['1', '0'], ax=ax)\n",
    "plt.show()"
   ]
  },
  {
   "cell_type": "code",
   "execution_count": 11,
   "metadata": {},
   "outputs": [
    {
     "data": {
      "text/plain": [
       "<sklearn.metrics._plot.roc_curve.RocCurveDisplay at 0x7f3f295d1eb8>"
      ]
     },
     "execution_count": 11,
     "metadata": {},
     "output_type": "execute_result"
    },
    {
     "data": {
      "image/png": "[encoded data removed]",
      "text/plain": [
       "<Figure size 432x288 with 1 Axes>"
      ]
     },
     "metadata": {
      "needs_background": "light"
     },
     "output_type": "display_data"
    }
   ],
   "source": [
    "plot_roc_curve(gscv_base, X_test_base, y_test_base)"
   ]
  },
  {
   "cell_type": "markdown",
   "metadata": {},
   "source": [
    "### Preprocessing Significantes"
   ]
  },
  {
   "cell_type": "code",
   "execution_count": 12,
   "metadata": {},
   "outputs": [],
   "source": [
    "df_sig, pa_sig = preprocessing.preprocessing_significantes(utils.feature_engineering(utils.get_data()))"
   ]
  },
  {
   "cell_type": "code",
   "execution_count": 14,
   "metadata": {},
   "outputs": [],
   "source": [
    "gscv_sig = GridSearchCV(model, params, scoring='roc_auc', n_jobs=-1, verbose=10)"
   ]
  },
  {
   "cell_type": "code",
   "execution_count": 15,
   "metadata": {},
   "outputs": [],
   "source": [
    "X_train_sig, X_test_sig, y_train_sig, y_test_sig = train_test_split(df_sig, pa_sig, random_state=112)"
   ]
  },
  {
   "cell_type": "code",
   "execution_count": 16,
   "metadata": {},
   "outputs": [
    {
     "name": "stdout",
     "output_type": "stream",
     "text": [
      "Fitting 5 folds for each of 1080 candidates, totalling 5400 fits\n"
     ]
    },
    {
     "name": "stderr",
     "output_type": "stream",
     "text": [
      "[Parallel(n_jobs=-1)]: Using backend LokyBackend with 4 concurrent workers.\n",
      "[Parallel(n_jobs=-1)]: Done   5 tasks      | elapsed:   44.1s\n",
      "[Parallel(n_jobs=-1)]: Done  10 tasks      | elapsed:  1.1min\n",
      "[Parallel(n_jobs=-1)]: Done  17 tasks      | elapsed:  1.8min\n",
      "[Parallel(n_jobs=-1)]: Done  24 tasks      | elapsed:  2.3min\n",
      "[Parallel(n_jobs=-1)]: Done  33 tasks      | elapsed:  3.4min\n",
      "[Parallel(n_jobs=-1)]: Done  42 tasks      | elapsed:  4.1min\n",
      "[Parallel(n_jobs=-1)]: Done  53 tasks      | elapsed:  5.2min\n",
      "[Parallel(n_jobs=-1)]: Done  64 tasks      | elapsed:  6.1min\n",
      "[Parallel(n_jobs=-1)]: Done  77 tasks      | elapsed:  7.5min\n",
      "[Parallel(n_jobs=-1)]: Done  90 tasks      | elapsed:  8.7min\n",
      "[Parallel(n_jobs=-1)]: Done 105 tasks      | elapsed: 10.1min\n",
      "[Parallel(n_jobs=-1)]: Done 120 tasks      | elapsed: 11.5min\n",
      "[Parallel(n_jobs=-1)]: Done 137 tasks      | elapsed: 13.2min\n",
      "[Parallel(n_jobs=-1)]: Done 154 tasks      | elapsed: 14.8min\n",
      "[Parallel(n_jobs=-1)]: Done 173 tasks      | elapsed: 16.7min\n",
      "[Parallel(n_jobs=-1)]: Done 192 tasks      | elapsed: 18.3min\n",
      "[Parallel(n_jobs=-1)]: Done 213 tasks      | elapsed: 19.7min\n",
      "[Parallel(n_jobs=-1)]: Done 234 tasks      | elapsed: 21.2min\n",
      "[Parallel(n_jobs=-1)]: Done 257 tasks      | elapsed: 22.8min\n",
      "[Parallel(n_jobs=-1)]: Done 280 tasks      | elapsed: 24.5min\n",
      "[Parallel(n_jobs=-1)]: Done 305 tasks      | elapsed: 26.3min\n",
      "[Parallel(n_jobs=-1)]: Done 330 tasks      | elapsed: 28.0min\n",
      "[Parallel(n_jobs=-1)]: Done 357 tasks      | elapsed: 30.0min\n",
      "[Parallel(n_jobs=-1)]: Done 384 tasks      | elapsed: 31.9min\n",
      "[Parallel(n_jobs=-1)]: Done 413 tasks      | elapsed: 34.0min\n",
      "[Parallel(n_jobs=-1)]: Done 442 tasks      | elapsed: 36.2min\n",
      "[Parallel(n_jobs=-1)]: Done 473 tasks      | elapsed: 38.3min\n",
      "[Parallel(n_jobs=-1)]: Done 504 tasks      | elapsed: 40.7min\n",
      "[Parallel(n_jobs=-1)]: Done 537 tasks      | elapsed: 43.1min\n",
      "[Parallel(n_jobs=-1)]: Done 570 tasks      | elapsed: 45.5min\n",
      "[Parallel(n_jobs=-1)]: Done 605 tasks      | elapsed: 48.2min\n",
      "[Parallel(n_jobs=-1)]: Done 640 tasks      | elapsed: 50.8min\n",
      "[Parallel(n_jobs=-1)]: Done 677 tasks      | elapsed: 53.6min\n",
      "[Parallel(n_jobs=-1)]: Done 714 tasks      | elapsed: 56.3min\n",
      "[Parallel(n_jobs=-1)]: Done 753 tasks      | elapsed: 59.2min\n",
      "[Parallel(n_jobs=-1)]: Done 792 tasks      | elapsed: 62.2min\n",
      "[Parallel(n_jobs=-1)]: Done 833 tasks      | elapsed: 65.4min\n",
      "[Parallel(n_jobs=-1)]: Done 874 tasks      | elapsed: 68.4min\n",
      "[Parallel(n_jobs=-1)]: Done 917 tasks      | elapsed: 71.7min\n",
      "[Parallel(n_jobs=-1)]: Done 960 tasks      | elapsed: 75.0min\n",
      "[Parallel(n_jobs=-1)]: Done 1005 tasks      | elapsed: 78.4min\n",
      "[Parallel(n_jobs=-1)]: Done 1050 tasks      | elapsed: 82.0min\n",
      "[Parallel(n_jobs=-1)]: Done 1097 tasks      | elapsed: 85.6min\n",
      "[Parallel(n_jobs=-1)]: Done 1144 tasks      | elapsed: 89.3min\n",
      "[Parallel(n_jobs=-1)]: Done 1193 tasks      | elapsed: 93.2min\n",
      "[Parallel(n_jobs=-1)]: Done 1242 tasks      | elapsed: 97.0min\n",
      "[Parallel(n_jobs=-1)]: Done 1293 tasks      | elapsed: 101.0min\n",
      "[Parallel(n_jobs=-1)]: Done 1344 tasks      | elapsed: 105.1min\n",
      "[Parallel(n_jobs=-1)]: Done 1397 tasks      | elapsed: 109.3min\n",
      "[Parallel(n_jobs=-1)]: Done 1450 tasks      | elapsed: 113.7min\n",
      "[Parallel(n_jobs=-1)]: Done 1505 tasks      | elapsed: 118.2min\n",
      "[Parallel(n_jobs=-1)]: Done 1560 tasks      | elapsed: 122.7min\n",
      "[Parallel(n_jobs=-1)]: Done 1617 tasks      | elapsed: 127.3min\n",
      "[Parallel(n_jobs=-1)]: Done 1674 tasks      | elapsed: 132.1min\n",
      "[Parallel(n_jobs=-1)]: Done 1733 tasks      | elapsed: 137.0min\n",
      "[Parallel(n_jobs=-1)]: Done 1792 tasks      | elapsed: 141.9min\n",
      "[Parallel(n_jobs=-1)]: Done 1853 tasks      | elapsed: 143.4min\n",
      "[Parallel(n_jobs=-1)]: Done 1914 tasks      | elapsed: 144.5min\n",
      "[Parallel(n_jobs=-1)]: Done 1977 tasks      | elapsed: 145.7min\n",
      "[Parallel(n_jobs=-1)]: Done 2040 tasks      | elapsed: 147.0min\n",
      "[Parallel(n_jobs=-1)]: Done 2105 tasks      | elapsed: 148.6min\n",
      "[Parallel(n_jobs=-1)]: Done 2170 tasks      | elapsed: 150.2min\n",
      "[Parallel(n_jobs=-1)]: Done 2237 tasks      | elapsed: 151.9min\n",
      "[Parallel(n_jobs=-1)]: Done 2304 tasks      | elapsed: 153.7min\n",
      "[Parallel(n_jobs=-1)]: Done 2373 tasks      | elapsed: 155.7min\n",
      "[Parallel(n_jobs=-1)]: Done 2442 tasks      | elapsed: 157.7min\n",
      "[Parallel(n_jobs=-1)]: Done 2513 tasks      | elapsed: 160.0min\n",
      "[Parallel(n_jobs=-1)]: Done 2584 tasks      | elapsed: 162.2min\n",
      "[Parallel(n_jobs=-1)]: Done 2657 tasks      | elapsed: 164.6min\n",
      "[Parallel(n_jobs=-1)]: Done 2730 tasks      | elapsed: 167.2min\n",
      "[Parallel(n_jobs=-1)]: Done 2805 tasks      | elapsed: 169.9min\n",
      "[Parallel(n_jobs=-1)]: Done 2880 tasks      | elapsed: 172.5min\n",
      "[Parallel(n_jobs=-1)]: Done 2957 tasks      | elapsed: 175.4min\n",
      "[Parallel(n_jobs=-1)]: Done 3034 tasks      | elapsed: 178.3min\n",
      "[Parallel(n_jobs=-1)]: Done 3113 tasks      | elapsed: 181.5min\n",
      "[Parallel(n_jobs=-1)]: Done 3192 tasks      | elapsed: 184.6min\n",
      "[Parallel(n_jobs=-1)]: Done 3273 tasks      | elapsed: 187.9min\n",
      "[Parallel(n_jobs=-1)]: Done 3354 tasks      | elapsed: 191.3min\n",
      "[Parallel(n_jobs=-1)]: Done 3437 tasks      | elapsed: 194.8min\n",
      "[Parallel(n_jobs=-1)]: Done 3520 tasks      | elapsed: 198.3min\n",
      "[Parallel(n_jobs=-1)]: Done 3605 tasks      | elapsed: 202.2min\n",
      "[Parallel(n_jobs=-1)]: Done 3690 tasks      | elapsed: 205.1min\n",
      "[Parallel(n_jobs=-1)]: Done 3777 tasks      | elapsed: 208.1min\n",
      "[Parallel(n_jobs=-1)]: Done 3864 tasks      | elapsed: 211.2min\n",
      "[Parallel(n_jobs=-1)]: Done 3953 tasks      | elapsed: 214.4min\n",
      "[Parallel(n_jobs=-1)]: Done 4042 tasks      | elapsed: 217.5min\n",
      "[Parallel(n_jobs=-1)]: Done 4133 tasks      | elapsed: 220.8min\n",
      "[Parallel(n_jobs=-1)]: Done 4224 tasks      | elapsed: 224.0min\n",
      "[Parallel(n_jobs=-1)]: Done 4317 tasks      | elapsed: 227.2min\n",
      "[Parallel(n_jobs=-1)]: Done 4410 tasks      | elapsed: 230.5min\n",
      "[Parallel(n_jobs=-1)]: Done 4505 tasks      | elapsed: 233.9min\n",
      "[Parallel(n_jobs=-1)]: Done 4600 tasks      | elapsed: 237.1min\n",
      "[Parallel(n_jobs=-1)]: Done 4697 tasks      | elapsed: 240.6min\n",
      "[Parallel(n_jobs=-1)]: Done 4794 tasks      | elapsed: 244.0min\n",
      "[Parallel(n_jobs=-1)]: Done 4893 tasks      | elapsed: 247.5min\n",
      "[Parallel(n_jobs=-1)]: Done 4992 tasks      | elapsed: 251.0min\n",
      "[Parallel(n_jobs=-1)]: Done 5093 tasks      | elapsed: 254.6min\n",
      "[Parallel(n_jobs=-1)]: Done 5194 tasks      | elapsed: 258.1min\n",
      "[Parallel(n_jobs=-1)]: Done 5297 tasks      | elapsed: 261.7min\n",
      "[Parallel(n_jobs=-1)]: Done 5400 out of 5400 | elapsed: 265.3min finished\n"
     ]
    },
    {
     "name": "stdout",
     "output_type": "stream",
     "text": [
      "CPU times: user 33.6 s, sys: 2.61 s, total: 36.2 s\n",
      "Wall time: 4h 25min 24s\n"
     ]
    }
   ],
   "source": [
    "%%time\n",
    "gscv_sig.fit(X_train_sig, y_train_sig)\n",
    "score_sig = roc_auc_score(y_test_sig, gscv_sig.predict_proba(X_test_sig)[:,1])"
   ]
  },
  {
   "cell_type": "code",
   "execution_count": 17,
   "metadata": {},
   "outputs": [
    {
     "data": {
      "text/plain": [
       "{'algorithm': 'brute', 'n_neighbors': 45, 'p': 2, 'weights': 'uniform'}"
      ]
     },
     "execution_count": 17,
     "metadata": {},
     "output_type": "execute_result"
    }
   ],
   "source": [
    "gscv_sig.best_params_"
   ]
  },
  {
   "cell_type": "code",
   "execution_count": 18,
   "metadata": {},
   "outputs": [
    {
     "data": {
      "text/plain": [
       "0.8809367098307276"
      ]
     },
     "execution_count": 18,
     "metadata": {},
     "output_type": "execute_result"
    }
   ],
   "source": [
    "score_sig"
   ]
  },
  {
   "cell_type": "code",
   "execution_count": 19,
   "metadata": {},
   "outputs": [
    {
     "name": "stdout",
     "output_type": "stream",
     "text": [
      "              precision    recall  f1-score   support\n",
      "\n",
      "           0       0.86      0.92      0.89      6182\n",
      "           1       0.69      0.54      0.61      1959\n",
      "\n",
      "    accuracy                           0.83      8141\n",
      "   macro avg       0.78      0.73      0.75      8141\n",
      "weighted avg       0.82      0.83      0.82      8141\n",
      "\n"
     ]
    }
   ],
   "source": [
    "print(classification_report(y_test_sig,gscv_sig.predict(X_test_sig)))"
   ]
  },
  {
   "cell_type": "code",
   "execution_count": 20,
   "metadata": {},
   "outputs": [
    {
     "data": {
      "image/png": "[encoded data removed]",
      "text/plain": [
       "<Figure size 1080x504 with 2 Axes>"
      ]
     },
     "metadata": {
      "needs_background": "light"
     },
     "output_type": "display_data"
    }
   ],
   "source": [
    "fig, ax = plt.subplots(figsize=(15,7))\n",
    "plt.grid(False)\n",
    "plot_confusion_matrix(gscv_sig, X_test_sig, y_test_sig, cmap=plt.cm.Blues, display_labels=['1', '0'], ax=ax)\n",
    "plt.show()"
   ]
  },
  {
   "cell_type": "code",
   "execution_count": 21,
   "metadata": {},
   "outputs": [
    {
     "data": {
      "text/plain": [
       "<sklearn.metrics._plot.roc_curve.RocCurveDisplay at 0x7f3f454de908>"
      ]
     },
     "execution_count": 21,
     "metadata": {},
     "output_type": "execute_result"
    },
    {
     "data": {
      "image/png": "[encoded data removed]",
      "text/plain": [
       "<Figure size 432x288 with 1 Axes>"
      ]
     },
     "metadata": {
      "needs_background": "light"
     },
     "output_type": "display_data"
    }
   ],
   "source": [
    "plot_roc_curve(gscv_sig, X_test_sig, y_test_sig)"
   ]
  }
 ],
 "metadata": {
  "kernelspec": {
   "display_name": "Python 3",
   "language": "python",
   "name": "python3"
  },
  "language_info": {
   "codemirror_mode": {
    "name": "ipython",
    "version": 3
   },
   "file_extension": ".py",
   "mimetype": "text/x-python",
   "name": "python",
   "nbconvert_exporter": "python",
   "pygments_lexer": "ipython3",
   "version": "3.6.9"
  }
 },
 "nbformat": 4,
 "nbformat_minor": 4
}

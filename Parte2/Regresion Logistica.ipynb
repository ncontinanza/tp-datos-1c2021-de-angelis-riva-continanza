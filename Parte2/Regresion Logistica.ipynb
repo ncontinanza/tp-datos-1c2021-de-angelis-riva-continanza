{
 "cells": [
  {
   "cell_type": "markdown",
   "id": "specified-dominant",
   "metadata": {},
   "source": [
    "# Regresión logística\n",
    "\n",
    "La idea de este notebook es realizar una predicción mediante regresión logística utilizando los preprocessings:\n",
    "* Standard preprocessing parte 1\n",
    "* Preprocessing significantes 90% de varianza explicada\n",
    "* Primeras variables seleccionadas por un árbol de decisión."
   ]
  },
  {
   "cell_type": "code",
   "execution_count": 1,
   "id": "opponent-courtesy",
   "metadata": {},
   "outputs": [],
   "source": [
    "# Modelo\n",
    "from sklearn.linear_model import LogisticRegression\n",
    "\n",
    "# Preprocessing\n",
    "from preprocessing import standard_preprocessing_base_parte_1, preprocessing_significantes, standard_preprocessing_mejores_por_arbol\n",
    "import utils\n",
    "from sklearn.preprocessing import StandardScaler\n",
    "\n",
    "# Búsqueda\n",
    "from sklearn.model_selection import train_test_split, GridSearchCV\n",
    "\n",
    "# Metrics\n",
    "from sklearn.metrics import plot_roc_curve, auc, roc_auc_score\n",
    "from sklearn.metrics import classification_report, plot_confusion_matrix\n",
    "\n",
    "# Plots\n",
    "from matplotlib import pyplot as plt\n",
    "import seaborn as sns\n",
    "\n",
    "# Otros\n",
    "import pandas as pd\n",
    "import numpy as np"
   ]
  },
  {
   "cell_type": "code",
   "execution_count": 2,
   "id": "legislative-graphic",
   "metadata": {},
   "outputs": [],
   "source": [
    "df = utils.get_data()"
   ]
  },
  {
   "cell_type": "markdown",
   "id": "intermediate-princess",
   "metadata": {},
   "source": [
    "## Modelo 1 - Standard Preprocessing parte 1\n",
    "\n",
    "Será entrenado con las siguientes variables:\n",
    "\n",
    "* **Ganancia/Pérdida declara en la bolsa argentina**: `ganancia_perdida_declarada_bolsa_argentina`\n",
    "* **Edad**: `edad`\n",
    "* **Rol familiar registrado**: `rol_familiar_registrado`\n",
    "* **Años estudiados**: `anios_estudiados`\n",
    "\n",
    "A las que se les aplicará una función de Standarización para que la regresión logísitca y su regularización funcionen correctamente."
   ]
  },
  {
   "cell_type": "code",
   "execution_count": 3,
   "id": "directed-given",
   "metadata": {},
   "outputs": [],
   "source": [
    "X = df[df.columns.drop('tiene_alto_valor_adquisitivo')]\n",
    "Y = df['tiene_alto_valor_adquisitivo']\n",
    "\n",
    "X_train_1, X_test_1, y_train_1, y_test_1 = train_test_split(X, Y, random_state=112, stratify=Y)\n",
    "\n",
    "X_train_1, X_test_1 = standard_preprocessing_base_parte_1(X_train_1, X_test_1)"
   ]
  },
  {
   "cell_type": "code",
   "execution_count": 4,
   "id": "considered-bunny",
   "metadata": {},
   "outputs": [],
   "source": [
    "model = LogisticRegression()\n",
    "params = [{'penalty': ['l1']        , 'C': np.logspace(-3, 3, 13), 'solver': ['saga'] },\n",
    "          {'penalty': ['l2']        , 'C': np.logspace(-3, 3, 13), 'solver': ['lbfgs']},\n",
    "          {'penalty': ['elasticnet'], 'C': np.logspace(-3, 3, 13), 'solver': ['saga'] , 'l1_ratio': np.linspace(0.1, 0.9, 9)}]\n",
    "\n",
    "gscv1 = GridSearchCV(model, params, scoring='roc_auc', n_jobs=-1, verbose=4, cv=10)"
   ]
  },
  {
   "cell_type": "code",
   "execution_count": 5,
   "id": "intelligent-valuable",
   "metadata": {},
   "outputs": [
    {
     "name": "stdout",
     "output_type": "stream",
     "text": [
      "Fitting 10 folds for each of 143 candidates, totalling 1430 fits\n"
     ]
    },
    {
     "name": "stderr",
     "output_type": "stream",
     "text": [
      "[Parallel(n_jobs=-1)]: Using backend LokyBackend with 8 concurrent workers.\n",
      "[Parallel(n_jobs=-1)]: Done   9 tasks      | elapsed:    2.1s\n",
      "[Parallel(n_jobs=-1)]: Done  82 tasks      | elapsed:    4.5s\n",
      "[Parallel(n_jobs=-1)]: Done 205 tasks      | elapsed:    7.5s\n",
      "[Parallel(n_jobs=-1)]: Done 376 tasks      | elapsed:   13.1s\n",
      "[Parallel(n_jobs=-1)]: Done 597 tasks      | elapsed:   20.5s\n",
      "[Parallel(n_jobs=-1)]: Done 866 tasks      | elapsed:   28.5s\n",
      "[Parallel(n_jobs=-1)]: Done 1185 tasks      | elapsed:   37.3s\n",
      "[Parallel(n_jobs=-1)]: Done 1430 out of 1430 | elapsed:   44.0s finished\n"
     ]
    },
    {
     "data": {
      "text/plain": [
       "GridSearchCV(cv=10, estimator=LogisticRegression(), n_jobs=-1,\n",
       "             param_grid=[{'C': array([1.00000000e-03, 3.16227766e-03, 1.00000000e-02, 3.16227766e-02,\n",
       "       1.00000000e-01, 3.16227766e-01, 1.00000000e+00, 3.16227766e+00,\n",
       "       1.00000000e+01, 3.16227766e+01, 1.00000000e+02, 3.16227766e+02,\n",
       "       1.00000000e+03]),\n",
       "                          'penalty': ['l1'], 'solver': ['saga']},\n",
       "                         {'C': array([1.00000000e-03, 3.1622...\n",
       "                          'penalty': ['l2'], 'solver': ['lbfgs']},\n",
       "                         {'C': array([1.00000000e-03, 3.16227766e-03, 1.00000000e-02, 3.16227766e-02,\n",
       "       1.00000000e-01, 3.16227766e-01, 1.00000000e+00, 3.16227766e+00,\n",
       "       1.00000000e+01, 3.16227766e+01, 1.00000000e+02, 3.16227766e+02,\n",
       "       1.00000000e+03]),\n",
       "                          'l1_ratio': array([0.1, 0.2, 0.3, 0.4, 0.5, 0.6, 0.7, 0.8, 0.9]),\n",
       "                          'penalty': ['elasticnet'], 'solver': ['saga']}],\n",
       "             scoring='roc_auc', verbose=4)"
      ]
     },
     "execution_count": 5,
     "metadata": {},
     "output_type": "execute_result"
    }
   ],
   "source": [
    "gscv1.fit(X_train_1, y_train_1)"
   ]
  },
  {
   "cell_type": "code",
   "execution_count": 6,
   "id": "sustainable-submission",
   "metadata": {
    "scrolled": true
   },
   "outputs": [
    {
     "name": "stdout",
     "output_type": "stream",
     "text": [
      "Los parámetros que mejor score obtuvieron para AdaBoost fueron: {'C': 0.03162277660168379, 'l1_ratio': 0.1, 'penalty': 'elasticnet', 'solver': 'saga'}\n",
      "Con un Score (RocAUC) de:  0.8812\n"
     ]
    }
   ],
   "source": [
    "print(\"Los parámetros que mejor score obtuvieron para AdaBoost fueron:\", gscv1.best_params_)\n",
    "print(\"Con un Score (RocAUC) de: \", round(gscv1.best_score_, 4))"
   ]
  },
  {
   "cell_type": "markdown",
   "id": "abstract-membership",
   "metadata": {},
   "source": [
    "Realicemos ahora el modelo por fuera del gridSearch"
   ]
  },
  {
   "cell_type": "code",
   "execution_count": 7,
   "id": "surrounded-cancellation",
   "metadata": {},
   "outputs": [],
   "source": [
    "lr1 = gscv1.best_estimator_"
   ]
  },
  {
   "cell_type": "code",
   "execution_count": 8,
   "id": "handmade-general",
   "metadata": {},
   "outputs": [
    {
     "data": {
      "text/plain": [
       "LogisticRegression(C=0.03162277660168379, l1_ratio=0.1, penalty='elasticnet',\n",
       "                   solver='saga')"
      ]
     },
     "execution_count": 8,
     "metadata": {},
     "output_type": "execute_result"
    }
   ],
   "source": [
    "lr1.fit(X_train_1, y_train_1)"
   ]
  },
  {
   "cell_type": "code",
   "execution_count": 39,
   "id": "oriental-technical",
   "metadata": {},
   "outputs": [
    {
     "name": "stdout",
     "output_type": "stream",
     "text": [
      "              precision    recall  f1-score   support\n",
      "\n",
      "           0     0.8600    0.9290    0.8931      6181\n",
      "           1     0.7001    0.5230    0.5987      1960\n",
      "\n",
      "    accuracy                         0.8312      8141\n",
      "   macro avg     0.7801    0.7260    0.7459      8141\n",
      "weighted avg     0.8215    0.8312    0.8223      8141\n",
      "\n"
     ]
    }
   ],
   "source": [
    "print(classification_report(y_test_1,lr1.predict(X_test_1), digits=4))"
   ]
  },
  {
   "cell_type": "markdown",
   "id": "decreased-abuse",
   "metadata": {},
   "source": [
    "Vemos que el modelo tiene un accuracy de 8312%. Un recall común para los ceros, un poco pobre para los unos, esto se verá reflejado en la matriz de confusión"
   ]
  },
  {
   "cell_type": "code",
   "execution_count": 10,
   "id": "fancy-controversy",
   "metadata": {},
   "outputs": [
    {
     "data": {
      "image/png": "[encoded data removed]",
      "text/plain": [
       "<Figure size 1080x504 with 2 Axes>"
      ]
     },
     "metadata": {
      "needs_background": "light"
     },
     "output_type": "display_data"
    }
   ],
   "source": [
    "fig, ax = plt.subplots(figsize=(15,7))\n",
    "plt.grid(False)\n",
    "plot_confusion_matrix(lr1, X_test_1, y_test_1, cmap=plt.cm.Blues, display_labels=['0', '1'], ax=ax)\n",
    "plt.show()"
   ]
  },
  {
   "cell_type": "markdown",
   "id": "surface-slovak",
   "metadata": {},
   "source": [
    "Vemos aquí que hay muchos Falsos negativos, es decir que el modelo no está pudiendo predecir correctamente a los unos."
   ]
  },
  {
   "cell_type": "code",
   "execution_count": 11,
   "id": "exclusive-footage",
   "metadata": {},
   "outputs": [
    {
     "data": {
      "text/plain": [
       "<sklearn.metrics._plot.roc_curve.RocCurveDisplay at 0x7fc6703972b0>"
      ]
     },
     "execution_count": 11,
     "metadata": {},
     "output_type": "execute_result"
    },
    {
     "data": {
      "image/png": "[encoded data removed]",
      "text/plain": [
       "<Figure size 432x288 with 1 Axes>"
      ]
     },
     "metadata": {
      "needs_background": "light"
     },
     "output_type": "display_data"
    }
   ],
   "source": [
    "plot_roc_curve(lr1, X_test_1, y_test_1)"
   ]
  },
  {
   "cell_type": "code",
   "execution_count": 12,
   "id": "genetic-remedy",
   "metadata": {},
   "outputs": [
    {
     "data": {
      "text/plain": [
       "0.8813612485926259"
      ]
     },
     "execution_count": 12,
     "metadata": {},
     "output_type": "execute_result"
    }
   ],
   "source": [
    "roc_auc_score(y_test_1, lr1.predict_proba(X_test_1)[:,1])"
   ]
  },
  {
   "cell_type": "markdown",
   "id": "seven-reunion",
   "metadata": {},
   "source": [
    "Vemos que el RocAUC fue de 0.88, por lo que estamos frente a un modelo decente, pero definitivamente no el mejor."
   ]
  },
  {
   "cell_type": "markdown",
   "id": "cleared-tennessee",
   "metadata": {},
   "source": [
    "## Modelo 2 - Preprocessing Significantes 90% varianza explicada\n",
    "\n",
    "Queremos ver ahora cómo actúa la regresión logística con las variables proyectadas por PCA con 90% de la varianza explicada.\n"
   ]
  },
  {
   "cell_type": "code",
   "execution_count": 13,
   "id": "identified-study",
   "metadata": {},
   "outputs": [
    {
     "name": "stderr",
     "output_type": "stream",
     "text": [
      "/home/lukas/FIUBA/tp-datos-1c2021-de-angelis-riva-continanza/Parte2/preprocessing.py:40: SettingWithCopyWarning: \n",
      "A value is trying to be set on a copy of a slice from a DataFrame.\n",
      "Try using .loc[row_indexer,col_indexer] = value instead\n",
      "\n",
      "See the caveats in the documentation: https://pandas.pydata.org/pandas-docs/stable/user_guide/indexing.html#returning-a-view-versus-a-copy\n",
      "  X_train['ganancia_perdida_declarada_bolsa_argentina'] = X_train['ganancia_perdida_declarada_bolsa_argentina'].apply(_log_scale)\n",
      "/home/lukas/FIUBA/tp-datos-1c2021-de-angelis-riva-continanza/Parte2/preprocessing.py:41: SettingWithCopyWarning: \n",
      "A value is trying to be set on a copy of a slice from a DataFrame.\n",
      "Try using .loc[row_indexer,col_indexer] = value instead\n",
      "\n",
      "See the caveats in the documentation: https://pandas.pydata.org/pandas-docs/stable/user_guide/indexing.html#returning-a-view-versus-a-copy\n",
      "  X_test['ganancia_perdida_declarada_bolsa_argentina'] = X_test['ganancia_perdida_declarada_bolsa_argentina'].apply(_log_scale)\n"
     ]
    }
   ],
   "source": [
    "X = df[df.columns.drop('tiene_alto_valor_adquisitivo')]\n",
    "X = pd.get_dummies(X, drop_first=True)\n",
    "Y = df['tiene_alto_valor_adquisitivo']\n",
    "\n",
    "X_train_2, X_test_2, y_train_2, y_test_2 = train_test_split(X, Y, random_state=112, stratify=Y)\n",
    "\n",
    "X_train_2, X_test_2 = preprocessing_significantes(X_train_2, X_test_2, 0.9)"
   ]
  },
  {
   "cell_type": "code",
   "execution_count": 14,
   "id": "committed-teens",
   "metadata": {},
   "outputs": [],
   "source": [
    "model = LogisticRegression()\n",
    "params = [{'penalty': ['l1']        , 'C': np.logspace(-3, -1, 3), 'solver': ['saga'] },\n",
    "          {'penalty': ['l2']        , 'C': np.logspace(-3, -1, 3), 'solver': ['lbfgs']},\n",
    "          {'penalty': ['elasticnet'], 'C': np.logspace(-3, -1, 3), 'solver': ['saga'] , 'l1_ratio': np.linspace(0.1, 0.9, 9)}]\n",
    "\n",
    "gscv2 = GridSearchCV(model, params, scoring='roc_auc', n_jobs=-1, verbose=4, cv=10)"
   ]
  },
  {
   "cell_type": "code",
   "execution_count": 15,
   "id": "conscious-gilbert",
   "metadata": {
    "scrolled": true
   },
   "outputs": [
    {
     "name": "stdout",
     "output_type": "stream",
     "text": [
      "Fitting 10 folds for each of 33 candidates, totalling 330 fits\n"
     ]
    },
    {
     "name": "stderr",
     "output_type": "stream",
     "text": [
      "[Parallel(n_jobs=-1)]: Using backend LokyBackend with 8 concurrent workers.\n",
      "[Parallel(n_jobs=-1)]: Done   9 tasks      | elapsed:    1.5s\n",
      "[Parallel(n_jobs=-1)]: Done  82 tasks      | elapsed:    9.4s\n",
      "[Parallel(n_jobs=-1)]: Done 205 tasks      | elapsed:   22.2s\n",
      "[Parallel(n_jobs=-1)]: Done 330 out of 330 | elapsed:  1.2min finished\n"
     ]
    },
    {
     "data": {
      "text/plain": [
       "GridSearchCV(cv=10, estimator=LogisticRegression(), n_jobs=-1,\n",
       "             param_grid=[{'C': array([0.001, 0.01 , 0.1  ]), 'penalty': ['l1'],\n",
       "                          'solver': ['saga']},\n",
       "                         {'C': array([0.001, 0.01 , 0.1  ]), 'penalty': ['l2'],\n",
       "                          'solver': ['lbfgs']},\n",
       "                         {'C': array([0.001, 0.01 , 0.1  ]),\n",
       "                          'l1_ratio': array([0.1, 0.2, 0.3, 0.4, 0.5, 0.6, 0.7, 0.8, 0.9]),\n",
       "                          'penalty': ['elasticnet'], 'solver': ['saga']}],\n",
       "             scoring='roc_auc', verbose=4)"
      ]
     },
     "execution_count": 15,
     "metadata": {},
     "output_type": "execute_result"
    }
   ],
   "source": [
    "gscv2.fit(X_train_2, y_train_2)"
   ]
  },
  {
   "cell_type": "code",
   "execution_count": 16,
   "id": "together-humor",
   "metadata": {
    "scrolled": true
   },
   "outputs": [
    {
     "name": "stdout",
     "output_type": "stream",
     "text": [
      "Los parámetros que mejor score obtuvieron para AdaBoost fueron: {'C': 0.01, 'l1_ratio': 0.1, 'penalty': 'elasticnet', 'solver': 'saga'}\n",
      "Con un Score (RocAUC) de:  0.8839\n"
     ]
    }
   ],
   "source": [
    "print(\"Los parámetros que mejor score obtuvieron para AdaBoost fueron:\", gscv2.best_params_)\n",
    "print(\"Con un Score (RocAUC) de: \", round(gscv2.best_score_, 4))"
   ]
  },
  {
   "cell_type": "code",
   "execution_count": 17,
   "id": "median-premises",
   "metadata": {},
   "outputs": [],
   "source": [
    "lr2 = gscv2.best_estimator_"
   ]
  },
  {
   "cell_type": "code",
   "execution_count": 18,
   "id": "worthy-parade",
   "metadata": {},
   "outputs": [
    {
     "data": {
      "text/plain": [
       "LogisticRegression(C=0.01, l1_ratio=0.1, penalty='elasticnet', solver='saga')"
      ]
     },
     "execution_count": 18,
     "metadata": {},
     "output_type": "execute_result"
    }
   ],
   "source": [
    "lr2.fit(X_train_2, y_train_2)"
   ]
  },
  {
   "cell_type": "code",
   "execution_count": 40,
   "id": "decent-surge",
   "metadata": {},
   "outputs": [
    {
     "name": "stdout",
     "output_type": "stream",
     "text": [
      "              precision    recall  f1-score   support\n",
      "\n",
      "           0     0.8676    0.9235    0.8947      6181\n",
      "           1     0.6972    0.5556    0.6184      1960\n",
      "\n",
      "    accuracy                         0.8349      8141\n",
      "   macro avg     0.7824    0.7395    0.7565      8141\n",
      "weighted avg     0.8266    0.8349    0.8282      8141\n",
      "\n"
     ]
    }
   ],
   "source": [
    "print(classification_report(y_test_2,lr2.predict(X_test_2), digits=4))"
   ]
  },
  {
   "cell_type": "markdown",
   "id": "previous-appendix",
   "metadata": {},
   "source": [
    "Vemos que el modelo obtenido posee métricas similares al anterior modelo."
   ]
  },
  {
   "cell_type": "code",
   "execution_count": 20,
   "id": "large-blogger",
   "metadata": {},
   "outputs": [
    {
     "data": {
      "image/png": "[encoded data removed]",
      "text/plain": [
       "<Figure size 1080x504 with 2 Axes>"
      ]
     },
     "metadata": {
      "needs_background": "light"
     },
     "output_type": "display_data"
    }
   ],
   "source": [
    "fig, ax = plt.subplots(figsize=(15,7))\n",
    "plt.grid(False)\n",
    "plot_confusion_matrix(lr2, X_test_2, y_test_2, cmap=plt.cm.Blues, display_labels=['0', '1'], ax=ax)\n",
    "plt.show()"
   ]
  },
  {
   "cell_type": "markdown",
   "id": "purple-freeware",
   "metadata": {},
   "source": [
    "La matriz de confusión tamibén es similar a la obtenida por el modelo anterior"
   ]
  },
  {
   "cell_type": "code",
   "execution_count": 21,
   "id": "nervous-genius",
   "metadata": {},
   "outputs": [
    {
     "data": {
      "text/plain": [
       "<sklearn.metrics._plot.roc_curve.RocCurveDisplay at 0x7fc660ce8160>"
      ]
     },
     "execution_count": 21,
     "metadata": {},
     "output_type": "execute_result"
    },
    {
     "data": {
      "image/png": "[encoded data removed]",
      "text/plain": [
       "<Figure size 432x288 with 1 Axes>"
      ]
     },
     "metadata": {
      "needs_background": "light"
     },
     "output_type": "display_data"
    }
   ],
   "source": [
    "plot_roc_curve(lr2, X_test_2, y_test_2)"
   ]
  },
  {
   "cell_type": "code",
   "execution_count": 22,
   "id": "floral-broadcasting",
   "metadata": {},
   "outputs": [
    {
     "data": {
      "text/plain": [
       "0.8850693699256115"
      ]
     },
     "execution_count": 22,
     "metadata": {},
     "output_type": "execute_result"
    }
   ],
   "source": [
    "roc_auc_score(y_test_2, lr2.predict_proba(X_test_2)[:,1])"
   ]
  },
  {
   "cell_type": "markdown",
   "id": "stock-hollywood",
   "metadata": {},
   "source": [
    "La curva ROC y su puntuación AUC son decentes, pero podemos ver que no se trata del mejor modelo."
   ]
  },
  {
   "cell_type": "markdown",
   "id": "cognitive-heavy",
   "metadata": {},
   "source": [
    "## Modelo 3 - mejores variables del árbol"
   ]
  },
  {
   "cell_type": "code",
   "execution_count": 23,
   "id": "front-somalia",
   "metadata": {},
   "outputs": [],
   "source": [
    "X = df[df.columns.drop('tiene_alto_valor_adquisitivo')]\n",
    "X = pd.get_dummies(X)\n",
    "Y = df['tiene_alto_valor_adquisitivo']\n",
    "\n",
    "X_train_3, X_test_3, y_train_3, y_test_3 = train_test_split(X, Y, random_state=27, stratify=Y)\n",
    "\n",
    "X_train_3, X_test_3 = standard_preprocessing_mejores_por_arbol(X_train_3, X_test_3)"
   ]
  },
  {
   "cell_type": "code",
   "execution_count": 24,
   "id": "crude-cancer",
   "metadata": {},
   "outputs": [],
   "source": [
    "model = LogisticRegression(n_jobs=-1, random_state=27)\n",
    "params = [{'penalty': ['l1']        , 'C': np.logspace(-3, 3, 13), 'solver': ['saga'] },\n",
    "          {'penalty': ['l2']        , 'C': np.logspace(-3, 3, 13), 'solver': ['lbfgs']},\n",
    "          {'penalty': ['elasticnet'], 'C': np.logspace(-3, 3, 13), 'solver': ['saga'] , 'l1_ratio': np.linspace(0.1, 0.9, 9)}]\n",
    "\n",
    "gscv3 = GridSearchCV(model, params, scoring='roc_auc', n_jobs=-1, cv=10, verbose=4)"
   ]
  },
  {
   "cell_type": "code",
   "execution_count": 25,
   "id": "unsigned-portrait",
   "metadata": {},
   "outputs": [
    {
     "name": "stdout",
     "output_type": "stream",
     "text": [
      "Fitting 10 folds for each of 143 candidates, totalling 1430 fits\n"
     ]
    },
    {
     "name": "stderr",
     "output_type": "stream",
     "text": [
      "[Parallel(n_jobs=-1)]: Using backend LokyBackend with 8 concurrent workers.\n",
      "[Parallel(n_jobs=-1)]: Done   9 tasks      | elapsed:    0.5s\n",
      "[Parallel(n_jobs=-1)]: Done  82 tasks      | elapsed:    2.9s\n",
      "[Parallel(n_jobs=-1)]: Done 205 tasks      | elapsed:    6.0s\n",
      "[Parallel(n_jobs=-1)]: Done 376 tasks      | elapsed:   11.5s\n",
      "[Parallel(n_jobs=-1)]: Done 597 tasks      | elapsed:   18.7s\n",
      "[Parallel(n_jobs=-1)]: Done 866 tasks      | elapsed:   29.9s\n",
      "[Parallel(n_jobs=-1)]: Done 1185 tasks      | elapsed:   43.4s\n",
      "[Parallel(n_jobs=-1)]: Done 1430 out of 1430 | elapsed:   52.8s finished\n"
     ]
    },
    {
     "data": {
      "text/plain": [
       "GridSearchCV(cv=10, estimator=LogisticRegression(n_jobs=-1, random_state=27),\n",
       "             n_jobs=-1,\n",
       "             param_grid=[{'C': array([1.00000000e-03, 3.16227766e-03, 1.00000000e-02, 3.16227766e-02,\n",
       "       1.00000000e-01, 3.16227766e-01, 1.00000000e+00, 3.16227766e+00,\n",
       "       1.00000000e+01, 3.16227766e+01, 1.00000000e+02, 3.16227766e+02,\n",
       "       1.00000000e+03]),\n",
       "                          'penalty': ['l1'], 'solver': ['saga']},\n",
       "                         {'C': arr...\n",
       "                          'penalty': ['l2'], 'solver': ['lbfgs']},\n",
       "                         {'C': array([1.00000000e-03, 3.16227766e-03, 1.00000000e-02, 3.16227766e-02,\n",
       "       1.00000000e-01, 3.16227766e-01, 1.00000000e+00, 3.16227766e+00,\n",
       "       1.00000000e+01, 3.16227766e+01, 1.00000000e+02, 3.16227766e+02,\n",
       "       1.00000000e+03]),\n",
       "                          'l1_ratio': array([0.1, 0.2, 0.3, 0.4, 0.5, 0.6, 0.7, 0.8, 0.9]),\n",
       "                          'penalty': ['elasticnet'], 'solver': ['saga']}],\n",
       "             scoring='roc_auc', verbose=4)"
      ]
     },
     "execution_count": 25,
     "metadata": {},
     "output_type": "execute_result"
    }
   ],
   "source": [
    "gscv3.fit(X_train_3, y_train_3)"
   ]
  },
  {
   "cell_type": "code",
   "execution_count": 26,
   "id": "preceding-lewis",
   "metadata": {},
   "outputs": [
    {
     "name": "stdout",
     "output_type": "stream",
     "text": [
      "Los parámetros que mejor score obtuvieron para AdaBoost fueron: {'C': 0.1, 'l1_ratio': 0.2, 'penalty': 'elasticnet', 'solver': 'saga'}\n",
      "Con un Score (RocAUC) de:  0.8908\n"
     ]
    }
   ],
   "source": [
    "print(\"Los parámetros que mejor score obtuvieron para AdaBoost fueron:\", gscv3.best_params_)\n",
    "print(\"Con un Score (RocAUC) de: \", round(gscv3.best_score_, 4))"
   ]
  },
  {
   "cell_type": "code",
   "execution_count": 27,
   "id": "sapphire-synthetic",
   "metadata": {},
   "outputs": [],
   "source": [
    "lr3 = gscv3.best_estimator_"
   ]
  },
  {
   "cell_type": "code",
   "execution_count": 28,
   "id": "stunning-publisher",
   "metadata": {},
   "outputs": [
    {
     "data": {
      "text/plain": [
       "LogisticRegression(C=0.1, l1_ratio=0.2, n_jobs=-1, penalty='elasticnet',\n",
       "                   random_state=27, solver='saga')"
      ]
     },
     "execution_count": 28,
     "metadata": {},
     "output_type": "execute_result"
    }
   ],
   "source": [
    "lr3.fit(X_train_3, y_train_3)"
   ]
  },
  {
   "cell_type": "code",
   "execution_count": 41,
   "id": "supported-speaker",
   "metadata": {},
   "outputs": [
    {
     "name": "stdout",
     "output_type": "stream",
     "text": [
      "              precision    recall  f1-score   support\n",
      "\n",
      "           0     0.8644    0.9330    0.8974      6181\n",
      "           1     0.7182    0.5383    0.6153      1960\n",
      "\n",
      "    accuracy                         0.8380      8141\n",
      "   macro avg     0.7913    0.7356    0.7564      8141\n",
      "weighted avg     0.8292    0.8380    0.8295      8141\n",
      "\n"
     ]
    }
   ],
   "source": [
    "print(classification_report(y_test_3,lr3.predict(X_test_3), digits=4))"
   ]
  },
  {
   "cell_type": "markdown",
   "id": "encouraging-bolivia",
   "metadata": {},
   "source": [
    "Nuevamente un modelo un tanto regular, con un accuracy de 83.80. Veamos ahora la matriz de confusión."
   ]
  },
  {
   "cell_type": "code",
   "execution_count": 42,
   "id": "valued-civilian",
   "metadata": {},
   "outputs": [
    {
     "data": {
      "image/png": "[encoded data removed]",
      "text/plain": [
       "<Figure size 1080x504 with 2 Axes>"
      ]
     },
     "metadata": {
      "needs_background": "light"
     },
     "output_type": "display_data"
    }
   ],
   "source": [
    "fig, ax = plt.subplots(figsize=(15,7))\n",
    "plt.grid(False)\n",
    "plot_confusion_matrix(lr3, X_test_3, y_test_3, cmap=plt.cm.Blues, display_labels=['0', '1'], ax=ax)\n",
    "plt.show()"
   ]
  },
  {
   "cell_type": "markdown",
   "id": "bored-biodiversity",
   "metadata": {},
   "source": [
    "Vemos que la matriz de confusión sufre los mismos problemas que las anteriores, hay muchos falsos negativos y esto se debe al poco recall de unos para los modelos de regresión logística.\n",
    "\n",
    "Veamos la curva Roc y su valor de RocAUC"
   ]
  },
  {
   "cell_type": "code",
   "execution_count": 31,
   "id": "literary-mixture",
   "metadata": {},
   "outputs": [
    {
     "data": {
      "text/plain": [
       "<sklearn.metrics._plot.roc_curve.RocCurveDisplay at 0x7fc660da3ee0>"
      ]
     },
     "execution_count": 31,
     "metadata": {},
     "output_type": "execute_result"
    },
    {
     "data": {
      "image/png": "[encoded data removed]",
      "text/plain": [
       "<Figure size 432x288 with 1 Axes>"
      ]
     },
     "metadata": {
      "needs_background": "light"
     },
     "output_type": "display_data"
    }
   ],
   "source": [
    "plot_roc_curve(lr3, X_test_3, y_test_3)"
   ]
  },
  {
   "cell_type": "code",
   "execution_count": 32,
   "id": "educated-seeking",
   "metadata": {},
   "outputs": [
    {
     "data": {
      "text/plain": [
       "0.892645293839911"
      ]
     },
     "execution_count": 32,
     "metadata": {},
     "output_type": "execute_result"
    }
   ],
   "source": [
    "roc_auc_score(y_test_3, lr3.predict_proba(X_test_3)[:,1])"
   ]
  },
  {
   "cell_type": "markdown",
   "id": "difficult-rachel",
   "metadata": {},
   "source": [
    "Vemos que obtuvo un valor de 0.893. Siendo este el mejor de todos los modelos de regresión logística, pero mucho peor que otros modelos diferentes."
   ]
  },
  {
   "cell_type": "markdown",
   "id": "unavailable-straight",
   "metadata": {},
   "source": [
    "### Persistencia"
   ]
  },
  {
   "cell_type": "code",
   "execution_count": 33,
   "id": "promising-feeling",
   "metadata": {},
   "outputs": [],
   "source": [
    "import pickle"
   ]
  },
  {
   "cell_type": "code",
   "execution_count": 34,
   "id": "leading-defensive",
   "metadata": {},
   "outputs": [],
   "source": [
    "pickle.dump(lr1, open(\"Modelos/LogisticRegression/lr1.pickle\", \"wb\"))\n",
    "pickle.dump(lr2, open(\"Modelos/LogisticRegression/lr2.pickle\", \"wb\"))\n",
    "pickle.dump(lr3, open(\"Modelos/LogisticRegression/lr3.pickle\", \"wb\"))"
   ]
  },
  {
   "cell_type": "markdown",
   "id": "stupid-museum",
   "metadata": {},
   "source": [
    "# Predicción de HoldOut\n",
    "\n",
    "Usaremos para predecir la regresión logísitca obtenida para el preprocessing standard mejores variables según árbol."
   ]
  },
  {
   "cell_type": "code",
   "execution_count": 35,
   "id": "sitting-memphis",
   "metadata": {},
   "outputs": [],
   "source": [
    "lr3 = pickle.load(open(\"Modelos/LogisticRegression/lr3.pickle\", \"rb\"))"
   ]
  },
  {
   "cell_type": "code",
   "execution_count": 36,
   "id": "systematic-triangle",
   "metadata": {},
   "outputs": [],
   "source": [
    "def holdout():\n",
    "    dfv = utils.get_data()\n",
    "    Xv = dfv[dfv.columns.drop('tiene_alto_valor_adquisitivo')]\n",
    "    Xv = pd.get_dummies(Xv)\n",
    "\n",
    "    ids, X = utils.get_holdout_data()\n",
    "    X = pd.get_dummies(X)\n",
    "\n",
    "    notInHoldout=[]\n",
    "    for c in Xv.columns:\n",
    "        if c not in X.columns:\n",
    "            notInHoldout.append(c)\n",
    "    X[notInHoldout] = 0\n",
    "\n",
    "    Xv, X = standard_preprocessing_mejores_por_arbol(Xv, X)\n",
    "    return ids, X"
   ]
  },
  {
   "cell_type": "code",
   "execution_count": 37,
   "id": "peaceful-settle",
   "metadata": {},
   "outputs": [],
   "source": [
    "ids, X = holdout()"
   ]
  },
  {
   "cell_type": "code",
   "execution_count": 38,
   "id": "light-jenny",
   "metadata": {},
   "outputs": [],
   "source": [
    "utils.escribir_holdout(lr3.predict(X), \"6 - LogisticRegression\", ids)"
   ]
  }
 ],
 "metadata": {
  "kernelspec": {
   "display_name": "Python 3",
   "language": "python",
   "name": "python3"
  },
  "language_info": {
   "codemirror_mode": {
    "name": "ipython",
    "version": 3
   },
   "file_extension": ".py",
   "mimetype": "text/x-python",
   "name": "python",
   "nbconvert_exporter": "python",
   "pygments_lexer": "ipython3",
   "version": "3.8.10"
  }
 },
 "nbformat": 4,
 "nbformat_minor": 5
}

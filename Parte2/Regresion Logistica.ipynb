{
 "cells": [
  {
   "cell_type": "markdown",
   "id": "polyphonic-banner",
   "metadata": {},
   "source": [
    "# Regresión logística\n",
    "\n",
    "La idea de este notebook es realizar una predicción mediante regresión logística utilizando los preprocessings:\n",
    "* Standard preprocessing parte 1\n",
    "* Preprocessing significantes 90% de varianza explicada\n",
    "* Primeras variables seleccionadas por un árbol de decisión."
   ]
  },
  {
   "cell_type": "code",
   "execution_count": 32,
   "id": "covered-shore",
   "metadata": {},
   "outputs": [
    {
     "ename": "ImportError",
     "evalue": "cannot import name 'preprocessing_mejores_por_arbol' from 'preprocessing' (/home/lukas/FIUBA/tp-datos-1c2021-de-angelis-riva-continanza/Parte2/preprocessing.py)",
     "output_type": "error",
     "traceback": [
      "\u001b[0;31m---------------------------------------------------------------------------\u001b[0m",
      "\u001b[0;31mImportError\u001b[0m                               Traceback (most recent call last)",
      "\u001b[0;32m<ipython-input-32-1781c4078a2c>\u001b[0m in \u001b[0;36m<module>\u001b[0;34m\u001b[0m\n\u001b[1;32m      3\u001b[0m \u001b[0;34m\u001b[0m\u001b[0m\n\u001b[1;32m      4\u001b[0m \u001b[0;31m# Preprocessing\u001b[0m\u001b[0;34m\u001b[0m\u001b[0;34m\u001b[0m\u001b[0;34m\u001b[0m\u001b[0m\n\u001b[0;32m----> 5\u001b[0;31m \u001b[0;32mfrom\u001b[0m \u001b[0mpreprocessing\u001b[0m \u001b[0;32mimport\u001b[0m \u001b[0mstandard_preprocessing_base_parte_1\u001b[0m\u001b[0;34m,\u001b[0m \u001b[0mpreprocessing_significantes\u001b[0m\u001b[0;34m,\u001b[0m \u001b[0mpreprocessing_mejores_por_arbol\u001b[0m\u001b[0;34m\u001b[0m\u001b[0;34m\u001b[0m\u001b[0m\n\u001b[0m\u001b[1;32m      6\u001b[0m \u001b[0;32mimport\u001b[0m \u001b[0mutils\u001b[0m\u001b[0;34m\u001b[0m\u001b[0;34m\u001b[0m\u001b[0m\n\u001b[1;32m      7\u001b[0m \u001b[0;32mfrom\u001b[0m \u001b[0msklearn\u001b[0m\u001b[0;34m.\u001b[0m\u001b[0mpreprocessing\u001b[0m \u001b[0;32mimport\u001b[0m \u001b[0mStandardScaler\u001b[0m\u001b[0;34m\u001b[0m\u001b[0;34m\u001b[0m\u001b[0m\n",
      "\u001b[0;31mImportError\u001b[0m: cannot import name 'preprocessing_mejores_por_arbol' from 'preprocessing' (/home/lukas/FIUBA/tp-datos-1c2021-de-angelis-riva-continanza/Parte2/preprocessing.py)"
     ]
    }
   ],
   "source": [
    "# Modelo\n",
    "from sklearn.linear_model import LogisticRegression\n",
    "\n",
    "# Preprocessing\n",
    "from preprocessing import standard_preprocessing_base_parte_1, preprocessing_significantes, preprocessing_mejores_por_arbol\n",
    "import utils\n",
    "from sklearn.preprocessing import StandardScaler\n",
    "\n",
    "# Búsqueda\n",
    "from sklearn.model_selection import train_test_split, GridSearchCV\n",
    "\n",
    "# Metrics\n",
    "from sklearn.metrics import plot_roc_curve, auc, roc_auc_score\n",
    "from sklearn.metrics import classification_report, plot_confusion_matrix\n",
    "\n",
    "# Plots\n",
    "from matplotlib import pyplot as plt\n",
    "import seaborn as sns\n",
    "\n",
    "# Otros\n",
    "import pandas as pd\n",
    "import numpy as np"
   ]
  },
  {
   "cell_type": "code",
   "execution_count": 2,
   "id": "polish-grace",
   "metadata": {},
   "outputs": [],
   "source": [
    "df = utils.get_data()"
   ]
  },
  {
   "cell_type": "markdown",
   "id": "clinical-agenda",
   "metadata": {},
   "source": [
    "## Modelo 1 - Standard Preprocessing parte 1\n",
    "\n",
    "Será entrenado con las siguientes variables:\n",
    "\n",
    "* **Ganancia/Pérdida declara en la bolsa argentina**: `ganancia_perdida_declarada_bolsa_argentina`\n",
    "* **Edad**: `edad`\n",
    "* **Rol familiar registrado**: `rol_familiar_registrado`\n",
    "* **Años estudiados**: `anios_estudiados`\n",
    "\n",
    "A las que se les aplicará una función de Standarización para que la regresión logísitca y su regularización funcionen correctamente."
   ]
  },
  {
   "cell_type": "code",
   "execution_count": 3,
   "id": "designing-pharmacy",
   "metadata": {},
   "outputs": [],
   "source": [
    "X = df[df.columns.drop('tiene_alto_valor_adquisitivo')]\n",
    "Y = df['tiene_alto_valor_adquisitivo']\n",
    "\n",
    "X_train_1, X_test_1, y_train_1, y_test_1 = train_test_split(X, Y, random_state=112)\n",
    "\n",
    "X_train_1, X_test_1 = standard_preprocessing_base_parte_1(X_train_1, X_test_1)"
   ]
  },
  {
   "cell_type": "code",
   "execution_count": 4,
   "id": "desperate-housing",
   "metadata": {},
   "outputs": [],
   "source": [
    "model = LogisticRegression()\n",
    "params = [{'penalty': ['l1']        , 'C': np.logspace(-3, 3, 13), 'solver': ['saga'] },\n",
    "          {'penalty': ['l2']        , 'C': np.logspace(-3, 3, 13), 'solver': ['lbfgs']},\n",
    "          {'penalty': ['elasticnet'], 'C': np.logspace(-3, 3, 13), 'solver': ['saga'] , 'l1_ratio': np.linspace(0.1, 0.9, 9)}]\n",
    "\n",
    "gscv1 = GridSearchCV(model, params, scoring='roc_auc', n_jobs=-1, verbose=4, cv=10)"
   ]
  },
  {
   "cell_type": "code",
   "execution_count": 5,
   "id": "respected-shakespeare",
   "metadata": {},
   "outputs": [
    {
     "name": "stdout",
     "output_type": "stream",
     "text": [
      "Fitting 10 folds for each of 143 candidates, totalling 1430 fits\n"
     ]
    },
    {
     "name": "stderr",
     "output_type": "stream",
     "text": [
      "[Parallel(n_jobs=-1)]: Using backend LokyBackend with 8 concurrent workers.\n",
      "[Parallel(n_jobs=-1)]: Done   9 tasks      | elapsed:    1.6s\n",
      "[Parallel(n_jobs=-1)]: Done  82 tasks      | elapsed:    3.5s\n",
      "[Parallel(n_jobs=-1)]: Done 205 tasks      | elapsed:    5.9s\n",
      "[Parallel(n_jobs=-1)]: Done 376 tasks      | elapsed:   10.0s\n",
      "[Parallel(n_jobs=-1)]: Done 597 tasks      | elapsed:   15.8s\n",
      "[Parallel(n_jobs=-1)]: Done 866 tasks      | elapsed:   23.3s\n",
      "[Parallel(n_jobs=-1)]: Done 1185 tasks      | elapsed:   31.9s\n",
      "[Parallel(n_jobs=-1)]: Done 1430 out of 1430 | elapsed:   38.2s finished\n"
     ]
    },
    {
     "data": {
      "text/plain": [
       "GridSearchCV(cv=10, estimator=LogisticRegression(), n_jobs=-1,\n",
       "             param_grid=[{'C': array([1.00000000e-03, 3.16227766e-03, 1.00000000e-02, 3.16227766e-02,\n",
       "       1.00000000e-01, 3.16227766e-01, 1.00000000e+00, 3.16227766e+00,\n",
       "       1.00000000e+01, 3.16227766e+01, 1.00000000e+02, 3.16227766e+02,\n",
       "       1.00000000e+03]),\n",
       "                          'penalty': ['l1'], 'solver': ['saga']},\n",
       "                         {'C': array([1.00000000e-03, 3.1622...\n",
       "                          'penalty': ['l2'], 'solver': ['lbfgs']},\n",
       "                         {'C': array([1.00000000e-03, 3.16227766e-03, 1.00000000e-02, 3.16227766e-02,\n",
       "       1.00000000e-01, 3.16227766e-01, 1.00000000e+00, 3.16227766e+00,\n",
       "       1.00000000e+01, 3.16227766e+01, 1.00000000e+02, 3.16227766e+02,\n",
       "       1.00000000e+03]),\n",
       "                          'l1_ratio': array([0.1, 0.2, 0.3, 0.4, 0.5, 0.6, 0.7, 0.8, 0.9]),\n",
       "                          'penalty': ['elasticnet'], 'solver': ['saga']}],\n",
       "             scoring='roc_auc', verbose=4)"
      ]
     },
     "execution_count": 5,
     "metadata": {},
     "output_type": "execute_result"
    }
   ],
   "source": [
    "gscv1.fit(X_train_1, y_train_1)"
   ]
  },
  {
   "cell_type": "code",
   "execution_count": 6,
   "id": "resident-frequency",
   "metadata": {
    "scrolled": true
   },
   "outputs": [
    {
     "name": "stdout",
     "output_type": "stream",
     "text": [
      "Los parámetros que mejor score obtuvieron para AdaBoost fueron: {'C': 0.03162277660168379, 'l1_ratio': 0.9, 'penalty': 'elasticnet', 'solver': 'saga'}\n",
      "Con un Score (RocAUC) de:  0.8805\n"
     ]
    }
   ],
   "source": [
    "print(\"Los parámetros que mejor score obtuvieron para AdaBoost fueron:\", gscv1.best_params_)\n",
    "print(\"Con un Score (RocAUC) de: \", round(gscv1.best_score_, 4))"
   ]
  },
  {
   "cell_type": "markdown",
   "id": "photographic-exception",
   "metadata": {},
   "source": [
    "Realicemos ahora el modelo por fuera del gridSearch"
   ]
  },
  {
   "cell_type": "code",
   "execution_count": 7,
   "id": "victorian-picking",
   "metadata": {},
   "outputs": [],
   "source": [
    "lr1 = gscv1.best_estimator_"
   ]
  },
  {
   "cell_type": "code",
   "execution_count": 8,
   "id": "eleven-assumption",
   "metadata": {},
   "outputs": [
    {
     "data": {
      "text/plain": [
       "LogisticRegression(C=0.03162277660168379, l1_ratio=0.9, penalty='elasticnet',\n",
       "                   solver='saga')"
      ]
     },
     "execution_count": 8,
     "metadata": {},
     "output_type": "execute_result"
    }
   ],
   "source": [
    "lr1.fit(X_train_1, y_train_1)"
   ]
  },
  {
   "cell_type": "code",
   "execution_count": 9,
   "id": "isolated-pound",
   "metadata": {},
   "outputs": [
    {
     "name": "stdout",
     "output_type": "stream",
     "text": [
      "              precision    recall  f1-score   support\n",
      "\n",
      "           0       0.86      0.94      0.90      6182\n",
      "           1       0.72      0.52      0.60      1959\n",
      "\n",
      "    accuracy                           0.84      8141\n",
      "   macro avg       0.79      0.73      0.75      8141\n",
      "weighted avg       0.83      0.84      0.83      8141\n",
      "\n"
     ]
    }
   ],
   "source": [
    "print(classification_report(y_test_1,lr1.predict(X_test_1)))"
   ]
  },
  {
   "cell_type": "markdown",
   "id": "welsh-terminal",
   "metadata": {},
   "source": [
    "Vemos que el modelo tiene un accuracy de 84%. Un recall común para los ceros, un poco pobre para los unos, esto se verá reflejado en la matriz de confusión"
   ]
  },
  {
   "cell_type": "code",
   "execution_count": 10,
   "id": "toxic-tractor",
   "metadata": {},
   "outputs": [
    {
     "data": {
      "image/png": "[encoded data removed]",
      "text/plain": [
       "<Figure size 1080x504 with 2 Axes>"
      ]
     },
     "metadata": {
      "needs_background": "light"
     },
     "output_type": "display_data"
    }
   ],
   "source": [
    "fig, ax = plt.subplots(figsize=(15,7))\n",
    "plt.grid(False)\n",
    "plot_confusion_matrix(lr1, X_test_1, y_test_1, cmap=plt.cm.Blues, display_labels=['0', '1'], ax=ax)\n",
    "plt.show()"
   ]
  },
  {
   "cell_type": "markdown",
   "id": "killing-analysis",
   "metadata": {},
   "source": [
    "Vemos aquí que hay muchos Falsos negativos, es decir que el modelo no está pudiendo predecir correctamente a los unos."
   ]
  },
  {
   "cell_type": "code",
   "execution_count": 11,
   "id": "expressed-control",
   "metadata": {},
   "outputs": [
    {
     "data": {
      "text/plain": [
       "<sklearn.metrics._plot.roc_curve.RocCurveDisplay at 0x7fd37122d550>"
      ]
     },
     "execution_count": 11,
     "metadata": {},
     "output_type": "execute_result"
    },
    {
     "data": {
      "image/png": "[encoded data removed]",
      "text/plain": [
       "<Figure size 432x288 with 1 Axes>"
      ]
     },
     "metadata": {
      "needs_background": "light"
     },
     "output_type": "display_data"
    }
   ],
   "source": [
    "plot_roc_curve(lr1, X_test_1, y_test_1)"
   ]
  },
  {
   "cell_type": "code",
   "execution_count": 12,
   "id": "visible-invitation",
   "metadata": {},
   "outputs": [
    {
     "data": {
      "text/plain": [
       "0.8836616094181777"
      ]
     },
     "execution_count": 12,
     "metadata": {},
     "output_type": "execute_result"
    }
   ],
   "source": [
    "roc_auc_score(y_test_1, lr1.predict_proba(X_test_1)[:,1])"
   ]
  },
  {
   "cell_type": "markdown",
   "id": "digital-billion",
   "metadata": {},
   "source": [
    "Vemos que el RocAUC fue de 0.88, por lo que estamos frente a un modelo decente, pero definitivamente no el mejor."
   ]
  },
  {
   "cell_type": "markdown",
   "id": "thirty-meaning",
   "metadata": {},
   "source": [
    "## Modelo 2 - Preprocessing Significantes 90% varianza explicada\n",
    "\n",
    "Queremos ver ahora cómo actúa la regresión logística con las variables proyectadas por PCA con 90% de la varianza explicada.\n"
   ]
  },
  {
   "cell_type": "code",
   "execution_count": 17,
   "id": "objective-veteran",
   "metadata": {},
   "outputs": [
    {
     "name": "stderr",
     "output_type": "stream",
     "text": [
      "/home/lukas/FIUBA/tp-datos-1c2021-de-angelis-riva-continanza/Parte2/preprocessing.py:40: SettingWithCopyWarning: \n",
      "A value is trying to be set on a copy of a slice from a DataFrame.\n",
      "Try using .loc[row_indexer,col_indexer] = value instead\n",
      "\n",
      "See the caveats in the documentation: https://pandas.pydata.org/pandas-docs/stable/user_guide/indexing.html#returning-a-view-versus-a-copy\n",
      "  X_train['ganancia_perdida_declarada_bolsa_argentina'] = X_train['ganancia_perdida_declarada_bolsa_argentina'].apply(_log_scale)\n",
      "/home/lukas/FIUBA/tp-datos-1c2021-de-angelis-riva-continanza/Parte2/preprocessing.py:41: SettingWithCopyWarning: \n",
      "A value is trying to be set on a copy of a slice from a DataFrame.\n",
      "Try using .loc[row_indexer,col_indexer] = value instead\n",
      "\n",
      "See the caveats in the documentation: https://pandas.pydata.org/pandas-docs/stable/user_guide/indexing.html#returning-a-view-versus-a-copy\n",
      "  X_test['ganancia_perdida_declarada_bolsa_argentina'] = X_test['ganancia_perdida_declarada_bolsa_argentina'].apply(_log_scale)\n"
     ]
    }
   ],
   "source": [
    "X = df[df.columns.drop('tiene_alto_valor_adquisitivo')]\n",
    "X = pd.get_dummies(X, drop_first=True)\n",
    "Y = df['tiene_alto_valor_adquisitivo']\n",
    "\n",
    "X_train_2, X_test_2, y_train_2, y_test_2 = train_test_split(X, Y, random_state=112)\n",
    "\n",
    "X_train_2, X_test_2 = preprocessing_significantes(X_train_2, X_test_2, 0.9)"
   ]
  },
  {
   "cell_type": "code",
   "execution_count": 22,
   "id": "electrical-poland",
   "metadata": {},
   "outputs": [],
   "source": [
    "model = LogisticRegression()\n",
    "params = [{'penalty': ['l1']        , 'C': np.logspace(-3, 3, 7), 'solver': ['saga'] },\n",
    "          {'penalty': ['l2']        , 'C': np.logspace(-3, 3, 7), 'solver': ['lbfgs']},\n",
    "          {'penalty': ['elasticnet'], 'C': np.logspace(-3, 3, 7), 'solver': ['saga'] , 'l1_ratio': np.linspace(0.1, 0.9, 9)}]\n",
    "\n",
    "gscv2 = GridSearchCV(model, params, scoring='roc_auc', n_jobs=-1, verbose=4, cv=10)"
   ]
  },
  {
   "cell_type": "code",
   "execution_count": 23,
   "id": "legendary-macedonia",
   "metadata": {
    "scrolled": true
   },
   "outputs": [
    {
     "name": "stdout",
     "output_type": "stream",
     "text": [
      "Fitting 10 folds for each of 77 candidates, totalling 770 fits\n"
     ]
    },
    {
     "name": "stderr",
     "output_type": "stream",
     "text": [
      "[Parallel(n_jobs=-1)]: Using backend LokyBackend with 8 concurrent workers.\n",
      "[Parallel(n_jobs=-1)]: Done   9 tasks      | elapsed:    3.4s\n",
      "[Parallel(n_jobs=-1)]: Done  82 tasks      | elapsed:   35.7s\n",
      "[Parallel(n_jobs=-1)]: Done 205 tasks      | elapsed:  1.0min\n",
      "[Parallel(n_jobs=-1)]: Done 376 tasks      | elapsed:  2.6min\n",
      "[Parallel(n_jobs=-1)]: Done 597 tasks      | elapsed:  5.1min\n",
      "[Parallel(n_jobs=-1)]: Done 770 out of 770 | elapsed:  6.9min finished\n"
     ]
    },
    {
     "data": {
      "text/plain": [
       "GridSearchCV(cv=10, estimator=LogisticRegression(), n_jobs=-1,\n",
       "             param_grid=[{'C': array([1.e-03, 1.e-02, 1.e-01, 1.e+00, 1.e+01, 1.e+02, 1.e+03]),\n",
       "                          'penalty': ['l1'], 'solver': ['saga']},\n",
       "                         {'C': array([1.e-03, 1.e-02, 1.e-01, 1.e+00, 1.e+01, 1.e+02, 1.e+03]),\n",
       "                          'penalty': ['l2'], 'solver': ['lbfgs']},\n",
       "                         {'C': array([1.e-03, 1.e-02, 1.e-01, 1.e+00, 1.e+01, 1.e+02, 1.e+03]),\n",
       "                          'l1_ratio': array([0.1, 0.2, 0.3, 0.4, 0.5, 0.6, 0.7, 0.8, 0.9]),\n",
       "                          'penalty': ['elasticnet'], 'solver': ['saga']}],\n",
       "             scoring='roc_auc', verbose=4)"
      ]
     },
     "execution_count": 23,
     "metadata": {},
     "output_type": "execute_result"
    }
   ],
   "source": [
    "gscv2.fit(X_train_2, y_train_2)"
   ]
  },
  {
   "cell_type": "code",
   "execution_count": 24,
   "id": "ordered-telephone",
   "metadata": {
    "scrolled": true
   },
   "outputs": [
    {
     "name": "stdout",
     "output_type": "stream",
     "text": [
      "Los parámetros que mejor score obtuvieron para AdaBoost fueron: {'C': 0.01, 'l1_ratio': 0.2, 'penalty': 'elasticnet', 'solver': 'saga'}\n",
      "Con un Score (RocAUC) de:  0.8833\n"
     ]
    }
   ],
   "source": [
    "print(\"Los parámetros que mejor score obtuvieron para AdaBoost fueron:\", gscv2.best_params_)\n",
    "print(\"Con un Score (RocAUC) de: \", round(gscv2.best_score_, 4))"
   ]
  },
  {
   "cell_type": "code",
   "execution_count": 25,
   "id": "tracked-sydney",
   "metadata": {},
   "outputs": [],
   "source": [
    "lr2 = gscv2.best_estimator_"
   ]
  },
  {
   "cell_type": "code",
   "execution_count": 26,
   "id": "informed-nitrogen",
   "metadata": {},
   "outputs": [
    {
     "data": {
      "text/plain": [
       "LogisticRegression(C=0.01, l1_ratio=0.2, penalty='elasticnet', solver='saga')"
      ]
     },
     "execution_count": 26,
     "metadata": {},
     "output_type": "execute_result"
    }
   ],
   "source": [
    "lr2.fit(X_train_2, y_train_2)"
   ]
  },
  {
   "cell_type": "code",
   "execution_count": 27,
   "id": "agreed-quest",
   "metadata": {},
   "outputs": [
    {
     "name": "stdout",
     "output_type": "stream",
     "text": [
      "              precision    recall  f1-score   support\n",
      "\n",
      "           0       0.86      0.92      0.89      6182\n",
      "           1       0.70      0.54      0.61      1959\n",
      "\n",
      "    accuracy                           0.83      8141\n",
      "   macro avg       0.78      0.73      0.75      8141\n",
      "weighted avg       0.82      0.83      0.83      8141\n",
      "\n"
     ]
    }
   ],
   "source": [
    "print(classification_report(y_test_2,lr2.predict(X_test_2)))"
   ]
  },
  {
   "cell_type": "markdown",
   "id": "enclosed-liberia",
   "metadata": {},
   "source": [
    "Vemos que el modelo obtenido posee métricas similares al anterior modelo."
   ]
  },
  {
   "cell_type": "code",
   "execution_count": 28,
   "id": "express-sigma",
   "metadata": {},
   "outputs": [
    {
     "data": {
      "image/png": "[encoded data removed]",
      "text/plain": [
       "<Figure size 1080x504 with 2 Axes>"
      ]
     },
     "metadata": {
      "needs_background": "light"
     },
     "output_type": "display_data"
    }
   ],
   "source": [
    "fig, ax = plt.subplots(figsize=(15,7))\n",
    "plt.grid(False)\n",
    "plot_confusion_matrix(lr2, X_test_2, y_test_2, cmap=plt.cm.Blues, display_labels=['0', '1'], ax=ax)\n",
    "plt.show()"
   ]
  },
  {
   "cell_type": "markdown",
   "id": "biological-cricket",
   "metadata": {},
   "source": [
    "La matriz de confusión tamibén es similar a la obtenida por el modelo anterior"
   ]
  },
  {
   "cell_type": "code",
   "execution_count": 29,
   "id": "hairy-overview",
   "metadata": {},
   "outputs": [
    {
     "data": {
      "text/plain": [
       "<sklearn.metrics._plot.roc_curve.RocCurveDisplay at 0x7fd30b617d60>"
      ]
     },
     "execution_count": 29,
     "metadata": {},
     "output_type": "execute_result"
    },
    {
     "data": {
      "image/png": "[encoded data removed]",
      "text/plain": [
       "<Figure size 432x288 with 1 Axes>"
      ]
     },
     "metadata": {
      "needs_background": "light"
     },
     "output_type": "display_data"
    }
   ],
   "source": [
    "plot_roc_curve(lr2, X_test_2, y_test_2)"
   ]
  },
  {
   "cell_type": "code",
   "execution_count": 30,
   "id": "timely-prescription",
   "metadata": {},
   "outputs": [
    {
     "data": {
      "text/plain": [
       "0.8866545813241327"
      ]
     },
     "execution_count": 30,
     "metadata": {},
     "output_type": "execute_result"
    }
   ],
   "source": [
    "roc_auc_score(y_test_2, lr2.predict_proba(X_test_2)[:,1])"
   ]
  },
  {
   "cell_type": "markdown",
   "id": "demonstrated-supplier",
   "metadata": {},
   "source": [
    "La curva ROC y su puntuación AUC son decentes, pero podemos ver que no se trata del mejor modelo."
   ]
  },
  {
   "cell_type": "markdown",
   "id": "opposed-panama",
   "metadata": {},
   "source": [
    "## Modelo 3 - mejores variables del árbol"
   ]
  },
  {
   "cell_type": "code",
   "execution_count": null,
   "id": "chicken-joshua",
   "metadata": {},
   "outputs": [],
   "source": [
    "gscv.best_params_"
   ]
  },
  {
   "cell_type": "code",
   "execution_count": null,
   "id": "consolidated-mechanics",
   "metadata": {},
   "outputs": [],
   "source": [
    "df = utils.get_data()"
   ]
  },
  {
   "cell_type": "code",
   "execution_count": null,
   "id": "balanced-decimal",
   "metadata": {},
   "outputs": [],
   "source": [
    "X = df[df.columns.drop('tiene_alto_valor_adquisitivo')]\n",
    "X = pd.get_dummies(X)\n",
    "Y = df['tiene_alto_valor_adquisitivo']\n",
    "\n",
    "X_train, X_test, y_train, y_test = train_test_split(X, Y, random_state=27)\n",
    "X_train, X_test = preprocessing.preprocessing_4_mejores_variables_arbol(X_train, X_test)"
   ]
  },
  {
   "cell_type": "markdown",
   "id": "champion-collectible",
   "metadata": {},
   "source": [
    "### El árbol de decisión. Veamos qué variables elegimos"
   ]
  },
  {
   "cell_type": "code",
   "execution_count": null,
   "id": "sacred-handling",
   "metadata": {},
   "outputs": [],
   "source": [
    "import graphviz\n",
    "import dtreeviz.trees as dtreeviz"
   ]
  },
  {
   "cell_type": "code",
   "execution_count": null,
   "id": "dimensional-failure",
   "metadata": {},
   "outputs": [],
   "source": [
    "arbol = DecisionTreeClassifier(min_samples_leaf=300, max_depth=5, random_state=27)\n",
    "arbol.fit(X_train, y_train)"
   ]
  },
  {
   "cell_type": "code",
   "execution_count": null,
   "id": "discrete-major",
   "metadata": {
    "scrolled": true
   },
   "outputs": [],
   "source": [
    "viz = dtreeviz.dtreeviz(\n",
    "    arbol,\n",
    "    X_train,\n",
    "    y_train,\n",
    "    target_name='tiene_alto_valor_adquisitivo',\n",
    "    feature_names=list(X.columns),\n",
    "    class_names=list([0,1]),\n",
    "    scale=1.5,\n",
    ")\n",
    "\n",
    "display(viz)"
   ]
  },
  {
   "cell_type": "markdown",
   "id": "interior-magnitude",
   "metadata": {},
   "source": [
    "##### Variables seleccionadas:\n",
    "(La selección la hacemos nosotors mirando las ganancias en separación con los pieplots)\n",
    "\n",
    "* Rol familiar registrado.\n",
    "* Años estudiados.\n",
    "* ganancia/perdida declarada en la bolsa.\n",
    "* Edad.\n",
    "* horas de trabajo registradas.\n",
    "\n",
    "Por lo que se usarán dichas variables para realizar la regresión, además se escalarán para poder aplicar regularización."
   ]
  },
  {
   "cell_type": "code",
   "execution_count": null,
   "id": "searching-estimate",
   "metadata": {},
   "outputs": [],
   "source": [
    "df['horas_trabajo_registradas']"
   ]
  },
  {
   "cell_type": "code",
   "execution_count": null,
   "id": "stylish-whale",
   "metadata": {},
   "outputs": [],
   "source": [
    "def filtrar_variables(X):\n",
    "    seleccion = ['rol_familiar_registrado_casado', 'anios_estudiados', 'ganancia_perdida_declarada_bolsa_argentina', 'edad', 'horas_trabajo_registradas']\n",
    "    return X[seleccion]"
   ]
  },
  {
   "cell_type": "code",
   "execution_count": null,
   "id": "eight-worse",
   "metadata": {},
   "outputs": [],
   "source": [
    "X = df[df.columns.drop('tiene_alto_valor_adquisitivo')]\n",
    "X = pd.get_dummies(X)\n",
    "X = filtrar_variables(X)\n",
    "Y = df['tiene_alto_valor_adquisitivo']\n",
    "\n",
    "# El mismo random_state nos asegura no estar provocando un leaking al seleccionar las variables.\n",
    "X_train, X_test, y_train, y_test = train_test_split(X, Y, random_state=27)"
   ]
  },
  {
   "cell_type": "markdown",
   "id": "automotive-anatomy",
   "metadata": {},
   "source": [
    "## Entrenamiento del modelo"
   ]
  },
  {
   "cell_type": "markdown",
   "id": "continent-classics",
   "metadata": {},
   "source": [
    "##### Primero se escalan las features"
   ]
  },
  {
   "cell_type": "code",
   "execution_count": null,
   "id": "material-permission",
   "metadata": {},
   "outputs": [],
   "source": [
    "scaler = MinMaxScaler(feature_range=(0,1))\n",
    "\n",
    "X_train = pd.DataFrame(scaler.fit_transform(X_train)).set_axis(X_train.columns, axis=1)\n",
    "X_test = pd.DataFrame(scaler.transform(X_test)).set_axis(X_train.columns, axis=1)"
   ]
  },
  {
   "cell_type": "markdown",
   "id": "directed-alarm",
   "metadata": {},
   "source": [
    "##### Búsqueda de hiperparámetros con KFoldCV"
   ]
  },
  {
   "cell_type": "code",
   "execution_count": null,
   "id": "driven-commercial",
   "metadata": {},
   "outputs": [],
   "source": [
    "model = LogisticRegression(n_jobs=-1, random_state=27)\n",
    "params = [{'penalty': ['l1']        , 'C': np.logspace(-3, 2, 6), 'solver': ['saga'] },\n",
    "          {'penalty': ['l2']        , 'C': np.logspace(-3, 2, 6), 'solver': ['lbfgs']},\n",
    "          {'penalty': ['elasticnet'], 'C': np.logspace(-3, 2, 6), 'solver': ['saga'] , 'l1_ratio': np.linspace(0.1, 0.9, 9)}]\n",
    "\n",
    "gscv = GridSearchCV(model, params, scoring='roc_auc', n_jobs=-1, cv=10, verbose=4)"
   ]
  },
  {
   "cell_type": "code",
   "execution_count": null,
   "id": "documented-sarah",
   "metadata": {},
   "outputs": [],
   "source": [
    "gscv.fit(X_train, y_train)"
   ]
  },
  {
   "cell_type": "code",
   "execution_count": null,
   "id": "incorporated-complement",
   "metadata": {},
   "outputs": [],
   "source": [
    "print(gscv.best_estimator_)\n",
    "print(gscv.best_params_)\n",
    "print(gscv.best_score_)"
   ]
  },
  {
   "cell_type": "code",
   "execution_count": null,
   "id": "touched-strand",
   "metadata": {},
   "outputs": [],
   "source": [
    "print(classification_report(y_test,gscv.predict(X_test)))"
   ]
  },
  {
   "cell_type": "markdown",
   "id": "synthetic-governor",
   "metadata": {},
   "source": [
    "##### El modelo"
   ]
  },
  {
   "cell_type": "code",
   "execution_count": null,
   "id": "retired-driver",
   "metadata": {},
   "outputs": [],
   "source": [
    "modelo = gscv.best_estimator_\n",
    "\n",
    "modelo.fit(X_train, y_train)"
   ]
  },
  {
   "cell_type": "code",
   "execution_count": null,
   "id": "atlantic-piece",
   "metadata": {},
   "outputs": [],
   "source": [
    "modelo.coef_"
   ]
  },
  {
   "cell_type": "code",
   "execution_count": null,
   "id": "metric-compatibility",
   "metadata": {},
   "outputs": [],
   "source": [
    "fig, ax = plt.subplots(figsize=(5, 5), dpi=100)\n",
    "plot_roc_curve(modelo, X_test, y_test, ax=ax)\n",
    "plt.show()"
   ]
  },
  {
   "cell_type": "code",
   "execution_count": null,
   "id": "previous-shakespeare",
   "metadata": {},
   "outputs": [],
   "source": [
    "fig, ax = plt.subplots(figsize=(10,4), dpi=150)\n",
    "plt.grid(False)\n",
    "plot_confusion_matrix(modelo, X_test, y_test, cmap=plt.cm.Blues, ax=ax)\n",
    "plt.show()"
   ]
  }
 ],
 "metadata": {
  "kernelspec": {
   "display_name": "Python 3",
   "language": "python",
   "name": "python3"
  },
  "language_info": {
   "codemirror_mode": {
    "name": "ipython",
    "version": 3
   },
   "file_extension": ".py",
   "mimetype": "text/x-python",
   "name": "python",
   "nbconvert_exporter": "python",
   "pygments_lexer": "ipython3",
   "version": "3.8.10"
  }
 },
 "nbformat": 4,
 "nbformat_minor": 5
}

{
 "cells": [
  {
   "cell_type": "code",
   "execution_count": 1,
   "metadata": {},
   "outputs": [],
   "source": [
    "from sklearn.decomposition import PCA\n",
    "from sklearn.preprocessing import MinMaxScaler\n",
    "import pandas as pd\n",
    "import numpy as np\n",
    "import seaborn as sns\n",
    "import utils"
   ]
  },
  {
   "cell_type": "code",
   "execution_count": 2,
   "metadata": {},
   "outputs": [],
   "source": [
    "def log_scale(x):\n",
    "    return np.sign(x) * (np.log(abs(x)) + 1) if (x < -1 or x > 1) else x"
   ]
  },
  {
   "cell_type": "code",
   "execution_count": 3,
   "metadata": {},
   "outputs": [],
   "source": [
    "scaler = MinMaxScaler()\n",
    "pca = PCA()"
   ]
  },
  {
   "cell_type": "code",
   "execution_count": 4,
   "metadata": {},
   "outputs": [],
   "source": [
    "df = utils.feature_engineering(utils.get_data())\n",
    "df = pd.get_dummies(df, drop_first=True)\n",
    "df['ganancia_perdida_declarada_bolsa_argentina'] = df['ganancia_perdida_declarada_bolsa_argentina'].apply(log_scale)"
   ]
  },
  {
   "cell_type": "code",
   "execution_count": 5,
   "metadata": {},
   "outputs": [],
   "source": [
    "df = scaler.fit_transform(df)\n",
    "df = pca.fit_transform(df)"
   ]
  },
  {
   "cell_type": "code",
   "execution_count": 6,
   "metadata": {},
   "outputs": [
    {
     "name": "stdout",
     "output_type": "stream",
     "text": [
      "[1.85938106e-01 8.23020808e-02 7.38898833e-02 6.87860181e-02\n",
      " 5.78660206e-02 5.22378270e-02 3.97939947e-02 3.59755913e-02\n",
      " 3.50110510e-02 3.32259287e-02 3.04787522e-02 2.86667877e-02\n",
      " 2.68913758e-02 2.15463603e-02 2.05779525e-02 1.99183420e-02\n",
      " 1.62861072e-02 1.53835719e-02 1.38274451e-02 1.18743186e-02\n",
      " 1.14053251e-02 1.05017246e-02 1.02693410e-02 1.00245870e-02\n",
      " 9.71277447e-03 8.34106977e-03 7.20285905e-03 6.85790600e-03\n",
      " 5.87529879e-03 5.63344596e-03 4.66562764e-03 4.18370417e-03\n",
      " 3.50465338e-03 3.36374741e-03 3.29920624e-03 3.14595588e-03\n",
      " 1.61382743e-03 1.46400987e-03 1.27440415e-03 1.12646551e-03\n",
      " 1.02426816e-03 9.14477663e-04 8.90868951e-04 8.21519549e-04\n",
      " 7.47766391e-04 7.37870668e-04 7.00294575e-04 6.77591903e-04\n",
      " 6.49170145e-04 6.34469609e-04 6.05633403e-04 5.90674739e-04\n",
      " 5.70543192e-04 5.37237007e-04 4.97482662e-04 4.75422747e-04\n",
      " 4.14526516e-04 4.06058059e-04 3.58773929e-04 3.33533740e-04\n",
      " 3.08161808e-04 2.88728462e-04 2.78424922e-04 2.68705466e-04\n",
      " 2.36255979e-04 1.96871586e-04 1.88845195e-04 1.87960143e-04\n",
      " 1.80011573e-04 1.73125678e-04 1.72210152e-04 1.53070626e-04\n",
      " 1.41398433e-04 1.35892654e-04 1.27480326e-04 1.24839384e-04\n",
      " 1.16540595e-04 8.95106598e-05 6.70425694e-05 2.38293941e-05\n",
      " 9.46238238e-06 3.66698257e-32]\n"
     ]
    }
   ],
   "source": [
    "print(pca.explained_variance_ratio_)"
   ]
  },
  {
   "cell_type": "code",
   "execution_count": 7,
   "metadata": {},
   "outputs": [
    {
     "name": "stdout",
     "output_type": "stream",
     "text": [
      "[ 18.59381061  26.82401869  34.21300702  41.09160883  46.87821089\n",
      "  52.10199359  56.08139306  59.67895219  63.18005729  66.50265016\n",
      "  69.55052538  72.41720415  75.10634173  77.26097776  79.31877302\n",
      "  81.31060721  82.93921794  84.47757512  85.86031964  87.04775149\n",
      "  88.18828401  89.23845646  90.26539056  91.26784927  92.23912671\n",
      "  93.07323369  93.7935196   94.4793102   95.06684008  95.63018467\n",
      "  96.09674744  96.51511785  96.86558319  97.20195793  97.53187856\n",
      "  97.84647414  98.00785689  98.15425788  98.28169829  98.39434484\n",
      "  98.49677166  98.58821942  98.67730632  98.75945827  98.83423491\n",
      "  98.90802198  98.97805144  99.04581063  99.11072764  99.1741746\n",
      "  99.23473794  99.29380542  99.35085974  99.40458344  99.4543317\n",
      "  99.50187398  99.54332663  99.58393243  99.61980983  99.6531632\n",
      "  99.68397938  99.71285223  99.74069472  99.76756527  99.79119086\n",
      "  99.81087802  99.82976254  99.84855856  99.86655971  99.88387228\n",
      "  99.9010933   99.91640036  99.9305402   99.94412947  99.9568775\n",
      "  99.96936144  99.9810155   99.98996657  99.99667082  99.99905376\n",
      " 100.         100.        ]\n"
     ]
    }
   ],
   "source": [
    "print(np.cumsum(pca.explained_variance_ratio_) * 100)"
   ]
  },
  {
   "cell_type": "code",
   "execution_count": 8,
   "metadata": {},
   "outputs": [
    {
     "data": {
      "text/plain": [
       "<AxesSubplot:>"
      ]
     },
     "execution_count": 8,
     "metadata": {},
     "output_type": "execute_result"
    },
    {
     "data": {
      "image/png": "[encoded data removed]",
      "text/plain": [
       "<Figure size 432x288 with 1 Axes>"
      ]
     },
     "metadata": {
      "needs_background": "light"
     },
     "output_type": "display_data"
    }
   ],
   "source": [
    "sns.scatterplot(data=df, x=range(1,len(np.cumsum(pca.explained_variance_ratio_) * 100)+1), y=np.cumsum(pca.explained_variance_ratio_) * 100)"
   ]
  },
  {
   "cell_type": "code",
   "execution_count": 11,
   "metadata": {},
   "outputs": [],
   "source": [
    "pca = PCA(30)"
   ]
  },
  {
   "cell_type": "code",
   "execution_count": 12,
   "metadata": {},
   "outputs": [
    {
     "data": {
      "text/plain": [
       "array([[ 0.70593537,  0.57331554, -0.90596106, ..., -0.03319756,\n",
       "        -0.1379115 ,  0.04399287],\n",
       "       [-0.86071982,  0.51231615, -0.41352048, ...,  0.08420511,\n",
       "         0.02901857, -0.06043455],\n",
       "       [ 0.30338385, -0.19461774, -0.28001943, ..., -0.18513864,\n",
       "        -0.05428803, -0.038691  ],\n",
       "       ...,\n",
       "       [ 0.50626466,  0.3722053 ,  1.08898143, ...,  0.23333586,\n",
       "         0.1163848 ,  0.3539224 ],\n",
       "       [ 0.80248468, -0.70586704, -0.29445833, ...,  0.04324995,\n",
       "         0.00907675,  0.01165792],\n",
       "       [-0.84604333,  0.85703825,  0.15277079, ..., -0.09197979,\n",
       "         0.0377171 , -0.02399175]])"
      ]
     },
     "execution_count": 12,
     "metadata": {},
     "output_type": "execute_result"
    }
   ],
   "source": [
    "pca.fit_transform(df)"
   ]
  }
 ],
 "metadata": {
  "kernelspec": {
   "display_name": "Python 3",
   "language": "python",
   "name": "python3"
  },
  "language_info": {
   "codemirror_mode": {
    "name": "ipython",
    "version": 3
   },
   "file_extension": ".py",
   "mimetype": "text/x-python",
   "name": "python",
   "nbconvert_exporter": "python",
   "pygments_lexer": "ipython3",
   "version": "3.6.9"
  }
 },
 "nbformat": 4,
 "nbformat_minor": 4
}

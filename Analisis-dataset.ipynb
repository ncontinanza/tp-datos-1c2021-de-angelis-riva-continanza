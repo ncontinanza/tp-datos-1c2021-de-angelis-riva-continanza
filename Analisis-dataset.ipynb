{
 "nbformat": 4,
 "nbformat_minor": 0,
 "metadata": {
  "kernelspec": {
   "display_name": "Python 3",
   "language": "python",
   "name": "python3"
  },
  "language_info": {
   "codemirror_mode": {
    "name": "ipython",
    "version": 3
   },
   "file_extension": ".py",
   "mimetype": "text/x-python",
   "name": "python",
   "nbconvert_exporter": "python",
   "pygments_lexer": "ipython3",
   "version": "3.8.3"
  },
  "colab": {
   "name": "Analisis-dataset.ipynb",
   "provenance": []
  }
 },
 "cells": [
  {
   "cell_type": "markdown",
   "metadata": {
    "id": "BtV018wqyJbV"
   },
   "source": [
    "# Trabajo Práctico - Organización de Datos\n",
    "\n",
    "## Parte 1 - Análisis de datos\n",
    "- Continanza, Nicolás (97576)\n",
    "- De Angelis Riva, Lukas Nahuel  (103784)\n",
    "\n",
    "FIUFIP: Que No Se Escape Nadie (?)\n",
    "A partir de la información recolectada por FIUFIP, queremos hacer un análisis que nos permita inferir qué ciudadanos tienen un alto poder adquisitivo. Para esto, y tomando en cuenta la información con la que contamos y sus limitaciones, creemos que será valioso poder responder las siguientes preguntas, y evaluar si nos aportan información útil:\n",
    "\n",
    "1. ¿Cuántas personas tienen un alto poder adquisitivo en los datos recolectados por la agencia?\n",
    "2. ¿Hay alguna relación entre la edad de las personas encuestadas y su poder adquisitivo?\n",
    "3. ¿Existe un cambio notable en la respuesta a la pregunta anterior si separamos la muestra por género?\n",
    "4. Respondiendo las tres preguntas anteriores podríamos encontrar una relación entre las variables edad y género, y sería interesante saber qué tan similar o disímil es la variable edad entre los tipos de trabajo que realizan. Entonces, ¿Cómo se distribuye la edad de las personas encuestadas según su trabajo?\n",
    "6. ¿Qué se puede decir sobre los tipos de sala más elegidos separando a los encuestados por edad?\n",
    "7.\n",
    "8.\n",
    "Comencemos por importar las bibliotecas a utilizar."
   ]
  },
  {
   "cell_type": "code",
   "metadata": {
    "id": "MYkbXB-QyJcV"
   },
   "source": [
    "# librerías\n",
    "import pandas as pd\n",
    "from matplotlib import pyplot as plt\n",
    "import pylab\n",
    "import seaborn as sns\n",
    "import numpy as np\n",
    "\n",
    "sns.set_style(\"darkgrid\")"
   ],
   "execution_count": 1,
   "outputs": []
  },
  {
   "cell_type": "markdown",
   "source": [
    "Leemos el archivo con el resultado de la encuesta"
   ],
   "metadata": {
    "collapsed": false,
    "pycharm": {
     "name": "#%% md\n"
    }
   }
  },
  {
   "cell_type": "code",
   "metadata": {
    "id": "Z9Opp3kPyJcW",
    "outputId": "f61d1145-0ea4-4a29-9e2d-432fa25e5727"
   },
   "source": [
    "sheet_url = 'https://docs.google.com/spreadsheets/d/1-DWTP8uwVS-dZY402-dm0F9ICw_6PNqDGLmH0u8Eqa0/edit#gid=2054774482'\n",
    "\n",
    "csv_export_url = sheet_url.replace('/edit#gid=', '/export?format=csv&gid=')\n",
    "print(csv_export_url)\n",
    "\n",
    "dataset = pd.read_csv(csv_export_url)"
   ],
   "execution_count": 2,
   "outputs": [
    {
     "name": "stdout",
     "output_type": "stream",
     "text": [
      "https://docs.google.com/spreadsheets/d/1-DWTP8uwVS-dZY402-dm0F9ICw_6PNqDGLmH0u8Eqa0/export?format=csv&gid=2054774482\n"
     ]
    }
   ]
  },
  {
   "cell_type": "markdown",
   "source": [
    "Veamos qué tamaño tiene el dataset y su contenido"
   ],
   "metadata": {
    "collapsed": false,
    "pycharm": {
     "name": "#%% md\n"
    }
   }
  },
  {
   "cell_type": "code",
   "metadata": {
    "id": "0nK592nxyJcf",
    "outputId": "4890c1e7-1444-4f3c-d001-f4467b004b31"
   },
   "source": [
    "dataset.size"
   ],
   "execution_count": 4,
   "outputs": [
    {
     "data": {
      "text/plain": "423293"
     },
     "execution_count": 4,
     "metadata": {},
     "output_type": "execute_result"
    }
   ]
  },
  {
   "cell_type": "code",
   "metadata": {
    "id": "bjQW1QcgyJcg",
    "outputId": "2ae8efe9-0e5f-431d-c83e-5c7f29d5e291"
   },
   "source": [
    "dataset.columns"
   ],
   "execution_count": 5,
   "outputs": [
    {
     "data": {
      "text/plain": "Index(['anios_estudiados', 'barrio', 'categoria_de_trabajo', 'edad',\n       'educacion_alcanzada', 'estado_marital',\n       'ganancia_perdida_declarada_bolsa_argentina', 'genero',\n       'horas_trabajo_registradas', 'religion', 'rol_familiar_registrado',\n       'tiene_alto_valor_adquisitivo', 'trabajo'],\n      dtype='object')"
     },
     "execution_count": 5,
     "metadata": {},
     "output_type": "execute_result"
    }
   ]
  },
  {
   "cell_type": "code",
   "metadata": {
    "id": "Vx-YTdVdyJch",
    "outputId": "aa1554bd-f9c5-4a7b-908c-09df2e376318"
   },
   "source": [
    "dataset.head()"
   ],
   "execution_count": 6,
   "outputs": [
    {
     "data": {
      "text/plain": "   anios_estudiados     barrio     categoria_de_trabajo  edad  \\\n0                17    Palermo      empleado_provincial    39   \n1                17    Palermo            monotibutista    50   \n2                13    Palermo  relacion_de_dependencia    38   \n3                11    Palermo  relacion_de_dependencia    53   \n4                17  Balvanera  relacion_de_dependencia    28   \n\n  educacion_alcanzada    estado_marital  \\\n0  universidad_3_anio    sin_matrimonio   \n1  universidad_3_anio  matrimonio_civil   \n2              4_anio        divorciado   \n3              2_anio  matrimonio_civil   \n4  universidad_3_anio  matrimonio_civil   \n\n   ganancia_perdida_declarada_bolsa_argentina  genero  \\\n0                                        2174  hombre   \n1                                           0  hombre   \n2                                           0  hombre   \n3                                           0  hombre   \n4                                           0   mujer   \n\n   horas_trabajo_registradas      religion rol_familiar_registrado  \\\n0                         40  cristianismo             sin_familia   \n1                         13  cristianismo                  casado   \n2                         40  cristianismo             sin_familia   \n3                         40      judaismo                  casado   \n4                         40      judaismo                  casada   \n\n   tiene_alto_valor_adquisitivo                    trabajo  \n0                             0            entretenimiento  \n1                             0          directivo_gerente  \n2                             0                  limpiador  \n3                             0                  limpiador  \n4                             0  profesional_especializado  ",
      "text/html": "<div>\n<style scoped>\n    .dataframe tbody tr th:only-of-type {\n        vertical-align: middle;\n    }\n\n    .dataframe tbody tr th {\n        vertical-align: top;\n    }\n\n    .dataframe thead th {\n        text-align: right;\n    }\n</style>\n<table border=\"1\" class=\"dataframe\">\n  <thead>\n    <tr style=\"text-align: right;\">\n      <th></th>\n      <th>anios_estudiados</th>\n      <th>barrio</th>\n      <th>categoria_de_trabajo</th>\n      <th>edad</th>\n      <th>educacion_alcanzada</th>\n      <th>estado_marital</th>\n      <th>ganancia_perdida_declarada_bolsa_argentina</th>\n      <th>genero</th>\n      <th>horas_trabajo_registradas</th>\n      <th>religion</th>\n      <th>rol_familiar_registrado</th>\n      <th>tiene_alto_valor_adquisitivo</th>\n      <th>trabajo</th>\n    </tr>\n  </thead>\n  <tbody>\n    <tr>\n      <th>0</th>\n      <td>17</td>\n      <td>Palermo</td>\n      <td>empleado_provincial</td>\n      <td>39</td>\n      <td>universidad_3_anio</td>\n      <td>sin_matrimonio</td>\n      <td>2174</td>\n      <td>hombre</td>\n      <td>40</td>\n      <td>cristianismo</td>\n      <td>sin_familia</td>\n      <td>0</td>\n      <td>entretenimiento</td>\n    </tr>\n    <tr>\n      <th>1</th>\n      <td>17</td>\n      <td>Palermo</td>\n      <td>monotibutista</td>\n      <td>50</td>\n      <td>universidad_3_anio</td>\n      <td>matrimonio_civil</td>\n      <td>0</td>\n      <td>hombre</td>\n      <td>13</td>\n      <td>cristianismo</td>\n      <td>casado</td>\n      <td>0</td>\n      <td>directivo_gerente</td>\n    </tr>\n    <tr>\n      <th>2</th>\n      <td>13</td>\n      <td>Palermo</td>\n      <td>relacion_de_dependencia</td>\n      <td>38</td>\n      <td>4_anio</td>\n      <td>divorciado</td>\n      <td>0</td>\n      <td>hombre</td>\n      <td>40</td>\n      <td>cristianismo</td>\n      <td>sin_familia</td>\n      <td>0</td>\n      <td>limpiador</td>\n    </tr>\n    <tr>\n      <th>3</th>\n      <td>11</td>\n      <td>Palermo</td>\n      <td>relacion_de_dependencia</td>\n      <td>53</td>\n      <td>2_anio</td>\n      <td>matrimonio_civil</td>\n      <td>0</td>\n      <td>hombre</td>\n      <td>40</td>\n      <td>judaismo</td>\n      <td>casado</td>\n      <td>0</td>\n      <td>limpiador</td>\n    </tr>\n    <tr>\n      <th>4</th>\n      <td>17</td>\n      <td>Balvanera</td>\n      <td>relacion_de_dependencia</td>\n      <td>28</td>\n      <td>universidad_3_anio</td>\n      <td>matrimonio_civil</td>\n      <td>0</td>\n      <td>mujer</td>\n      <td>40</td>\n      <td>judaismo</td>\n      <td>casada</td>\n      <td>0</td>\n      <td>profesional_especializado</td>\n    </tr>\n  </tbody>\n</table>\n</div>"
     },
     "execution_count": 6,
     "metadata": {},
     "output_type": "execute_result"
    }
   ]
  },
  {
   "cell_type": "markdown",
   "metadata": {
    "id": "fdIivbqxyJci"
   },
   "source": [
    "### Columnas categóricas"
   ]
  },
  {
   "cell_type": "code",
   "metadata": {
    "id": "spMctAhMyJcj",
    "outputId": "848c4f0a-1599-4bf2-95c2-443afad5005c"
   },
   "source": [
    "dataset['estado_marital'].unique()"
   ],
   "execution_count": 7,
   "outputs": [
    {
     "data": {
      "text/plain": "array(['sin_matrimonio', 'matrimonio_civil', 'divorciado',\n       'pareja_no_presente', 'separado', 'matrimonio_militar', 'viudo_a'],\n      dtype=object)"
     },
     "execution_count": 7,
     "metadata": {},
     "output_type": "execute_result"
    }
   ]
  },
  {
   "cell_type": "code",
   "metadata": {
    "id": "zqFgfMseyJck",
    "outputId": "f95d7a6a-a0b4-405c-b48a-671062313e91"
   },
   "source": [
    "dataset['genero'].unique()"
   ],
   "execution_count": 8,
   "outputs": [
    {
     "data": {
      "text/plain": "array(['hombre', 'mujer'], dtype=object)"
     },
     "execution_count": 8,
     "metadata": {},
     "output_type": "execute_result"
    }
   ]
  },
  {
   "cell_type": "code",
   "metadata": {
    "id": "o_rL4htjyJcl",
    "outputId": "f4aa8cbb-b8c9-4d49-9e47-207a4a6e52e3"
   },
   "source": [
    "dataset['trabajo'].unique()"
   ],
   "execution_count": 9,
   "outputs": [
    {
     "data": {
      "text/plain": "array(['entretenimiento', 'directivo_gerente', 'limpiador',\n       'profesional_especializado', 'otros', 'ventas', 'reparador',\n       'transporte', 'sector_primario', 'inspector', 'soporte_tecnico',\n       nan, 'seguridad', 'ejercito', 'servicio_domestico'], dtype=object)"
     },
     "execution_count": 9,
     "metadata": {},
     "output_type": "execute_result"
    }
   ]
  },
  {
   "cell_type": "markdown",
   "source": [
    "Comencemos por estudiar qué porcentaje de la muestra tomada tiene un poder adquisitivo elevado.\n",
    "Como se trata de una variable binaria y dicotómica, de la que solo nos interesa conocer su tendencia, mostraremos su distribución en un gráfico de torta."
   ],
   "metadata": {
    "collapsed": false,
    "pycharm": {
     "name": "#%% md\n"
    }
   }
  },
  {
   "cell_type": "code",
   "execution_count": 10,
   "outputs": [
    {
     "data": {
      "text/plain": "<AxesSubplot:ylabel='tiene_alto_valor_adquisitivo'>"
     },
     "execution_count": 10,
     "metadata": {},
     "output_type": "execute_result"
    },
    {
     "data": {
      "text/plain": "<Figure size 432x288 with 1 Axes>",
      "image/png": "[encoded data removed]"
     },
     "metadata": {},
     "output_type": "display_data"
    }
   ],
   "source": [
    "dataset['tiene_alto_valor_adquisitivo'].value_counts().plot(kind='pie', autopct='%1.0f%%')"
   ],
   "metadata": {
    "collapsed": false,
    "pycharm": {
     "name": "#%%\n"
    }
   }
  },
  {
   "cell_type": "markdown",
   "source": [
    "Vemos que más de las tres cuartas partes de la muestra no tienen un elevado poder adquisitivo.\n"
   ],
   "metadata": {
    "collapsed": false,
    "pycharm": {
     "name": "#%% md\n"
    }
   }
  },
  {
   "cell_type": "code",
   "metadata": {
    "id": "EWKoSvQqyJcq",
    "outputId": "0d5d67cf-1e58-4574-ceca-2ba4b74ba6c4"
   },
   "source": [
    "dataset.describe()"
   ],
   "execution_count": 11,
   "outputs": [
    {
     "data": {
      "text/plain": "       anios_estudiados          edad  \\\ncount      32561.000000  32561.000000   \nmean          14.053868     38.581647   \nstd            2.664488     13.640433   \nmin            1.000000     17.000000   \n25%           13.000000     28.000000   \n50%           14.000000     37.000000   \n75%           16.000000     48.000000   \nmax           20.000000     90.000000   \n\n       ganancia_perdida_declarada_bolsa_argentina  horas_trabajo_registradas  \\\ncount                                32561.000000               32561.000000   \nmean                                   990.345014                  40.437456   \nstd                                   7408.986951                  12.347429   \nmin                                  -4356.000000                   1.000000   \n25%                                      0.000000                  40.000000   \n50%                                      0.000000                  40.000000   \n75%                                      0.000000                  45.000000   \nmax                                  99999.000000                  99.000000   \n\n       tiene_alto_valor_adquisitivo  \ncount                  32561.000000  \nmean                       0.240810  \nstd                        0.427581  \nmin                        0.000000  \n25%                        0.000000  \n50%                        0.000000  \n75%                        0.000000  \nmax                        1.000000  ",
      "text/html": "<div>\n<style scoped>\n    .dataframe tbody tr th:only-of-type {\n        vertical-align: middle;\n    }\n\n    .dataframe tbody tr th {\n        vertical-align: top;\n    }\n\n    .dataframe thead th {\n        text-align: right;\n    }\n</style>\n<table border=\"1\" class=\"dataframe\">\n  <thead>\n    <tr style=\"text-align: right;\">\n      <th></th>\n      <th>anios_estudiados</th>\n      <th>edad</th>\n      <th>ganancia_perdida_declarada_bolsa_argentina</th>\n      <th>horas_trabajo_registradas</th>\n      <th>tiene_alto_valor_adquisitivo</th>\n    </tr>\n  </thead>\n  <tbody>\n    <tr>\n      <th>count</th>\n      <td>32561.000000</td>\n      <td>32561.000000</td>\n      <td>32561.000000</td>\n      <td>32561.000000</td>\n      <td>32561.000000</td>\n    </tr>\n    <tr>\n      <th>mean</th>\n      <td>14.053868</td>\n      <td>38.581647</td>\n      <td>990.345014</td>\n      <td>40.437456</td>\n      <td>0.240810</td>\n    </tr>\n    <tr>\n      <th>std</th>\n      <td>2.664488</td>\n      <td>13.640433</td>\n      <td>7408.986951</td>\n      <td>12.347429</td>\n      <td>0.427581</td>\n    </tr>\n    <tr>\n      <th>min</th>\n      <td>1.000000</td>\n      <td>17.000000</td>\n      <td>-4356.000000</td>\n      <td>1.000000</td>\n      <td>0.000000</td>\n    </tr>\n    <tr>\n      <th>25%</th>\n      <td>13.000000</td>\n      <td>28.000000</td>\n      <td>0.000000</td>\n      <td>40.000000</td>\n      <td>0.000000</td>\n    </tr>\n    <tr>\n      <th>50%</th>\n      <td>14.000000</td>\n      <td>37.000000</td>\n      <td>0.000000</td>\n      <td>40.000000</td>\n      <td>0.000000</td>\n    </tr>\n    <tr>\n      <th>75%</th>\n      <td>16.000000</td>\n      <td>48.000000</td>\n      <td>0.000000</td>\n      <td>45.000000</td>\n      <td>0.000000</td>\n    </tr>\n    <tr>\n      <th>max</th>\n      <td>20.000000</td>\n      <td>90.000000</td>\n      <td>99999.000000</td>\n      <td>99.000000</td>\n      <td>1.000000</td>\n    </tr>\n  </tbody>\n</table>\n</div>"
     },
     "execution_count": 11,
     "metadata": {},
     "output_type": "execute_result"
    }
   ]
  },
  {
   "cell_type": "markdown",
   "metadata": {
    "id": "kIlbjv9SyJcr"
   },
   "source": [
    "### Edades"
   ]
  },
  {
   "cell_type": "code",
   "metadata": {
    "id": "MfyD_4zByJcr",
    "outputId": "69723ac6-d576-4c9a-b509-9c92c729d3a6"
   },
   "source": [
    "dataset['edad'].value_counts().sort_values(\n",
    "    ascending=False\n",
    ").plot(kind='bar')"
   ],
   "execution_count": 12,
   "outputs": [
    {
     "data": {
      "text/plain": "<AxesSubplot:>"
     },
     "execution_count": 12,
     "metadata": {},
     "output_type": "execute_result"
    },
    {
     "data": {
      "text/plain": "<Figure size 432x288 with 1 Axes>",
      "image/png": "[encoded data removed]"
     },
     "metadata": {
      "needs_background": "light"
     },
     "output_type": "display_data"
    }
   ]
  },
  {
   "cell_type": "markdown",
   "metadata": {
    "id": "_sgGEV_1yJcs"
   },
   "source": [
    "## Barrios"
   ]
  },
  {
   "cell_type": "code",
   "metadata": {
    "id": "DSdMeurlyJcs",
    "outputId": "9242264e-db09-448c-db42-9d19f37cd122"
   },
   "source": [
    "dataset.groupby('barrio')['tiene_alto_valor_adquisitivo'].value_counts()\n",
    "\n"
   ],
   "execution_count": 13,
   "outputs": [
    {
     "data": {
      "text/plain": "barrio         tiene_alto_valor_adquisitivo\nAgronomia      0                               97\n               1                                9\nAlmagro        0                               60\n               1                               40\nBalvanera      0                               70\n                                               ..\nVilla Soldati  1                                2\nVilla Urquiza  0                               93\n               1                               44\nnuñez          0                               32\n               1                                2\nName: tiene_alto_valor_adquisitivo, Length: 80, dtype: int64"
     },
     "execution_count": 13,
     "metadata": {},
     "output_type": "execute_result"
    }
   ]
  },
  {
   "cell_type": "code",
   "metadata": {
    "id": "7t6dV6ZyyJct"
   },
   "source": [
    ""
   ],
   "execution_count": 13,
   "outputs": []
  },
  {
   "cell_type": "code",
   "metadata": {
    "id": "j1bkPKTFyJct",
    "outputId": "f592cbad-0a74-488d-eda1-170ccb6c2634"
   },
   "source": [
    ""
   ],
   "execution_count": 13,
   "outputs": []
  },
  {
   "cell_type": "code",
   "metadata": {
    "id": "7Vg758PtyJcu"
   },
   "source": [
    ""
   ],
   "execution_count": 13,
   "outputs": []
  }
 ]
}
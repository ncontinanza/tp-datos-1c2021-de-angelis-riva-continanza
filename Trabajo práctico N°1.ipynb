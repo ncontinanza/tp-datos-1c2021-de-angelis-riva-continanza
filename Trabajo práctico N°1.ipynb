{
 "cells": [
  {
   "cell_type": "markdown",
   "metadata": {},
   "source": [
    "# Trabajo práctico N°1: FIUFIP"
   ]
  },
  {
   "cell_type": "markdown",
   "metadata": {},
   "source": [
    "## Parte 1 - Análisis de datos\n",
    "- Continanza, Nicolás (97576)\n",
    "- De Angelis Riva, Lukas Nahuel  (103784)\n",
    "\n",
    "#### FIUFIP: Que No Se Escape Nadie (?)\n",
    "\n",
    "A partir de la información recolectada por FIUFIP, queremos hacer un análisis que nos permita inferir qué ciudadanos tienen un alto poder adquisitivo. Para esto, y tomando en cuenta la información con la que contamos y sus limitaciones, creemos que será valioso poder responder las siguientes preguntas, y evaluar si nos aportan información útil:\n",
    "\n",
    "1. ¿Cuántas personas tienen un alto poder adquisitivo en los datos recolectados por la agencia?\n",
    "2. ¿Cómo se relaciona cada una de las variables del dataset con el poder adquisitivo de las personas presentes en la muestra?\n",
    "3. ¿Qué variables deberíamos tener en cuenta para clasificar a las personas muestreadas según su poder adquisitivo?"
   ]
  },
  {
   "cell_type": "markdown",
   "metadata": {},
   "source": [
    "## Bibliotecas"
   ]
  },
  {
   "cell_type": "markdown",
   "metadata": {},
   "source": [
    "Comencemos por importar las bibliotecas a utilizar."
   ]
  },
  {
   "cell_type": "code",
   "execution_count": null,
   "metadata": {},
   "outputs": [],
   "source": [
    "import pandas as pd\n",
    "\n",
    "from matplotlib import pyplot as plt\n",
    "import matplotlib.patches as mpatches\n",
    "import matplotlib\n",
    "\n",
    "import seaborn as sns\n",
    "sns.set()\n",
    "\n",
    "import squarify\n",
    "\n",
    "import numpy as np\n",
    "\n",
    "import functools\n",
    "import operator"
   ]
  },
  {
   "cell_type": "code",
   "execution_count": null,
   "metadata": {},
   "outputs": [],
   "source": [
    "def get_data():\n",
    "    GSPREADHSEET_DOWNLOAD_URL = (\n",
    "        \"https://docs.google.com/spreadsheets/d/{gid}/export?format=csv&id={gid}\".format\n",
    "    )\n",
    "    TP_GID = '1-DWTP8uwVS-dZY402-dm0F9ICw_6PNqDGLmH0u8Eqa0'\n",
    "    df = pd.read_csv(GSPREADHSEET_DOWNLOAD_URL(gid=TP_GID))\n",
    "    return df    "
   ]
  },
  {
   "cell_type": "code",
   "execution_count": null,
   "metadata": {},
   "outputs": [],
   "source": [
    "df = get_data()"
   ]
  },
  {
   "cell_type": "markdown",
   "metadata": {},
   "source": [
    "## Feature Engineering"
   ]
  },
  {
   "cell_type": "markdown",
   "metadata": {},
   "source": [
    "Antes de comenzar el análisis exploratorio de los datos, estudiemos las características del dataset y analicemos si podemos hacer algunas mejoras para facilitar el trabajo."
   ]
  },
  {
   "cell_type": "markdown",
   "metadata": {},
   "source": [
    "### Missing Values"
   ]
  },
  {
   "cell_type": "markdown",
   "metadata": {},
   "source": [
    "Comencemos por ver qué variables presentan valores nulos."
   ]
  },
  {
   "cell_type": "code",
   "execution_count": null,
   "metadata": {},
   "outputs": [],
   "source": [
    "df.isna().any()"
   ]
  },
  {
   "cell_type": "markdown",
   "metadata": {},
   "source": [
    "Vemos que los únicos missing values se dan en las columnas: `barrio`, `categoría_de_trabajo` y `trabajo`.\n",
    "\n",
    "Analicemos ahora la cantidad de personas cuyo barrio desconocemos."
   ]
  },
  {
   "cell_type": "code",
   "execution_count": null,
   "metadata": {},
   "outputs": [],
   "source": [
    "df['barrio'].notnull().apply(lambda x: 'Con barrio' if x else 'Sin barrio').value_counts().plot(\n",
    "    kind='pie', autopct='%1.0f%%', colors=['#cc79a7', '#f0e442'], title = \"Proporción missings en barrio\")"
   ]
  },
  {
   "cell_type": "markdown",
   "metadata": {},
   "source": [
    "Se trata de un 2% del dataset, un valor que consideramos lo suficientemente grande como para no descartarlo."
   ]
  },
  {
   "cell_type": "markdown",
   "metadata": {},
   "source": [
    "Veamos si hay grandes diferencias de poder adquisitivo entre las personas que no indicaron su barrio y las que si."
   ]
  },
  {
   "cell_type": "code",
   "execution_count": null,
   "metadata": {},
   "outputs": [],
   "source": [
    "df_test_barrio = df[['barrio', 'tiene_alto_valor_adquisitivo']].copy()\n",
    "df_test_barrio['tiene_barrio'] = df_test_barrio['barrio'].isna().apply(lambda x: 'No' if x else 'Sí')\n",
    "del df_test_barrio['barrio']\n",
    "\n",
    "plt.figure(dpi=150)\n",
    "ax = sns.barplot(data=df_test_barrio, x='tiene_barrio', y='tiene_alto_valor_adquisitivo', palette='rainbow')\n",
    "\n",
    "plt.ylabel(\"Tiene alto valor adquisitivo\")\n",
    "plt.xlabel(\"Tiene barrio\")\n",
    "plt.title('Diferencia de poder adquisitivo entre gente con barrio y gente sin barrio')\n",
    "plt.show()"
   ]
  },
  {
   "cell_type": "markdown",
   "metadata": {},
   "source": [
    "Vemos que, a priori, haber informado el barrio o no haberlo hecho no tiene un impacto significativo sobre la variable objetivo. Por lo tanto, rellenaremos esos valores faltantes asignando aleatoriamente un barrio, considerando la distribución de los mismos en la muestra que estamos analizando."
   ]
  },
  {
   "cell_type": "code",
   "execution_count": null,
   "metadata": {},
   "outputs": [],
   "source": [
    "data_set_mejorado = df.copy()\n",
    "barrios = df['barrio'].dropna()\n",
    "cantidad = df['barrio'].isna().value_counts()[True]\n",
    "muestra = barrios.sample(cantidad, random_state=23)\n",
    "it = iter(muestra)\n",
    "data_set_mejorado['barrio'] = data_set_mejorado['barrio'].apply(lambda x: next(it) if str(x) == 'nan' else x)"
   ]
  },
  {
   "cell_type": "markdown",
   "metadata": {},
   "source": [
    "De forma similar, analizaremos la variable `categoria_de_trabajo`."
   ]
  },
  {
   "cell_type": "code",
   "execution_count": null,
   "metadata": {},
   "outputs": [],
   "source": [
    "df['categoria_de_trabajo'].notnull().apply(lambda x: 'Respondió' if x else 'No respondió').value_counts().plot(\n",
    "    kind='pie', autopct='%1.0f%%', colors=['#cc79a7', '#f0e442']\n",
    ")"
   ]
  },
  {
   "cell_type": "markdown",
   "metadata": {},
   "source": [
    "Nuevamente estamos frente a un caso donde no podemos despreciar aquellas muestras que no informen su categoría de trabajo."
   ]
  },
  {
   "cell_type": "code",
   "execution_count": null,
   "metadata": {},
   "outputs": [],
   "source": [
    "df_test_categoria = df[['categoria_de_trabajo', 'tiene_alto_valor_adquisitivo']].copy()\n",
    "df_test_categoria['tiene_categoria'] = df_test_categoria['categoria_de_trabajo'].isna().apply(lambda x: 'No' if x else 'Sí')\n",
    "del df_test_categoria['categoria_de_trabajo']\n",
    "\n",
    "plt.figure(dpi=150)\n",
    "ax = sns.barplot(data=df_test_categoria, x='tiene_categoria', y='tiene_alto_valor_adquisitivo', palette='rainbow')\n",
    "\n",
    "plt.ylabel(\"Tiene alto valor adquisitivo\")\n",
    "plt.xlabel(\"Tiene categoría de trabajo\")\n",
    "plt.title('Diferencia de poder adquisitivo entre gente con categoría de trabajo y gente sin categoría de trabajo')\n",
    "plt.show()"
   ]
  },
  {
   "cell_type": "markdown",
   "metadata": {},
   "source": [
    "Aquí ya se puede ver información interesante: la gente que no responde su categoría de trabajo, en general tiene menor valor adquisitivo.\n",
    "\n",
    "Veamos ahora la relación entre valores nulos en `trabajo` y valores nulos en `categoría_de_trabajo`."
   ]
  },
  {
   "cell_type": "code",
   "execution_count": null,
   "metadata": {},
   "outputs": [],
   "source": [
    "df[['categoria_de_trabajo', 'trabajo']].isna().apply(lambda column: column.value_counts()[True])"
   ]
  },
  {
   "cell_type": "markdown",
   "metadata": {},
   "source": [
    "Hay una diferencia de 7 entradas, que serán las siguientes:"
   ]
  },
  {
   "cell_type": "code",
   "execution_count": null,
   "metadata": {},
   "outputs": [],
   "source": [
    "df[df['categoria_de_trabajo'].notnull() & df['trabajo'].isna()]"
   ]
  },
  {
   "cell_type": "markdown",
   "metadata": {},
   "source": [
    "Esto quiere decir que tener un valor NA en `categoria_de_trabajo` se corresponde con tener un valor NA  en `trabajo`, y si hay un NA en trabajo, salvo por estos últimos 7 casos, habrá un NA en `categoria_de_trabajo`.\n",
    "\n",
    "En base a esto, vamos a crear una nueva categoría llamada \"sin_categoria\", para todas aquellas personas que tengan valor nulo en `categoria_de_trabajo`, y otra llamada \"no_responde\" para quienes tengan valor nulo en `trabajo`."
   ]
  },
  {
   "cell_type": "code",
   "execution_count": null,
   "metadata": {},
   "outputs": [],
   "source": [
    "data_set_mejorado['categoria_de_trabajo'] = data_set_mejorado['categoria_de_trabajo'].apply(lambda x: 'Sin categoria' if str(x) == 'nan' else x)"
   ]
  },
  {
   "cell_type": "code",
   "execution_count": null,
   "metadata": {},
   "outputs": [],
   "source": [
    "data_set_mejorado['trabajo'] = data_set_mejorado['trabajo'].apply(lambda x: 'No responde' if str(x) == 'nan' else x)"
   ]
  },
  {
   "cell_type": "code",
   "execution_count": null,
   "metadata": {},
   "outputs": [],
   "source": [
    "data_set_mejorado = data_set_mejorado[data_set_mejorado.categoria_de_trabajo != 'sin_trabajo']"
   ]
  },
  {
   "cell_type": "markdown",
   "metadata": {},
   "source": [
    "A continuación estudiaremos si `educacion_alcanzada` tiene una relación fuerte con la columna `anios_estudiados`"
   ]
  },
  {
   "cell_type": "code",
   "execution_count": null,
   "metadata": {},
   "outputs": [],
   "source": [
    "df[['anios_estudiados', 'educacion_alcanzada']].groupby('educacion_alcanzada').aggregate(set)"
   ]
  },
  {
   "cell_type": "markdown",
   "metadata": {},
   "source": [
    "Como esperábamos, la columna `educacion_alcanzada` posee la misma información que `anios_estudiados`.\n",
    "\n",
    "Una interpretacion de esto es que la gente que esta cargada en este set de datos nunca repitió un año escolar ni se atrasó en la carrera universitaria.\n",
    "\n",
    "Proponemos eliminar la columna `educacion_alcanzada`, ya que es una variable categórica (más difícil de manipular) con un orden impuesto directamente por la columna `anios_estudiados`."
   ]
  },
  {
   "cell_type": "code",
   "execution_count": null,
   "metadata": {},
   "outputs": [],
   "source": [
    "del data_set_mejorado['educacion_alcanzada']"
   ]
  },
  {
   "cell_type": "markdown",
   "metadata": {},
   "source": [
    "Para finalizar, notemos que en la columna `rol_familiar_registrado` las personas solteras están identificadas con el valor \"soltero_a\", y no hay una distinción por género de la persona. Por el contrario, las personas casadas pueden tener valor \"casado\" o \"casada\" según su género. Dado que tenemos la posibilidad de conocer el género de la persona gracias a la columna `genero`, podemos unificar y quedarnos con un solo valor."
   ]
  },
  {
   "cell_type": "code",
   "execution_count": null,
   "metadata": {},
   "outputs": [],
   "source": [
    "data_set_mejorado['rol_familiar_registrado'] = data_set_mejorado['rol_familiar_registrado'].apply(lambda x : 'casado' if x == 'casada' else x)"
   ]
  },
  {
   "cell_type": "markdown",
   "metadata": {},
   "source": [
    "A continuación, una función que encapsula todo el trabajo realizado sobre el dataset inicial."
   ]
  },
  {
   "cell_type": "code",
   "execution_count": null,
   "metadata": {},
   "outputs": [],
   "source": [
    "def feature_engineering(df):\n",
    "    # Missings en barrio\n",
    "    data_set_mejorado = df.copy()\n",
    "    barrios = df['barrio'].dropna()\n",
    "    cantidad = df['barrio'].isna().value_counts()[True]\n",
    "    muestra = barrios.sample(cantidad)\n",
    "    it = iter(muestra)\n",
    "    data_set_mejorado['barrio'] = data_set_mejorado['barrio'].apply(lambda x: next(it) if str(x) == 'nan' else x)\n",
    "\n",
    "    # Missings en categoría de trabajo\n",
    "    data_set_mejorado['categoria_de_trabajo'] = data_set_mejorado['categoria_de_trabajo'].apply(lambda x: 'Sin categoria' if str(x) == 'nan' else x)\n",
    "\n",
    "    # Missings en trabajo\n",
    "    data_set_mejorado['trabajo'] = data_set_mejorado['trabajo'].apply(lambda x: 'No responde' if str(x) == 'nan' else x)\n",
    "\n",
    "    # Eliminación de categoría \"sin trabajo\"\n",
    "    data_set_mejorado = data_set_mejorado[data_set_mejorado.categoria_de_trabajo != 'sin_trabajo']\n",
    "\n",
    "    # Eliminación de el atributo eduación alcanzada\n",
    "    del data_set_mejorado['educacion_alcanzada']\n",
    "\n",
    "    # Juntamos casado y casada en una misma categoría.\n",
    "    data_set_mejorado['rol_familiar_registrado'] = data_set_mejorado['rol_familiar_registrado'].apply(lambda x : 'casado' if x == 'casada' else x)\n",
    "    \n",
    "    return data_set_mejorado"
   ]
  },
  {
   "cell_type": "markdown",
   "metadata": {},
   "source": [
    "## Análisis Exploratorio"
   ]
  },
  {
   "cell_type": "markdown",
   "metadata": {},
   "source": [
    "Con lo anterior, obtenemos los datos, aplicamos la función de feature engineering y comenzamos con el análisis exploratorio para clasificar a las personas muestreadas."
   ]
  },
  {
   "cell_type": "code",
   "execution_count": null,
   "metadata": {},
   "outputs": [],
   "source": [
    "df = get_data()\n",
    "df = feature_engineering(df)"
   ]
  },
  {
   "cell_type": "markdown",
   "metadata": {},
   "source": [
    "Nuestra variable objetivo será `tiene_alto_valor_adquisitivo` una variable que puede tomar valores 0 ó 1.\n",
    "\n",
    "Veamos cómo se distribuye el valor de esta variable entre los individuos de la muestra que vamos a analizar. Por tratarse de una variable dicotómica de la que solo nos interesa conocer su distribución, podemos usar un gráfico de torta."
   ]
  },
  {
   "cell_type": "code",
   "execution_count": null,
   "metadata": {},
   "outputs": [],
   "source": [
    "plt.figure(dpi=100)\n",
    "df[\"tiene_alto_valor_adquisitivo\"].apply(lambda x: 'Sí' if x==1 else 'No').value_counts().plot(\n",
    "    kind='pie', autopct='%1.0f%%', colors=['#cc79a7', '#f0e442']\n",
    ")\n",
    "plt.title('¿Tiene alto valor adquisitivo?')\n",
    "plt.ylabel(\"\")\n",
    "plt.show()"
   ]
  },
  {
   "cell_type": "markdown",
   "metadata": {},
   "source": [
    "Como podemos observar, cerca de las tres cuartas partes de las personas muestreadas tienen un bajo poder adquisitivo. \n",
    "\n",
    "Para continuar el análisis, vamos a ver cómo se relaciona (si es que lo hacen) cada columna del dataset con la variable objetivo"
   ]
  },
  {
   "cell_type": "code",
   "execution_count": null,
   "metadata": {
    "scrolled": true
   },
   "outputs": [],
   "source": [
    "df.columns"
   ]
  },
  {
   "cell_type": "markdown",
   "metadata": {},
   "source": [
    "### Edad\n",
    "\n",
    "#### ¿Hay una relación entre la edad y el valor adquisitivo?\n",
    "Para intentar responder esta pregunta, agruparemos a los individuos muestreados por su edad, y estudiaremos cuántas personas de cada grupo etario tienen alto o bajo poder adquisitivo.\n",
    "\n",
    "Para facilitar el análisis y la visualización de los resultados, dichos grupos etarios serán bins de 10 años."
   ]
  },
  {
   "cell_type": "code",
   "execution_count": null,
   "metadata": {},
   "outputs": [],
   "source": [
    "df_tmp = df[['edad', 'tiene_alto_valor_adquisitivo']].copy()\n",
    "df_tmp['rango_etario'] = pd.cut(df_tmp.edad, range(10, int(df_tmp['edad'].max()) + 10, 10))\n",
    "\n",
    "# Configuro el grafico, armo el countplot y setteo labels varios\n",
    "fig, (ax1, ax2) = plt.subplots(nrows=2, ncols=1, dpi=150, figsize=(5.8 * 2, 4 * 2))\n",
    "sns.countplot(\n",
    "    data = df_tmp,\n",
    "    x = 'rango_etario',\n",
    "    hue='tiene_alto_valor_adquisitivo',\n",
    "    ax = ax1,\n",
    "    palette = ['#cc79a7', '#f0e442']\n",
    ").set(xticklabels=[])\n",
    "\n",
    "total = df_tmp.groupby('rango_etario')['tiene_alto_valor_adquisitivo'].count().reset_index()\n",
    "df_tmp_1 = df_tmp[df_tmp['tiene_alto_valor_adquisitivo']==1].groupby('rango_etario')['tiene_alto_valor_adquisitivo'].count().reset_index()\n",
    "df_tmp_1['tiene_alto_valor_adquisitivo'] = [i / j * 100 for i,j in zip(df_tmp_1['tiene_alto_valor_adquisitivo'], total['tiene_alto_valor_adquisitivo'])]\n",
    "total['tiene_alto_valor_adquisitivo'] = [i / j * 100 for i,j in zip(total['tiene_alto_valor_adquisitivo'], total['tiene_alto_valor_adquisitivo'])]\n",
    "\n",
    "bar1 = sns.barplot(x=\"rango_etario\",  y=\"tiene_alto_valor_adquisitivo\", data=total, color='#cc79a7', ax=ax2)\n",
    "bar2 = sns.barplot(x=\"rango_etario\", y=\"tiene_alto_valor_adquisitivo\", data=df_tmp_1, color='#f0e442', ax=ax2)\n",
    "\n",
    "top_bar = mpatches.Patch(color='#ff6961')\n",
    "bottom_bar = mpatches.Patch(color='#77dd77')\n",
    "\n",
    "ax1.set_title('Personas con alto poder adquisitivo segun rango etario')\n",
    "ax1.set_xlabel('')\n",
    "ax1.set_ylabel('Cantidad')\n",
    "ax1.legend(['No tiene alto VA', 'Tiene alto VA'], loc='upper right')\n",
    "\n",
    "ax2.set_xlabel('Rango etario')\n",
    "ax2.set_ylabel('% Tiene alto valor adquisitivo')\n",
    "\n",
    "\n",
    "plt.show()"
   ]
  },
  {
   "cell_type": "markdown",
   "metadata": {},
   "source": [
    "Como podemos ver, es más probable encontrar personas de alto poder adquisitivo entre aquellas que están entre los 30 y 70 años de edad. Mucho menos probable es que esto ocurra para personas de entre 20 y 30 años o más de 70 años, y no ocurrirá para personas menores de 20. Cabe notar que de 70 años en adelante son muy pocas las muestras tomadas.\n",
    "\n",
    "Por lo que podemos comprobar que efectivamente la edad del encuestado influye sobre la variable objetivo."
   ]
  },
  {
   "cell_type": "markdown",
   "metadata": {},
   "source": [
    "### Acción en la bolsa"
   ]
  },
  {
   "cell_type": "markdown",
   "metadata": {},
   "source": [
    "#### ¿Hay una relación entre invertir en la bolsa y el valor adquisitivo?\n",
    "Para responder esta pregunta graficaremos la cantidad de gente que accionó en bolsa y la proporción de ellos que poseen un alto poder adquisitivo. Para segmentar a los individuos de la población que estamos estudiando, consideraremos cuatro grupos: por un lado, aquellos que no declararon operaciones en la bolsa argentina, que son aquellos cuyo valor es 0 en esta columna del dataset. Por otro lado, aquellos que informaron pérdidas, identificados por un número menor a 0 en esta columna. Y, entre quienes tienen un valor positivo, consideraremos \"Mucha ganancia\" a los valores mayores a 7000 y \"Ganancia\" al resto."
   ]
  },
  {
   "cell_type": "code",
   "execution_count": null,
   "metadata": {},
   "outputs": [],
   "source": [
    "def designar_accion(x):\n",
    "    if(x > 7000):\n",
    "        return \"Mucha ganancia\\n(>7000)\"\n",
    "    elif(x > 0):\n",
    "        return \"Ganancia\"\n",
    "    elif(x == 0):\n",
    "        return \"Nada\"\n",
    "    else:\n",
    "        return \"Perdida\""
   ]
  },
  {
   "cell_type": "code",
   "execution_count": null,
   "metadata": {},
   "outputs": [],
   "source": [
    "df_tmp = df[['ganancia_perdida_declarada_bolsa_argentina', 'tiene_alto_valor_adquisitivo']].copy()\n",
    "df_tmp['bolsa'] = df['ganancia_perdida_declarada_bolsa_argentina'].apply(designar_accion)\n",
    "del df_tmp['ganancia_perdida_declarada_bolsa_argentina']\n",
    "fig, (ax1, ax2) = plt.subplots(nrows=1, ncols=2, dpi=150, figsize=(7.5 * 2, 4.8))\n",
    "color_nada = '#B5B5F5'\n",
    "color_perdida = '#98F585' \n",
    "color_MGanancia = '#FA9C8F'\n",
    "color_ganancia = '#A7F5DA'\n",
    "labels = df_tmp['bolsa'].value_counts().keys()\n",
    "ax1.pie(\n",
    "    x=df_tmp['bolsa'].value_counts(),\n",
    "    explode=[0.05]*4,\n",
    "    labels=labels,\n",
    "    pctdistance=0.5,\n",
    "    colors = [color_nada, color_perdida, color_MGanancia, color_ganancia]\n",
    ")\n",
    "ax1.set_title(\"Proporción del total según acción en bolsa\", fontsize=14);\n",
    "sns.barplot(\n",
    "    data=df_tmp,\n",
    "    x='bolsa',\n",
    "    y='tiene_alto_valor_adquisitivo',\n",
    "    ax=ax2,\n",
    "    estimator=lambda x: np.mean(x)*100.0,\n",
    "    order = ['Mucha ganancia\\n(>7000)', 'Ganancia', 'Nada', 'Perdida'],\n",
    "    palette = [color_MGanancia, color_ganancia, color_nada, color_perdida]\n",
    ")\n",
    "ax2.set_ylabel(\"% Tiene alto valor adquisitivo\")\n",
    "ax2.set_xlabel(\"Declaración de acciones en la bolsa\")\n",
    "ax2.set_title('Relación entre las acciones en la bolsa y el poder adquisitivo')\n",
    "prom = df['tiene_alto_valor_adquisitivo'].mean()*100.0\n",
    "ax2.axhline(prom, color=\"darkred\", label=\"Promedio de personas con alto VA\")\n",
    "ax2.legend()\n",
    "plt.show()"
   ]
  },
  {
   "cell_type": "markdown",
   "metadata": {},
   "source": [
    "Parece haber una relación bastante marcada con la gente que declaró un balance neto 0 en acciones de la bolsa y su poder adquisitivo, donde cerca del 80% de estas personas tienen un poder adquisitivo bajo. Lo cual no nos brinda suficiente información pues sabemos que cerca del 76% de las personas no tienen poder adquisitivo alto, es decir, la información es la misma.\n",
    "\n",
    "Una proporción mucho más destacada se ve entre las personas que declararon una ganancia menor a \\$7000. Siendo que aproximadamente el total de gente que consiguió dicho monto posee poder adquisitivo alto.\n",
    "\n",
    "También vemos que alrededor de la mitad de las personas que declararon un balance negativo en la bolsa tienen poder adquisitivo alto. Lo cual nos sorpredió un poco, ya que esperabamos que la gente que perdía dinero tenga en general menos poder adqusitivo.\n",
    "Una posible explicación a este suceso es que, por más que la gente perdió en la bolsa, están accionado. De todas formas como desconocemos el intervalo de tiempo para el que la muestra fue realizada (es decir, si es por día, semana, mes, anual, década, etc) no podemos inferir sobre las previas acciones en bolsa del mismo grupo de personas.\n",
    "\n",
    "Un dato que nos sorprendió es que la gente que accionó en bolsa, pero sin embargo no ganó mucho dinero en ella, no tiene poder adquisitivo alto, a diferencia de las personas que tienen pérdidas cuya proporción es casi el doble.\n",
    "Podríamos atribuir esta característica a los tipos de acciones que realizan estos individuos, ya que, es esperable que las personas que accionan sobre activos más riesgosos obtengan mayor beneficio a costa del riesgo, mientras que aquellas personas que accionan sobre activos seguros su ganancia será despreciable frente al resto.\n",
    "\n",
    "\n",
    "Finalmente, concluimos que hay una clara relación entre la declaración de ganancias superiores a \\$7000 y el poder adquisitivo de las personas que lo hicieron, donde casi la totalidad de ellas tienen un poder adquisitivo algo."
   ]
  },
  {
   "cell_type": "markdown",
   "metadata": {},
   "source": [
    "### Barrio\n",
    "\n",
    "#### ¿Hay una relación entre el barrio y el valor adquisitivo?\n",
    "Veamos la distribución de las ciudades y cómo esta afecta al poder adquisitivo. Consideraremos estadísticamente significativos aquellos barrios de los que se hayan tomado al menos 100 muestras."
   ]
  },
  {
   "cell_type": "code",
   "execution_count": null,
   "metadata": {},
   "outputs": [],
   "source": [
    "fig, (ax2, ax1) = plt.subplots(nrows=1, ncols=2, dpi=300, figsize=(7.5 * 2, 4.8))\n",
    "\n",
    "cant_min = 100\n",
    "tabla = df['barrio'].value_counts()\n",
    "barrios_significativos = tabla[tabla > cant_min].reset_index()['index'].unique()\n",
    "df_tmp = df[['barrio', 'tiene_alto_valor_adquisitivo']].copy()\n",
    "df_tmp['barrio'] = df_tmp['barrio'].apply(lambda x: x if x in barrios_significativos else 'Otro')\n",
    "\n",
    "\n",
    "paleta=sns.color_palette(\"deep\")\n",
    "\n",
    "barrios = df_tmp['barrio'].value_counts()\n",
    "squarify.plot(barrios, label=barrios.keys(), alpha=0.75,color=paleta,  text_kwargs={'fontsize':7}, norm_x=1, norm_y=3, ax=ax1)\n",
    "ax1.axis('off')\n",
    "\n",
    "orden = df_tmp.groupby(['barrio'])['tiene_alto_valor_adquisitivo'].aggregate(lambda x : len(x)).reset_index().sort_values('tiene_alto_valor_adquisitivo', ascending = False)\n",
    "sns.barplot(\n",
    "    data=df_tmp,\n",
    "    palette=paleta,\n",
    "    x='barrio',\n",
    "    y='tiene_alto_valor_adquisitivo',\n",
    "    order=orden['barrio'],\n",
    "    ax=ax2,\n",
    "    estimator=lambda x: np.mean(x)*100.0\n",
    ")\n",
    "\n",
    "ax1.set_title(\"Proporción de personas registradas según barrio\")\n",
    "ax1.set_xlabel(\"Significancia mínima: 100 muestras\")\n",
    "\n",
    "ax2.set_ylabel(\"% Tiene alto valor adquisitivo\")\n",
    "ax2.set_xlabel(\"Barrio\")\n",
    "ax2.set_xticklabels(ax2.get_xticklabels(), rotation=90)\n",
    "ax2.set_title('Relación entre barrio y poder adquisitivo')\n",
    "prom = df['tiene_alto_valor_adquisitivo'].mean()*100.0\n",
    "ax2.axhline(prom, color=\"red\", label=\"Promedio de personas con alto VA\")\n",
    "ax2.legend()\n",
    "\n",
    "plt.show()"
   ]
  },
  {
   "cell_type": "markdown",
   "metadata": {},
   "source": [
    "Aquí vemos que no hay una tendencia clara que nos permita segmentar a las personas según el barrio en el que viven y a partir de eso inferir si su poder adquisitivo es alto o bajo. Además, vemos que una enorme cantidad de las muestras que estamos analizando provienen del barrio de Palermo, lo que introduciría un sesgo muy fuerte si tomáramos decisiones teniendo en cuenta esta columna. Podríamos, por ejemplo, decir que las personas que viven en Belgrano y en Agronomía tienen una alta probabilidad de tener bajo poder adquisitivo, pero eso nos llevaría al overfitting en nuestro modelo, pues consideramos que no hay suficiente significancia estadística."
   ]
  },
  {
   "cell_type": "markdown",
   "metadata": {},
   "source": [
    "### Años estudiados\n",
    "\n",
    "#### ¿Hay una relación entre la cantidad de años estudiados y el valor adquisitivo?\n",
    "A priori es de esperar que a mayores estudios alcanzados mayores proporciones de poder adquisitivo alto.\n",
    "\n",
    "Veamos si encontramos una relación entre estas dos variables."
   ]
  },
  {
   "cell_type": "code",
   "execution_count": null,
   "metadata": {},
   "outputs": [],
   "source": [
    "fig, (ax1, ax2) = plt.subplots(nrows=1, ncols=2, dpi=150, figsize=(7.5 * 2, 4.8))\n",
    "\n",
    "df_tmp = df[['anios_estudiados', 'tiene_alto_valor_adquisitivo']].copy()\n",
    "\n",
    "ax1.set_title(\"Relación entre los años estudiados y el poder adquisitivo\")\n",
    "sns.violinplot(\n",
    "    data=df_tmp,\n",
    "    x='tiene_alto_valor_adquisitivo',\n",
    "    y='anios_estudiados',\n",
    "    ax=ax1,\n",
    "    palette=\"Blues_d\"\n",
    ")\n",
    "ax1.tick_params(which='both', width=2)\n",
    "ax1.set_ylabel(\"Años estudiados\")\n",
    "ax1.set_xlabel(\"¿Tiene alto valor adquisitivo?\")\n",
    "ax1.set_xticklabels(labels=[\"No\", \"Sí\"])\n",
    "\n",
    "sns.barplot(\n",
    "    data=df_tmp,\n",
    "    palette=\"Blues_d\",\n",
    "    x='anios_estudiados',\n",
    "    y='tiene_alto_valor_adquisitivo',\n",
    "    ax=ax2,\n",
    "    estimator = lambda x: np.mean(x)*100.0\n",
    ")\n",
    "\n",
    "ax2.set_ylabel(\"% Tiene alto valor adquisitivo\")\n",
    "ax2.set_xlabel(\"Años estudiados\")\n",
    "ax2.set_title('Relación entre la cantidad de años estudiados y poder adquisitivo')\n",
    "prom = df['tiene_alto_valor_adquisitivo'].mean()*100.0\n",
    "ax2.axhline(prom, color=\"lightblue\", label=\"Promedio de personas con alto VA\")\n",
    "ax2.legend()\n",
    "\n",
    "plt.show()"
   ]
  },
  {
   "cell_type": "markdown",
   "metadata": {},
   "source": [
    "Podemos ver una relación muy marcada entre estas dos variables, donde quienes tienen 12 años de estudio o menos se encuentran entre la población de menor poder adquisitivo, y quienes superan los 18 años de estudio tienden a tener un poder adquisitivo alto. El violin plot de la izquierda, a su vez, nos ayuda a ver que los dos grupos antes mencionados cuentan con pocos individuos presentes en la muestra, mientras que el conjunto que tiene entre 13 y 17 años de estudios concentra a la mayor parte de la población muestreada.\n",
    "\n",
    "Además, el gráfico de la izquierda nos muestra la distribuciones de años estudiados para las personas con alto y bajo poder adquisitivo. Como se puede ver, las personas con mayor poder adquisitivo tienden a tener mayor cantidad de años estudiados.\n",
    "\n",
    "Concluimos que esta variable afecta significativamente a nuestra variable objetivo."
   ]
  },
  {
   "cell_type": "markdown",
   "metadata": {},
   "source": [
    "### Horas trabajadas\n",
    "\n",
    "#### ¿Hay una relación entre la cantidad de horas trabajadas y el valor adquisitivo?\n",
    "En principio esperamos ver relación. A pocas horas trabajadas esperamos poco índice de poder adquisitivo alto."
   ]
  },
  {
   "cell_type": "code",
   "execution_count": null,
   "metadata": {},
   "outputs": [],
   "source": [
    "df_tmp = df[['horas_trabajo_registradas', 'tiene_alto_valor_adquisitivo']].copy()\n",
    "df_tmp['rango_horas_trabajadas'] = pd.cut(df_tmp.horas_trabajo_registradas, range(10, int(df_tmp['horas_trabajo_registradas'].max()) + 10, 10))\n",
    "\n",
    "# Configuro el grafico, armo el countplot y setteo labels varios\n",
    "fig, (ax1, ax2) = plt.subplots(nrows=2, ncols=1, dpi=150, figsize=(5.8 * 2, 4 * 2))\n",
    "sns.countplot(\n",
    "    data = df_tmp,\n",
    "    x = 'rango_horas_trabajadas',\n",
    "    hue='tiene_alto_valor_adquisitivo',\n",
    "    ax = ax1,\n",
    "    palette = ['#cc79a7', '#f0e442']\n",
    ").set(xticklabels=[])\n",
    "\n",
    "total = df_tmp.groupby('rango_horas_trabajadas')['tiene_alto_valor_adquisitivo'].count().reset_index()\n",
    "df_tmp_1 = df_tmp[df_tmp['tiene_alto_valor_adquisitivo']==1].groupby('rango_horas_trabajadas')['tiene_alto_valor_adquisitivo'].count().reset_index()\n",
    "df_tmp_1['tiene_alto_valor_adquisitivo'] = [i / j * 100 for i,j in zip(df_tmp_1['tiene_alto_valor_adquisitivo'], total['tiene_alto_valor_adquisitivo'])]\n",
    "total['tiene_alto_valor_adquisitivo'] = [i / j * 100 for i,j in zip(total['tiene_alto_valor_adquisitivo'], total['tiene_alto_valor_adquisitivo'])]\n",
    "\n",
    "bar1 = sns.barplot(x=\"rango_horas_trabajadas\",  y=\"tiene_alto_valor_adquisitivo\", data=total, color='#cc79a7', ax=ax2)\n",
    "bar2 = sns.barplot(x=\"rango_horas_trabajadas\", y=\"tiene_alto_valor_adquisitivo\", data=df_tmp_1, color='#f0e442', ax=ax2)\n",
    "\n",
    "top_bar = mpatches.Patch(color='#ff6961')\n",
    "bottom_bar = mpatches.Patch(color='#77dd77')\n",
    "\n",
    "ax1.set_title('Personas con alto poder adquisitivo segun la cantidad de horas trabajadas')\n",
    "ax1.set_xlabel('')\n",
    "ax1.set_ylabel('Cantidad')\n",
    "ax1.legend(['No tiene alto VA', 'Tiene alto VA'], loc='upper right')\n",
    "\n",
    "ax2.set_xlabel('Horas trabajadas')\n",
    "ax2.set_ylabel('% Tiene alto valor adquisitivo')\n",
    "\n",
    "\n",
    "plt.show()"
   ]
  },
  {
   "cell_type": "markdown",
   "metadata": {},
   "source": [
    "Vemos que en los casos en que las horas trabajadas son menores o iguales a 30 casi todas las personas muestreadas tienen un poder adquisitivo bajo. Los individuos con poder adquisitivo alto empiezan a aparecer en su mayoría a partir de las 30 horas trabajadas, y para 40 horas en adelante empiezan a ocupar un porcentaje importante de la muestra. Por ejemplo, para quienes trabajan entre 50 y 60 horas, la relación es casi 40/60.\n",
    "\n",
    "Sin embargo, también es necesario ver en el gráfico superior, que la significancia estadística de las colas es prácticamente nula."
   ]
  },
  {
   "cell_type": "markdown",
   "metadata": {},
   "source": [
    "### ¿Influye el rol familiar registrado sobre el poder adquisitivo? ¿Las personas con hijos tienen menos poder adquisitivo?"
   ]
  },
  {
   "cell_type": "code",
   "execution_count": null,
   "metadata": {},
   "outputs": [],
   "source": [
    "df_tmp = df[['rol_familiar_registrado', 'tiene_alto_valor_adquisitivo']].copy()\n",
    "\n",
    "fig, (ax1, ax2) = plt.subplots(nrows=1, ncols=2, dpi=150, figsize=(7.5 * 2, 4.8))\n",
    "\n",
    "color_sinFam = '#B5B5F5'\n",
    "color_casado = '#98F585' \n",
    "color_conHijos = '#FA9C8F'\n",
    "color_soltero = '#A7F5DA'\n",
    "color_otro = '#FAD566'\n",
    "\n",
    "labels = df_tmp['rol_familiar_registrado'].value_counts().keys()\n",
    "ax1.pie(\n",
    "    x=df_tmp['rol_familiar_registrado'].value_counts(),\n",
    "    explode=[0.01]*len(df_tmp['rol_familiar_registrado'].value_counts()),\n",
    "    labels=labels,\n",
    "    pctdistance=0.5,\n",
    "    colors = [color_casado, color_sinFam, color_conHijos, color_soltero, color_otro]\n",
    ")\n",
    "\n",
    "ax1.set_title(\"Proporción del total según rol familiar registrado\", fontsize=14);\n",
    "sns.barplot(\n",
    "    data=df_tmp,\n",
    "    y='rol_familiar_registrado',\n",
    "    x='tiene_alto_valor_adquisitivo',\n",
    "    ax=ax2,\n",
    "    estimator=lambda x: np.mean(x)*100.0,\n",
    "    order = ['casado', 'sin_familia', 'soltero_a', 'otro','con_hijos'],\n",
    "    palette = [color_casado, color_sinFam, color_soltero, color_otro, color_conHijos]\n",
    ")\n",
    "\n",
    "ax2.set_ylabel(\"Rol familiar registrado\")\n",
    "ax2.set_xlabel(\"% Tiene alto valor adquisitivo\")\n",
    "ax2.set_title('Relación rol familiar registrado y el poder adquisitivo')\n",
    "prom = df['tiene_alto_valor_adquisitivo'].mean()*100.0\n",
    "ax2.axvline(prom, color=\"darkred\", label=\"Promedio de personas con alto VA\")\n",
    "ax2.legend()\n",
    "plt.show()"
   ]
  },
  {
   "cell_type": "markdown",
   "metadata": {},
   "source": [
    "De este gráfico notamos lo siguiente:\n",
    "* La categoría 'casado' prácticamente duplica la cantidad promedio de personas con poder adquisitivo alto. Sin embargo, por sí sola no nos brinda una regla de decisión.\n",
    "* Vemos que en general las personas sin familia, solteros/as, con hijos y otros tienden a tener un poder adquisitivo bajo.\n",
    "\n",
    "Pudimos notar que efectivamente, las personas que tienen hijos tienden fuertemente a tener bajo poder adquisitivo.\n",
    "\n",
    "Podríamos argumentar que esto se debe a los gastos en manutención. Mientras que por contraparte los casados (que no tienen hijos) serán dos personas cuyos sueldos podrían incluso compartir sin necesidad de mantener un tercero (o más)."
   ]
  },
  {
   "cell_type": "markdown",
   "metadata": {},
   "source": [
    "#### ¿La religión afecta al poder adquisitivo? ¿El género? ¿Afectan en conjunto?"
   ]
  },
  {
   "cell_type": "code",
   "execution_count": null,
   "metadata": {},
   "outputs": [],
   "source": [
    "fig, (ax1, ax2) = plt.subplots(nrows=1, ncols=2, dpi=150, figsize=(7.5*2, 4.8), sharey=True)\n",
    "df_tmp_h = df[df['genero'] == 'hombre']\n",
    "orden = df_tmp_h.groupby(['religion'])['tiene_alto_valor_adquisitivo'].aggregate(lambda x : np.mean(x)).reset_index().sort_values('tiene_alto_valor_adquisitivo', ascending = False)\n",
    "sns.barplot(\n",
    "    data=df_tmp_h,\n",
    "    palette=\"pastel\",\n",
    "    x='religion',\n",
    "    y='tiene_alto_valor_adquisitivo',\n",
    "    ax=ax1,\n",
    "    order=orden['religion'],\n",
    "    estimator=lambda x: np.mean(x)*100.0\n",
    ")\n",
    "prom = df_tmp_h['tiene_alto_valor_adquisitivo'].mean()*100.0\n",
    "ax1.set_ylabel(\"% Tiene alto valor adquisitivo\")\n",
    "ax1.set_xlabel(\"Religion\")\n",
    "ax1.set_title('Sólo hombres')\n",
    "ax1.axhline(prom, color=\"darkred\", label=\"Promedio de hombres con alto VA\")\n",
    "ax1.legend()\n",
    "df_tmp_m = df[df['genero'] == 'mujer']\n",
    "orden = df_tmp_m.groupby(['religion'])['tiene_alto_valor_adquisitivo'].aggregate(lambda x : np.mean(x)).reset_index().sort_values('tiene_alto_valor_adquisitivo', ascending = False)\n",
    "sns.barplot(\n",
    "    data=df_tmp_m,\n",
    "    palette=\"pastel\",\n",
    "    x='religion',\n",
    "    y='tiene_alto_valor_adquisitivo',\n",
    "    ax=ax2,\n",
    "    order=orden['religion'],\n",
    "    estimator=lambda x: np.mean(x)*100.0\n",
    ")\n",
    "prom = df_tmp_m['tiene_alto_valor_adquisitivo'].mean()*100.0\n",
    "ax2.set_ylabel(\"\")\n",
    "ax2.set_xlabel(\"Religion\")\n",
    "ax2.set_title('Sólo mujeres')\n",
    "ax2.axhline(prom, color=\"darkred\", label=\"Promedio de mujeres con alto VA\")\n",
    "ax2.legend()\n",
    "fig.suptitle('Relación entre religión, género y poder adquisitivo', fontsize=16)\n",
    "plt.show()"
   ]
  },
  {
   "cell_type": "markdown",
   "metadata": {},
   "source": [
    "Como primera observación del gráfico tenemos la línea horizontal que marca el promedio de personas con poder adquisitivo alto según el género. Podemos ver como las mujeres tienen un promedio del 10% mientras que los hombres el promedio asciende hasta el 30%.\n",
    "Es decir, vemos que efectivamente el género afecta el poder adquisitivo.\n",
    "\n",
    "Siguiendo con el análisis, no encontramos elementos en esta variable que nos lleven a clasificar a los miembros de alguna religión en particular como personas de alto poder adquisitivo, pero sí podemos observar muy pocas mujeres que profesen el judaísmo u otras religiones y tengan alto poder adquisitivo.\n",
    "\n",
    "Veamos además, que para las religiones que tienden a tener menor poder adquisitivo, el intervalor de confianza del barplot es mucho mayor, esto quiere decir que la significancia estadística de los datos es pobre."
   ]
  },
  {
   "cell_type": "markdown",
   "metadata": {},
   "source": [
    "### ¿El rol familiar registrado y el estado marital tienen la misma influencia sobre el poder adquisitivo?\n",
    "Esto es, ¿obtener información de una de esas variables da información sobre la otra? Veámoslo en un heatmap."
   ]
  },
  {
   "cell_type": "code",
   "execution_count": null,
   "metadata": {},
   "outputs": [],
   "source": [
    "plt.figure(dpi = 160)\n",
    "df_tmp = df[['estado_marital','rol_familiar_registrado', 'tiene_alto_valor_adquisitivo']].copy()\n",
    "cooccurrence_g = pd.pivot_table(\n",
    "    df_tmp,\n",
    "    'tiene_alto_valor_adquisitivo',\n",
    "    'estado_marital',\n",
    "    'rol_familiar_registrado',\n",
    "    'count'\n",
    ")\n",
    "sns.heatmap(cooccurrence_g, cmap='Wistia', annot=True, fmt=\".5g\")\n",
    "plt.xticks(rotation=45)\n",
    "plt.yticks(rotation=0)\n",
    "plt.ylabel(\"Estado marital\")\n",
    "plt.xlabel(\"Rol familiar registrado\")\n",
    "plt.show()"
   ]
  },
  {
   "cell_type": "markdown",
   "metadata": {},
   "source": [
    "De las celdas con datos faltantes y las cantidades observadas podemos deducir que, efectivamente, en términos generales la información obtenida de ambas variables es equivalente. Pues podemos ver sobre la distribución del heatmap que de las 35 celdas posibles, sólo 5 continen a casi el 90% de las muestras."
   ]
  },
  {
   "cell_type": "markdown",
   "metadata": {},
   "source": [
    "### Trabajo y categoría de trabajo"
   ]
  },
  {
   "cell_type": "markdown",
   "metadata": {},
   "source": [
    "Veamos qué resulta de intersecar las categorías de las variables `trabajo` y `categoria_de_trabajo` , visualizándolas "
   ]
  },
  {
   "cell_type": "code",
   "execution_count": null,
   "metadata": {},
   "outputs": [],
   "source": [
    "fig, (ax1, ax2) = plt.subplots(nrows=1, ncols=2, dpi=200, figsize=(7*2, 5))\n",
    "df_tmp = df[['trabajo','categoria_de_trabajo', 'tiene_alto_valor_adquisitivo']].copy()\n",
    "cooccurrence_count = pd.pivot_table(\n",
    "    df_tmp,\n",
    "    'tiene_alto_valor_adquisitivo',\n",
    "    'trabajo',\n",
    "    'categoria_de_trabajo',\n",
    "    'count'\n",
    ")\n",
    "cooccurrence_mean = pd.pivot_table(\n",
    "    df_tmp,\n",
    "    'tiene_alto_valor_adquisitivo',\n",
    "    'trabajo',\n",
    "    'categoria_de_trabajo',\n",
    "    'mean'\n",
    ")\n",
    "sns.heatmap(cooccurrence_count, cmap='Wistia', annot=True, fmt=\".5g\", ax=ax1)\n",
    "sns.heatmap(cooccurrence_mean, cmap='Wistia', annot=True, fmt=\".2g\", ax=ax2).set(yticklabels=[])\n",
    "ax1.set_ylabel(\"Trabajo\")\n",
    "ax1.set_xlabel(\"Categoría de trabajo\")\n",
    "ax1.set_title(\"Cantidad de personas\")\n",
    "ax2.set_ylabel(\"\")\n",
    "ax2.set_xlabel(\"Categoría de trabajo\")\n",
    "ax2.set_title(\"Personas de dichas facultades que poseen poder adquisitivo alto.\")\n",
    "fig.suptitle('Relación entre categoría de trabajo, trabajo y poder adquisitivo', fontsize=16)\n",
    "plt.show()"
   ]
  },
  {
   "cell_type": "markdown",
   "metadata": {},
   "source": [
    "De aquí se pueden observar relaciones interesantes entre las variables y cómo estas afectan el poder adquisitivo. Sin embargo, decidimos desestimar a priori esta información pues, en caso de usarla, creemos que será muy específico sobre datos que en general no tienen suficiente significancia estadística.\n",
    "Como se puede ver en el gráfico de la izquierda, la mayor parte de la gente está declarada como 'En relación de dependencia' y, como se puede ver en el gráfico de la derecha, dicha relación no nos ayuda a encontrar personas con alto poder adquisitivo, pues sus valores son de caracter fluctuante."
   ]
  },
  {
   "cell_type": "markdown",
   "metadata": {},
   "source": [
    "## Baseline"
   ]
  },
  {
   "cell_type": "markdown",
   "metadata": {},
   "source": [
    "##### Construyendo el Baseline\n",
    "Iremos particionando el dominio en base a los resultados obtenidos en el análisis exploratorio."
   ]
  },
  {
   "cell_type": "markdown",
   "metadata": {},
   "source": [
    "La primera cualidad observada del análisis de los datos es que casi la totalidad de la gente que obtuvo una ganancia superior a 7000 en la bolsa, tiene poder adquisitivo alto.\n",
    "\n",
    "Por lo cual, nos quedaremos para analizar sólo a aquellos que no ganaron más de 7000 en la bolsa. Mientras que sobre los demás (es decir > 7000 en ganancias) diremos que poseen poder adquisitivo alto. "
   ]
  },
  {
   "cell_type": "code",
   "execution_count": null,
   "metadata": {},
   "outputs": [],
   "source": [
    "df_pipeline = df[df['ganancia_perdida_declarada_bolsa_argentina'] < 7000]"
   ]
  },
  {
   "cell_type": "markdown",
   "metadata": {},
   "source": [
    "La segunda cualidad que observamos en el análisis de datos sobre el data frame original fue la edad, cuyo valor condicionaba de la siguiente forma:\n",
    "* Si tenés menos de 30 años o más de 70 años, todo parece indicar que no posees un alto valor adquisitivo\n",
    "* En cambio, si te encontrás en el rango intermedio, que tengas valor adquisitivo alto dependerá de otras cualidades\n",
    "\n",
    "Veamos si esto se mantiene en nuestro data frame actual, para ello graficaremos lo mismo pero con los datos recortados"
   ]
  },
  {
   "cell_type": "code",
   "execution_count": null,
   "metadata": {
    "jupyter": {
     "source_hidden": true
    }
   },
   "outputs": [],
   "source": [
    "df_tmp = df_pipeline[['edad', 'tiene_alto_valor_adquisitivo']].copy()\n",
    "df_tmp['rango_etario'] = pd.cut(df_tmp.edad, range(10, int(df_tmp['edad'].max()) + 10, 10))\n",
    "\n",
    "# Configuro el grafico, armo el countplot y setteo labels varios\n",
    "fig, (ax1, ax2) = plt.subplots(nrows=2, ncols=1, dpi=150, figsize=(5.8 * 2, 4 * 2))\n",
    "sns.countplot(\n",
    "    data = df_tmp,\n",
    "    x = 'rango_etario',\n",
    "    hue='tiene_alto_valor_adquisitivo',\n",
    "    ax = ax1,\n",
    "    palette = ['#cc79a7', '#f0e442']\n",
    ").set(xticklabels=[])\n",
    "\n",
    "total = df_tmp.groupby('rango_etario')['tiene_alto_valor_adquisitivo'].count().reset_index()\n",
    "df_tmp_1 = df_tmp[df_tmp['tiene_alto_valor_adquisitivo']==1].groupby('rango_etario')['tiene_alto_valor_adquisitivo'].count().reset_index()\n",
    "df_tmp_1['tiene_alto_valor_adquisitivo'] = [i / j * 100 for i,j in zip(df_tmp_1['tiene_alto_valor_adquisitivo'], total['tiene_alto_valor_adquisitivo'])]\n",
    "total['tiene_alto_valor_adquisitivo'] = [i / j * 100 for i,j in zip(total['tiene_alto_valor_adquisitivo'], total['tiene_alto_valor_adquisitivo'])]\n",
    "\n",
    "bar1 = sns.barplot(x=\"rango_etario\",  y=\"tiene_alto_valor_adquisitivo\", data=total, color='#cc79a7', ax=ax2)\n",
    "bar2 = sns.barplot(x=\"rango_etario\", y=\"tiene_alto_valor_adquisitivo\", data=df_tmp_1, color='#f0e442', ax=ax2)\n",
    "\n",
    "top_bar = mpatches.Patch(color='#ff6961')\n",
    "bottom_bar = mpatches.Patch(color='#77dd77')\n",
    "\n",
    "ax1.set_title('Personas con alto poder adquisitivo segun rango etario')\n",
    "ax1.set_xlabel('')\n",
    "ax1.set_ylabel('Cantidad')\n",
    "ax1.legend(['No tiene alto VA', 'Tiene alto VA'], loc='upper right')\n",
    "\n",
    "ax2.set_xlabel('Rango etario')\n",
    "ax2.set_ylabel('% Tiene alto valor adquisitivo')\n",
    "\n",
    "\n",
    "plt.show()"
   ]
  },
  {
   "cell_type": "markdown",
   "metadata": {},
   "source": [
    "Observamos que efectivamente se puede seguir obteniendo la misma información de dichos gráficos.\n",
    "\n",
    "\n",
    "Por lo que, nos quedaremos con las personas cuyo rango etario esté entre 30 y 70 años, y sobre aquellas que no, diremos que tienen poder adquisitivo bajo."
   ]
  },
  {
   "cell_type": "code",
   "execution_count": null,
   "metadata": {},
   "outputs": [],
   "source": [
    "df_pipeline = df_pipeline[df_pipeline['edad'].isin(range(31, 71))]"
   ]
  },
  {
   "cell_type": "markdown",
   "metadata": {},
   "source": [
    "De la información recolectada en el análisis exploratorio pudimos observar como el estado marital influye tremendamente en la variable objetivo, siendo que tener hijos quita a la mayor parte de la población de tener un alto poder adquisitivo, asímismo también lo hacen si tenés 'otro' o 'soltero_a'.\n",
    "\n",
    "Revisemos si estas afirmaciones siguen siendo válidas para la gente entre 30 y 70 años que no accionó con mucho éxito en la bolsa."
   ]
  },
  {
   "cell_type": "code",
   "execution_count": null,
   "metadata": {
    "jupyter": {
     "source_hidden": true
    }
   },
   "outputs": [],
   "source": [
    "df_tmp = df_pipeline[['rol_familiar_registrado', 'tiene_alto_valor_adquisitivo']].copy()\n",
    "\n",
    "fig, (ax1, ax2) = plt.subplots(nrows=1, ncols=2, dpi=150, figsize=(7.5 * 2, 4.8))\n",
    "\n",
    "color_sinFam = '#B5B5F5'\n",
    "color_casado = '#98F585' \n",
    "color_conHijos = '#FA9C8F'\n",
    "color_soltero = '#A7F5DA'\n",
    "color_otro = '#FAD566'\n",
    "\n",
    "labels = df_tmp['rol_familiar_registrado'].value_counts().keys()\n",
    "ax1.pie(\n",
    "    x=df_tmp['rol_familiar_registrado'].value_counts(),\n",
    "    explode=[0.01]*len(df_tmp['rol_familiar_registrado'].value_counts()),\n",
    "    labels=labels,\n",
    "    pctdistance=0.5,\n",
    "    colors = [color_casado, color_sinFam, color_conHijos, color_soltero, color_otro]\n",
    ")\n",
    "\n",
    "ax1.set_title(\"Proporción del total según rol familiar registrado\", fontsize=14);\n",
    "sns.barplot(\n",
    "    data=df_tmp,\n",
    "    y='rol_familiar_registrado',\n",
    "    x='tiene_alto_valor_adquisitivo',\n",
    "    ax=ax2,\n",
    "    estimator=lambda x: np.mean(x)*100.0,\n",
    "    order = ['casado', 'sin_familia', 'soltero_a', 'otro','con_hijos'],\n",
    "    palette = [color_casado, color_sinFam, color_soltero, color_otro, color_conHijos]\n",
    ")\n",
    "\n",
    "ax2.set_ylabel(\"Rol familiar registrado\")\n",
    "ax2.set_xlabel(\"% Tiene alto valor adquisitivo\")\n",
    "ax2.set_title('Relación rol familiar registrado y el poder adquisitivo')\n",
    "prom = df['tiene_alto_valor_adquisitivo'].mean()*100.0\n",
    "ax2.axvline(prom, color=\"darkred\", label=\"Promedio de personas con alto VA\")\n",
    "ax2.legend()\n",
    "plt.show()"
   ]
  },
  {
   "cell_type": "markdown",
   "metadata": {},
   "source": [
    "Por lo que se puede observar que se mantiene lo dicho anteriormente, es decir, la gente que no está casada, tiene altas chances de no tener poder adquisitivo alto.\n",
    "\n",
    "Por lo que, estimaremos que tienen poder adquisitivo bajo y procedemos a estudiar sólo a aquellos que han contraído matrimonio: "
   ]
  },
  {
   "cell_type": "code",
   "execution_count": null,
   "metadata": {},
   "outputs": [],
   "source": [
    "df_pipeline = df_pipeline[df_pipeline['rol_familiar_registrado'] == 'casado']"
   ]
  },
  {
   "cell_type": "markdown",
   "metadata": {},
   "source": [
    "Veamos cómo evolucionó la variable de ganancia/perdida declarada en la bolsa."
   ]
  },
  {
   "cell_type": "code",
   "execution_count": null,
   "metadata": {
    "jupyter": {
     "source_hidden": true
    }
   },
   "outputs": [],
   "source": [
    "df_tmp = df_pipeline[['ganancia_perdida_declarada_bolsa_argentina', 'tiene_alto_valor_adquisitivo']].copy()\n",
    "df_tmp['bolsa'] = df_tmp['ganancia_perdida_declarada_bolsa_argentina'].apply(designar_accion)\n",
    "del df_tmp['ganancia_perdida_declarada_bolsa_argentina']\n",
    "fig, (ax1, ax2) = plt.subplots(nrows=1, ncols=2, dpi=150, figsize=(7.5 * 2, 4.8))\n",
    "color_nada = '#B5B5F5'\n",
    "color_perdida = '#98F585' \n",
    "color_ganancia = '#A7F5DA'\n",
    "labels = df_tmp['bolsa'].value_counts().keys()\n",
    "ax1.pie(\n",
    "    x=df_tmp['bolsa'].value_counts(),\n",
    "    explode=[0.05]*3,\n",
    "    labels=labels,\n",
    "    pctdistance=0.5,\n",
    "    colors = [color_nada, color_perdida, color_ganancia]\n",
    ")\n",
    "ax1.set_title(\"Proporción del total según acción en bolsa\", fontsize=14);\n",
    "sns.barplot(\n",
    "    data=df_tmp,\n",
    "    x='bolsa',\n",
    "    y='tiene_alto_valor_adquisitivo',\n",
    "    ax=ax2,\n",
    "    estimator=lambda x: np.mean(x)*100.0,\n",
    "    order = ['Ganancia', 'Nada', 'Perdida'],\n",
    "    palette = [ color_ganancia, color_nada, color_perdida]\n",
    ")\n",
    "ax2.set_ylabel(\"% Tiene alto valor adquisitivo\")\n",
    "ax2.set_xlabel(\"Declaración de acciones en la bolsa\")\n",
    "ax2.set_title('Relación entre las acciones en la bolsa y el poder adquisitivo')\n",
    "prom = df['tiene_alto_valor_adquisitivo'].mean()*100.0\n",
    "ax2.axhline(prom, color=\"darkred\", label=\"Promedio de personas con alto VA\")\n",
    "ax2.legend()\n",
    "plt.show()"
   ]
  },
  {
   "cell_type": "markdown",
   "metadata": {},
   "source": [
    "Vemos que se pueden filtrar aún suficiente cantidad de gente cuyo valor adquisitivo es alto, estos son aquellos que declararon pérdidas en la bolsa.\n",
    "\n",
    "Por lo tanto, sobre aquellos que han perdido en la bolsa, diremos que poseen poder adquisitivo alto, mientras que, seguiremos analizando la información de las personas con ganancias o que no accionaron en la bolsa."
   ]
  },
  {
   "cell_type": "code",
   "execution_count": null,
   "metadata": {},
   "outputs": [],
   "source": [
    "df_pipeline = df_pipeline[df_pipeline['ganancia_perdida_declarada_bolsa_argentina'] >= 0]"
   ]
  },
  {
   "cell_type": "markdown",
   "metadata": {},
   "source": [
    "Otra cualidad que vimos interesante para predecir la variable objetivo se trata de la cantidad de años estudiados, veamos cómo se comporta a esta altura:"
   ]
  },
  {
   "cell_type": "code",
   "execution_count": null,
   "metadata": {
    "jupyter": {
     "source_hidden": true
    }
   },
   "outputs": [],
   "source": [
    "fig, (ax1, ax2) = plt.subplots(nrows=1, ncols=2, dpi=150, figsize=(7.5 * 2, 4.8))\n",
    "\n",
    "df_tmp = df_pipeline[['anios_estudiados', 'tiene_alto_valor_adquisitivo']].copy()\n",
    "\n",
    "ax1.set_title(\"Relación entre los años estudiados y el poder adquisitivo\")\n",
    "sns.violinplot(\n",
    "    data=df_tmp,\n",
    "    x='tiene_alto_valor_adquisitivo',\n",
    "    y='anios_estudiados',\n",
    "    ax=ax1,\n",
    "    palette=\"Blues_d\"\n",
    ")\n",
    "ax1.tick_params(which='both', width=2)\n",
    "ax1.set_ylabel(\"Años estudiados\")\n",
    "ax1.set_xlabel(\"¿Tiene alto valor adquisitivo?\")\n",
    "ax1.set_xticklabels(labels=[\"No\", \"Sí\"])\n",
    "\n",
    "sns.barplot(\n",
    "    data=df_tmp,\n",
    "    palette=\"Blues_d\",\n",
    "    x='anios_estudiados',\n",
    "    y='tiene_alto_valor_adquisitivo',\n",
    "    ax=ax2,\n",
    "    estimator = lambda x: np.mean(x)*100.0\n",
    ")\n",
    "\n",
    "ax2.set_ylabel(\"% Tiene alto valor adquisitivo\")\n",
    "ax2.set_xlabel(\"Años estudiados\")\n",
    "ax2.set_title('Relación entre la cantidad de años estudiados y poder adquisitivo')\n",
    "prom = df['tiene_alto_valor_adquisitivo'].mean()*100.0\n",
    "ax2.axhline(prom, color=\"lightblue\", label=\"Promedio de personas con alto VA\")\n",
    "ax2.legend()\n",
    "\n",
    "plt.show()"
   ]
  },
  {
   "cell_type": "markdown",
   "metadata": {},
   "source": [
    "Por lo que, clasificaremos como bajo poder adquisitivo a aquella gente que tuvo 12 o menos años estudiados, y en contrapartida clasificaremos como alto poder adquisitivo a aquella gente que tuvo 17 o más años estudiados.\n",
    "\n",
    "Por lo que:"
   ]
  },
  {
   "cell_type": "code",
   "execution_count": null,
   "metadata": {},
   "outputs": [],
   "source": [
    "df_pipeline = df_pipeline[(df_pipeline['anios_estudiados'] >= 13) & (df_pipeline['anios_estudiados'] <= 16)]"
   ]
  },
  {
   "cell_type": "markdown",
   "metadata": {},
   "source": [
    "Ya estando a esta altura, nos quedaría por analizar sólo un 20% de las muestras. Pero no encontramos una variable que nos proporcione información útil a esta altura. Vimos que las condiciones apartir de esta línea o eran demasiado específicas, o no eran buenas reglas de decisión pues sólo mejoraban en a lo sumo un 0.2% de acierto.\n",
    "\n",
    "Es de esta forma que cerramos en análisis de los datos, y procederemos a contruir el código del baseline y así observar cómo se comporta con la muestra de entrenamiento."
   ]
  },
  {
   "cell_type": "markdown",
   "metadata": {},
   "source": [
    "\n",
    "\n",
    "##### El baseline"
   ]
  },
  {
   "cell_type": "code",
   "execution_count": null,
   "metadata": {},
   "outputs": [],
   "source": [
    "def baseline_aux(row):\n",
    "    if(row['ganancia_perdida_declarada_bolsa_argentina'] > 7000):\n",
    "        return 1\n",
    "    if(row['edad'] <= 30 or row['edad'] > 70):\n",
    "        return 0\n",
    "    else:\n",
    "        if(row['rol_familiar_registrado'] != 'casado'):\n",
    "            return 0\n",
    "        else:\n",
    "            if(row['ganancia_perdida_declarada_bolsa_argentina'] < 0):\n",
    "                return 1\n",
    "            else:\n",
    "                if(row['anios_estudiados'] >= 17):\n",
    "                    return 1\n",
    "                elif(row['anios_estudiados'] <= 12):\n",
    "                    return 0\n",
    "                else:\n",
    "                    return 0\n",
    "def baseline(df):\n",
    "    return df.apply(baseline_aux, axis=1)"
   ]
  },
  {
   "cell_type": "code",
   "execution_count": null,
   "metadata": {},
   "outputs": [],
   "source": [
    "i = round(np.mean(df['tiene_alto_valor_adquisitivo'] == baseline(df)),5)\n",
    "\n",
    "print(f\"El índice de aciertos total fue de: {i*100}%\")"
   ]
  },
  {
   "cell_type": "markdown",
   "metadata": {},
   "source": [
    "## Conclusión"
   ]
  },
  {
   "cell_type": "markdown",
   "metadata": {},
   "source": [
    "Asumiendo que la distribución de personas con poder adquisitivo alto se mantiene en un 76% vs 24%, nuestro baseline tiene las siguientes características:"
   ]
  },
  {
   "cell_type": "code",
   "execution_count": null,
   "metadata": {},
   "outputs": [],
   "source": [
    "df_0 = df[df['tiene_alto_valor_adquisitivo'] == 0]\n",
    "print(f\"Predicción de ceros: {round(np.mean(baseline(df_0) == 0),2)}%\")\n",
    "df_1 = df[df['tiene_alto_valor_adquisitivo'] == 1]\n",
    "print(f\"Predicción de unos: {round(np.mean(baseline(df_1) == 1),2)}%\")"
   ]
  },
  {
   "cell_type": "markdown",
   "metadata": {},
   "source": [
    "P(\"Tiene bajo VA\"|\"Predecimos bajo VA\") = $0.86$\n",
    "\n",
    "P(\"Tiene alto VA\"|\"Predecimos alto VA\") = $0.76$\n",
    "\n",
    "\n",
    "###### Este resultado se obtiene utilizando Bayes\n",
    "\n",
    "$p_0$: \"Predecir bajo poder adquisitivo\"\n",
    "\n",
    "$p_1$: \"Predecir alto poder adquisitivo\"\n",
    "\n",
    "$s_0$: \"Tiene bajo poder adquisitivo\"\n",
    "\n",
    "$s_1$: \"Tiene alto poder adquisitivo\"\n",
    "\n",
    "\n",
    "$$ P(s_0|p_0) = \\frac{P(p_0|s_0)P(s_0)}{P(p_0)} = \\frac{0.95 \\times 0.76}{0.95\\times0.76 + 0.49 \\times0.24} = 0.86$$\n",
    "\n",
    "$$ P(s_1|p_1) = \\frac{P(p_1|s_1)P(s_1)}{P(p_1)} = \\frac{0.51 \\times 0.24}{0.51\\times0.24 + 0.05 \\times0.76} = 0.76$$"
   ]
  }
 ],
 "metadata": {
  "kernelspec": {
   "display_name": "Python 3",
   "language": "python",
   "name": "python3"
  },
  "language_info": {
   "codemirror_mode": {
    "name": "ipython",
    "version": 3
   },
   "file_extension": ".py",
   "mimetype": "text/x-python",
   "name": "python",
   "nbconvert_exporter": "python",
   "pygments_lexer": "ipython3",
   "version": "3.6.9"
  }
 },
 "nbformat": 4,
 "nbformat_minor": 5
}

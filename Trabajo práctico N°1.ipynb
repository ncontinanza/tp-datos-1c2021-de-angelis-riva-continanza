{
 "cells": [
  {
   "cell_type": "markdown",
   "metadata": {},
   "source": [
    "# Trabajo práctico N°1: FIUFIP"
   ]
  },
  {
   "cell_type": "markdown",
   "metadata": {},
   "source": [
    "## Parte 1 - Análisis de datos\n",
    "- Continanza, Nicolás (97576)\n",
    "- De Angelis Riva, Lukas Nahuel  (103784)\n",
    "\n",
    "#### FIUFIP: Que No Se Escape Nadie (?)\n",
    "\n",
    "A partir de la información recolectada por FIUFIP, queremos hacer un análisis que nos permita inferir qué ciudadanos tienen un alto poder adquisitivo. Para esto, y tomando en cuenta la información con la que contamos y sus limitaciones, creemos que será valioso poder responder las siguientes preguntas, y evaluar si nos aportan información útil:\n",
    "\n",
    "1. ¿Cuántas personas tienen un alto poder adquisitivo en los datos recolectados por la agencia?\n",
    "2. ¿Hay alguna relación entre la edad de las personas encuestadas y su poder adquisitivo?\n",
    "3. ¿Existe un cambio notable en la respuesta a la pregunta anterior si separamos la muestra por género?\n",
    "4. Respondiendo las tres preguntas anteriores podríamos encontrar una relación entre las variables edad y género, y sería interesante saber qué tan similar o disímil es la variable edad entre los tipos de trabajo que realizan. Entonces, ¿Cómo se distribuye la edad de las personas encuestadas según su trabajo?\n",
    "6. ¿Qué se puede decir sobre los tipos de sala más elegidos separando a los encuestados por edad?\n",
    "7.\n",
    "8."
   ]
  },
  {
   "cell_type": "markdown",
   "metadata": {},
   "source": [
    "## Bibliotecas"
   ]
  },
  {
   "cell_type": "markdown",
   "metadata": {},
   "source": [
    "Comencemos por importar las bibliotecas a utilizar."
   ]
  },
  {
   "cell_type": "code",
   "execution_count": null,
   "metadata": {},
   "outputs": [],
   "source": [
    "import pandas as pd\n",
    "from matplotlib import pyplot as plt\n",
    "import matplotlib.patches as mpatches\n",
    "\n",
    "import matplotlib.pyplot as plt\n",
    "import seaborn as sns\n",
    "sns.set()\n",
    "\n",
    "from matplotlib import pyplot as plt\n",
    "import matplotlib\n",
    "\n",
    "import numpy as np\n",
    "\n",
    "import functools\n",
    "import operator\n"
   ]
  },
  {
   "cell_type": "code",
   "execution_count": null,
   "metadata": {},
   "outputs": [],
   "source": [
    "def get_data():\n",
    "    GSPREADHSEET_DOWNLOAD_URL = (\n",
    "        \"https://docs.google.com/spreadsheets/d/{gid}/export?format=csv&id={gid}\".format\n",
    "    )\n",
    "    TP_GID = '1-DWTP8uwVS-dZY402-dm0F9ICw_6PNqDGLmH0u8Eqa0'\n",
    "    df = pd.read_csv(GSPREADHSEET_DOWNLOAD_URL(gid=TP_GID))\n",
    "    return df    "
   ]
  },
  {
   "cell_type": "code",
   "execution_count": null,
   "metadata": {},
   "outputs": [],
   "source": [
    "df = get_data()"
   ]
  },
  {
   "cell_type": "markdown",
   "metadata": {},
   "source": [
    "## Feature Engineering"
   ]
  },
  {
   "cell_type": "markdown",
   "metadata": {},
   "source": [
    "Antes de comenzar el análisis exploratorio de los datos, estudiemos las características del dataset y analicemos si podemos hacer algunas mejoras para facilitar el trabajo."
   ]
  },
  {
   "cell_type": "markdown",
   "metadata": {},
   "source": [
    "### Missing Values"
   ]
  },
  {
   "cell_type": "markdown",
   "metadata": {},
   "source": [
    "Comencemos por ver qué variables presentan valores nulos."
   ]
  },
  {
   "cell_type": "code",
   "execution_count": null,
   "metadata": {},
   "outputs": [],
   "source": [
    "df.isna().apply(lambda c: functools.reduce(operator.or_, c))"
   ]
  },
  {
   "cell_type": "markdown",
   "metadata": {},
   "source": [
    "Vemos que los únicos missing values se dan en las columnas: `barrio`, `categoría_de_trabajo` y `trabajo`.\n",
    "\n",
    "Analicemos ahora la cantidad de personas cuyo barrio desconocemos."
   ]
  },
  {
   "cell_type": "code",
   "execution_count": null,
   "metadata": {},
   "outputs": [],
   "source": [
    "df['barrio'].notnull().apply(lambda x: 'Con barrio' if x else 'Sin barrio').value_counts().plot(\n",
    "    kind='pie', autopct='%1.0f%%')"
   ]
  },
  {
   "cell_type": "markdown",
   "metadata": {},
   "source": [
    "Se trata de un 2% del dataset, un valor que consideramos lo suficientemente grande como para no descartarlo."
   ]
  },
  {
   "cell_type": "markdown",
   "metadata": {},
   "source": [
    "Veamos si hay grandes diferencias de poder adquisitivo entre las personas que no indicaron su barrio y las que si."
   ]
  },
  {
   "cell_type": "code",
   "execution_count": null,
   "metadata": {},
   "outputs": [],
   "source": [
    "df_test_barrio = df[['barrio', 'tiene_alto_valor_adquisitivo']].copy()\n",
    "df_test_barrio['tiene_barrio'] = df_test_barrio['barrio'].isna().apply(lambda x: 'No' if x else 'Sí')\n",
    "del df_test_barrio['barrio']\n",
    "\n",
    "plt.figure(dpi=150)\n",
    "ax = sns.barplot(data=df_test_barrio, x='tiene_barrio', y='tiene_alto_valor_adquisitivo')\n",
    "\n",
    "plt.ylabel(\"Tiene alto valor adquisitivo\")\n",
    "plt.xlabel(\"Tiene barrio\")\n",
    "plt.title('Diferencia de poder adquisitivo entre gente con barrio y gente sin barrio')\n",
    "plt.show()"
   ]
  },
  {
   "cell_type": "markdown",
   "metadata": {},
   "source": [
    "Vemos que, a priori, haber informado el barrio o no haberlo hecho no tiene un impacto significativo sobre la variable objetivo. Por lo tanto, rellenaremos esos valores faltantes asignando aleatoriamente un barrio, considerando la distribución de los mismos en la muestra que estamos analizando."
   ]
  },
  {
   "cell_type": "code",
   "execution_count": null,
   "metadata": {},
   "outputs": [],
   "source": [
    "data_set_mejorado = df.copy()\n",
    "barrios = df['barrio'].dropna()\n",
    "cantidad = df['barrio'].isna().value_counts()[True]\n",
    "muestra = barrios.sample(cantidad)\n",
    "it = iter(muestra)\n",
    "data_set_mejorado['barrio'] = data_set_mejorado['barrio'].apply(lambda x: next(it) if str(x) == 'nan' else x)"
   ]
  },
  {
   "cell_type": "markdown",
   "metadata": {},
   "source": [
    "De forma similar, analizaremos la variable `categoria_de_trabajo`."
   ]
  },
  {
   "cell_type": "code",
   "execution_count": null,
   "metadata": {},
   "outputs": [],
   "source": [
    "df['categoria_de_trabajo'].notnull().apply(lambda x: 'Respondió' if x else 'No respondió').value_counts().plot(\n",
    "    kind='pie', autopct='%1.0f%%'\n",
    ")"
   ]
  },
  {
   "cell_type": "markdown",
   "metadata": {},
   "source": [
    "Nuevamente estamos frente a un caso donde no podemos despreciar aquellas muestras que no informen su categoría de trabajo."
   ]
  },
  {
   "cell_type": "code",
   "execution_count": null,
   "metadata": {},
   "outputs": [],
   "source": [
    "df_test_categoria = df[['categoria_de_trabajo', 'tiene_alto_valor_adquisitivo']].copy()\n",
    "df_test_categoria['tiene_categoria'] = df_test_categoria['categoria_de_trabajo'].isna().apply(lambda x: 'No' if x else 'Sí')\n",
    "del df_test_categoria['categoria_de_trabajo']\n",
    "\n",
    "plt.figure(dpi=150)\n",
    "ax = sns.barplot(data=df_test_categoria, x='tiene_categoria', y='tiene_alto_valor_adquisitivo')\n",
    "\n",
    "plt.ylabel(\"Tiene alto valor adquisitivo\")\n",
    "plt.xlabel(\"Tiene categoría de trabajo\")\n",
    "plt.title('Diferencia de poder adquisitivo entre gente con categoría de trabajo y gente sin categoría de trabajo')\n",
    "plt.show()"
   ]
  },
  {
   "cell_type": "markdown",
   "metadata": {},
   "source": [
    "Aquí ya se puede ver información interesante: la gente que no responde su categoría de trabajo, en general tiene menor valor adquisitivo.\n",
    "\n",
    "Veamos ahora la relación entre valores nulos en `trabajo` y valores nulos en `categoría_de_trabajo`."
   ]
  },
  {
   "cell_type": "code",
   "execution_count": null,
   "metadata": {},
   "outputs": [],
   "source": [
    "df[['categoria_de_trabajo', 'trabajo']].isna().apply(lambda column: column.value_counts()[True])"
   ]
  },
  {
   "cell_type": "markdown",
   "metadata": {},
   "source": [
    "Hay una diferencia de 7 entradas, que serán las siguientes:"
   ]
  },
  {
   "cell_type": "code",
   "execution_count": null,
   "metadata": {},
   "outputs": [],
   "source": [
    "df[df['categoria_de_trabajo'].notnull() & df['trabajo'].isna()]"
   ]
  },
  {
   "cell_type": "markdown",
   "metadata": {},
   "source": [
    "Esto quiere decir que tener un valor NA en `categoria_de_trabajo` se corresponde con tener un valor NA  en `trabajo`, y si hay un NA en trabajo, salvo por estos últimos 7 casos, habrá un NA en `categoria_de_trabajo`.\n",
    "\n",
    "En base a esto, vamos a crear una nueva categoría llamada \"sin_categoria\", para todas aquellas personas que tengan valor nulo en `categoria_de_trabajo`, y otra llamada \"no_responde\" para quienes tengan valor nulo en `trabajo`."
   ]
  },
  {
   "cell_type": "code",
   "execution_count": null,
   "metadata": {},
   "outputs": [],
   "source": [
    "data_set_mejorado['categoria_de_trabajo'] = data_set_mejorado['categoria_de_trabajo'].apply(lambda x: 'Sin categoria' if str(x) == 'nan' else x)"
   ]
  },
  {
   "cell_type": "code",
   "execution_count": null,
   "metadata": {},
   "outputs": [],
   "source": [
    "data_set_mejorado['trabajo'] = data_set_mejorado['trabajo'].apply(lambda x: 'No responde' if str(x) == 'nan' else x)"
   ]
  },
  {
   "cell_type": "code",
   "execution_count": null,
   "metadata": {},
   "outputs": [],
   "source": [
    "data_set_mejorado = data_set_mejorado[data_set_mejorado.categoria_de_trabajo != 'sin_trabajo']"
   ]
  },
  {
   "cell_type": "markdown",
   "metadata": {},
   "source": [
    "A continuación estudiaremos si `educacion_alcanzada` tiene una relación fuerte con la columna `anios_estudiados`"
   ]
  },
  {
   "cell_type": "code",
   "execution_count": null,
   "metadata": {},
   "outputs": [],
   "source": [
    "df[['anios_estudiados', 'educacion_alcanzada']].groupby('educacion_alcanzada').aggregate(set)"
   ]
  },
  {
   "cell_type": "markdown",
   "metadata": {},
   "source": [
    "Como esperábamos, la columna `educacion_alcanzada` posee la misma información que `anios_estudiados`.\n",
    "\n",
    "Una interpretacion de esto es que la gente que esta cargada en este set de datos nunca repitió un año escolar ni se atrasó en la carrera universitaria.\n",
    "\n",
    "Proponemos eliminar la columna `educacion_alcanzada`, ya que es una variable categórica (más difícil de manipular) con un orden impuesto directamente por la columna `anios_estudiados`."
   ]
  },
  {
   "cell_type": "code",
   "execution_count": null,
   "metadata": {},
   "outputs": [],
   "source": [
    "del data_set_mejorado['educacion_alcanzada']"
   ]
  },
  {
   "cell_type": "markdown",
   "metadata": {},
   "source": [
    "Para finalizar, notemos que en la columna `rol_familiar_registrado` las personas solteras están identificadas con el valor \"soltero_a\", y no hay una distinción por género de la persona. Por el contrario, las personas casadas pueden tener valor \"casado\" o \"casada\" según su género. Dado que tenemos la posibilidad de conocer el género de la persona gracias a la columna `genero`, podemos unificar y quedarnos con un solo valor."
   ]
  },
  {
   "cell_type": "code",
   "execution_count": null,
   "metadata": {},
   "outputs": [],
   "source": [
    "data_set_mejorado['rol_familiar_registrado'] = data_set_mejorado['rol_familiar_registrado'].apply(lambda x : 'casado' if x == 'casada' else x)"
   ]
  },
  {
   "cell_type": "markdown",
   "metadata": {},
   "source": [
    "A continuación, una función que encapsula todo el trabajo realizado sobre el dataset inicial."
   ]
  },
  {
   "cell_type": "code",
   "execution_count": null,
   "metadata": {},
   "outputs": [],
   "source": [
    "def feature_engineering(df):\n",
    "    # Missings en barrio\n",
    "    data_set_mejorado = df.copy()\n",
    "    barrios = df['barrio'].dropna()\n",
    "    cantidad = df['barrio'].isna().value_counts()[True]\n",
    "    muestra = barrios.sample(cantidad)\n",
    "    it = iter(muestra)\n",
    "    data_set_mejorado['barrio'] = data_set_mejorado['barrio'].apply(lambda x: next(it) if str(x) == 'nan' else x)\n",
    "\n",
    "    # Missings en categoría de trabajo\n",
    "    data_set_mejorado['categoria_de_trabajo'] = data_set_mejorado['categoria_de_trabajo'].apply(lambda x: 'Sin categoria' if str(x) == 'nan' else x)\n",
    "\n",
    "    # Missings en trabajo\n",
    "    data_set_mejorado['trabajo'] = data_set_mejorado['trabajo'].apply(lambda x: 'No responde' if str(x) == 'nan' else x)\n",
    "\n",
    "    # Eliminación de categoría \"sin trabajo\"\n",
    "    data_set_mejorado = data_set_mejorado[data_set_mejorado.categoria_de_trabajo != 'sin_trabajo']\n",
    "\n",
    "    # Eliminación de el atributo eduación alcanzada\n",
    "    del data_set_mejorado['educacion_alcanzada']\n",
    "\n",
    "    # Juntamos casado y casada en una misma categoría.\n",
    "    data_set_mejorado['rol_familiar_registrado'] = data_set_mejorado['rol_familiar_registrado'].apply(lambda x : 'casado' if x == 'casada' else x)\n",
    "    \n",
    "    return data_set_mejorado"
   ]
  },
  {
   "cell_type": "markdown",
   "metadata": {},
   "source": [
    "## Análisis Exploratorio"
   ]
  },
  {
   "cell_type": "markdown",
   "metadata": {},
   "source": [
    "Con lo anterior, obtenemos los datos, aplicamos la función de feature engineering y comenzamos con el análisis exploratorio para clasificar a las personas muestreadas."
   ]
  },
  {
   "cell_type": "code",
   "execution_count": null,
   "metadata": {},
   "outputs": [],
   "source": [
    "df = get_data()\n",
    "df = feature_engineering(df)"
   ]
  },
  {
   "cell_type": "markdown",
   "metadata": {},
   "source": [
    "Nuestra variable objetivo será 'tiene_alto_valor_adquisitivo' una variable que toma los valores 0 y 1.\n",
    "\n",
    "Su distribución en nuestro data-frame de entrenamiento es el siguiente:"
   ]
  },
  {
   "cell_type": "code",
   "execution_count": null,
   "metadata": {},
   "outputs": [],
   "source": [
    "plt.figure(dpi=100)\n",
    "df[\"tiene_alto_valor_adquisitivo\"].apply(lambda x: 'Sí' if x==1 else 'No').value_counts().plot(\n",
    "    kind='pie', autopct='%1.0f%%', colors=['#AEB8AF', '#4AD172']\n",
    ")\n",
    "plt.title('¿Tiene alto valor adquisitivo?')\n",
    "plt.ylabel(\"\")\n",
    "plt.show()"
   ]
  },
  {
   "cell_type": "markdown",
   "metadata": {},
   "source": [
    "## Análisis exploratorio"
   ]
  },
  {
   "cell_type": "code",
   "execution_count": null,
   "metadata": {
    "scrolled": true
   },
   "outputs": [],
   "source": [
    "df.columns"
   ]
  },
  {
   "cell_type": "markdown",
   "metadata": {},
   "source": [
    "### Edad\n",
    "\n",
    "\n",
    "###### ¿Hay una relación entre la edad y el valor adquisitivo?\n",
    "Para ello graficaremos la cantidad de gente de cada rango etario para ver las cantidades"
   ]
  },
  {
   "cell_type": "code",
   "execution_count": null,
   "metadata": {},
   "outputs": [],
   "source": [
    "df_tmp = df[['edad', 'tiene_alto_valor_adquisitivo']].copy()\n",
    "df_tmp['rango_etario'] = pd.cut(df_tmp.edad, range(10, int(df_tmp['edad'].max()) + 10, 10))\n",
    "\n",
    "# Configuro el grafico, armo el countplot y setteo labels varios\n",
    "fig, (ax1, ax2) = plt.subplots(nrows=2, ncols=1, dpi=150, figsize=(6.4 * 2, 4.8 * 2))\n",
    "sns.countplot(\n",
    "    data = df_tmp,\n",
    "    x = 'rango_etario',\n",
    "    hue='tiene_alto_valor_adquisitivo',\n",
    "    ax = ax1,\n",
    "    palette = ['#ff6961', '#77dd77']\n",
    ").set(xticklabels=[])\n",
    "\n",
    "total = df_tmp.groupby('rango_etario')['tiene_alto_valor_adquisitivo'].count().reset_index()\n",
    "df_tmp_1 = df_tmp[df_tmp['tiene_alto_valor_adquisitivo']==1].groupby('rango_etario')['tiene_alto_valor_adquisitivo'].count().reset_index()\n",
    "df_tmp_1['tiene_alto_valor_adquisitivo'] = [i / j * 100 for i,j in zip(df_tmp_1['tiene_alto_valor_adquisitivo'], total['tiene_alto_valor_adquisitivo'])]\n",
    "total['tiene_alto_valor_adquisitivo'] = [i / j * 100 for i,j in zip(total['tiene_alto_valor_adquisitivo'], total['tiene_alto_valor_adquisitivo'])]\n",
    "\n",
    "bar1 = sns.barplot(x=\"rango_etario\",  y=\"tiene_alto_valor_adquisitivo\", data=total, color='#ff6961', ax=ax2)\n",
    "bar2 = sns.barplot(x=\"rango_etario\", y=\"tiene_alto_valor_adquisitivo\", data=df_tmp_1, color='#77dd77', ax=ax2)\n",
    "\n",
    "top_bar = mpatches.Patch(color='#ff6961')\n",
    "bottom_bar = mpatches.Patch(color='#77dd77')\n",
    "\n",
    "ax1.set_title('Personas con alto poder adquisitivo segun rango etario')\n",
    "ax1.set_xlabel('')\n",
    "ax1.set_ylabel('Cantidad')\n",
    "ax1.legend(['No tiene alto VA', 'Tiene alto VA'], loc='upper right')\n",
    "\n",
    "ax2.set_xlabel('Rango etario')\n",
    "ax2.set_ylabel('% Tiene alto valor adquisitivo')\n",
    "\n",
    "\n",
    "plt.show()"
   ]
  },
  {
   "cell_type": "markdown",
   "metadata": {},
   "source": [
    "### Acción en la bolsa"
   ]
  },
  {
   "cell_type": "markdown",
   "metadata": {},
   "source": [
    "#### ¿Hay una relación entre accionar en la bolsa y el valor adquisitivo?\n",
    "Para ello graficaremos la cantidad de gente que accionó en bolsa y la proporción de ellos que poseen un alto poder adquisitivo"
   ]
  },
  {
   "cell_type": "code",
   "execution_count": null,
   "metadata": {},
   "outputs": [],
   "source": [
    "def designar_accion(x):\n",
    "    if(x > 7000):\n",
    "        return \"Mucha ganancia\\n(>7000)\"\n",
    "    elif(x > 0):\n",
    "        return \"Ganancia\"\n",
    "    elif(x == 0):\n",
    "        return \"Nada\"\n",
    "    else:\n",
    "        return \"Perdida\""
   ]
  },
  {
   "cell_type": "code",
   "execution_count": null,
   "metadata": {},
   "outputs": [],
   "source": [
    "df_tmp = df[['ganancia_perdida_declarada_bolsa_argentina', 'tiene_alto_valor_adquisitivo']].copy()\n",
    "df_tmp['bolsa'] = df['ganancia_perdida_declarada_bolsa_argentina'].apply(designar_accion)\n",
    "del df_tmp['ganancia_perdida_declarada_bolsa_argentina']\n",
    "fig, (ax1, ax2) = plt.subplots(nrows=1, ncols=2, dpi=150, figsize=(7.5 * 2, 4.8))\n",
    "color_nada = '#B5B5F5'\n",
    "color_perdida = '#98F585' \n",
    "color_MGanancia = '#FA9C8F'\n",
    "color_ganancia = '#A7F5DA'\n",
    "labels = df_tmp['bolsa'].value_counts().keys()\n",
    "ax1.pie(\n",
    "    x=df_tmp['bolsa'].value_counts(),\n",
    "    explode=[0.05]*4,\n",
    "    labels=labels,\n",
    "    pctdistance=0.5,\n",
    "    colors = [color_nada, color_perdida, color_MGanancia, color_ganancia]\n",
    ")\n",
    "ax1.set_title(\"Proporción del total según acción en bolsa\", fontsize=14);\n",
    "sns.barplot(\n",
    "    data=df_tmp,\n",
    "    x='bolsa',\n",
    "    y='tiene_alto_valor_adquisitivo',\n",
    "    ax=ax2,\n",
    "    estimator=lambda x: np.mean(x)*100.0,\n",
    "    order = ['Mucha ganancia\\n(>7000)', 'Ganancia', 'Nada', 'Perdida'],\n",
    "    palette = [color_MGanancia, color_ganancia, color_nada, color_perdida]\n",
    ")\n",
    "ax2.set_ylabel(\"% Tiene alto valor adquisitivo\")\n",
    "ax2.set_xlabel(\"Declaración de acciones en la bolsa\")\n",
    "ax2.set_title('Relación entre las acciones en la bolsa y el poder adquisitivo')\n",
    "prom = df['tiene_alto_valor_adquisitivo'].mean()*100.0\n",
    "ax2.axhline(prom, color=\"darkred\", label=\"Promedio de personas con alto VA\")\n",
    "ax2.legend()\n",
    "plt.show()"
   ]
  },
  {
   "cell_type": "code",
   "execution_count": null,
   "metadata": {},
   "outputs": [],
   "source": []
  },
  {
   "cell_type": "markdown",
   "metadata": {},
   "source": [
    "## Construyendo el baseline"
   ]
  },
  {
   "cell_type": "markdown",
   "metadata": {},
   "source": [
    "### Visualizando la ganancia en bolsa"
   ]
  },
  {
   "cell_type": "code",
   "execution_count": null,
   "metadata": {},
   "outputs": [],
   "source": [
    "def designar_accion(x):\n",
    "    if(x > 7000):\n",
    "        return \"Mucha ganancia\\n(>7000)\"\n",
    "    elif(x > 0):\n",
    "        return \"Ganancia\"\n",
    "    elif(x == 0):\n",
    "        return \"Nada\"\n",
    "    else:\n",
    "        return \"Perdida\""
   ]
  },
  {
   "cell_type": "code",
   "execution_count": null,
   "metadata": {},
   "outputs": [],
   "source": [
    "df_tmp = df.copy()\n",
    "df_tmp['bolsa'] = df['ganancia_perdida_declarada_bolsa_argentina'].apply(designar_accion)\n",
    "\n",
    "plt.figure(dpi=200)\n",
    "ax = sns.barplot(\n",
    "    data=df_tmp,\n",
    "    palette=\"pastel\",\n",
    "    x='bolsa',\n",
    "    y='tiene_alto_valor_adquisitivo',\n",
    "    estimator=lambda x: np.mean(x)*100.0,\n",
    "    order = ['Mucha ganancia\\n(>7000)', 'Ganancia', 'Nada', 'Perdida'],\n",
    ")\n",
    "plt.ylabel(\"% Tiene alto valor adquisitivo\")\n",
    "plt.xlabel(\"Declaración de acciones en la bolsa\")\n",
    "plt.title('Relación entre las acciones en la bolsa y el poder adquisitivo')\n",
    "prom = df['tiene_alto_valor_adquisitivo'].mean()*100.0\n",
    "plt.axhline(prom, color=\"darkred\", label=\"Promedio de personas con alto VA\")\n",
    "plt.legend()\n",
    "plt.show()"
   ]
  },
  {
   "cell_type": "markdown",
   "metadata": {},
   "source": [
    "Por lo que, de aquí sacamos información respecto "
   ]
  },
  {
   "cell_type": "code",
   "execution_count": null,
   "metadata": {},
   "outputs": [],
   "source": []
  },
  {
   "cell_type": "markdown",
   "metadata": {},
   "source": [
    "## Observaciones"
   ]
  },
  {
   "cell_type": "code",
   "execution_count": null,
   "metadata": {},
   "outputs": [],
   "source": []
  },
  {
   "cell_type": "markdown",
   "metadata": {},
   "source": [
    "## Baseline"
   ]
  },
  {
   "cell_type": "code",
   "execution_count": null,
   "metadata": {},
   "outputs": [],
   "source": []
  },
  {
   "cell_type": "markdown",
   "metadata": {},
   "source": [
    "## Conclusión"
   ]
  },
  {
   "cell_type": "code",
   "execution_count": null,
   "metadata": {},
   "outputs": [],
   "source": []
  }
 ],
 "metadata": {
  "kernelspec": {
   "display_name": "Python 3",
   "language": "python",
   "name": "python3"
  },
  "language_info": {
   "codemirror_mode": {
    "name": "ipython",
    "version": 3
   },
   "file_extension": ".py",
   "mimetype": "text/x-python",
   "name": "python",
   "nbconvert_exporter": "python",
   "pygments_lexer": "ipython3",
   "version": "3.6.9"
  }
 },
 "nbformat": 4,
 "nbformat_minor": 5
}

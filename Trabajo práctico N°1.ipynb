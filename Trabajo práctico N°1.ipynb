{
 "cells": [
  {
   "cell_type": "markdown",
   "metadata": {},
   "source": [
    "# Trabajo práctico N°1: FIUFIP"
   ]
  },
  {
   "cell_type": "markdown",
   "metadata": {},
   "source": [
    "## Parte 1 - Análisis de datos\n",
    "- Continanza, Nicolás (97576)\n",
    "- De Angelis Riva, Lukas Nahuel  (103784)\n",
    "\n",
    "#### FIUFIP: Que No Se Escape Nadie (?)\n",
    "\n",
    "A partir de la información recolectada por FIUFIP, queremos hacer un análisis que nos permita inferir qué ciudadanos tienen un alto poder adquisitivo. Para esto, y tomando en cuenta la información con la que contamos y sus limitaciones, creemos que será valioso poder responder las siguientes preguntas, y evaluar si nos aportan información útil:\n",
    "\n",
    "1. ¿Cuántas personas tienen un alto poder adquisitivo en los datos recolectados por la agencia?\n",
    "2. ¿Cómo se relaciona cada una de las variables del dataset con el poder adquisitivo de las personas presentes en la muestra?\n",
    "3. ¿Qué variables deberíamos tener en cuenta para clasificar a las personas muestreadas según su poder adquisitivo?"
   ]
  },
  {
   "cell_type": "markdown",
   "metadata": {},
   "source": [
    "## Bibliotecas"
   ]
  },
  {
   "cell_type": "markdown",
   "metadata": {},
   "source": [
    "Comencemos por importar las bibliotecas a utilizar."
   ]
  },
  {
   "cell_type": "code",
   "execution_count": null,
   "metadata": {},
   "outputs": [],
   "source": [
    "import pandas as pd\n",
    "\n",
    "from matplotlib import pyplot as plt\n",
    "import matplotlib.patches as mpatches\n",
    "import matplotlib\n",
    "\n",
    "import seaborn as sns\n",
    "sns.set()\n",
    "\n",
    "import squarify\n",
    "\n",
    "import numpy as np\n",
    "\n",
    "import functools\n",
    "import operator"
   ]
  },
  {
   "cell_type": "code",
   "execution_count": null,
   "metadata": {},
   "outputs": [],
   "source": [
    "def get_data():\n",
    "    GSPREADHSEET_DOWNLOAD_URL = (\n",
    "        \"https://docs.google.com/spreadsheets/d/{gid}/export?format=csv&id={gid}\".format\n",
    "    )\n",
    "    TP_GID = '1-DWTP8uwVS-dZY402-dm0F9ICw_6PNqDGLmH0u8Eqa0'\n",
    "    df = pd.read_csv(GSPREADHSEET_DOWNLOAD_URL(gid=TP_GID))\n",
    "    return df    "
   ]
  },
  {
   "cell_type": "code",
   "execution_count": null,
   "metadata": {},
   "outputs": [],
   "source": [
    "df = get_data()"
   ]
  },
  {
   "cell_type": "markdown",
   "metadata": {},
   "source": [
    "## Feature Engineering"
   ]
  },
  {
   "cell_type": "markdown",
   "metadata": {},
   "source": [
    "Antes de comenzar el análisis exploratorio de los datos, estudiemos las características del dataset y analicemos si podemos hacer algunas mejoras para facilitar el trabajo."
   ]
  },
  {
   "cell_type": "markdown",
   "metadata": {},
   "source": [
    "### Missing Values"
   ]
  },
  {
   "cell_type": "markdown",
   "metadata": {},
   "source": [
    "Comencemos por ver qué variables presentan valores nulos."
   ]
  },
  {
   "cell_type": "code",
   "execution_count": null,
   "metadata": {},
   "outputs": [],
   "source": [
    "df.isna().apply(lambda c: functools.reduce(operator.or_, c))"
   ]
  },
  {
   "cell_type": "markdown",
   "metadata": {},
   "source": [
    "Vemos que los únicos missing values se dan en las columnas: `barrio`, `categoría_de_trabajo` y `trabajo`.\n",
    "\n",
    "Analicemos ahora la cantidad de personas cuyo barrio desconocemos."
   ]
  },
  {
   "cell_type": "code",
   "execution_count": null,
   "metadata": {},
   "outputs": [],
   "source": [
    "df['barrio'].notnull().apply(lambda x: 'Con barrio' if x else 'Sin barrio').value_counts().plot(\n",
    "    kind='pie', autopct='%1.0f%%', colors=['#cc79a7', '#f0e442'])"
   ]
  },
  {
   "cell_type": "markdown",
   "metadata": {},
   "source": [
    "Se trata de un 2% del dataset, un valor que consideramos lo suficientemente grande como para no descartarlo."
   ]
  },
  {
   "cell_type": "markdown",
   "metadata": {},
   "source": [
    "Veamos si hay grandes diferencias de poder adquisitivo entre las personas que no indicaron su barrio y las que si."
   ]
  },
  {
   "cell_type": "code",
   "execution_count": null,
   "metadata": {},
   "outputs": [],
   "source": [
    "df_test_barrio = df[['barrio', 'tiene_alto_valor_adquisitivo']].copy()\n",
    "df_test_barrio['tiene_barrio'] = df_test_barrio['barrio'].isna().apply(lambda x: 'No' if x else 'Sí')\n",
    "del df_test_barrio['barrio']\n",
    "\n",
    "plt.figure(dpi=150)\n",
    "ax = sns.barplot(data=df_test_barrio, x='tiene_barrio', y='tiene_alto_valor_adquisitivo', palette='rainbow')\n",
    "\n",
    "plt.ylabel(\"Tiene alto valor adquisitivo\")\n",
    "plt.xlabel(\"Tiene barrio\")\n",
    "plt.title('Diferencia de poder adquisitivo entre gente con barrio y gente sin barrio')\n",
    "plt.show()"
   ]
  },
  {
   "cell_type": "markdown",
   "metadata": {},
   "source": [
    "Vemos que, a priori, haber informado el barrio o no haberlo hecho no tiene un impacto significativo sobre la variable objetivo. Por lo tanto, rellenaremos esos valores faltantes asignando aleatoriamente un barrio, considerando la distribución de los mismos en la muestra que estamos analizando."
   ]
  },
  {
   "cell_type": "code",
   "execution_count": null,
   "metadata": {},
   "outputs": [],
   "source": [
    "data_set_mejorado = df.copy()\n",
    "barrios = df['barrio'].dropna()\n",
    "cantidad = df['barrio'].isna().value_counts()[True]\n",
    "muestra = barrios.sample(cantidad)\n",
    "it = iter(muestra)\n",
    "data_set_mejorado['barrio'] = data_set_mejorado['barrio'].apply(lambda x: next(it) if str(x) == 'nan' else x)"
   ]
  },
  {
   "cell_type": "markdown",
   "metadata": {},
   "source": [
    "De forma similar, analizaremos la variable `categoria_de_trabajo`."
   ]
  },
  {
   "cell_type": "code",
   "execution_count": null,
   "metadata": {},
   "outputs": [],
   "source": [
    "df['categoria_de_trabajo'].notnull().apply(lambda x: 'Respondió' if x else 'No respondió').value_counts().plot(\n",
    "    kind='pie', autopct='%1.0f%%', colors=['#cc79a7', '#f0e442']\n",
    ")"
   ]
  },
  {
   "cell_type": "markdown",
   "metadata": {},
   "source": [
    "Nuevamente estamos frente a un caso donde no podemos despreciar aquellas muestras que no informen su categoría de trabajo."
   ]
  },
  {
   "cell_type": "code",
   "execution_count": null,
   "metadata": {},
   "outputs": [],
   "source": [
    "df_test_categoria = df[['categoria_de_trabajo', 'tiene_alto_valor_adquisitivo']].copy()\n",
    "df_test_categoria['tiene_categoria'] = df_test_categoria['categoria_de_trabajo'].isna().apply(lambda x: 'No' if x else 'Sí')\n",
    "del df_test_categoria['categoria_de_trabajo']\n",
    "\n",
    "plt.figure(dpi=150)\n",
    "ax = sns.barplot(data=df_test_categoria, x='tiene_categoria', y='tiene_alto_valor_adquisitivo', palette='rainbow')\n",
    "\n",
    "plt.ylabel(\"Tiene alto valor adquisitivo\")\n",
    "plt.xlabel(\"Tiene categoría de trabajo\")\n",
    "plt.title('Diferencia de poder adquisitivo entre gente con categoría de trabajo y gente sin categoría de trabajo')\n",
    "plt.show()"
   ]
  },
  {
   "cell_type": "markdown",
   "metadata": {},
   "source": [
    "Aquí ya se puede ver información interesante: la gente que no responde su categoría de trabajo, en general tiene menor valor adquisitivo.\n",
    "\n",
    "Veamos ahora la relación entre valores nulos en `trabajo` y valores nulos en `categoría_de_trabajo`."
   ]
  },
  {
   "cell_type": "code",
   "execution_count": null,
   "metadata": {},
   "outputs": [],
   "source": [
    "df[['categoria_de_trabajo', 'trabajo']].isna().apply(lambda column: column.value_counts()[True])"
   ]
  },
  {
   "cell_type": "markdown",
   "metadata": {},
   "source": [
    "Hay una diferencia de 7 entradas, que serán las siguientes:"
   ]
  },
  {
   "cell_type": "code",
   "execution_count": null,
   "metadata": {},
   "outputs": [],
   "source": [
    "df[df['categoria_de_trabajo'].notnull() & df['trabajo'].isna()]"
   ]
  },
  {
   "cell_type": "markdown",
   "metadata": {},
   "source": [
    "Esto quiere decir que tener un valor NA en `categoria_de_trabajo` se corresponde con tener un valor NA  en `trabajo`, y si hay un NA en trabajo, salvo por estos últimos 7 casos, habrá un NA en `categoria_de_trabajo`.\n",
    "\n",
    "En base a esto, vamos a crear una nueva categoría llamada \"sin_categoria\", para todas aquellas personas que tengan valor nulo en `categoria_de_trabajo`, y otra llamada \"no_responde\" para quienes tengan valor nulo en `trabajo`."
   ]
  },
  {
   "cell_type": "code",
   "execution_count": null,
   "metadata": {},
   "outputs": [],
   "source": [
    "data_set_mejorado['categoria_de_trabajo'] = data_set_mejorado['categoria_de_trabajo'].apply(lambda x: 'Sin categoria' if str(x) == 'nan' else x)"
   ]
  },
  {
   "cell_type": "code",
   "execution_count": null,
   "metadata": {},
   "outputs": [],
   "source": [
    "data_set_mejorado['trabajo'] = data_set_mejorado['trabajo'].apply(lambda x: 'No responde' if str(x) == 'nan' else x)"
   ]
  },
  {
   "cell_type": "code",
   "execution_count": null,
   "metadata": {},
   "outputs": [],
   "source": [
    "data_set_mejorado = data_set_mejorado[data_set_mejorado.categoria_de_trabajo != 'sin_trabajo']"
   ]
  },
  {
   "cell_type": "markdown",
   "metadata": {},
   "source": [
    "A continuación estudiaremos si `educacion_alcanzada` tiene una relación fuerte con la columna `anios_estudiados`"
   ]
  },
  {
   "cell_type": "code",
   "execution_count": null,
   "metadata": {},
   "outputs": [],
   "source": [
    "df[['anios_estudiados', 'educacion_alcanzada']].groupby('educacion_alcanzada').aggregate(set)"
   ]
  },
  {
   "cell_type": "markdown",
   "metadata": {},
   "source": [
    "Como esperábamos, la columna `educacion_alcanzada` posee la misma información que `anios_estudiados`.\n",
    "\n",
    "Una interpretacion de esto es que la gente que esta cargada en este set de datos nunca repitió un año escolar ni se atrasó en la carrera universitaria.\n",
    "\n",
    "Proponemos eliminar la columna `educacion_alcanzada`, ya que es una variable categórica (más difícil de manipular) con un orden impuesto directamente por la columna `anios_estudiados`."
   ]
  },
  {
   "cell_type": "code",
   "execution_count": null,
   "metadata": {},
   "outputs": [],
   "source": [
    "del data_set_mejorado['educacion_alcanzada']"
   ]
  },
  {
   "cell_type": "markdown",
   "metadata": {},
   "source": [
    "Para finalizar, notemos que en la columna `rol_familiar_registrado` las personas solteras están identificadas con el valor \"soltero_a\", y no hay una distinción por género de la persona. Por el contrario, las personas casadas pueden tener valor \"casado\" o \"casada\" según su género. Dado que tenemos la posibilidad de conocer el género de la persona gracias a la columna `genero`, podemos unificar y quedarnos con un solo valor."
   ]
  },
  {
   "cell_type": "code",
   "execution_count": null,
   "metadata": {},
   "outputs": [],
   "source": [
    "data_set_mejorado['rol_familiar_registrado'] = data_set_mejorado['rol_familiar_registrado'].apply(lambda x : 'casado' if x == 'casada' else x)"
   ]
  },
  {
   "cell_type": "markdown",
   "metadata": {},
   "source": [
    "A continuación, una función que encapsula todo el trabajo realizado sobre el dataset inicial."
   ]
  },
  {
   "cell_type": "code",
   "execution_count": null,
   "metadata": {},
   "outputs": [],
   "source": [
    "def feature_engineering(df):\n",
    "    # Missings en barrio\n",
    "    data_set_mejorado = df.copy()\n",
    "    barrios = df['barrio'].dropna()\n",
    "    cantidad = df['barrio'].isna().value_counts()[True]\n",
    "    muestra = barrios.sample(cantidad)\n",
    "    it = iter(muestra)\n",
    "    data_set_mejorado['barrio'] = data_set_mejorado['barrio'].apply(lambda x: next(it) if str(x) == 'nan' else x)\n",
    "\n",
    "    # Missings en categoría de trabajo\n",
    "    data_set_mejorado['categoria_de_trabajo'] = data_set_mejorado['categoria_de_trabajo'].apply(lambda x: 'Sin categoria' if str(x) == 'nan' else x)\n",
    "\n",
    "    # Missings en trabajo\n",
    "    data_set_mejorado['trabajo'] = data_set_mejorado['trabajo'].apply(lambda x: 'No responde' if str(x) == 'nan' else x)\n",
    "\n",
    "    # Eliminación de categoría \"sin trabajo\"\n",
    "    data_set_mejorado = data_set_mejorado[data_set_mejorado.categoria_de_trabajo != 'sin_trabajo']\n",
    "\n",
    "    # Eliminación de el atributo eduación alcanzada\n",
    "    del data_set_mejorado['educacion_alcanzada']\n",
    "\n",
    "    # Juntamos casado y casada en una misma categoría.\n",
    "    data_set_mejorado['rol_familiar_registrado'] = data_set_mejorado['rol_familiar_registrado'].apply(lambda x : 'casado' if x == 'casada' else x)\n",
    "    \n",
    "    return data_set_mejorado"
   ]
  },
  {
   "cell_type": "markdown",
   "metadata": {},
   "source": [
    "## Análisis Exploratorio"
   ]
  },
  {
   "cell_type": "markdown",
   "metadata": {},
   "source": [
    "Con lo anterior, obtenemos los datos, aplicamos la función de feature engineering y comenzamos con el análisis exploratorio para clasificar a las personas muestreadas."
   ]
  },
  {
   "cell_type": "code",
   "execution_count": null,
   "metadata": {},
   "outputs": [],
   "source": [
    "df = get_data()\n",
    "df = feature_engineering(df)"
   ]
  },
  {
   "cell_type": "markdown",
   "metadata": {},
   "source": [
    "Nuestra variable objetivo será `tiene_alto_valor_adquisitivo` una variable que puede tomar valores 0 ó 1.\n",
    "\n",
    "Veamos cómo se distribuye el valor de esta variable entre los individuos de la muestra que vamos a analizar. Por tratarse de una variable dicotómica de la que solo nos interesa conocer su distribución, podemos usar un gráfico de torta."
   ]
  },
  {
   "cell_type": "code",
   "execution_count": null,
   "metadata": {},
   "outputs": [],
   "source": [
    "plt.figure(dpi=100)\n",
    "df[\"tiene_alto_valor_adquisitivo\"].apply(lambda x: 'Sí' if x==1 else 'No').value_counts().plot(\n",
    "    kind='pie', autopct='%1.0f%%', colors=['#cc79a7', '#f0e442']\n",
    ")\n",
    "plt.title('¿Tiene alto valor adquisitivo?')\n",
    "plt.ylabel(\"\")\n",
    "plt.show()"
   ]
  },
  {
   "cell_type": "markdown",
   "metadata": {},
   "source": [
    "Como podemos observar, cerca de las tres cuartas partes de las personas muestreadas tienen un bajo poder adquisitivo. \n",
    "\n",
    "Para continuar el análisis, vamos a ver cómo se relaciona (si es que lo hacen) cada columna del dataset con la variable objetivo"
   ]
  },
  {
   "cell_type": "code",
   "execution_count": null,
   "metadata": {
    "scrolled": true
   },
   "outputs": [],
   "source": [
    "df.columns"
   ]
  },
  {
   "cell_type": "markdown",
   "metadata": {},
   "source": [
    "### Edad\n",
    "\n",
    "#### ¿Hay una relación entre la edad y el valor adquisitivo?\n",
    "Para intentar responder esta pregunta, agruparemos a los individuos muestreados por su edad, y estudiaremos cuántas personas de cada grupo etario tienen alto o bajo poder adquisitivo.\n",
    "\n",
    "Para facilitar el análisis y la visualización de los resultados, dichos grupos etarios serán bins de 10 años."
   ]
  },
  {
   "cell_type": "code",
   "execution_count": null,
   "metadata": {},
   "outputs": [],
   "source": [
    "df_tmp = df[['edad', 'tiene_alto_valor_adquisitivo']].copy()\n",
    "df_tmp['rango_etario'] = pd.cut(df_tmp.edad, range(10, int(df_tmp['edad'].max()) + 10, 10))\n",
    "\n",
    "# Configuro el grafico, armo el countplot y setteo labels varios\n",
    "fig, (ax1, ax2) = plt.subplots(nrows=2, ncols=1, dpi=150, figsize=(6.4 * 2, 4.8 * 2))\n",
    "sns.countplot(\n",
    "    data = df_tmp,\n",
    "    x = 'rango_etario',\n",
    "    hue='tiene_alto_valor_adquisitivo',\n",
    "    ax = ax1,\n",
    "    palette = ['#cc79a7', '#f0e442']\n",
    ").set(xticklabels=[])\n",
    "\n",
    "total = df_tmp.groupby('rango_etario')['tiene_alto_valor_adquisitivo'].count().reset_index()\n",
    "df_tmp_1 = df_tmp[df_tmp['tiene_alto_valor_adquisitivo']==1].groupby('rango_etario')['tiene_alto_valor_adquisitivo'].count().reset_index()\n",
    "df_tmp_1['tiene_alto_valor_adquisitivo'] = [i / j * 100 for i,j in zip(df_tmp_1['tiene_alto_valor_adquisitivo'], total['tiene_alto_valor_adquisitivo'])]\n",
    "total['tiene_alto_valor_adquisitivo'] = [i / j * 100 for i,j in zip(total['tiene_alto_valor_adquisitivo'], total['tiene_alto_valor_adquisitivo'])]\n",
    "\n",
    "bar1 = sns.barplot(x=\"rango_etario\",  y=\"tiene_alto_valor_adquisitivo\", data=total, color='#cc79a7', ax=ax2)\n",
    "bar2 = sns.barplot(x=\"rango_etario\", y=\"tiene_alto_valor_adquisitivo\", data=df_tmp_1, color='#f0e442', ax=ax2)\n",
    "\n",
    "top_bar = mpatches.Patch(color='#ff6961')\n",
    "bottom_bar = mpatches.Patch(color='#77dd77')\n",
    "\n",
    "ax1.set_title('Personas con alto poder adquisitivo segun rango etario')\n",
    "ax1.set_xlabel('')\n",
    "ax1.set_ylabel('Cantidad')\n",
    "ax1.legend(['No tiene alto VA', 'Tiene alto VA'], loc='upper right')\n",
    "\n",
    "ax2.set_xlabel('Rango etario')\n",
    "ax2.set_ylabel('% Tiene alto valor adquisitivo')\n",
    "\n",
    "\n",
    "plt.show()"
   ]
  },
  {
   "cell_type": "markdown",
   "metadata": {},
   "source": [
    "Como podemos ver, es más probable encontrar personas de alto poder adquisitivo entre aquellas que están entre los 30 y 70 años de edad. Mucho menos probable es que esto ocurra para personas de entre 20 y 30 años o más de 70 años, y no ocurrirá para personas menores de 20. Cabe notar que de 70 años en adelante son muy pocas las muestras tomadas."
   ]
  },
  {
   "cell_type": "markdown",
   "metadata": {},
   "source": [
    "### Acción en la bolsa"
   ]
  },
  {
   "cell_type": "markdown",
   "metadata": {},
   "source": [
    "#### ¿Hay una relación entre invertir en la bolsa y el valor adquisitivo?\n",
    "Para responder esta pregunta graficaremos la cantidad de gente que accionó en bolsa y la proporción de ellos que poseen un alto poder adquisitivo. Para segmentar a los individuos de la población que estamos estudiando, consideraremos cuatro grupos: por un lado, aquellos que no declararon operaciones en la bolsa argentina, que son aquellos cuyo valor es 0 en esta columna del dataset. Por otro lado, aquellos que informaron pérdidas, identificados por un número menor a 0 en esta columna. Y, entre quienes tienen un valor positivo, consideraremos \"Mucha ganancia\" a los valores mayores a 7000 y \"Ganancia\" al resto."
   ]
  },
  {
   "cell_type": "code",
   "execution_count": null,
   "metadata": {},
   "outputs": [],
   "source": [
    "def designar_accion(x):\n",
    "    if(x > 7000):\n",
    "        return \"Mucha ganancia\\n(>7000)\"\n",
    "    elif(x > 0):\n",
    "        return \"Ganancia\"\n",
    "    elif(x == 0):\n",
    "        return \"Nada\"\n",
    "    else:\n",
    "        return \"Perdida\""
   ]
  },
  {
   "cell_type": "code",
   "execution_count": null,
   "metadata": {},
   "outputs": [],
   "source": [
    "df_tmp = df[['ganancia_perdida_declarada_bolsa_argentina', 'tiene_alto_valor_adquisitivo']].copy()\n",
    "df_tmp['bolsa'] = df['ganancia_perdida_declarada_bolsa_argentina'].apply(designar_accion)\n",
    "del df_tmp['ganancia_perdida_declarada_bolsa_argentina']\n",
    "fig, (ax1, ax2) = plt.subplots(nrows=1, ncols=2, dpi=150, figsize=(7.5 * 2, 4.8))\n",
    "color_nada = '#B5B5F5'\n",
    "color_perdida = '#98F585' \n",
    "color_MGanancia = '#FA9C8F'\n",
    "color_ganancia = '#A7F5DA'\n",
    "labels = df_tmp['bolsa'].value_counts().keys()\n",
    "ax1.pie(\n",
    "    x=df_tmp['bolsa'].value_counts(),\n",
    "    explode=[0.05]*4,\n",
    "    labels=labels,\n",
    "    pctdistance=0.5,\n",
    "    colors = [color_nada, color_perdida, color_MGanancia, color_ganancia]\n",
    ")\n",
    "ax1.set_title(\"Proporción del total según acción en bolsa\", fontsize=14);\n",
    "sns.barplot(\n",
    "    data=df_tmp,\n",
    "    x='bolsa',\n",
    "    y='tiene_alto_valor_adquisitivo',\n",
    "    ax=ax2,\n",
    "    estimator=lambda x: np.mean(x)*100.0,\n",
    "    order = ['Mucha ganancia\\n(>7000)', 'Ganancia', 'Nada', 'Perdida'],\n",
    "    palette = [color_MGanancia, color_ganancia, color_nada, color_perdida]\n",
    ")\n",
    "ax2.set_ylabel(\"% Tiene alto valor adquisitivo\")\n",
    "ax2.set_xlabel(\"Declaración de acciones en la bolsa\")\n",
    "ax2.set_title('Relación entre las acciones en la bolsa y el poder adquisitivo')\n",
    "prom = df['tiene_alto_valor_adquisitivo'].mean()*100.0\n",
    "ax2.axhline(prom, color=\"darkred\", label=\"Promedio de personas con alto VA\")\n",
    "ax2.legend()\n",
    "plt.show()"
   ]
  },
  {
   "cell_type": "markdown",
   "metadata": {},
   "source": [
    "Parece haber una relación bastante marcada con la gente que declaró un balance neto 0 en acciones de la bolsa y su poder adquisitivo, donde cerca del 80% de estas personas tienen un poder adquisitivo bajo.\n",
    "\n",
    "Una proporción similar se puede ver entre las personas que declararon una ganancia menor a \\$7000. \n",
    "\n",
    "También vemos que alrededor de la mitad de las personas que declararon un balance negativo en la bolsa tienen poder adquisitivo alto.\n",
    "\n",
    "Finalmente, hay una clara relación entre la declaración de ganancias superiores a \\$7000 y el poder adquisitivo de las personas que lo hicieron, donde casi la totalidad de ellas tienen un poder adquisitivo algo."
   ]
  },
  {
   "cell_type": "markdown",
   "metadata": {},
   "source": [
    "### Barrio\n",
    "\n",
    "#### ¿Hay una relación entre el barrio y el valor adquisitivo?\n",
    "Veamos la distribución de las ciudades y cómo esta afecta al poder adquisitivo. Consideraremos estadísticamente significativos aquellos barrios de los que se hayan tomado al menos 100 muestras."
   ]
  },
  {
   "cell_type": "code",
   "execution_count": null,
   "metadata": {},
   "outputs": [],
   "source": [
    "fig, (ax2, ax1) = plt.subplots(nrows=1, ncols=2, dpi=300, figsize=(7.5 * 2, 4.8))\n",
    "\n",
    "cant_min = 100\n",
    "tabla = df['barrio'].value_counts()\n",
    "barrios_significativos = tabla[tabla > cant_min].reset_index()['index'].unique()\n",
    "df_tmp = df[['barrio', 'tiene_alto_valor_adquisitivo']].copy()\n",
    "df_tmp['barrio'] = df_tmp['barrio'].apply(lambda x: x if x in barrios_significativos else 'Otro')\n",
    "\n",
    "\n",
    "paleta=sns.color_palette(\"deep\")\n",
    "\n",
    "barrios = df_tmp['barrio'].value_counts()\n",
    "squarify.plot(barrios, label=barrios.keys(), alpha=0.75,color=paleta,  text_kwargs={'fontsize':7}, norm_x=1, norm_y=3, ax=ax1)\n",
    "ax1.axis('off')\n",
    "\n",
    "orden = df_tmp.groupby(['barrio'])['tiene_alto_valor_adquisitivo'].aggregate(lambda x : len(x)).reset_index().sort_values('tiene_alto_valor_adquisitivo', ascending = False)\n",
    "sns.barplot(\n",
    "    data=df_tmp,\n",
    "    palette=paleta,\n",
    "    x='barrio',\n",
    "    y='tiene_alto_valor_adquisitivo',\n",
    "    order=orden['barrio'],\n",
    "    ax=ax2,\n",
    "    estimator=lambda x: np.mean(x)*100.0\n",
    ")\n",
    "\n",
    "ax1.set_title(\"Proporción de personas registradas según barrio\")\n",
    "ax1.set_xlabel(\"Significancia mínima: 100 muestras\")\n",
    "\n",
    "ax2.set_ylabel(\"% Tiene alto valor adquisitivo\")\n",
    "ax2.set_xlabel(\"Barrio\")\n",
    "ax2.set_xticklabels(ax2.get_xticklabels(), rotation=90)\n",
    "ax2.set_title('Relación entre barrio y poder adquisitivo')\n",
    "prom = df['tiene_alto_valor_adquisitivo'].mean()*100.0\n",
    "ax2.axhline(prom, color=\"red\", label=\"Promedio de personas con alto VA\")\n",
    "ax2.legend()\n",
    "\n",
    "plt.show()"
   ]
  },
  {
   "cell_type": "markdown",
   "metadata": {},
   "source": [
    "Aquí vemos que no hay una tendencia clara que nos permita segmentar a las personas según el barrio en el que viven y a partir de eso inferir si su poder adquisitivo es alto o bajo. Además, vemos que una enorme cantidad de las muestras que estamos analizando provienen del barrio de Palermo, lo que introduciría un sesgo muy fuerte si tomáramos decisiones teniendo en cuenta esta columna. Podríamos, por ejemplo, decir que las personas que viven en Belgrano y en Agronomía tienen una alta probabilidad de tener bajo poder adquisitivo, pero eso nos llevaría al overfitting en nuestro modelo."
   ]
  },
  {
   "cell_type": "markdown",
   "metadata": {},
   "source": [
    "### Años estudiados\n",
    "\n",
    "#### ¿Hay una relación entre la cantidad de años estudiados y el valor adquisitivo?\n",
    "Veamos si encontramos una relación entre estas dos variables."
   ]
  },
  {
   "cell_type": "code",
   "execution_count": null,
   "metadata": {},
   "outputs": [],
   "source": [
    "fig, (ax1, ax2) = plt.subplots(nrows=1, ncols=2, dpi=150, figsize=(7.5 * 2, 4.8))\n",
    "\n",
    "df_tmp = df[['anios_estudiados', 'tiene_alto_valor_adquisitivo']].copy()\n",
    "\n",
    "ax1.set_title(\"Relación entre los años estudiados y el poder adquisitivo\")\n",
    "sns.violinplot(\n",
    "    data=df_tmp,\n",
    "    x='tiene_alto_valor_adquisitivo',\n",
    "    y='anios_estudiados',\n",
    "    ax=ax1,\n",
    "    palette=\"Blues_d\"\n",
    ")\n",
    "ax1.tick_params(which='both', width=2)\n",
    "ax1.set_ylabel(\"Años estudiados\")\n",
    "ax1.set_xlabel(\"¿Tiene alto valor adquisitivo?\")\n",
    "ax1.set_xticklabels(labels=[\"No\", \"Sí\"])\n",
    "\n",
    "sns.barplot(\n",
    "    data=df_tmp,\n",
    "    palette=\"Blues_d\",\n",
    "    x='anios_estudiados',\n",
    "    y='tiene_alto_valor_adquisitivo',\n",
    "    ax=ax2,\n",
    "    estimator = lambda x: np.mean(x)*100.0\n",
    ")\n",
    "\n",
    "ax2.set_ylabel(\"% Tiene alto valor adquisitivo\")\n",
    "ax2.set_xlabel(\"Años estudiados\")\n",
    "ax2.set_title('Relación entre la cantidad de años estudiados y poder adquisitivo')\n",
    "prom = df['tiene_alto_valor_adquisitivo'].mean()*100.0\n",
    "ax2.axhline(prom, color=\"lightblue\", label=\"Promedio de personas con alto VA\")\n",
    "ax2.legend()\n",
    "\n",
    "plt.show()"
   ]
  },
  {
   "cell_type": "markdown",
   "metadata": {},
   "source": [
    "Podemos ver una relación muy marcada entre estas dos variables, donde quienes tienen 12 años de estudio o menos se encuentran entre la población de menor poder adquisitivo, y quienes superan los 18 años de estudio tienden a tener un poder adquisitivo alto. El violin plot de la izquierda, a su vez, nos ayuda a ver que los dos grupos antes mencionados cuentan con pocos individuos presentes en la muestra, mientras que el conjunto que tiene entre 13 y 17 años de estudios concentra a la mayor parte de la población muestreada. "
   ]
  },
  {
   "cell_type": "markdown",
   "metadata": {},
   "source": [
    "### Horas trabajadas\n",
    "\n",
    "#### ¿Hay una relación entre la cantidad de horas trabajadas y el valor adquisitivo?\n"
   ]
  },
  {
   "cell_type": "code",
   "execution_count": null,
   "metadata": {},
   "outputs": [],
   "source": [
    "df_tmp = df[['horas_trabajo_registradas', 'tiene_alto_valor_adquisitivo']].copy()\n",
    "df_tmp['rango_horas_trabajadas'] = pd.cut(df_tmp.horas_trabajo_registradas, range(10, int(df_tmp['horas_trabajo_registradas'].max()) + 10, 10))\n",
    "\n",
    "# Configuro el grafico, armo el countplot y setteo labels varios\n",
    "fig, (ax1, ax2) = plt.subplots(nrows=2, ncols=1, dpi=150, figsize=(6.4 * 2, 4.8 * 2))\n",
    "sns.countplot(\n",
    "    data = df_tmp,\n",
    "    x = 'rango_horas_trabajadas',\n",
    "    hue='tiene_alto_valor_adquisitivo',\n",
    "    ax = ax1,\n",
    "    palette = ['#cc79a7', '#f0e442']\n",
    ").set(xticklabels=[])\n",
    "\n",
    "total = df_tmp.groupby('rango_horas_trabajadas')['tiene_alto_valor_adquisitivo'].count().reset_index()\n",
    "df_tmp_1 = df_tmp[df_tmp['tiene_alto_valor_adquisitivo']==1].groupby('rango_horas_trabajadas')['tiene_alto_valor_adquisitivo'].count().reset_index()\n",
    "df_tmp_1['tiene_alto_valor_adquisitivo'] = [i / j * 100 for i,j in zip(df_tmp_1['tiene_alto_valor_adquisitivo'], total['tiene_alto_valor_adquisitivo'])]\n",
    "total['tiene_alto_valor_adquisitivo'] = [i / j * 100 for i,j in zip(total['tiene_alto_valor_adquisitivo'], total['tiene_alto_valor_adquisitivo'])]\n",
    "\n",
    "bar1 = sns.barplot(x=\"rango_horas_trabajadas\",  y=\"tiene_alto_valor_adquisitivo\", data=total, color='#cc79a7', ax=ax2)\n",
    "bar2 = sns.barplot(x=\"rango_horas_trabajadas\", y=\"tiene_alto_valor_adquisitivo\", data=df_tmp_1, color='#f0e442', ax=ax2)\n",
    "\n",
    "top_bar = mpatches.Patch(color='#ff6961')\n",
    "bottom_bar = mpatches.Patch(color='#77dd77')\n",
    "\n",
    "ax1.set_title('Personas con alto poder adquisitivo segun la cantidad de horas trabajadas')\n",
    "ax1.set_xlabel('')\n",
    "ax1.set_ylabel('Cantidad')\n",
    "ax1.legend(['No tiene alto VA', 'Tiene alto VA'], loc='upper right')\n",
    "\n",
    "ax2.set_xlabel('Horas trabajadas')\n",
    "ax2.set_ylabel('% Tiene alto valor adquisitivo')\n",
    "\n",
    "\n",
    "plt.show()"
   ]
  },
  {
   "cell_type": "markdown",
   "metadata": {},
   "source": [
    "Vemos que en los casos en que las horas trabajadas son menores o iguales a 30 casi todas las personas muestreadas tienen un poder adquisitivo bajo. Los individuos con poder adquisitivo alto empiezan a aparecer en su mayoría a partir de las 30 horas trabajadas, y para 40 horas en adelante empiezan a ocupar un porcentaje importante de la muestra. Por ejemplo, para quienes trabajan entre 50 y 60 horas, la relación es casi 50/50."
   ]
  },
  {
   "cell_type": "markdown",
   "metadata": {},
   "source": [
    "### ¿Influye el rol familiar registrado sobre el poder adquisitivo? ¿Las personas con hijos tienen menos poder adquisitivo?"
   ]
  },
  {
   "cell_type": "code",
   "execution_count": null,
   "metadata": {},
   "outputs": [],
   "source": [
    "df_tmp = df[['rol_familiar_registrado', 'tiene_alto_valor_adquisitivo']].copy()\n",
    "\n",
    "fig, (ax1, ax2) = plt.subplots(nrows=1, ncols=2, dpi=150, figsize=(7.5 * 2, 4.8))\n",
    "\n",
    "color_sinFam = '#B5B5F5'\n",
    "color_casado = '#98F585' \n",
    "color_conHijos = '#FA9C8F'\n",
    "color_soltero = '#A7F5DA'\n",
    "color_otro = '#FAD566'\n",
    "\n",
    "labels = df_tmp['rol_familiar_registrado'].value_counts().keys()\n",
    "ax1.pie(\n",
    "    x=df_tmp['rol_familiar_registrado'].value_counts(),\n",
    "    explode=[0.01]*len(df_tmp['rol_familiar_registrado'].value_counts()),\n",
    "    labels=labels,\n",
    "    pctdistance=0.5,\n",
    "    colors = [color_casado, color_sinFam, color_conHijos, color_soltero, color_otro]\n",
    ")\n",
    "\n",
    "ax1.set_title(\"Proporción del total según rol familiar registrado\", fontsize=14);\n",
    "sns.barplot(\n",
    "    data=df_tmp,\n",
    "    y='rol_familiar_registrado',\n",
    "    x='tiene_alto_valor_adquisitivo',\n",
    "    ax=ax2,\n",
    "    estimator=lambda x: np.mean(x)*100.0,\n",
    "    order = ['casado', 'sin_familia', 'soltero_a', 'otro','con_hijos'],\n",
    "    palette = [color_casado, color_sinFam, color_soltero, color_otro, color_conHijos]\n",
    ")\n",
    "\n",
    "ax2.set_ylabel(\"Rol familiar registrado\")\n",
    "ax2.set_xlabel(\"% Tiene alto valor adquisitivo\")\n",
    "ax2.set_title('Relación rol familiar registrado y el poder adquisitivo')\n",
    "prom = df['tiene_alto_valor_adquisitivo'].mean()*100.0\n",
    "ax2.axvline(prom, color=\"darkred\", label=\"Promedio de personas con alto VA\")\n",
    "ax2.legend()\n",
    "plt.show()"
   ]
  },
  {
   "cell_type": "markdown",
   "metadata": {},
   "source": [
    "Si bien no vemos una categoría que se incline a tener un alto poder adquisitivo por sobre el resto, vemos que en general las personas sin familia, solteros/as, con hijos y otros se inclinan notablemente a tener un poder adquisitivo bajo."
   ]
  },
  {
   "cell_type": "markdown",
   "metadata": {},
   "source": [
    "#### ¿La religión afecta al poder adquisitivo? ¿El género? ¿Afectan en conjunto?"
   ]
  },
  {
   "cell_type": "code",
   "execution_count": null,
   "metadata": {},
   "outputs": [],
   "source": [
    "fig, (ax1, ax2) = plt.subplots(nrows=1, ncols=2, dpi=150, figsize=(7.5*2, 4.8), sharey=True)\n",
    "df_tmp_h = df[df['genero'] == 'hombre']\n",
    "orden = df_tmp_h.groupby(['religion'])['tiene_alto_valor_adquisitivo'].aggregate(lambda x : np.mean(x)).reset_index().sort_values('tiene_alto_valor_adquisitivo', ascending = False)\n",
    "sns.barplot(\n",
    "    data=df_tmp_h,\n",
    "    palette=\"pastel\",\n",
    "    x='religion',\n",
    "    y='tiene_alto_valor_adquisitivo',\n",
    "    ax=ax1,\n",
    "    order=orden['religion'],\n",
    "    estimator=lambda x: np.mean(x)*100.0\n",
    ")\n",
    "prom = df_tmp_h['tiene_alto_valor_adquisitivo'].mean()*100.0\n",
    "ax1.set_ylabel(\"% Tiene alto valor adquisitivo\")\n",
    "ax1.set_xlabel(\"Religion\")\n",
    "ax1.set_title('Sólo hombres')\n",
    "ax1.axhline(prom, color=\"darkred\", label=\"Promedio de hombres con alto VA\")\n",
    "ax1.legend()\n",
    "df_tmp_m = df[df['genero'] == 'mujer']\n",
    "orden = df_tmp_m.groupby(['religion'])['tiene_alto_valor_adquisitivo'].aggregate(lambda x : np.mean(x)).reset_index().sort_values('tiene_alto_valor_adquisitivo', ascending = False)\n",
    "sns.barplot(\n",
    "    data=df_tmp_m,\n",
    "    palette=\"pastel\",\n",
    "    x='religion',\n",
    "    y='tiene_alto_valor_adquisitivo',\n",
    "    ax=ax2,\n",
    "    order=orden['religion'],\n",
    "    estimator=lambda x: np.mean(x)*100.0\n",
    ")\n",
    "prom = df_tmp_m['tiene_alto_valor_adquisitivo'].mean()*100.0\n",
    "ax2.set_ylabel(\"\")\n",
    "ax2.set_xlabel(\"Religion\")\n",
    "ax2.set_title('Sólo mujeres')\n",
    "ax2.axhline(prom, color=\"darkred\", label=\"Promedio de mujeres con alto VA\")\n",
    "ax2.legend()\n",
    "fig.suptitle('Relación entre religión, género y poder adquisitivo', fontsize=16)\n",
    "plt.show()"
   ]
  },
  {
   "cell_type": "markdown",
   "metadata": {},
   "source": [
    "Nuevamente, no encontramos elementos en esta variable que nos lleven a clasificar a los miembros de alguna religión en particular como personas de alto poder adquisitivo, pero sí podemos observar muy pocas mujeres que profesen el judaísmo u otras religiones y tengan alto poder adquisitivo."
   ]
  },
  {
   "cell_type": "markdown",
   "metadata": {},
   "source": [
    "### El rol familiar registrado y el estado marital tienen la misma influencia sobre el poder adquisitivo?\n",
    "Esto es, obtener información de una de esas variables da información sobre la otra?, veamoslo en un heatmap"
   ]
  },
  {
   "cell_type": "code",
   "execution_count": null,
   "metadata": {},
   "outputs": [],
   "source": [
    "plt.figure(dpi = 160)\n",
    "df_tmp = df[['estado_marital','rol_familiar_registrado', 'tiene_alto_valor_adquisitivo']].copy()\n",
    "cooccurrence_g = pd.pivot_table(\n",
    "    df_tmp,\n",
    "    'tiene_alto_valor_adquisitivo',\n",
    "    'estado_marital',\n",
    "    'rol_familiar_registrado',\n",
    "    'count'\n",
    ")\n",
    "sns.heatmap(cooccurrence_g, cmap='Wistia', annot=True, fmt=\".5g\")\n",
    "plt.xticks(rotation=45)\n",
    "plt.yticks(rotation=0)\n",
    "plt.ylabel(\"Estado marital\")\n",
    "plt.xlabel(\"Rol familiar registrado\")\n",
    "plt.show()"
   ]
  },
  {
   "cell_type": "markdown",
   "metadata": {},
   "source": [
    "Por lo que efectivamente, en términos generales, la información obtenida de ambos es equivalente."
   ]
  },
  {
   "cell_type": "markdown",
   "metadata": {},
   "source": [
    "### Trabajo y categoría de trabajo"
   ]
  },
  {
   "cell_type": "code",
   "execution_count": null,
   "metadata": {},
   "outputs": [],
   "source": [
    "fig, (ax1, ax2) = plt.subplots(nrows=1, ncols=2, dpi=200, figsize=(7*2, 5))\n",
    "df_tmp = df[['trabajo','categoria_de_trabajo', 'tiene_alto_valor_adquisitivo']].copy()\n",
    "cooccurrence_count = pd.pivot_table(\n",
    "    df_tmp,\n",
    "    'tiene_alto_valor_adquisitivo',\n",
    "    'trabajo',\n",
    "    'categoria_de_trabajo',\n",
    "    'count'\n",
    ")\n",
    "cooccurrence_mean = pd.pivot_table(\n",
    "    df_tmp,\n",
    "    'tiene_alto_valor_adquisitivo',\n",
    "    'trabajo',\n",
    "    'categoria_de_trabajo',\n",
    "    'mean'\n",
    ")\n",
    "sns.heatmap(cooccurrence_count, cmap='Wistia', annot=True, fmt=\".5g\", ax=ax1)\n",
    "sns.heatmap(cooccurrence_mean, cmap='Wistia', annot=True, fmt=\".2g\", ax=ax2).set(yticklabels=[])\n",
    "ax1.set_ylabel(\"Trabajo\")\n",
    "ax1.set_xlabel(\"Categoría de trabajo\")\n",
    "ax1.set_title(\"Cantidad de personas\")\n",
    "ax2.set_ylabel(\"\")\n",
    "ax2.set_xlabel(\"Categoría de trabajo\")\n",
    "ax2.set_title(\"Personas de dichas facultades que poseen poder adquisitivo alto.\")\n",
    "fig.suptitle('Relación entre categoría de trabajo, trabajo y poder adquisitivo', fontsize=16)\n",
    "plt.show()"
   ]
  },
  {
   "cell_type": "markdown",
   "metadata": {},
   "source": [
    "De aquí se pueden observar relaciones interesantes entre las variables y cómo estas afectan el poder adquisitivo, sin embargo decidimos desestimar a priori esta información pues, en caso de usarla, creemos que será muy específico sobre datos que en general no tienen suficiente significancia estadística.\n",
    "Como se puede ver en el gráfico de la izquierda, la mayor parte del agente está declarada como 'En relación de dependencia', y como se puede ver en el gráfico de la derecha, dicha relación no nos ayuda a encontrar personas con alto poder adquisitivo, pues sus valores son de caracter fluctuante"
   ]
  },
  {
   "cell_type": "code",
   "execution_count": null,
   "metadata": {},
   "outputs": [],
   "source": []
  },
  {
   "cell_type": "code",
   "execution_count": null,
   "metadata": {},
   "outputs": [],
   "source": []
  },
  {
   "cell_type": "code",
   "execution_count": null,
   "metadata": {},
   "outputs": [],
   "source": []
  },
  {
   "cell_type": "code",
   "execution_count": null,
   "metadata": {},
   "outputs": [],
   "source": []
  },
  {
   "cell_type": "code",
   "execution_count": null,
   "metadata": {},
   "outputs": [],
   "source": []
  },
  {
   "cell_type": "code",
   "execution_count": null,
   "metadata": {},
   "outputs": [],
   "source": []
  },
  {
   "cell_type": "code",
   "execution_count": null,
   "metadata": {},
   "outputs": [],
   "source": []
  },
  {
   "cell_type": "code",
   "execution_count": null,
   "metadata": {},
   "outputs": [],
   "source": []
  },
  {
   "cell_type": "code",
   "execution_count": null,
   "metadata": {},
   "outputs": [],
   "source": []
  },
  {
   "cell_type": "markdown",
   "metadata": {},
   "source": [
    "## Observaciones"
   ]
  },
  {
   "cell_type": "code",
   "execution_count": null,
   "metadata": {},
   "outputs": [],
   "source": []
  },
  {
   "cell_type": "markdown",
   "metadata": {},
   "source": [
    "## Baseline"
   ]
  },
  {
   "cell_type": "code",
   "execution_count": null,
   "metadata": {},
   "outputs": [],
   "source": []
  },
  {
   "cell_type": "markdown",
   "metadata": {},
   "source": [
    "## Conclusión"
   ]
  },
  {
   "cell_type": "code",
   "execution_count": null,
   "metadata": {},
   "outputs": [],
   "source": []
  },
  {
   "cell_type": "code",
   "execution_count": null,
   "metadata": {},
   "outputs": [],
   "source": []
  }
 ],
 "metadata": {
  "kernelspec": {
   "display_name": "Python 3",
   "language": "python",
   "name": "python3"
  },
  "language_info": {
   "codemirror_mode": {
    "name": "ipython",
    "version": 3
   },
   "file_extension": ".py",
   "mimetype": "text/x-python",
   "name": "python",
   "nbconvert_exporter": "python",
   "pygments_lexer": "ipython3",
   "version": "3.6.9"
  }
 },
 "nbformat": 4,
 "nbformat_minor": 5
}
